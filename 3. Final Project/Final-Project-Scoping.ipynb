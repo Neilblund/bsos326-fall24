{
 "cells": [
  {
   "cell_type": "markdown",
   "id": "10d529e9-0376-4cd1-8888-249a9530bd94",
   "metadata": {
    "tags": []
   },
   "source": [
    "# Project Scoping\n",
    "\n",
    "Use **Code** cells to write and run any code you need to answer the question and **Markdown** cells to write out answers in words. After you are finished with the assignment, remember to download it as an **HTML file** and submit it in **ELMS**."
   ]
  },
  {
   "cell_type": "markdown",
   "id": "87262f94-cf80-4e70-a337-1f413ecc1efc",
   "metadata": {},
   "source": [
    "## Reminder: Final Project \n",
    "\n",
    "The final project MUST have these elements:\n",
    "- **Data collected using an API or web scraping** that is different from the data we used in class.\n",
    "- **Visualizations** that describe the data or analyses that were run.\n",
    "- An **analysis component** that either looks like relationships with data collected from multiple sources or uses text analysis to get a deeper understanding of the text data that you collected. Projects that involve a **data product** requiring more intensive work are also acceptable. \n",
    "\n",
    "You must turn in your final project by **May 14, 2024**. Make sure you submit the following items:\n",
    "- An HTML document with the report including all code used within the report.\n",
    "- Any additional .py files that you used for your report. Make sure you use .py files as necessary to make your report clean!\n",
    "- A CSV file with the data that was used for the project unless it cannot be included for some reason (for example, if it is too large). \n",
    "\n",
    "Make sure you read the HTML document to make sure everything is readable and the code is clear! If I cannot read it, you will not get credit for it!"
   ]
  },
  {
   "cell_type": "markdown",
   "id": "8bb5e8a5-2620-484d-9e46-280b12df41a1",
   "metadata": {
    "tags": []
   },
   "source": [
    "## Starting out\n",
    "\n",
    "What you do your final project on is completely up to you, with lots of different possibilities. It might seem daunting to get started with thinking about what an appropriate project might look like. In this section, we will talk about what constitutes a good research topic and how you should go about building up the final project.\n",
    "\n",
    "## Step 1: Identifying a Research Question/Topic\n",
    "\n",
    "A good research question or topic is **relevant** and **applicable** to people. This could be a relatively small group of people or it could be a wide range of people. Either way, it should be something that is **useful** in some way. This isn't a trivial thing, either! You might think you have a good topic, but you need to also make sure that the information is useful and applicable in some way.\n",
    "\n",
    "> **Example:** Suppose you did an analysis that showed a relationship between someone's age and their income. This might seem interesting at first glance, but when you think about it more, it has a few issues. For one, this is a pretty intuitive result -- as you get older, you tend to make more money -- so it's not very insightful. For another, how would people even use this information? They can't make themselves older automatically (or get more experience quicker necessarily), so it's hard to see how people could make use of this information.   \n",
    "\n",
    "Some questions to think about as you try to decide on the goal of your project:\n",
    "- **What is the topic of the project?** Think about some topic areas that interest you. These can be very broad, such as \"music\" or more specific, such as \"mental health of college students.\" \n",
    "- **What types of outcomes are you hoping to get and/or conclusions are you hoping to reach?** What will the outcome of this project be? Will it be a set of visualizations showing relationships? Do you want to try to identify topics or sentiment within text? Or are you putting together a dataset by scraping webpages and combining it with other data sources such as Census API data?\n",
    "- **How is this useful?** What use does the project have for people? Can it be used to make better decisions? Does it provide insights beyond what you could have gotten before?"
   ]
  },
  {
   "cell_type": "markdown",
   "id": "7ec9f359-c26d-4cc6-8143-9f75ad7b0a7e",
   "metadata": {},
   "source": [
    "<font color ='red'>**Question 1: Make a list of some possible topics that you would want to explore. Don't worry about where the data will come from for now. Make sure you have idea of what the output of the project might be used for. Discuss with your neighbors to see what they came up with.**</font>"
   ]
  },
  {
   "cell_type": "markdown",
   "id": "e95b8698-2f79-4a4c-8efb-f7ddc0de7dfc",
   "metadata": {},
   "source": [
    "Topics:\n",
    "- \n",
    "-\n",
    "-"
   ]
  },
  {
   "cell_type": "markdown",
   "id": "293f3cfa-7822-4aa0-bfe8-ac23af7cb08f",
   "metadata": {},
   "source": [
    "## Step 2: Identifying Data Sources\n",
    "\n",
    "There are lots of possible data sources. Examples of some possible data sources are provided below.\n",
    "- Spotify API: https://developer.spotify.com/documentation/web-api (this requires an access token. You can see a guide for how this might be used at https://medium.com/@maxtingle/getting-started-with-spotifys-api-spotipy-197c3dc6353b)\n",
    "- Reddit API: https://www.reddit.com/dev/api (see https://www.jcchouinard.com/reddit-api-without-api-credentials/ for an example of how this might work)\n",
    "- Housing Market API: https://documenter.getpostman.com/view/9197254/UVsFz93V#quickstart\n",
    "- Delphi CovidCast API: https://cmu-delphi.github.io/delphi-epidata/\n",
    "\n",
    "These can help provide some motivation for the topics that you've identified above, but you can also look for data sources online that aren't from these APIs. Remember, there are lots of APIs available, and even if the data isn't available in an API, you can scrape data from webpages. \n",
    "\n",
    "Some questions to think about when trying identify good data sources:\n",
    "- **What type of data are you trying to collect?** Is it text data? What is the unit of observation? How big do you expect the data to be?\n",
    "- **How will you obtain the data?** If the data might come from a big company or organization, then there's a good chance that it is available through an API. If it is something that isn't centrally organized and collected, then it might need to be scraped individually. \n",
    "- **What are possible restrictions on data access?** If you are looking for individual-level medical records, you will likely be very disappointed. This is because medical records are highly confidential and typically not released to the public. If, for example, you are interested in topics such as mental health, you might need to resort to other types of data, such as surveys and self-reports. "
   ]
  },
  {
   "cell_type": "markdown",
   "id": "b6e35190-a38a-4e94-bade-246e234a48cd",
   "metadata": {},
   "source": [
    "> **Example:** Suppose you are interested in political discourse leading up to the 2020 presidential election. One possible source of data are polling results. These are available through a variety of different websites. But what else can you find? The New York Times API has Op-Eds that were published in the New York Times, which you could use text analysis to analyze. You might also consider scraping the text from some other sources. You could consider what has been posted on social media sites such as Reddit. These can all be combined temporally to see what the trends are like to get a better idea of what might be an indicator of success, especially as it applies to the 2024 election. "
   ]
  },
  {
   "cell_type": "markdown",
   "id": "b2b11078-bd26-4a26-83a0-a49a7a13791e",
   "metadata": {},
   "source": [
    "<font color ='red'>**Question 2: Think about the topics that you came up with in Question 1. What are possibel data sources you could use to answer those questions or address those issues? Are there ways to combine data sources to get the information you need? After you identify some data sources, discuss with your neighbors.**</font>"
   ]
  },
  {
   "cell_type": "markdown",
   "id": "cb5e63f4-6fa9-4774-a9cb-2e67e465e405",
   "metadata": {},
   "source": [
    "Topics with Data Sources:\n",
    "- \n",
    "-\n",
    "-"
   ]
  },
  {
   "cell_type": "markdown",
   "id": "c8cfed3f-be91-4d73-bbbe-3415536369b6",
   "metadata": {},
   "source": [
    "## Step 3: Explore the Data\n",
    "\n",
    "Now that you have identified a possible data source, you might think you're all set for getting started. However, many times, you'll find that the data isn't exactly what you had hoped it would be, or that it doesn't exactly match up with what you had in mind for your project at the beginning. \n",
    "\n",
    "This might actually end up being an iterative process, where you explore the data, then go back and alter the project topic or question slightly so that it matches what you can answer with your data. That doesn't mean you have to complete change what you are doing, but **the data will dictate what is possible to do.** This also means that you should be very careful to **not make statements that aren't supported by the data.**\n",
    "\n",
    "Ideally, you would do this after actually obtaining the data, but you can also explore the data before you even pull from the API or scrape it. The API documentation should have information about the data that is available, so you can use it to check what you can do with the data. \n",
    "\n",
    "At some point, you'll have to actually pull from the API or scrape from the website and try to use it. At this point, you might find that it's not exactly what you thought the data might be, and you might need to make some revisions to the project again. Most commonly, this is due to missing data. Even if a field exists within the API documentation, there's no guarantee it will be clean and useable. Sometimes, you might even have to scrap that data source and go with other data sources. "
   ]
  },
  {
   "cell_type": "markdown",
   "id": "727af13d-fafc-4ff5-86a7-8a95701f61e9",
   "metadata": {},
   "source": [
    "<font color ='red'>**Question 3: Can you use the data in Question 2 to exactly answer the question in Question 1? Do you need to adjust the topic to match what you have the data for? Discuss with your neighbors.**</font>"
   ]
  },
  {
   "cell_type": "markdown",
   "id": "bdacd3eb-b94b-49b2-969c-b20603817c1b",
   "metadata": {},
   "source": [
    "Updated Topics with Data Sources:\n",
    "- \n",
    "-\n",
    "-"
   ]
  }
 ],
 "metadata": {
  "kernelspec": {
   "display_name": "Python 3 (ipykernel)",
   "language": "python",
   "name": "python3"
  },
  "language_info": {
   "codemirror_mode": {
    "name": "ipython",
    "version": 3
   },
   "file_extension": ".py",
   "mimetype": "text/x-python",
   "name": "python",
   "nbconvert_exporter": "python",
   "pygments_lexer": "ipython3",
   "version": "3.10.9"
  }
 },
 "nbformat": 4,
 "nbformat_minor": 5
}
