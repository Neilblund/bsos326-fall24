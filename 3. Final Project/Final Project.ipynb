{
 "cells": [
  {
   "cell_type": "markdown",
   "metadata": {
    "editable": true,
    "slideshow": {
     "slide_type": ""
    },
    "tags": []
   },
   "source": [
    "# Final Project"
   ]
  },
  {
   "cell_type": "markdown",
   "metadata": {},
   "source": [
    "In this class, we have covered many methods for collecting, cleaning, wrangling, analyzing, and visualizing data. In the final project, you will have to combine all of these methods to collect data from the internet using APIs or web scraping, clean and wrangle that data, then visualize and analyze the data. \n",
    "\n",
    "The final project MUST have these elements:\n",
    "- **Data collected using an API or web scraping** that is different from the data we used in class.\n",
    "- **Visualizations** that describe the data or analyses that were run.\n",
    "- An **analysis component** that either looks like relationships with data collected from multiple sources or uses text analysis to get a deeper understanding of the text data that you collected. Projects that involve a **data product** requiring more intensive work are also acceptable. \n",
    "\n",
    "Some example projects are:\n",
    "- Scraping top restaurant reviews in Washington D.C. from websites like the Washingtonian and the Washington Post and creating visualizations of the sentiment from those reviews.\n",
    "- Topic modeling of social media posts from various APIs to see what is being discussed.\n",
    "- Analysis of relationships between various factors related to Covid and presidential approval ratings."
   ]
  },
  {
   "cell_type": "markdown",
   "metadata": {},
   "source": [
    "## Data \n",
    "\n",
    "You must use data from a source that we have not covered in class. This does not mean that you cannot include data from the Census API or from the NYT API. However, if you do use one or both, you must also include an external data source of some sort. The external data source can either be from an API or from web scraping. You may also include data from existing CSV files, but they will not count toward the data requirement.\n",
    "\n",
    "There are lots of possible data sources. Check out the data sources page in this folder for some potential options\n"
   ]
  },
  {
   "cell_type": "markdown",
   "metadata": {},
   "source": [
    "## Project Guidelines\n",
    "\n",
    "In your report, you must include:\n",
    "- An **introduction** describing the motivation for the data and analysis.\n",
    "- A clear description of the **data** and the variables you are studying, including how you obtained the data.\n",
    "- **Descriptive statistics and visualizations** that help the reader understand the data better.\n",
    "- An **analysis section** that uses methods such as topic modeling or sentiment analysis, or looks at relationships between variables from different data sources.\n",
    "- A **conclusion** that discusses your findings and suggests possible next steps.\n",
    "\n",
    "Write your report in a Jupyter Notebook, formatting it so that the code is included with the text. Make sure to include a title and section headings by using '#' symbols in Markdown formatting.\n",
    "\n",
    "### Introduction\n",
    "\n",
    "You should start the project with a paragraph describing the motivation for your analysis. This can also include where the data is coming from and why you are linking this data with other sources (if that is what you are doing). \n",
    "\n",
    "### Data \n",
    "\n",
    "You must describe the data collection process and the key variables that you will create and/or use in your project. Make sure that the code is clear and that you only include output that is concise and easy to understand for the reader. For example, do not print out whole lists or DataFrames! Show some basic descriptive statistics to explain the structure of the data instead.\n",
    "\n",
    "### Visualization\n",
    "\n",
    "You must include visualizations as part of your report. This can be included in your data section to describe the data, as well as in your analysis section if that is appropriate. A well-polished visualization can also be used as a form of a final product for a project that looks at relationships after combining data sources or creates a new data product.\n",
    "\n",
    "### Analysis\n",
    "\n",
    "You must include some form of **analysis** in your report. If you have text data, this can include text analysis or sentiment analysis. If you are combining multiple data sources, this section can be dedicated to looking at the relationships and the additional insights that you can get with the combined data. You may also have as your final product a **data product** with some demonstrated uses. This might be if your project involves a significant amount of work in the data scraping and cleaning steps and is a novel data source. One example might be a process that scrapes webpages for concert times and dates and links them to information about bands. This should be something that is well-documente and replicable. \n",
    "\n",
    "### Conclusion\n",
    "\n",
    "A short conclusion wrapping up what you did and describing any possible next steps."
   ]
  },
  {
   "cell_type": "markdown",
   "metadata": {},
   "source": [
    "## Final Project Submission\n",
    "\n",
    "You must turn in your final project by **May 14, 2024**. Make sure you submit the following items:\n",
    "- An HTML document with the report including all code used within the report.\n",
    "- Any additional .py files that you used for your report. Make sure you use .py files as necessary to make your report clean!\n",
    "- A CSV file with the data that was used for the project unless it cannot be included for some reason (for example, if it is too large). \n",
    "\n",
    "Make sure you read the HTML document to make sure everything is readable and the code is clear! If I cannot read it, you will not get credit for it!"
   ]
  }
 ],
 "metadata": {
  "kernelspec": {
   "display_name": "Python 3 (ipykernel)",
   "language": "python",
   "name": "python3"
  },
  "language_info": {
   "codemirror_mode": {
    "name": "ipython",
    "version": 3
   },
   "file_extension": ".py",
   "mimetype": "text/x-python",
   "name": "python",
   "nbconvert_exporter": "python",
   "pygments_lexer": "ipython3",
   "version": "3.12.2"
  },
  "toc": {
   "base_numbering": 1,
   "nav_menu": {},
   "number_sections": true,
   "sideBar": true,
   "skip_h1_title": false,
   "title_cell": "Table of Contents",
   "title_sidebar": "Contents",
   "toc_cell": false,
   "toc_position": {},
   "toc_section_display": true,
   "toc_window_display": false
  }
 },
 "nbformat": 4,
 "nbformat_minor": 4
}
