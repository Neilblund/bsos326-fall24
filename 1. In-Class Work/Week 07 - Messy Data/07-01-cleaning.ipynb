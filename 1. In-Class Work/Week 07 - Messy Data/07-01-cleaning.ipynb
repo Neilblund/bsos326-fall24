{
 "cells": [
  {
   "cell_type": "markdown",
   "metadata": {
    "tags": []
   },
   "source": [
    "# Dating cleaning\n",
    "\n",
    "\n",
    "Use **Code** cells to write and run any code you need to answer the question and **Markdown** cells to write out answers in words. After you are finished with the assignment, remember to download it as an **HTML file** and submit it in **ELMS**."
   ]
  },
  {
   "cell_type": "code",
   "execution_count": 47,
   "metadata": {},
   "outputs": [],
   "source": [
    "from requests import get\n",
    "import re\n",
    "\n",
    "import numpy as np \n",
    "import pandas as pd "
   ]
  },
  {
   "cell_type": "markdown",
   "metadata": {},
   "source": [
    "The following sections will look at some strategies for cleaning real world data. We'll use some selected variables from the 2020 round of the <a href=\"https://electionstudies.org/data-center/2020-time-series-study/\">American National Election Study</a> which surveys eligible voters before and after each presidential election. \n",
    "\n",
    "This subset of the data contains the following variables: "
   ]
  },
  {
   "cell_type": "markdown",
   "metadata": {},
   "source": [
    "| Variable       | Description                                                                  |\n",
    "|----------------|------------------------------------------------------------------------------|\n",
    "| partyid        | R's preferred party (7 category)                                             |\n",
    "| id             | R's unique identifier                                                        |\n",
    "| libcon         | R's liberal/conservative self placement (7 category)                         |\n",
    "| biden_likes    | Open ended: what does R like about Joe Biden?                                |\n",
    "| biden_dislikes | Open ended: what does R dislike about Joe Biden?                             |\n",
    "| trump_likes    | Open ended: what  does R like about Donald Trump?                            |\n",
    "| trump_dislikes | Open ended: what does R dislike about Donald Trump?                          |\n",
    "| mipp_1         | Open ended: what is the most important political problem facing our country? |\n",
    "| age_group      | Age (5 categories)                                                           |"
   ]
  },
  {
   "cell_type": "code",
   "execution_count": 48,
   "metadata": {
    "scrolled": true
   },
   "outputs": [
    {
     "data": {
      "text/html": [
       "<div>\n",
       "<style scoped>\n",
       "    .dataframe tbody tr th:only-of-type {\n",
       "        vertical-align: middle;\n",
       "    }\n",
       "\n",
       "    .dataframe tbody tr th {\n",
       "        vertical-align: top;\n",
       "    }\n",
       "\n",
       "    .dataframe thead th {\n",
       "        text-align: right;\n",
       "    }\n",
       "</style>\n",
       "<table border=\"1\" class=\"dataframe\">\n",
       "  <thead>\n",
       "    <tr style=\"text-align: right;\">\n",
       "      <th></th>\n",
       "      <th>partyid</th>\n",
       "      <th>id</th>\n",
       "      <th>libcon</th>\n",
       "      <th>biden_likes</th>\n",
       "      <th>biden_dislikes</th>\n",
       "      <th>trump_likes</th>\n",
       "      <th>trump_dislikes</th>\n",
       "      <th>mipp_1</th>\n",
       "      <th>age_group</th>\n",
       "    </tr>\n",
       "  </thead>\n",
       "  <tbody>\n",
       "    <tr>\n",
       "      <th>0</th>\n",
       "      <td>7. Strong Republican</td>\n",
       "      <td>200015</td>\n",
       "      <td>6. Conservative</td>\n",
       "      <td>NaN</td>\n",
       "      <td>nothing about socalisum that will get my vote</td>\n",
       "      <td>belife in a republic government and freedom</td>\n",
       "      <td>NaN</td>\n",
       "      <td>racim both for blacks and whites false informa...</td>\n",
       "      <td>45-54</td>\n",
       "    </tr>\n",
       "    <tr>\n",
       "      <th>1</th>\n",
       "      <td>4. Independent</td>\n",
       "      <td>200022</td>\n",
       "      <td>4. Moderate; middle of the road</td>\n",
       "      <td>NaN</td>\n",
       "      <td>He wants to take womens rights</td>\n",
       "      <td>NaN</td>\n",
       "      <td>NaN</td>\n",
       "      <td>coming together as a country</td>\n",
       "      <td>35-44</td>\n",
       "    </tr>\n",
       "    <tr>\n",
       "      <th>2</th>\n",
       "      <td>3. Independent-Democrat</td>\n",
       "      <td>200039</td>\n",
       "      <td>2. Liberal</td>\n",
       "      <td>He is not Donald Trump.</td>\n",
       "      <td>NaN</td>\n",
       "      <td>NaN</td>\n",
       "      <td>He is a racist, xenophobic, misogynistic, narc...</td>\n",
       "      <td>severe political polarization that does not al...</td>\n",
       "      <td>35-44</td>\n",
       "    </tr>\n",
       "    <tr>\n",
       "      <th>3</th>\n",
       "      <td>6. Not very strong Republican</td>\n",
       "      <td>200046</td>\n",
       "      <td>3. Slightly liberal</td>\n",
       "      <td>he look honest and his politics history.</td>\n",
       "      <td>NaN</td>\n",
       "      <td>NaN</td>\n",
       "      <td>racism, equality and human Rights</td>\n",
       "      <td>pandemic (covid-19)</td>\n",
       "      <td>35-44</td>\n",
       "    </tr>\n",
       "    <tr>\n",
       "      <th>4</th>\n",
       "      <td>4. Independent</td>\n",
       "      <td>200053</td>\n",
       "      <td>5. Slightly conservative</td>\n",
       "      <td>NaN</td>\n",
       "      <td>Open borders, late term abortion, war in middl...</td>\n",
       "      <td>No war, No open borders, Bring troops home, Lo...</td>\n",
       "      <td>Ridiculous Covid 19 shutdown, lots of evidence...</td>\n",
       "      <td>globalism, Fake covid, law and order, BLM, pub...</td>\n",
       "      <td>65+</td>\n",
       "    </tr>\n",
       "  </tbody>\n",
       "</table>\n",
       "</div>"
      ],
      "text/plain": [
       "                         partyid      id                           libcon  \\\n",
       "0           7. Strong Republican  200015                  6. Conservative   \n",
       "1                 4. Independent  200022  4. Moderate; middle of the road   \n",
       "2        3. Independent-Democrat  200039                       2. Liberal   \n",
       "3  6. Not very strong Republican  200046              3. Slightly liberal   \n",
       "4                 4. Independent  200053         5. Slightly conservative   \n",
       "\n",
       "                                biden_likes  \\\n",
       "0                                       NaN   \n",
       "1                                       NaN   \n",
       "2                   He is not Donald Trump.   \n",
       "3  he look honest and his politics history.   \n",
       "4                                       NaN   \n",
       "\n",
       "                                      biden_dislikes  \\\n",
       "0      nothing about socalisum that will get my vote   \n",
       "1                     He wants to take womens rights   \n",
       "2                                                NaN   \n",
       "3                                                NaN   \n",
       "4  Open borders, late term abortion, war in middl...   \n",
       "\n",
       "                                         trump_likes  \\\n",
       "0        belife in a republic government and freedom   \n",
       "1                                                NaN   \n",
       "2                                                NaN   \n",
       "3                                                NaN   \n",
       "4  No war, No open borders, Bring troops home, Lo...   \n",
       "\n",
       "                                      trump_dislikes  \\\n",
       "0                                                NaN   \n",
       "1                                                NaN   \n",
       "2  He is a racist, xenophobic, misogynistic, narc...   \n",
       "3                  racism, equality and human Rights   \n",
       "4  Ridiculous Covid 19 shutdown, lots of evidence...   \n",
       "\n",
       "                                              mipp_1 age_group  \n",
       "0  racim both for blacks and whites false informa...     45-54  \n",
       "1                       coming together as a country     35-44  \n",
       "2  severe political polarization that does not al...     35-44  \n",
       "3                                pandemic (covid-19)     35-44  \n",
       "4  globalism, Fake covid, law and order, BLM, pub...       65+  "
      ]
     },
     "execution_count": 48,
     "metadata": {},
     "output_type": "execute_result"
    }
   ],
   "source": [
    "data_file = \"https://raw.githubusercontent.com/Neilblund/APAN/refs/heads/main/anes_selected.csv\"\n",
    "df = pd.read_csv(data_file)\n",
    "df.head()"
   ]
  },
  {
   "cell_type": "markdown",
   "metadata": {},
   "source": [
    "The first thing you might notice here is that many of the responses have `NaN`, which indicates missing or invalid responses. This is pretty common with survey data: some questions aren't asked because they're not relevant to all respondents, or respondents might hang up the phone, or just refuse to give a valid answer."
   ]
  },
  {
   "cell_type": "markdown",
   "metadata": {},
   "source": [
    "You can get a sense of the number of `NaN` values using the `.info` method: "
   ]
  },
  {
   "cell_type": "code",
   "execution_count": 49,
   "metadata": {
    "scrolled": true
   },
   "outputs": [
    {
     "name": "stdout",
     "output_type": "stream",
     "text": [
      "<class 'pandas.core.frame.DataFrame'>\n",
      "RangeIndex: 8280 entries, 0 to 8279\n",
      "Data columns (total 9 columns):\n",
      " #   Column          Non-Null Count  Dtype \n",
      "---  ------          --------------  ----- \n",
      " 0   partyid         8280 non-null   object\n",
      " 1   id              8280 non-null   int64 \n",
      " 2   libcon          8280 non-null   object\n",
      " 3   biden_likes     4057 non-null   object\n",
      " 4   biden_dislikes  3898 non-null   object\n",
      " 5   trump_likes     3648 non-null   object\n",
      " 6   trump_dislikes  5009 non-null   object\n",
      " 7   mipp_1          7302 non-null   object\n",
      " 8   age_group       7926 non-null   object\n",
      "dtypes: int64(1), object(8)\n",
      "memory usage: 582.3+ KB\n"
     ]
    }
   ],
   "source": [
    "df.info()"
   ]
  },
  {
   "cell_type": "markdown",
   "metadata": {},
   "source": [
    "Alternatively, using `isnull()` gives us a data frame of the same size with `True` and `False` values depending on whether it was a missing value or not. Then, `mean()` calculates the arithmetic mean for each column. Since Python treats `True` as `1` and `False` as `0`, the mean of all of these values is the same as the proportion of missing data for each column:"
   ]
  },
  {
   "cell_type": "code",
   "execution_count": 50,
   "metadata": {},
   "outputs": [
    {
     "data": {
      "text/plain": [
       "partyid           0.000000\n",
       "id                0.000000\n",
       "libcon            0.000000\n",
       "biden_likes       0.510024\n",
       "biden_dislikes    0.529227\n",
       "trump_likes       0.559420\n",
       "trump_dislikes    0.395048\n",
       "mipp_1            0.118116\n",
       "age_group         0.042754\n",
       "dtype: float64"
      ]
     },
     "execution_count": 50,
     "metadata": {},
     "output_type": "execute_result"
    }
   ],
   "source": [
    "df.isnull().mean()\n"
   ]
  },
  {
   "cell_type": "markdown",
   "metadata": {},
   "source": [
    "<font color ='red'>**Question 1: the \"like/dislikes\" questions were left blank if a respondent said they couldn't identify anything they liked about a candidate. How would you show the relationship between party ID and being able to say anything positive about Trump?**</font>"
   ]
  },
  {
   "cell_type": "code",
   "execution_count": null,
   "metadata": {},
   "outputs": [],
   "source": []
  },
  {
   "cell_type": "markdown",
   "metadata": {},
   "source": [
    "You might notice that there were no `NaN` values reported for the `partyid` and `libcon` variables, but, in reality, there are still non-responses for these questions, they're just given text labels instead of being left blank. We can see this by using the `value_counts` method. \n",
    "\n",
    "(note: we can use the `sort_index` method to sort these alphabetically instead of in order of the most frequent category. For ordinal variables like this one that have a clear ordering, that may often be a better option)"
   ]
  },
  {
   "cell_type": "code",
   "execution_count": 51,
   "metadata": {},
   "outputs": [
    {
     "data": {
      "text/plain": [
       "partyid\n",
       "-8. Don't know                      4\n",
       "-9. Refused                        31\n",
       "1. Strong Democrat               1961\n",
       "2. Not very strong Democrat       899\n",
       "3. Independent-Democrat           975\n",
       "4. Independent                    968\n",
       "5. Independent-Republican         879\n",
       "6. Not very strong Republican     833\n",
       "7. Strong Republican             1730\n",
       "Name: count, dtype: int64"
      ]
     },
     "execution_count": 51,
     "metadata": {},
     "output_type": "execute_result"
    }
   ],
   "source": [
    "df.partyid.value_counts().sort_index()"
   ]
  },
  {
   "cell_type": "code",
   "execution_count": 52,
   "metadata": {
    "scrolled": true
   },
   "outputs": [
    {
     "data": {
      "text/plain": [
       "libcon\n",
       "-8. Don't know                            2\n",
       "-9. Refused                              21\n",
       "1. Extremely liberal                    369\n",
       "2. Liberal                             1210\n",
       "3. Slightly liberal                     918\n",
       "4. Moderate; middle of the road        1818\n",
       "5. Slightly conservative                821\n",
       "6. Conservative                        1492\n",
       "7. Extremely conservative               428\n",
       "99. Haven't thought much about this    1201\n",
       "Name: count, dtype: int64"
      ]
     },
     "execution_count": 52,
     "metadata": {},
     "output_type": "execute_result"
    }
   ],
   "source": [
    "df.libcon.value_counts().sort_index()"
   ]
  },
  {
   "cell_type": "markdown",
   "metadata": {},
   "source": [
    "In many cases, we will want to convert this kind of labelled missing data to an explicit `NaN` instead. This will prevent these responses from showing up in our tables and graphs. We can replace a value with an `NaN` like this:"
   ]
  },
  {
   "cell_type": "code",
   "execution_count": 53,
   "metadata": {
    "scrolled": true
   },
   "outputs": [],
   "source": [
    "missing_values = [\"-9. Refused\", \"99. Haven't thought much about this\", \"-8. Don't know\"]\n",
    "\n",
    "df.loc[df['libcon'].isin(missing_values), 'libcon'] = np.nan"
   ]
  },
  {
   "cell_type": "markdown",
   "metadata": {},
   "source": []
  },
  {
   "cell_type": "code",
   "execution_count": 54,
   "metadata": {
    "scrolled": true
   },
   "outputs": [
    {
     "data": {
      "text/plain": [
       "libcon\n",
       "1. Extremely liberal                369\n",
       "2. Liberal                         1210\n",
       "3. Slightly liberal                 918\n",
       "4. Moderate; middle of the road    1818\n",
       "5. Slightly conservative            821\n",
       "6. Conservative                    1492\n",
       "7. Extremely conservative           428\n",
       "Name: count, dtype: int64"
      ]
     },
     "execution_count": 54,
     "metadata": {},
     "output_type": "execute_result"
    }
   ],
   "source": [
    "df.libcon.value_counts().sort_index(ascending=True)"
   ]
  },
  {
   "cell_type": "markdown",
   "metadata": {},
   "source": [
    "<font color ='red'>**Question 2: Replace the refused/don't know values in the party ID variable with `NaN`**</font>"
   ]
  },
  {
   "cell_type": "code",
   "execution_count": null,
   "metadata": {
    "scrolled": true
   },
   "outputs": [],
   "source": []
  },
  {
   "cell_type": "code",
   "execution_count": 55,
   "metadata": {},
   "outputs": [
    {
     "data": {
      "text/plain": [
       "partyid           0.000000\n",
       "id                0.000000\n",
       "libcon            0.147826\n",
       "biden_likes       0.510024\n",
       "biden_dislikes    0.529227\n",
       "trump_likes       0.559420\n",
       "trump_dislikes    0.395048\n",
       "mipp_1            0.118116\n",
       "age_group         0.042754\n",
       "dtype: float64"
      ]
     },
     "execution_count": 55,
     "metadata": {},
     "output_type": "execute_result"
    }
   ],
   "source": [
    "# when you're done, re-run the function to count nulls to make sure your code worked:\n",
    "df.isnull().mean()\n"
   ]
  },
  {
   "cell_type": "markdown",
   "metadata": {},
   "source": [
    "### Recoding data\n",
    "\n",
    "In some cases it can make sense to collapse or rearrange one or more categories to simplify our data or capture a particular subset of respondents.  For instance, there's generally not a significant difference in the voting behavior of people who report that they are \"weak\" or \"independent\" partisans compared to people who self-described \"strong\" partisans, so for the sake of simplify we often collapse these categories into \"Democrats\", \"Independents\" and \"Republicans\". \n",
    "\n",
    "When we want to take an existing variable and combine responses to create something new, we can use the `map` method to apply a dictionary object that will re-map our original values onto new ones.The dictionary should take the form of `{[oldvalue]:[newvalue]}`\n"
   ]
  },
  {
   "cell_type": "code",
   "execution_count": 56,
   "metadata": {},
   "outputs": [
    {
     "data": {
      "text/plain": [
       "partyid_3cat\n",
       "Democrat       3835\n",
       "Republican     3442\n",
       "Independent     968\n",
       "Name: count, dtype: int64"
      ]
     },
     "execution_count": 56,
     "metadata": {},
     "output_type": "execute_result"
    }
   ],
   "source": [
    "partyid_map = {\"1. Strong Democrat\": \"Democrat\",\n",
    "               \"2. Not very strong Democrat\": \"Democrat\",\n",
    "               \"3. Independent-Democrat\": \"Democrat\",\n",
    "               \"4. Independent\": \"Independent\", \n",
    "               \"5. Independent-Republican\": \"Republican\",\n",
    "               \"6. Not very strong Republican\": \"Republican\",\n",
    "               \"7. Strong Republican\": \"Republican\"\n",
    "}\n",
    "\n",
    "# using the assign function to create a new variable:\n",
    "df = df.assign(partyid_3cat= df.partyid.map(partyid_map))\n",
    "\n",
    "df.partyid_3cat.value_counts()"
   ]
  },
  {
   "cell_type": "markdown",
   "metadata": {},
   "source": [
    "Since recoding is easy to mess up, I think its always a good idea to always:\n",
    "1. Preserve the old variable and give your new variable a different name\n",
    "2. Check your results by comparing the old variable to the new one.\n",
    "\n",
    "You can check your results by selecting the old values and the new values, dropping duplicates, and then checking to see how the unique labels match up:"
   ]
  },
  {
   "cell_type": "code",
   "execution_count": 57,
   "metadata": {},
   "outputs": [
    {
     "data": {
      "text/html": [
       "<div>\n",
       "<style scoped>\n",
       "    .dataframe tbody tr th:only-of-type {\n",
       "        vertical-align: middle;\n",
       "    }\n",
       "\n",
       "    .dataframe tbody tr th {\n",
       "        vertical-align: top;\n",
       "    }\n",
       "\n",
       "    .dataframe thead th {\n",
       "        text-align: right;\n",
       "    }\n",
       "</style>\n",
       "<table border=\"1\" class=\"dataframe\">\n",
       "  <thead>\n",
       "    <tr style=\"text-align: right;\">\n",
       "      <th></th>\n",
       "      <th>partyid</th>\n",
       "      <th>partyid_3cat</th>\n",
       "    </tr>\n",
       "  </thead>\n",
       "  <tbody>\n",
       "    <tr>\n",
       "      <th>5899</th>\n",
       "      <td>-8. Don't know</td>\n",
       "      <td>NaN</td>\n",
       "    </tr>\n",
       "    <tr>\n",
       "      <th>2273</th>\n",
       "      <td>-9. Refused</td>\n",
       "      <td>NaN</td>\n",
       "    </tr>\n",
       "    <tr>\n",
       "      <th>10</th>\n",
       "      <td>1. Strong Democrat</td>\n",
       "      <td>Democrat</td>\n",
       "    </tr>\n",
       "    <tr>\n",
       "      <th>9</th>\n",
       "      <td>2. Not very strong Democrat</td>\n",
       "      <td>Democrat</td>\n",
       "    </tr>\n",
       "    <tr>\n",
       "      <th>2</th>\n",
       "      <td>3. Independent-Democrat</td>\n",
       "      <td>Democrat</td>\n",
       "    </tr>\n",
       "    <tr>\n",
       "      <th>1</th>\n",
       "      <td>4. Independent</td>\n",
       "      <td>Independent</td>\n",
       "    </tr>\n",
       "    <tr>\n",
       "      <th>15</th>\n",
       "      <td>5. Independent-Republican</td>\n",
       "      <td>Republican</td>\n",
       "    </tr>\n",
       "    <tr>\n",
       "      <th>3</th>\n",
       "      <td>6. Not very strong Republican</td>\n",
       "      <td>Republican</td>\n",
       "    </tr>\n",
       "    <tr>\n",
       "      <th>0</th>\n",
       "      <td>7. Strong Republican</td>\n",
       "      <td>Republican</td>\n",
       "    </tr>\n",
       "  </tbody>\n",
       "</table>\n",
       "</div>"
      ],
      "text/plain": [
       "                            partyid partyid_3cat\n",
       "5899                 -8. Don't know          NaN\n",
       "2273                    -9. Refused          NaN\n",
       "10               1. Strong Democrat     Democrat\n",
       "9       2. Not very strong Democrat     Democrat\n",
       "2           3. Independent-Democrat     Democrat\n",
       "1                    4. Independent  Independent\n",
       "15        5. Independent-Republican   Republican\n",
       "3     6. Not very strong Republican   Republican\n",
       "0              7. Strong Republican   Republican"
      ]
     },
     "execution_count": 57,
     "metadata": {},
     "output_type": "execute_result"
    }
   ],
   "source": [
    "df[['partyid', 'partyid_3cat']].drop_duplicates().sort_values('partyid')"
   ]
  },
  {
   "cell_type": "code",
   "execution_count": null,
   "metadata": {},
   "outputs": [],
   "source": []
  },
  {
   "cell_type": "markdown",
   "metadata": {},
   "source": [
    "### Dropping missing data\n",
    "\n",
    "In some cases, we will want to just drop rows that have missing data, we can use this with the Pandas `.dropna()` method. `axis=1` will drop columns with missing information:"
   ]
  },
  {
   "cell_type": "code",
   "execution_count": 58,
   "metadata": {},
   "outputs": [
    {
     "data": {
      "text/plain": [
       "(8280, 2)"
      ]
     },
     "execution_count": 58,
     "metadata": {},
     "output_type": "execute_result"
    }
   ],
   "source": [
    "df_no_missing_cols = df.dropna(axis = 1)\n",
    "df_no_missing_cols.shape"
   ]
  },
  {
   "cell_type": "markdown",
   "metadata": {},
   "source": [
    "`axis=0` will drop all rows with missing information:"
   ]
  },
  {
   "cell_type": "code",
   "execution_count": 59,
   "metadata": {
    "scrolled": true
   },
   "outputs": [
    {
     "data": {
      "text/plain": [
       "(312, 10)"
      ]
     },
     "execution_count": 59,
     "metadata": {},
     "output_type": "execute_result"
    }
   ],
   "source": [
    "df_no_missing_rows = df.dropna(axis = 0)\n",
    "df_no_missing_rows.shape"
   ]
  },
  {
   "cell_type": "markdown",
   "metadata": {},
   "source": [
    "We want to be careful here: surveys like the ANES will rarely ask every respondent to answer every single question, and some respondents will invariably skip or refuse to answer certain items. If we drop any rows with any missing data, we end up tossing out a huge amount of information: from 8280 responses to just 312. This is probably not a great idea. So more often we'll want only drop rows when some crucial bit of information is missing. For instance, we could do something like this to only drop rows where the `age_group` and `partyid_3cat` variables are missing:"
   ]
  },
  {
   "cell_type": "code",
   "execution_count": 60,
   "metadata": {},
   "outputs": [
    {
     "data": {
      "text/plain": [
       "(7912, 10)"
      ]
     },
     "execution_count": 60,
     "metadata": {},
     "output_type": "execute_result"
    }
   ],
   "source": [
    "df_no_missing_pid_or_age = df.dropna(axis=0, subset=[\"partyid_3cat\", \"age_group\"])\n",
    "\n",
    "df_no_missing_pid_or_age.shape"
   ]
  },
  {
   "cell_type": "markdown",
   "metadata": {},
   "source": [
    "Or we could only drop cases where there is non-missing data for at least two columns:"
   ]
  },
  {
   "cell_type": "code",
   "execution_count": 61,
   "metadata": {},
   "outputs": [
    {
     "data": {
      "text/plain": [
       "(8280, 10)"
      ]
     },
     "execution_count": 61,
     "metadata": {},
     "output_type": "execute_result"
    }
   ],
   "source": [
    "df_min_2 = df.dropna(thresh=2, axis=0)\n",
    "\n",
    "df_min_2.shape"
   ]
  },
  {
   "cell_type": "markdown",
   "metadata": {},
   "source": [
    "As with the previous examples, you should always be careful to avoid throwing out useful data if possible. "
   ]
  },
  {
   "cell_type": "markdown",
   "metadata": {},
   "source": [
    "## String Data\n",
    "\n",
    "String data and needing to clean up string data are very common in social science research. Whether it's coding open response questions in surveys or parsing social media posts, lots of data in the social sciences are text data, and it's important to understand how to deal with them. This is particularly true when using web scraping techniques. The data that you get from web scraping will generally at least start out as string data, which you can then transform into numerical variables as needed.\n",
    "\n"
   ]
  },
  {
   "cell_type": "markdown",
   "metadata": {},
   "source": [
    "### Regular Expressions\n",
    "\n",
    "A **regular expression, or regex**, is a sequence of characters that are used to match patterns within text. These can be extremely useful for searching and matching complicated string patterns. Regexes use specific rules and formatting guidelines to specify various patterns and are implemented in Python via the `re` package. Let's take a look at a quick example."
   ]
  },
  {
   "cell_type": "code",
   "execution_count": 62,
   "metadata": {
    "tags": []
   },
   "outputs": [
    {
     "data": {
      "text/plain": [
       "['this', 'is', 'some', 'text']"
      ]
     },
     "execution_count": 62,
     "metadata": {},
     "output_type": "execute_result"
    }
   ],
   "source": [
    "text = 'this is some text'\n",
    "re.split(r\"\\s+\", text)"
   ]
  },
  {
   "cell_type": "markdown",
   "metadata": {},
   "source": [
    "The regular expression `\\s+` refers to one of more whitespace characters. This uses `\\s` as the regex formatting for a whitespace character, as well as the `+` to indicate one or more. Note that `\\s` is used because `s` by itself would refer to the letter `s`. The backslash `\\` is an escape character that allows Python to interpret it as a pattern that it is trying to match.\n",
    "\n",
    "We could have done this without the `+` but that would try to separate on individual spaces instead. In the above example, there would be no difference, but if we were to add additional spaces, we'd see a big change."
   ]
  },
  {
   "cell_type": "code",
   "execution_count": 63,
   "metadata": {
    "tags": []
   },
   "outputs": [
    {
     "data": {
      "text/plain": [
       "['this', 'is', 'some', '', '', '', 'text']"
      ]
     },
     "execution_count": 63,
     "metadata": {},
     "output_type": "execute_result"
    }
   ],
   "source": [
    "text = 'this is some    text'\n",
    "re.split(r\"\\s\", text)"
   ]
  },
  {
   "cell_type": "markdown",
   "metadata": {},
   "source": [
    "You can also first compile a regular expression, then use it multiple times. "
   ]
  },
  {
   "cell_type": "code",
   "execution_count": 64,
   "metadata": {
    "tags": []
   },
   "outputs": [
    {
     "data": {
      "text/plain": [
       "['this', 'is', 'some', 'text']"
      ]
     },
     "execution_count": 64,
     "metadata": {},
     "output_type": "execute_result"
    }
   ],
   "source": [
    "regex = re.compile(r\"\\s+\")\n",
    "regex.split(text)"
   ]
  },
  {
   "cell_type": "code",
   "execution_count": 65,
   "metadata": {
    "tags": []
   },
   "outputs": [
    {
     "data": {
      "text/plain": [
       "['some', 'other', 'text']"
      ]
     },
     "execution_count": 65,
     "metadata": {},
     "output_type": "execute_result"
    }
   ],
   "source": [
    "regex.split('some other  text')"
   ]
  },
  {
   "cell_type": "markdown",
   "metadata": {},
   "source": [
    "Other regex functions, like `findall` can be used to extract bits of text that matches some pattern. This is an example of a pattern that could be used to identify and capture a price from a string of text. Notice I uses"
   ]
  },
  {
   "cell_type": "code",
   "execution_count": 66,
   "metadata": {},
   "outputs": [
    {
     "data": {
      "text/plain": [
       "['$90.0']"
      ]
     },
     "execution_count": 66,
     "metadata": {},
     "output_type": "execute_result"
    }
   ],
   "source": [
    "text = \"33lbs of bananas cost $90.00\" \n",
    "\n",
    "re.findall(r\"(\\$[0-9]+[\\.0-9]{0,2})\", text)"
   ]
  },
  {
   "cell_type": "markdown",
   "metadata": {},
   "source": [
    "### Regex methods\n",
    "\n",
    "|Method|Description|\n",
    "|-|-|\n",
    "|`findall`|Return all nonoverlapping matching patterns in a string as a list|\n",
    "|`match`|Match pattern at start of string and optionally segment pattern components into groups; if the pattern matches, return a match object, and otherwise None|\n",
    "|`search`|Scan string for match to pattern, returning a match object if so; unlike match, the match can be anywhere in the string as opposed to only at the beginning|\n",
    "|`split`|Break string into pieces at each occurrence of pattern|\n",
    "|`sub`|Replace all occurrences of pattern in string with replacement expression|"
   ]
  },
  {
   "cell_type": "markdown",
   "metadata": {},
   "source": [
    "### Working with regex\n",
    "\n",
    "Unless you work with regular expressions frequently, it will be very hard to get good enough at regex to write it out on the fly. Most of the time, you only need regex occasionally for one or two tasks, and it can be hard to remember what all of the patterns and syntax are. **You do not need to try to memorize all of the regex syntax!** There are plenty of tools available to help you out whenever you need to come back to it. Understanding some of the basics should help you get started, and you can use existing cheatsheets as well as online regex builder tools to do the rest. \n",
    "\n",
    "Regex 101 (https://regex101.com) is a website that helps you build your regexes. This website allows you to paste in the text you want to search, as well as type in a regex that you want to build. The text selected by the regex will be highlighted as you go, helping you build the exact regex that you need to get what you want. "
   ]
  },
  {
   "cell_type": "markdown",
   "metadata": {
    "jp-MarkdownHeadingCollapsed": true
   },
   "source": [
    "### Regex Cheatsheet\n",
    "\n",
    "Feel free to download this cheatsheet to more easily read it. This is also available on the course Canvas website.\n",
    "\n",
    "![Regex Cheatsheet](Regular_Expressions_Cheat_Sheet.pdf)"
   ]
  },
  {
   "cell_type": "markdown",
   "metadata": {},
   "source": [
    "## Strings in DataFrames\n",
    "\n",
    "Many times, we'll have to work with strings that are in DataFrames. These are a bit trickier than individual strings, because we want to be efficient about how we do this. Luckily for us, the creators of the pandas DataFrames recognized that string manipulation would be fairly common and included tools to help make it easier.\n",
    "\n",
    "\n",
    "We can use the `extract` method to capture text that fits a regex pattern. The parentheses in the expression below are the \"capture group\" for our regex, this is the part of the pattern that we want to extract, so the code below will extract the portion of the text that matches the string \"liberal\", \"conservative\", or \"moderate\", so this is a way to recode the `libcon` variable to a 3-category measure without using the `map` function:\n"
   ]
  },
  {
   "cell_type": "code",
   "execution_count": 67,
   "metadata": {},
   "outputs": [],
   "source": [
    "# first lower case, then match: \n",
    "libcon_lowercase = df.libcon.str.lower()\n",
    "\n",
    "df['libcon_3cat'] = libcon_lowercase.str.extract('(liberal|conservative|moderate)', re.IGNORECASE)\n"
   ]
  },
  {
   "cell_type": "markdown",
   "metadata": {},
   "source": [
    "We can compare our new variables against the old ones like this: "
   ]
  },
  {
   "cell_type": "code",
   "execution_count": 68,
   "metadata": {},
   "outputs": [
    {
     "data": {
      "text/html": [
       "<div>\n",
       "<style scoped>\n",
       "    .dataframe tbody tr th:only-of-type {\n",
       "        vertical-align: middle;\n",
       "    }\n",
       "\n",
       "    .dataframe tbody tr th {\n",
       "        vertical-align: top;\n",
       "    }\n",
       "\n",
       "    .dataframe thead th {\n",
       "        text-align: right;\n",
       "    }\n",
       "</style>\n",
       "<table border=\"1\" class=\"dataframe\">\n",
       "  <thead>\n",
       "    <tr style=\"text-align: right;\">\n",
       "      <th></th>\n",
       "      <th>libcon</th>\n",
       "      <th>libcon_3cat</th>\n",
       "    </tr>\n",
       "  </thead>\n",
       "  <tbody>\n",
       "    <tr>\n",
       "      <th>37</th>\n",
       "      <td>1. Extremely liberal</td>\n",
       "      <td>liberal</td>\n",
       "    </tr>\n",
       "    <tr>\n",
       "      <th>2</th>\n",
       "      <td>2. Liberal</td>\n",
       "      <td>liberal</td>\n",
       "    </tr>\n",
       "    <tr>\n",
       "      <th>3</th>\n",
       "      <td>3. Slightly liberal</td>\n",
       "      <td>liberal</td>\n",
       "    </tr>\n",
       "    <tr>\n",
       "      <th>1</th>\n",
       "      <td>4. Moderate; middle of the road</td>\n",
       "      <td>moderate</td>\n",
       "    </tr>\n",
       "    <tr>\n",
       "      <th>4</th>\n",
       "      <td>5. Slightly conservative</td>\n",
       "      <td>conservative</td>\n",
       "    </tr>\n",
       "    <tr>\n",
       "      <th>0</th>\n",
       "      <td>6. Conservative</td>\n",
       "      <td>conservative</td>\n",
       "    </tr>\n",
       "    <tr>\n",
       "      <th>42</th>\n",
       "      <td>7. Extremely conservative</td>\n",
       "      <td>conservative</td>\n",
       "    </tr>\n",
       "    <tr>\n",
       "      <th>7</th>\n",
       "      <td>NaN</td>\n",
       "      <td>NaN</td>\n",
       "    </tr>\n",
       "  </tbody>\n",
       "</table>\n",
       "</div>"
      ],
      "text/plain": [
       "                             libcon   libcon_3cat\n",
       "37             1. Extremely liberal       liberal\n",
       "2                        2. Liberal       liberal\n",
       "3               3. Slightly liberal       liberal\n",
       "1   4. Moderate; middle of the road      moderate\n",
       "4          5. Slightly conservative  conservative\n",
       "0                   6. Conservative  conservative\n",
       "42        7. Extremely conservative  conservative\n",
       "7                               NaN           NaN"
      ]
     },
     "execution_count": 68,
     "metadata": {},
     "output_type": "execute_result"
    }
   ],
   "source": [
    "df[['libcon', 'libcon_3cat']].drop_duplicates().sort_values('libcon')"
   ]
  },
  {
   "cell_type": "markdown",
   "metadata": {},
   "source": [
    "`str.contains` returns a `True` if the string contains the pattern given as its argument and `False` otherwise. One use for the `contains` function is to identify cases where a piece of text shows up so that you can filter or count the number of occurrences of that string. So if we wanted to know how many people mentioned climate change or global warming in their response to the \"most important political problem\" question, we could use a regular expression like `\"climate change|global warming\"` to count these cases:"
   ]
  },
  {
   "cell_type": "code",
   "execution_count": 69,
   "metadata": {},
   "outputs": [
    {
     "data": {
      "text/plain": [
       "0.04245412215831279"
      ]
     },
     "execution_count": 69,
     "metadata": {},
     "output_type": "execute_result"
    }
   ],
   "source": [
    "df =df.assign(climate_change = df['mipp_1'].str.contains('climate change|global warming', case=False, regex=True))\n",
    "\n",
    "# get the proportion who mentioned this: \n",
    "df.climate_change.mean()\n"
   ]
  },
  {
   "cell_type": "markdown",
   "metadata": {},
   "source": [
    "Then we can use this indicator to get the average proportion of people giving this response across different levels of some variable like party ID:"
   ]
  },
  {
   "cell_type": "code",
   "execution_count": 70,
   "metadata": {
    "scrolled": true
   },
   "outputs": [
    {
     "data": {
      "text/html": [
       "<div>\n",
       "<style scoped>\n",
       "    .dataframe tbody tr th:only-of-type {\n",
       "        vertical-align: middle;\n",
       "    }\n",
       "\n",
       "    .dataframe tbody tr th {\n",
       "        vertical-align: top;\n",
       "    }\n",
       "\n",
       "    .dataframe thead th {\n",
       "        text-align: right;\n",
       "    }\n",
       "</style>\n",
       "<table border=\"1\" class=\"dataframe\">\n",
       "  <thead>\n",
       "    <tr style=\"text-align: right;\">\n",
       "      <th></th>\n",
       "      <th>climate_change</th>\n",
       "    </tr>\n",
       "    <tr>\n",
       "      <th>partyid_3cat</th>\n",
       "      <th></th>\n",
       "    </tr>\n",
       "  </thead>\n",
       "  <tbody>\n",
       "    <tr>\n",
       "      <th>Democrat</th>\n",
       "      <td>0.077778</td>\n",
       "    </tr>\n",
       "    <tr>\n",
       "      <th>Independent</th>\n",
       "      <td>0.021403</td>\n",
       "    </tr>\n",
       "    <tr>\n",
       "      <th>Republican</th>\n",
       "      <td>0.008604</td>\n",
       "    </tr>\n",
       "  </tbody>\n",
       "</table>\n",
       "</div>"
      ],
      "text/plain": [
       "             climate_change\n",
       "partyid_3cat               \n",
       "Democrat           0.077778\n",
       "Independent        0.021403\n",
       "Republican         0.008604"
      ]
     },
     "execution_count": 70,
     "metadata": {},
     "output_type": "execute_result"
    }
   ],
   "source": [
    "df.pivot_table(index='partyid_3cat', values='climate_change', aggfunc='mean')\n",
    "# or : \n",
    "# df.groupby('partyid_3cat')['climate_change'].mean()"
   ]
  },
  {
   "cell_type": "markdown",
   "metadata": {},
   "source": [
    "<font color ='red'>**Question 3: How would I show the relationship between `age_group` and the likelihood of mentioning Covid-19 as a response to the `mipp_1` question? Can you write your expression in a way that allows you to capture differences in spelling or punctuation?**</font>"
   ]
  },
  {
   "cell_type": "code",
   "execution_count": null,
   "metadata": {
    "tags": []
   },
   "outputs": [],
   "source": []
  },
  {
   "cell_type": "markdown",
   "metadata": {},
   "source": [
    "Another common use for the `str.contains` function is to subset a data set. Since it returns a boolean value, we can use it with `.loc` to get rows where a pattern is matched. For instance, here's how I would get a data frame containing only people who mentioned age, dementia, or cognitive ability in their reasons for disliking Joe Biden. (the `\\b` in this expression represents a word boundary, so this avoids capturing terms that just happen to begin or end with \"age\" like \"baggage\", or \"mortgage\". "
   ]
  },
  {
   "cell_type": "code",
   "execution_count": null,
   "metadata": {},
   "outputs": [],
   "source": [
    "df_age = df.loc[df.biden_dislikes.str.contains(r'\\bold\\b|\\bage\\b|dementia|cogniti*', case=False, na=False)]\n",
    "\n",
    "# how many rows?\n",
    "df_age.shape[0]"
   ]
  },
  {
   "cell_type": "markdown",
   "metadata": {},
   "source": [
    "<font color ='red'>**Question 4: How many Democrats mentioned Donald Trump when asked to name a thing they liked about Joe Biden? How many Republicans mentioned Biden when asked to list something they liked about Trump?**</font>"
   ]
  },
  {
   "cell_type": "code",
   "execution_count": null,
   "metadata": {},
   "outputs": [],
   "source": []
  }
 ],
 "metadata": {
  "kernelspec": {
   "display_name": "Python 3 (ipykernel)",
   "language": "python",
   "name": "python3"
  },
  "language_info": {
   "codemirror_mode": {
    "name": "ipython",
    "version": 3
   },
   "file_extension": ".py",
   "mimetype": "text/x-python",
   "name": "python",
   "nbconvert_exporter": "python",
   "pygments_lexer": "ipython3",
   "version": "3.12.2"
  },
  "toc": {
   "base_numbering": 1,
   "nav_menu": {},
   "number_sections": false,
   "sideBar": false,
   "skip_h1_title": false,
   "title_cell": "Table of Contents",
   "title_sidebar": "Contents",
   "toc_cell": false,
   "toc_position": {},
   "toc_section_display": false,
   "toc_window_display": false
  }
 },
 "nbformat": 4,
 "nbformat_minor": 4
}
