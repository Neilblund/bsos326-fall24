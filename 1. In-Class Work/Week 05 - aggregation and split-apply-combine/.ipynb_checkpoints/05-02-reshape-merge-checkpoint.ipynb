{
 "cells": [
  {
   "cell_type": "markdown",
   "metadata": {
    "tags": []
   },
   "source": [
    "# More Data Wrangling\n",
    "\n",
    "Use **Code** cells to write and run any code you need to answer the question and **Markdown** cells to write out answers in words. After you are finished with the assignment, remember to download it as an **HTML file** and submit it in **ELMS**."
   ]
  },
  {
   "cell_type": "code",
   "execution_count": null,
   "metadata": {},
   "outputs": [],
   "source": [
    "from requests import get\n",
    "from datetime import datetime\n",
    "\n",
    "import numpy as np \n",
    "import pandas as pd "
   ]
  },
  {
   "cell_type": "markdown",
   "metadata": {},
   "source": [
    "## Working with Data\n",
    "\n",
    "Many times, when we are working with Data Frames and tabular data, each row represents a person or entity. That is, the **unit of observation** is a person and the variables all describe that person. We've also looked at data where the unit of observation was a US state. However, this is not always the case. You need to be careful and think through exactly what each row represents, and transform your data if it needs to be in another form. Let's take the merged anxiety and Census data as an example. This is available in the `anxiety_census_data.csv` file, and contains the proportion of people who reported feeling anxious all or most of the last 7 days within each state for a series of days from May 1, 2022 to June 25, 2022. "
   ]
  },
  {
   "cell_type": "code",
   "execution_count": null,
   "metadata": {
    "tags": []
   },
   "outputs": [],
   "source": [
    "anxiety_census = pd.read_csv('anxiety_census_data.csv')\n",
    "anxiety_census.head()"
   ]
  },
  {
   "cell_type": "markdown",
   "metadata": {},
   "source": [
    "In this dataset, the unit of observation is a **state-date** combination. A unique row is represented by a state on a particular date. "
   ]
  },
  {
   "cell_type": "markdown",
   "metadata": {},
   "source": [
    "<font color ='red'>**Question 1: Create a subset of the `anxiety_census` so that it only contains Maryland and Virginia. Include only the variables `state`, `time_value`, and `value`. Call this new DataFrame `md_va`.**</font>"
   ]
  },
  {
   "cell_type": "code",
   "execution_count": null,
   "metadata": {
    "tags": []
   },
   "outputs": [],
   "source": [
    "\n",
    "\n",
    "\n",
    "\n"
   ]
  },
  {
   "cell_type": "markdown",
   "metadata": {},
   "source": [
    "## Reshaping Data\n",
    "\n",
    "Suppose we want to graph the data for these two states together, so that we can see how the trends differ between them. In order to use the `plot.line` method and use both, we actually need them in two different columns. That is, we need one variable to be the value for Maryland on a given day and one variable to be the value for Virginia on that day. \n",
    "\n",
    "In other words, right now, each row represents a **state-date pair**. For example, the first row is Maryland on May 1, 2022, the second row is Maryland on May 2, 2022, and so on eventually going to Virginia on May 1, 2022, then Virginia on May 2, 2022, and so on. Instead, we want data that has each row represent a **date**, with separate columns for the values of Maryland and Virigina on that day. "
   ]
  },
  {
   "cell_type": "code",
   "execution_count": null,
   "metadata": {
    "tags": []
   },
   "outputs": [],
   "source": [
    "wide_data = md_va.pivot(index = 'time_value', columns = 'state', values = 'value')\n",
    "wide_data.head()\n"
   ]
  },
  {
   "cell_type": "markdown",
   "metadata": {},
   "source": [
    "Note that the dates have been turned into the indices. If we wanted to include them as a variable instead, we could have used `reset_index` to reset the index back to incrementing up from 0, but we'll leave it as it is for now because it is useful for graphing purposes."
   ]
  },
  {
   "cell_type": "code",
   "execution_count": null,
   "metadata": {
    "tags": []
   },
   "outputs": [],
   "source": [
    "# If we had wanted to reset the index.\n",
    "wide_data.reset_index().head()"
   ]
  },
  {
   "cell_type": "markdown",
   "metadata": {},
   "source": [
    "Now that we've gotten our data into this format, we can create our line plot by indicating color. We use a dictionary to specify which column corresponds to which color."
   ]
  },
  {
   "cell_type": "code",
   "execution_count": null,
   "metadata": {
    "tags": []
   },
   "outputs": [],
   "source": [
    "wide_data.plot.line(color = {'Maryland':'red', 'Virginia':'blue'})"
   ]
  },
  {
   "cell_type": "markdown",
   "metadata": {},
   "source": [
    "<font color ='red'>**Question 2: Create a line graph comparing the trends for Maryland, Virginia, and New York.**</font>"
   ]
  },
  {
   "cell_type": "code",
   "execution_count": null,
   "metadata": {},
   "outputs": [],
   "source": [
    "\n",
    "\n",
    "\n"
   ]
  },
  {
   "cell_type": "markdown",
   "metadata": {},
   "source": [
    "## Going from Wide to Long\n",
    "\n",
    "We can also go the opposite way for data that might require long format."
   ]
  },
  {
   "cell_type": "code",
   "execution_count": null,
   "metadata": {
    "tags": []
   },
   "outputs": [],
   "source": [
    "wide_data.melt(ignore_index = False).reset_index()"
   ]
  },
  {
   "cell_type": "markdown",
   "metadata": {},
   "source": [
    "## More Merging Practice\n",
    "\n",
    "Let's try doing another merge. Let's say we want to take a look at anxiety trends for the month of May 2022, and try to see if there's any current events that may correlate with any changes as the month goes on. In order to look at this, we might want to combine data from the NYT Archives with the data on anxiety trends.\n",
    "\n",
    "Recall that we can pull all articles from the NYT Archives API for a given month. So, we'll start by getting all articles from May 2022."
   ]
  },
  {
   "cell_type": "code",
   "execution_count": null,
   "metadata": {
    "tags": []
   },
   "outputs": [],
   "source": [
    "# My file with the key is called nyt-key.txt. Make sure you have that file with your key!\n",
    "with open('nyt-key.txt', 'r') as f:\n",
    "    nyt_key = f.readline()\n",
    "\n",
    "base_url = \"https://api.nytimes.com/svc/archive/v1/2022/5.json\"\n",
    "r = get(base_url, params= {'api-key':nyt_key}) \n",
    "archive_2022_05 = r.json()['response']['docs']\n"
   ]
  },
  {
   "cell_type": "code",
   "execution_count": null,
   "metadata": {
    "tags": []
   },
   "outputs": [],
   "source": [
    "archive_2022_05[0]"
   ]
  },
  {
   "cell_type": "markdown",
   "metadata": {},
   "source": [
    "Next, we'll get the data that we want as a DataFrame. We want to retain some basic information like abstract and type of material and word count, as well as the publication date so that we can match on the anxiety data. "
   ]
  },
  {
   "cell_type": "code",
   "execution_count": null,
   "metadata": {
    "tags": []
   },
   "outputs": [],
   "source": [
    "variables = ['abstract', 'web_url','pub_date', 'type_of_material','word_count']\n",
    "nyt_dict = {var:[article[var] for article in archive_2022_05] for var in variables}\n",
    "nyt_df = pd.DataFrame(nyt_dict)\n",
    "nyt_df.head()"
   ]
  },
  {
   "cell_type": "markdown",
   "metadata": {},
   "source": [
    "Note that the `pub_date` variable is not the same format as the one in the anxiety data. Notably, it has a lot more specific time associated with that article. Let's add a new variable called `date` that contains just the date information in the same format as is in the anxiety dataset (namely, YYYY-MM-DD)."
   ]
  },
  {
   "cell_type": "markdown",
   "metadata": {},
   "source": [
    "<font color ='red'>**Question 3: Add a column to `nyt_df` called `date` that contains the date in the same format as it is in the anxiety dataset. That is, it should have be in YYYY-MM-DD format.**</font>\n",
    "\n",
    "*Hint:* This is just the first 10 characters of the string"
   ]
  },
  {
   "cell_type": "code",
   "execution_count": null,
   "metadata": {
    "tags": []
   },
   "outputs": [],
   "source": [
    "\n",
    "\n",
    "\n",
    "\n"
   ]
  },
  {
   "cell_type": "markdown",
   "metadata": {},
   "source": [
    "<font color ='red'>**Question 4: What does each row in the `nyt_df` DataFrame represent?**</font>"
   ]
  },
  {
   "cell_type": "markdown",
   "metadata": {},
   "source": [
    "Answer:"
   ]
  },
  {
   "cell_type": "markdown",
   "metadata": {},
   "source": [
    "Next, let's get the relevant data for just New York and in the month of May. "
   ]
  },
  {
   "cell_type": "markdown",
   "metadata": {},
   "source": [
    "<font color ='red'>**Question 5: Create a DataFrame called `ny_anxiety_census` that contains just the rows of `anxiety_census` that are for New York state.**</font>"
   ]
  },
  {
   "cell_type": "code",
   "execution_count": null,
   "metadata": {
    "tags": []
   },
   "outputs": [],
   "source": [
    "\n",
    "\n",
    "\n",
    "\n"
   ]
  },
  {
   "cell_type": "markdown",
   "metadata": {},
   "source": [
    "Now that we've gotten a dataset with only values from New York, we'll further subset the data to only include the dates in May. "
   ]
  },
  {
   "cell_type": "code",
   "execution_count": null,
   "metadata": {
    "tags": []
   },
   "outputs": [],
   "source": [
    "ny_may = ny_anxiety_census[ny_anxiety_census.time_value <= '2022-05-31']\n",
    "ny_may.head()"
   ]
  },
  {
   "cell_type": "markdown",
   "metadata": {},
   "source": [
    "> Note: This works because the format of the date in the string organizes it alphabetically already. If we wanted to be more careful or wanted to make sure that it would work for all different types of date formats, we would actually convert this into a date object first because doing a comparison. You can try using code such as `datetime.strptime('2022-05-30', '%Y-%m-%d').date()` to get the date. This converts the string into a datetime format, then extracts the date."
   ]
  },
  {
   "cell_type": "code",
   "execution_count": null,
   "metadata": {
    "tags": []
   },
   "outputs": [],
   "source": [
    "ny_may.shape"
   ]
  },
  {
   "cell_type": "markdown",
   "metadata": {},
   "source": [
    "<font color ='red'>**Question 6: What does each row in the `ny_may` DataFrame represent?**</font>"
   ]
  },
  {
   "cell_type": "markdown",
   "metadata": {},
   "source": [
    "Answer: "
   ]
  },
  {
   "cell_type": "markdown",
   "metadata": {},
   "source": [
    "The `nyt_df` DataFrame and the `ny_may` DataFrame have different **units of observation**. So, if we want to combine them together, we have to be careful about how to do it. For example, if we want to make sure we only have one row per day (since we want to look at the change over the days), then we might want to first make sure that both DataFrames have the day as the unit of observation. To do this, we'll aggregate using `groupby` to get some summary measures that we'll track over the course of the month."
   ]
  },
  {
   "cell_type": "markdown",
   "metadata": {},
   "source": [
    "<font color ='red'>**Question 7: Using `apply`, find the total number of News articles there were in each day of May.**</font>"
   ]
  },
  {
   "cell_type": "code",
   "execution_count": null,
   "metadata": {
    "tags": []
   },
   "outputs": [],
   "source": [
    "\n",
    "\n",
    "\n",
    "\n"
   ]
  },
  {
   "cell_type": "markdown",
   "metadata": {},
   "source": [
    "We can create a custom function to do more than computation with a group at once as well."
   ]
  },
  {
   "cell_type": "code",
   "execution_count": null,
   "metadata": {
    "tags": []
   },
   "outputs": [],
   "source": [
    "def nyt_summary(x):\n",
    "    return pd.Series([sum(x['type_of_material'] == 'News'), x.count()[0]])\n",
    "\n",
    "nyt_by_day = nyt_df.groupby('date').apply(nyt_summary).reset_index()\n",
    "nyt_by_day.columns = ['time_value', 'news', 'total']"
   ]
  },
  {
   "cell_type": "markdown",
   "metadata": {},
   "source": [
    "Note that we use `reset_index()` to make it so that the date is a column in the DataFrame. We also change the column names, making it so that the column name for the date is the same name as it is in the `ny_may` DataFrame. This is because if we have the same column name for what we want to merge on, then we don't need to specify `left_on` and `right_on`. Using `merge` will automatically merge on the common column name."
   ]
  },
  {
   "cell_type": "code",
   "execution_count": null,
   "metadata": {
    "tags": []
   },
   "outputs": [],
   "source": [
    "ny_merged = nyt_by_day.merge(ny_may)\n",
    "ny_merged.head()\n"
   ]
  },
  {
   "cell_type": "markdown",
   "metadata": {},
   "source": [
    "<font color ='red'>**Question 8: In the month of May, did the number of News articles each day in the New York Times have any relationship with the reported anxiety on that day? Use a scatterplot to show the relationship.**</font>\n",
    "\n",
    "*Note:* Remember, the method to create a scatterplot from a DataFrame is `.scatter.plot()` with two arguments: the x variable and y variable for the scatterplot."
   ]
  },
  {
   "cell_type": "code",
   "execution_count": null,
   "metadata": {
    "tags": []
   },
   "outputs": [],
   "source": [
    "\n",
    "\n",
    "\n",
    "\n"
   ]
  },
  {
   "cell_type": "markdown",
   "metadata": {},
   "source": [
    "> This isn't exactly a particularly interesting thing to look at because we wouldn't necessarily expect there to be a relationship on that day. Remember, the question asked whether the respondent had felt anxious in the past 7 days. We also aren't looking at the topics of the News articles. To do more sophisticated analyses, we would want to do some more cleaning and try thinking about extracting more information from things like the abstract."
   ]
  },
  {
   "cell_type": "markdown",
   "metadata": {},
   "source": [
    "## Overview\n",
    "\n",
    "Steps to preparing data for analysis (particularly from APIs).\n",
    "\n",
    "1. Obtain data using API or reading in from a CSV file. Helpful functions: `pd.read_csv`, `get`. \n",
    "2. Identify the type of data that you have. Is it a dictionary? A list? What does each item within the list or dictionary represent?\n",
    "3. Develop a plan to extract the data that you want. Try getting just one, then think about how you might generalize it to be able to use list comprehension or dictionary comprehension. \n",
    "4. Create a DataFrame and do some cleanup of the data. Make sure the column names are meaningful and the types of variables are what you need them to be (e.g., numeric if they are numeric variables). Make sure you know what the unit of observation is.\n",
    "5. Identify any additional data wrangling steps you might need to take. Do you need to join datasets together? Do you need to group and aggregate data?"
   ]
  },
  {
   "cell_type": "code",
   "execution_count": null,
   "metadata": {},
   "outputs": [],
   "source": []
  }
 ],
 "metadata": {
  "kernelspec": {
   "display_name": "Python 3 (ipykernel)",
   "language": "python",
   "name": "python3"
  },
  "language_info": {
   "codemirror_mode": {
    "name": "ipython",
    "version": 3
   },
   "file_extension": ".py",
   "mimetype": "text/x-python",
   "name": "python",
   "nbconvert_exporter": "python",
   "pygments_lexer": "ipython3",
   "version": "3.12.2"
  },
  "toc": {
   "base_numbering": 1,
   "nav_menu": {},
   "number_sections": false,
   "sideBar": false,
   "skip_h1_title": false,
   "title_cell": "Table of Contents",
   "title_sidebar": "Contents",
   "toc_cell": false,
   "toc_position": {},
   "toc_section_display": false,
   "toc_window_display": false
  }
 },
 "nbformat": 4,
 "nbformat_minor": 4
}
