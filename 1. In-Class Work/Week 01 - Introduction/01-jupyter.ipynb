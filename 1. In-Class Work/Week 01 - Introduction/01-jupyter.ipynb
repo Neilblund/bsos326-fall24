{
 "cells": [
  {
   "cell_type": "markdown",
   "metadata": {},
   "source": [
    "# Introduction to Python and Jupyter\n",
    "\n",
    "This lab is just an introduction to Python and Jupyter notebooks. It should be quick and painless! Where you see <span style=\"color:red\">red text</span>, you should fill in your own response to the question. When you're finished save and export your notebook file to HTML and submit it on ELMs. "
   ]
  },
  {
   "cell_type": "markdown",
   "metadata": {},
   "source": [
    "# Introduction to Python and Jupyter\n",
    "\n",
    "This lab is just an introduction to Python and Jupyter notebooks. You do not need to turn this in. However, I still encourage you to make sure you understand it, because you will be using these concepts throughout the entire class.\n",
    "\n",
    "When you have finished running the code below, export your results to an HTML file and submit it on ELMs. "
   ]
  },
  {
   "cell_type": "markdown",
   "metadata": {
    "editable": true,
    "slideshow": {
     "slide_type": ""
    },
    "tags": []
   },
   "source": [
    "# Jupyter notebooks\n",
    "This webpage is called a Jupyter notebook. A notebook is a place to write programs and view their results, and also to write text."
   ]
  },
  {
   "cell_type": "markdown",
   "metadata": {},
   "source": [
    "## Markdown (text) cells\n",
    "In a notebook, each rectangle containing text or code is called a *cell*.\n",
    "\n",
    "Text cells (like this one) can be edited by double-clicking on them. They're written in a simple format called Markdown to add formatting and section headings. To see some basic Markdown syntax, see: https://www.markdownguide.org/basic-syntax/\n",
    "\n",
    "After you edit a text cell, click the \"run cell\" button at the top that looks like a play button or hold down `shift` + `return` (or `ctrl` + `return`) to confirm any changes."
   ]
  },
  {
   "cell_type": "markdown",
   "metadata": {
    "editable": true,
    "slideshow": {
     "slide_type": ""
    },
    "tags": []
   },
   "source": [
    "## Writing in Jupyter notebooks\n",
    "\n",
    "You can use Jupyter notebooks for your own projects or documents.  When you make your own notebook, you'll need to create your own cells for text and code.\n",
    "\n",
    "To add a cell, click the + button in the menu bar.  You can change the cell type by using drop-down menu in the menu bar, and choosing \"Code\" or \"Markdown\"."
   ]
  },
  {
   "cell_type": "markdown",
   "metadata": {
    "editable": true,
    "slideshow": {
     "slide_type": ""
    },
    "tags": []
   },
   "source": [
    "<span style=\"color:red\">Try creating a new cell and putting some text in it. Create a header by using the `#` symbol. Write some text in italics by wrapping the text with a single asterisk: `*text in italics*`, and make some text in bold by wrapping it with double asterisks: ``**bold text**``. </span>"
   ]
  },
  {
   "cell_type": "markdown",
   "metadata": {
    "editable": true,
    "jp-MarkdownHeadingCollapsed": true,
    "slideshow": {
     "slide_type": ""
    },
    "tags": []
   },
   "source": [
    "## The Kernel\n",
    "The kernel is a program that executes the code inside your notebook and outputs the results. In the top right of your window, you can see a circle that indicates the status of your kernel. If the circle is empty (⚪), the kernel is idle and ready to execute code. If the circle is filled in (⚫), the kernel is busy running some code. \n",
    "\n",
    "You may run into problems where your kernel is stuck for an excessive amount of time, your notebook is very slow and unresponsive, or your kernel loses its connection. If this happens, try the following steps:\n",
    "1. At the top of your screen, click **Kernel**, then **Interrupt**.\n",
    "2. If that doesn't help, click **Kernel**, then **Restart**. If you do this, you will have to run your code cells from the start of your notebook up until where you paused your work.\n",
    "3. If that doesn't help, restart your server. First, save your work by clicking **File** at the top left of your screen, then **Save and Checkpoint**. Next, click **Control Panel** at the top right. Choose **Stop My Server** to shut it down, then **Start My Server** to start it back up. Then, navigate back to the notebook you were working on. You'll still have to run your code cells again."
   ]
  },
  {
   "cell_type": "markdown",
   "metadata": {},
   "source": [
    "## Code cells\n",
    "\n",
    "Other cells contain code in the Python 3 language. Running a code cell will execute all of the code it contains.\n",
    "\n",
    "To run the code in a code cell, first click on that cell to activate it.  It'll be highlighted with a little green or blue rectangle.  Next, either press ▶| or hold down `shift` + `return` or `ctrl` + `return`. Using `shift` + return will take you to the next cell, while using `ctrl` + `return` will keep you in the same cell.\n",
    "\n",
    "Try running this cell:"
   ]
  },
  {
   "cell_type": "code",
   "execution_count": 1,
   "metadata": {},
   "outputs": [
    {
     "name": "stdout",
     "output_type": "stream",
     "text": [
      "Some text\n"
     ]
    }
   ],
   "source": [
    "print('Some text')"
   ]
  },
  {
   "cell_type": "markdown",
   "metadata": {
    "editable": true,
    "slideshow": {
     "slide_type": ""
    },
    "tags": []
   },
   "source": [
    "## Errors\n",
    "Python is a language, and like natural human languages, it has rules.  It differs from natural language in two important ways:\n",
    "1. The rules are *simple*.  You can learn most of them in a few weeks and gain reasonable proficiency with the language in a semester.\n",
    "2. The rules are *rigid*.  If you're proficient in a natural language, you can understand a non-proficient speaker, glossing over small mistakes.  A computer running Python code is not smart enough to do that.\n",
    "\n",
    "Whenever you write code, you'll make mistakes.  When you run a code cell that has errors, Python will sometimes produce error messages to tell you what you did wrong.\n",
    "\n",
    "Errors are okay; even experienced programmers make many errors.  When you make an error, you just have to find the source of the problem, fix it, and move on.\n",
    "\n",
    "We have made an error in the next cell.  Run it and see what happens."
   ]
  },
  {
   "cell_type": "code",
   "execution_count": null,
   "metadata": {
    "scrolled": true
   },
   "outputs": [
    {
     "name": "stderr",
     "output_type": "stream",
     "text": [
      "<<<<<<< local\n"
     ]
    },
    {
     "ename": "SyntaxError",
     "evalue": "incomplete input (1867411798.py, line 1)",
     "output_type": "error",
     "traceback": [
      "\u001b[1;36m  Cell \u001b[1;32mIn[2], line 1\u001b[1;36m\u001b[0m\n\u001b[1;33m    print(\"This line is missing something.\"\u001b[0m\n\u001b[1;37m                                           ^\u001b[0m\n\u001b[1;31mSyntaxError\u001b[0m\u001b[1;31m:\u001b[0m incomplete input\n"
     ]
    },
    {
     "name": "stderr",
     "output_type": "stream",
     "text": [
      "=======\n"
     ]
    },
    {
     "name": "stdout",
     "output_type": "stream",
     "text": [
      "This line is missing something.\n"
     ]
    },
    {
     "name": "stderr",
     "output_type": "stream",
     "text": [
      ">>>>>>> remote\n"
     ]
    }
   ],
   "source": [
    "print(\"This line is missing something.\""
   ]
  },
  {
   "cell_type": "markdown",
   "metadata": {},
   "source": [
    "**Note:** In the toolbar, there is the option to click `Run > Run All Cells`, which will run all the code cells in this notebook in order. However, the notebook stops running code cells if it hits an error, like the one in the cell above."
   ]
  },
  {
   "cell_type": "markdown",
   "metadata": {
    "editable": true,
    "slideshow": {
     "slide_type": ""
    },
    "tags": []
   },
   "source": [
    "You should see something like this (minus our annotations):\n",
    "\n",
    "<img src=\"error.jpg\"/>\n",
    "\n",
    "The last line of the error output attempts to tell you what went wrong.  The *syntax* of a language is its structure, and this `SyntaxError` tells you that you have created an illegal structure.  \"`EOF`\" means \"end of file,\" so the message is saying Python expected you to write something more (in this case, a right parenthesis) before finishing the cell.\n",
    "\n",
    "There's a lot of terminology in programming languages, but you don't need to know it all in order to program effectively. If you see a cryptic message like this, you can often get by without deciphering it.  (Of course, if you're frustrated, ask a neighbor for help, or try entering some of the error message into a search engine)\n",
    "\n",
    "<span style=\"color:red\">Try to fix the code above so that you can run the cell and see the intended message instead of an error.</span>"
   ]
  },
  {
   "cell_type": "code",
   "execution_count": null,
   "metadata": {},
   "outputs": [],
   "source": [
    "# Your code here...\n"
   ]
  },
  {
   "cell_type": "markdown",
   "metadata": {
    "tags": []
   },
   "source": [
    "## Python Packages\n",
    "\n",
    "There's all sorts of functions and tools people have developed using Python. To avoid having to recreate all of these, people put these useful tools inside packages, which we can bring into Python and use.\n",
    "\n",
    "The main one we'll be using for this class is `pandas`,. We'll also frequently use `numpy`, which stands for Numerical Python, and has many useful computational tools. To bring in a package, we can use the `import` statement."
   ]
  },
  {
   "cell_type": "code",
   "execution_count": null,
   "metadata": {},
   "outputs": [],
   "source": [
    "import pandas as pd\n",
    "import numpy as np"
   ]
  },
  {
   "cell_type": "markdown",
   "metadata": {},
   "source": [
    "You don't see any output above, but it imported the NumPy package. Note that we used `as np` at the end. This means that whenever we want to use a function or object from the NumPy package, we need to put `np.` in front of it. For example, NumPy comes with an object that has the value of pi."
   ]
  },
  {
   "cell_type": "code",
   "execution_count": null,
   "metadata": {
    "editable": true,
    "slideshow": {
     "slide_type": ""
    },
    "tags": []
   },
   "outputs": [],
   "source": [
    "np.pi"
   ]
  },
  {
   "cell_type": "markdown",
   "metadata": {},
   "source": [
    "We can also import individual objects from the packages. This is helpful if we only want to use a few things from that package or we want to avoid having to write something like `np.` or `pd.` in front every time we use it."
   ]
  },
  {
   "cell_type": "code",
   "execution_count": null,
   "metadata": {
    "tags": []
   },
   "outputs": [],
   "source": [
    "a = pd.DataFrame([1, 2, 3]) \n",
    "a"
   ]
  },
  {
   "cell_type": "code",
   "execution_count": null,
   "metadata": {
    "tags": []
   },
   "outputs": [],
   "source": [
    "from pandas import DataFrame\n",
    "a = DataFrame([1, 2, 3])\n",
    "a"
   ]
  },
  {
   "cell_type": "markdown",
   "metadata": {},
   "source": [
    "Using the `*` wildcard character allows us to bring in everything from a package. This isn't usually recommended unless it's a relatively small package. If we want to do this, it would look something like:\n",
    "\n",
    "    from pandas import *"
   ]
  },
  {
   "cell_type": "markdown",
   "metadata": {
    "editable": true,
    "slideshow": {
     "slide_type": ""
    },
    "tags": []
   },
   "source": [
    "## Magic Commands\n",
    "\n",
    "Occasionally, in this class, we will use something called **magic commands**. These are commands that work within the **Jupyter notebook environment**, but aren't something you would use in other contexts (like in `.py` files, for example). One example is the `%time` magic command, which gives you the time it takes to run something in Python. "
   ]
  },
  {
   "cell_type": "code",
   "execution_count": null,
   "metadata": {
    "editable": true,
    "slideshow": {
     "slide_type": ""
    },
    "tags": []
   },
   "outputs": [],
   "source": [
    "%time 1+1"
   ]
  },
  {
   "cell_type": "markdown",
   "metadata": {},
   "source": [
    "Another useful example is the `%who` command which shows us the objects that we have in our environment."
   ]
  },
  {
   "cell_type": "code",
   "execution_count": null,
   "metadata": {
    "editable": true,
    "slideshow": {
     "slide_type": ""
    },
    "tags": []
   },
   "outputs": [],
   "source": [
    "%who"
   ]
  },
  {
   "cell_type": "markdown",
   "metadata": {},
   "source": [
    "One more that we will use later on is `%matplotlib inline` which will allow us to view and interact with `matplotlib` visualizations within the Jupyter notebook."
   ]
  },
  {
   "cell_type": "markdown",
   "metadata": {},
   "source": [
    "These commands require a `%` symbol in front to use. For a full list of magic commands, see: https://ipython.readthedocs.io/en/stable/interactive/magics.html"
   ]
  },
  {
   "cell_type": "markdown",
   "metadata": {},
   "source": [
    "## Closing the Notebook\n",
    "\n",
    "When you want to close a notebook, click the **File** menu and select \"**Close and Shut Down Notebook**.\" (or CTRL + SHIFT + Q) If you simply close the browser tab, the Python process associated with the notebook will keep running in the background. Note that having too many Python processes running in the background can cause your environment to slow down. Make sure to check that you don't have lots of processes in the background by going to the stop sign on the lefthand side of your JuptyerLab screen (the second tab below the folder symbol) and closing any kernels that you are not using."
   ]
  },
  {
   "cell_type": "markdown",
   "metadata": {
    "editable": true,
    "slideshow": {
     "slide_type": ""
    },
    "tags": []
   },
   "source": [
    "## Notes: Why are we using Jupyter Notebooks?\n",
    "\n",
    "You might be wondering why we are coding using Jupyter notebooks and not text files or within a command line (or maybe even using an IDE like RStudio for R). There are a few reasons for this. \n",
    "\n",
    "1) **Jupyter notebooks are useful for including narrative text alongside executable code.** This means it is easier to describe and show programming concepts all at once. So, it is useful for educational purposes.\n",
    "2) **JupyterHub and JupyterLab make sharing notebooks and code easier.** You can feel free to download these notebooks, download and install Jupyter on your computers, and run them locally. However, you will also need to make sure that you install all the same packages and make sure that you are running appropriate versions of each to make sure it is compatible. Using the same environment makes all of this easier to do.\n",
    "3) **Jupyter notebooks are good for documentation and reproducibility.** Even outside of educational contexts, Jupyter notebooks are commonly used to document and run code, especially for data analysis. This is because reproducibility and transparency in research is very important, and Jupyter notebooks make that much easier. There's a lot of collaboration that happens when programming and doing data analysis, and Jupyter notebooks have become more and more popular as a way to make that easier.\n",
    " \n",
    "\n",
    "That said, we will also go over using script files (.py files) as well and talk about when to use one over the other (and when to use both). "
   ]
  },
  {
   "cell_type": "markdown",
   "metadata": {},
   "source": [
    "# Submitting work\n",
    "\n",
    "When you're finished with classwork or homework, click the ⏩ symbol at the top of the page. This will restart the kernel and run all code. If Python encounters any errors, it will stop on that cell and show an error message. This is a good way to make sure you've got working code before you submit. \n",
    "\n",
    "Once you've done that, go to File -> Save and Export Notebook As -> HTML, and then submit the new HTML file on ELMS as your response for this assignment."
   ]
  }
 ],
 "metadata": {
  "kernelspec": {
   "display_name": "Python 3 (ipykernel)",
   "language": "python",
   "name": "python3"
  },
  "language_info": {
   "codemirror_mode": {
    "name": "ipython",
    "version": 3
   },
   "file_extension": ".py",
   "mimetype": "text/x-python",
   "name": "python",
   "nbconvert_exporter": "python",
   "pygments_lexer": "ipython3",
   "version": "3.12.2"
  }
 },
 "nbformat": 4,
 "nbformat_minor": 4
}
