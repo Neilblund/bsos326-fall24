{
 "cells": [
  {
   "cell_type": "code",
   "execution_count": null,
   "id": "a89c608b-27e4-427c-9a94-58678b384365",
   "metadata": {},
   "outputs": [],
   "source": [
    "from requests import get\n",
    "import re\n",
    "\n",
    "import numpy as np \n",
    "import pandas as pd \n",
    "import matplotlib.pyplot as plt\n",
    "import plotly.express as px\n",
    "\n",
    "import nltk\n",
    "\n",
    "from nltk.corpus import stopwords\n",
    "from nltk import SnowballStemmer, LancasterStemmer\n",
    "from nltk.tokenize import RegexpTokenizer\n",
    "from sklearn.feature_extraction.text import CountVectorizer, TfidfTransformer\n",
    "\n",
    "\n",
    "import string"
   ]
  },
  {
   "cell_type": "code",
   "execution_count": null,
   "id": "d8f4ff77-b0da-48c7-9329-c21d5b0a9254",
   "metadata": {},
   "outputs": [],
   "source": [
    "lyrics_df = pd.read_csv('genius_lyrics.csv')\n",
    "lyrics_df.head()"
   ]
  },
  {
   "cell_type": "markdown",
   "id": "456db4aa-1b27-46c9-91cd-02b8c24aa69d",
   "metadata": {
    "jp-MarkdownHeadingCollapsed": true
   },
   "source": [
    "## Processing Text Data\n",
    "\n",
    "**Text analysis** is used to extract useful information from or summarize a large amount of unstructured text stored in documents. This opens up the opportunity of using text data alongside more conventional data sources (e.g. surveys and administrative data). The goal of text analysis is to take a large corpus of complex and unstructured text data and extract important and meaningful messages in a comprehensible way. \n",
    "\n",
    "Text analysis can help with a wide variety of tasks including:\n",
    "\n",
    "* **Information Retrieval**: Find relevant information in a large database, such as a systematic literature review, that would be very time-consuming for humans to do manually. \n",
    "\n",
    "* **Clustering and Text Categorization**: Summarize a large corpus of text by finding the most important phrases, using methods like topic modeling. \n",
    "\n",
    "* **Text Summarization**: Create category-sensitive text summaries of a large corpus of text. \n",
    "\n",
    "* **Machine Translation**: Translate documents from one languagem to another. \n",
    " \n",
    "## Glossary of Terms\n",
    "\n",
    "* **Corpus**: A corpus is the set of all text documents used in your analysis; for example, your corpus of text may include hundreds of abstracts from patent data.\n",
    "\n",
    "* **Tokenize**: Tokenization is the process by which text is separated into meaningful terms or phrases. In English this is easy to do for individual words, as they are separated by whitespace; however, it can get more complicated to  automate determining which groups of words constitute meaningful phrases. \n",
    "\n",
    "* **Stemming**: Stemming is normalizing text by reducing all forms or conjugations of a word to the word's most basic form. In English, this can mean making a rule of removing the suffixes \"ed\" or \"ing\" from the end of all words, but it gets more complex. For example, \"to go\" is irregular, so you need to tell the algorithm that \"went\" and \"goes\" stem from a common lemma, and should be considered alternate forms of the word \"go.\"\n",
    "\n",
    "* **Stop Words**: Stop words are words that have little semantic meaning but occur very frequently, like prepositions, articles and common nouns. For example, every document (in English) will probably contain the words \"and\" and \"the\" many times. You will often remove them as part of preprocessing using a list of stop words.\n"
   ]
  },
  {
   "cell_type": "markdown",
   "id": "c48a6e0d-0a2f-42c0-9dc6-40f0285b04c6",
   "metadata": {},
   "source": [
    "# Preparing the data"
   ]
  },
  {
   "cell_type": "markdown",
   "id": "5f4282f9-9af8-417b-949c-b6c25b169a8a",
   "metadata": {},
   "source": [
    "First, we will lowercase every word in the abstract column so that we don't run into issues with matching words that aren't capitalized in the same way. "
   ]
  },
  {
   "cell_type": "code",
   "execution_count": null,
   "id": "5dc2acf1-fed2-4bd6-a44c-c9b6e4f014d5",
   "metadata": {
    "scrolled": true
   },
   "outputs": [],
   "source": [
    "lyrics_df['lyrics_processed'] =  lyrics_df.lyrics.str.lower()\n",
    "lyrics_df.head()"
   ]
  },
  {
   "cell_type": "markdown",
   "id": "6d86da7d-dbee-44d8-aa2e-9becdcc94b7f",
   "metadata": {},
   "source": [
    "## Removing Punctuation and Tokenizing\n",
    "\n",
    "For some purposes, we might want to preserve punctuation. For example, if we wanted to be able to detect sentiment of text, we might want to keep exclamation points, because they signify something about the text. For our purposes, however, we will simply strip the punctuation so that it does not affect our analysis. \n",
    "\n",
    "We also want to separate text into individual tokens (generally individual words). To do this all of this, we'll use `RegexpTokenizer` to break apart individual words and identify tokens according to a regular expression. Here, we use the regular expression `\\w+`, which catches all \"words\" which contain letters or numbers. Anything that is not a number, such as punctuation or spaces, will not be included and be considered a separator between tokens."
   ]
  },
  {
   "cell_type": "code",
   "execution_count": null,
   "id": "25421c89-77fd-43e0-8044-20baaa0145c0",
   "metadata": {},
   "outputs": [],
   "source": [
    "tokenizer = RegexpTokenizer(r'\\w+')\n",
    "tokenizer"
   ]
  },
  {
   "cell_type": "markdown",
   "id": "762c7e1e-6990-4fe6-ad43-3eefb3c75874",
   "metadata": {},
   "source": [
    "Here's an example of tokenizing the lyrics for the first song and printing the first 50 words. Notice that contractions (\"I'm\") are split into separate terms here"
   ]
  },
  {
   "cell_type": "code",
   "execution_count": null,
   "id": "2b1afc24-0d0c-4ee0-84aa-c98dd5095c81",
   "metadata": {},
   "outputs": [],
   "source": [
    "print(tokenizer.tokenize(lyrics_df.lyrics_processed[0])[:50])"
   ]
  },
  {
   "cell_type": "markdown",
   "id": "83f03139-2cdd-47e0-9685-8572f4cf31f6",
   "metadata": {},
   "source": [
    "<font color ='red'>**Question 1: Apply the tokenizer to each  in `lyrics_df`. You should get a pandas Series of lists, with each list representing the tokenized abstract. Call this Series `bag_of_words`.**</font>\n"
   ]
  },
  {
   "cell_type": "code",
   "execution_count": null,
   "id": "f4ac5729-9c36-4acf-92fd-9700c25837ac",
   "metadata": {},
   "outputs": [],
   "source": [
    "###\n",
    "\n",
    "\n",
    "###"
   ]
  },
  {
   "cell_type": "markdown",
   "id": "fc30e770-5207-49b1-8206-1a18d0aaa00d",
   "metadata": {},
   "source": [
    "Now we'll put the processed texts in a data frame and use \"explode\" to unnest each series. "
   ]
  },
  {
   "cell_type": "code",
   "execution_count": null,
   "id": "2982b51d-b904-44f0-84ae-dd3506697230",
   "metadata": {},
   "outputs": [],
   "source": [
    "lyrics_and_data = pd.DataFrame({'lyrics_processed': bag_of_words, \n",
    "                               'genre': lyrics_df.genre,\n",
    "                               'artist' : lyrics_df.artists,\n",
    "                               'title' : lyrics_df.titles,\n",
    "                               'url' : lyrics_df.url\n",
    "                              }).explode('lyrics_processed')\n",
    "\n",
    "lyrics_and_data.head()"
   ]
  },
  {
   "cell_type": "markdown",
   "id": "ef342063-8fd4-48af-a39a-35e8813ed441",
   "metadata": {},
   "source": [
    "### Visualizing the Data\n",
    "\n",
    "Let's take a look at our data to see what types of words are most common. This is a common intermediate step that is used to simply get a sense for what is in our dataset. Remember, we are converting blocks of text into individual words to try to get a sense for what these songs are about. (you might notice that our results here are not especially informative)"
   ]
  },
  {
   "cell_type": "code",
   "execution_count": null,
   "id": "d8772404-4394-45a8-814b-527e26127f41",
   "metadata": {},
   "outputs": [],
   "source": [
    "top_ten_words = lyrics_and_data.lyrics_processed.value_counts().head(15)\n",
    "px.bar(top_ten_words[::-1], orientation = 'h',\n",
    "       labels = {'lyrics_processed':\"lyrics\",\n",
    "                 'value': 'count'\n",
    "               }\n",
    "      )"
   ]
  },
  {
   "cell_type": "markdown",
   "id": "8a7c43f9-8f9c-477b-afe3-4ee346496ccb",
   "metadata": {},
   "source": [
    "## Removing meaningless text - Stopwords\n",
    "\n",
    "Stopwords are words that are found commonly throughout a text and carry little semantic meaning. Examples of common stopwords are prepositions (\"to\", \"on\", \"in\"), articles (\"the\", \"an\", \"a\"), conjunctions (\"and\", \"or\", \"but\") and common nouns. For example, the words *the* and *of* are totally ubiquitous, so they won't serve as meaningful features, whether to distinguish documents from each other or to tell what a given document is about. You may also run into words that you want to remove based on where you obtained your corpus of text or what it's about. There are many lists of common stopwords available for you to use, both for general documents and for specific contexts, so you don't have to start from scratch.   \n",
    "\n",
    "We can eliminate stopwords by checking all the words in our corpus against a list of commonly occuring stopwords that comes with NLTK."
   ]
  },
  {
   "cell_type": "code",
   "execution_count": null,
   "id": "7b559ec3-8565-4d87-8ac5-eb7b3da04e6c",
   "metadata": {},
   "outputs": [],
   "source": [
    "nltk.download('stopwords')"
   ]
  },
  {
   "cell_type": "code",
   "execution_count": null,
   "id": "05071bf9-f1ce-476b-a5d0-167b5f631a7b",
   "metadata": {},
   "outputs": [],
   "source": [
    "stop = stopwords.words('english')\n",
    "stop[0:10]"
   ]
  },
  {
   "cell_type": "code",
   "execution_count": null,
   "id": "055f2f15-ffb6-4821-91d4-dc6c026f95d9",
   "metadata": {},
   "outputs": [],
   "source": [
    "lyrics_and_data['stopword'] = lyrics_and_data.lyrics_processed.isin(stop)"
   ]
  },
  {
   "cell_type": "code",
   "execution_count": null,
   "id": "a6ad5ddb-459e-4a92-864a-06483681c7f8",
   "metadata": {},
   "outputs": [],
   "source": [
    "# viewing the result\n",
    "lyrics_and_data.head()\n"
   ]
  },
  {
   "cell_type": "markdown",
   "id": "76adaa0d-add0-4ea3-a662-b59f51ec65e2",
   "metadata": {},
   "source": [
    "<font color ='red'>**Question 2: Make a plotly bar chart showing the top 15 terms excluding stopwords**</font>"
   ]
  },
  {
   "cell_type": "code",
   "execution_count": null,
   "id": "cf0b5918-dc0f-4785-ba02-f956c9853a1d",
   "metadata": {},
   "outputs": [],
   "source": []
  },
  {
   "cell_type": "markdown",
   "id": "05cba03a-0d18-46ec-a674-edfa0fd73682",
   "metadata": {},
   "source": [
    "We'll go ahead and filter out the stopwords entirely for the next part of the analysis."
   ]
  },
  {
   "cell_type": "code",
   "execution_count": 219,
   "id": "810e3952-ba53-4a5f-b657-bc9747eea605",
   "metadata": {},
   "outputs": [],
   "source": [
    "lyrics_filtered = lyrics_and_data[lyrics_and_data.stopword==False].drop(columns='stopword')"
   ]
  },
  {
   "cell_type": "markdown",
   "id": "929446eb-5ed0-4b7e-ab81-1aea69a8f0ac",
   "metadata": {},
   "source": [
    "## Stemming or Lemmatization - Distilling text data\n",
    "\n",
    "We'll usually try to simplify our bag-of-words analysis by grouping together different inflections of the same terms. Word-endings that indicate things like pluralization and tense are useful in the context of human communication, but they're not informative when we're trying to do things like identify the topic or tone of a text.\n",
    "\n",
    "There are two common approaches to this kind of normalization: \n",
    "\n",
    "- **Lemmatization** uses parts-of-speech and context clues to convert words to their basic dictionary form. \n",
    "- **Stemming** uses some simple hueristics to remove word inflections. \n",
    "\n",
    "Stemming is more error-prone than lemmatization, and sometimes results in words that you won't find in a dictionary, but it has the advantage of being much faster because it relies in simple rules whereas lemmatization considers word context and parts-of-speech. \n",
    "\n",
    "There are multiple stemming algorithms with different rule sets and differing strengths and weaknesses. In this notebook, we'll use the Snowball Stemmer. You'll notice this works pretty well for many words, but gives odd results for others:"
   ]
  },
  {
   "cell_type": "code",
   "execution_count": null,
   "id": "ef421224-bfd4-4105-b96d-4045e4fd1c01",
   "metadata": {},
   "outputs": [],
   "source": [
    "# load the stemming algorthim\n",
    "stemmer = SnowballStemmer(\"english\")"
   ]
  },
  {
   "cell_type": "code",
   "execution_count": 235,
   "id": "a437bca9-5ee4-489a-b783-73b446827e0e",
   "metadata": {},
   "outputs": [
    {
     "name": "stdout",
     "output_type": "stream",
     "text": [
      "['lie', 'fisherman', 'chang', 'systemat', 'stapl', 'catlik', 'argument', 'alphabet']\n"
     ]
    }
   ],
   "source": [
    "# apply it to some terms\n",
    "forms = ['lying', 'fisherman', 'change', 'systematic', 'stapled', 'catlike', 'argument', 'alphabetical']\n",
    "print([stemmer.stem(i) for i in forms])\n"
   ]
  },
  {
   "cell_type": "code",
   "execution_count": 236,
   "id": "d345a733-54bd-440f-bffe-7841bc5db5c5",
   "metadata": {},
   "outputs": [
    {
     "data": {
      "text/html": [
       "<div>\n",
       "<style scoped>\n",
       "    .dataframe tbody tr th:only-of-type {\n",
       "        vertical-align: middle;\n",
       "    }\n",
       "\n",
       "    .dataframe tbody tr th {\n",
       "        vertical-align: top;\n",
       "    }\n",
       "\n",
       "    .dataframe thead th {\n",
       "        text-align: right;\n",
       "    }\n",
       "</style>\n",
       "<table border=\"1\" class=\"dataframe\">\n",
       "  <thead>\n",
       "    <tr style=\"text-align: right;\">\n",
       "      <th></th>\n",
       "      <th>lyrics_processed</th>\n",
       "      <th>genre</th>\n",
       "      <th>artist</th>\n",
       "      <th>title</th>\n",
       "      <th>url</th>\n",
       "      <th>lyrics_stemmed</th>\n",
       "    </tr>\n",
       "  </thead>\n",
       "  <tbody>\n",
       "    <tr>\n",
       "      <th>0</th>\n",
       "      <td>look</td>\n",
       "      <td>rap</td>\n",
       "      <td>Eminem</td>\n",
       "      <td>Rap God</td>\n",
       "      <td>https://genius.com/Eminem-rap-god-lyrics</td>\n",
       "      <td>look</td>\n",
       "    </tr>\n",
       "    <tr>\n",
       "      <th>0</th>\n",
       "      <td>gonna</td>\n",
       "      <td>rap</td>\n",
       "      <td>Eminem</td>\n",
       "      <td>Rap God</td>\n",
       "      <td>https://genius.com/Eminem-rap-god-lyrics</td>\n",
       "      <td>gonna</td>\n",
       "    </tr>\n",
       "    <tr>\n",
       "      <th>0</th>\n",
       "      <td>go</td>\n",
       "      <td>rap</td>\n",
       "      <td>Eminem</td>\n",
       "      <td>Rap God</td>\n",
       "      <td>https://genius.com/Eminem-rap-god-lyrics</td>\n",
       "      <td>go</td>\n",
       "    </tr>\n",
       "    <tr>\n",
       "      <th>0</th>\n",
       "      <td>easy</td>\n",
       "      <td>rap</td>\n",
       "      <td>Eminem</td>\n",
       "      <td>Rap God</td>\n",
       "      <td>https://genius.com/Eminem-rap-god-lyrics</td>\n",
       "      <td>easi</td>\n",
       "    </tr>\n",
       "    <tr>\n",
       "      <th>0</th>\n",
       "      <td>hurt</td>\n",
       "      <td>rap</td>\n",
       "      <td>Eminem</td>\n",
       "      <td>Rap God</td>\n",
       "      <td>https://genius.com/Eminem-rap-god-lyrics</td>\n",
       "      <td>hurt</td>\n",
       "    </tr>\n",
       "    <tr>\n",
       "      <th>0</th>\n",
       "      <td>feelings</td>\n",
       "      <td>rap</td>\n",
       "      <td>Eminem</td>\n",
       "      <td>Rap God</td>\n",
       "      <td>https://genius.com/Eminem-rap-god-lyrics</td>\n",
       "      <td>feel</td>\n",
       "    </tr>\n",
       "    <tr>\n",
       "      <th>0</th>\n",
       "      <td>going</td>\n",
       "      <td>rap</td>\n",
       "      <td>Eminem</td>\n",
       "      <td>Rap God</td>\n",
       "      <td>https://genius.com/Eminem-rap-god-lyrics</td>\n",
       "      <td>go</td>\n",
       "    </tr>\n",
       "    <tr>\n",
       "      <th>0</th>\n",
       "      <td>get</td>\n",
       "      <td>rap</td>\n",
       "      <td>Eminem</td>\n",
       "      <td>Rap God</td>\n",
       "      <td>https://genius.com/Eminem-rap-god-lyrics</td>\n",
       "      <td>get</td>\n",
       "    </tr>\n",
       "    <tr>\n",
       "      <th>0</th>\n",
       "      <td>one</td>\n",
       "      <td>rap</td>\n",
       "      <td>Eminem</td>\n",
       "      <td>Rap God</td>\n",
       "      <td>https://genius.com/Eminem-rap-god-lyrics</td>\n",
       "      <td>one</td>\n",
       "    </tr>\n",
       "    <tr>\n",
       "      <th>0</th>\n",
       "      <td>chance</td>\n",
       "      <td>rap</td>\n",
       "      <td>Eminem</td>\n",
       "      <td>Rap God</td>\n",
       "      <td>https://genius.com/Eminem-rap-god-lyrics</td>\n",
       "      <td>chanc</td>\n",
       "    </tr>\n",
       "    <tr>\n",
       "      <th>0</th>\n",
       "      <td>six</td>\n",
       "      <td>rap</td>\n",
       "      <td>Eminem</td>\n",
       "      <td>Rap God</td>\n",
       "      <td>https://genius.com/Eminem-rap-god-lyrics</td>\n",
       "      <td>six</td>\n",
       "    </tr>\n",
       "    <tr>\n",
       "      <th>0</th>\n",
       "      <td>minutes</td>\n",
       "      <td>rap</td>\n",
       "      <td>Eminem</td>\n",
       "      <td>Rap God</td>\n",
       "      <td>https://genius.com/Eminem-rap-god-lyrics</td>\n",
       "      <td>minut</td>\n",
       "    </tr>\n",
       "    <tr>\n",
       "      <th>0</th>\n",
       "      <td>six</td>\n",
       "      <td>rap</td>\n",
       "      <td>Eminem</td>\n",
       "      <td>Rap God</td>\n",
       "      <td>https://genius.com/Eminem-rap-god-lyrics</td>\n",
       "      <td>six</td>\n",
       "    </tr>\n",
       "    <tr>\n",
       "      <th>0</th>\n",
       "      <td>minutes</td>\n",
       "      <td>rap</td>\n",
       "      <td>Eminem</td>\n",
       "      <td>Rap God</td>\n",
       "      <td>https://genius.com/Eminem-rap-god-lyrics</td>\n",
       "      <td>minut</td>\n",
       "    </tr>\n",
       "    <tr>\n",
       "      <th>0</th>\n",
       "      <td>something</td>\n",
       "      <td>rap</td>\n",
       "      <td>Eminem</td>\n",
       "      <td>Rap God</td>\n",
       "      <td>https://genius.com/Eminem-rap-god-lyrics</td>\n",
       "      <td>someth</td>\n",
       "    </tr>\n",
       "  </tbody>\n",
       "</table>\n",
       "</div>"
      ],
      "text/plain": [
       "  lyrics_processed genre  artist    title  \\\n",
       "0             look   rap  Eminem  Rap God   \n",
       "0            gonna   rap  Eminem  Rap God   \n",
       "0               go   rap  Eminem  Rap God   \n",
       "0             easy   rap  Eminem  Rap God   \n",
       "0             hurt   rap  Eminem  Rap God   \n",
       "0         feelings   rap  Eminem  Rap God   \n",
       "0            going   rap  Eminem  Rap God   \n",
       "0              get   rap  Eminem  Rap God   \n",
       "0              one   rap  Eminem  Rap God   \n",
       "0           chance   rap  Eminem  Rap God   \n",
       "0              six   rap  Eminem  Rap God   \n",
       "0          minutes   rap  Eminem  Rap God   \n",
       "0              six   rap  Eminem  Rap God   \n",
       "0          minutes   rap  Eminem  Rap God   \n",
       "0        something   rap  Eminem  Rap God   \n",
       "\n",
       "                                        url lyrics_stemmed  \n",
       "0  https://genius.com/Eminem-rap-god-lyrics           look  \n",
       "0  https://genius.com/Eminem-rap-god-lyrics          gonna  \n",
       "0  https://genius.com/Eminem-rap-god-lyrics             go  \n",
       "0  https://genius.com/Eminem-rap-god-lyrics           easi  \n",
       "0  https://genius.com/Eminem-rap-god-lyrics           hurt  \n",
       "0  https://genius.com/Eminem-rap-god-lyrics           feel  \n",
       "0  https://genius.com/Eminem-rap-god-lyrics             go  \n",
       "0  https://genius.com/Eminem-rap-god-lyrics            get  \n",
       "0  https://genius.com/Eminem-rap-god-lyrics            one  \n",
       "0  https://genius.com/Eminem-rap-god-lyrics          chanc  \n",
       "0  https://genius.com/Eminem-rap-god-lyrics            six  \n",
       "0  https://genius.com/Eminem-rap-god-lyrics          minut  \n",
       "0  https://genius.com/Eminem-rap-god-lyrics            six  \n",
       "0  https://genius.com/Eminem-rap-god-lyrics          minut  \n",
       "0  https://genius.com/Eminem-rap-god-lyrics         someth  "
      ]
     },
     "execution_count": 236,
     "metadata": {},
     "output_type": "execute_result"
    }
   ],
   "source": [
    "#applying the snowball stemmer to the lyrics data\n",
    "lyrics_filtered['lyrics_stemmed'] = lyrics_filtered.lyrics_processed.apply(stemmer.stem)\n",
    "lyrics_filtered.head(n=15)"
   ]
  },
  {
   "cell_type": "markdown",
   "id": "a2a1a0e9-12bf-4fff-95fb-d26898866d95",
   "metadata": {},
   "source": [
    "<font color ='red'>**Question 3: Try stemming using an alternative stemmer: the Lancaster stemmer. How does it differ from the Snowball Stemmer?**</font>\n"
   ]
  },
  {
   "cell_type": "code",
   "execution_count": 237,
   "id": "30b59ea5-0f23-4af8-8a34-44b227ad05d0",
   "metadata": {
    "scrolled": true
   },
   "outputs": [
    {
     "name": "stdout",
     "output_type": "stream",
     "text": [
      "['lying', 'fisherm', 'chang', 'system', 'stapl', 'catlik', 'argu', 'alphabet']\n"
     ]
    }
   ],
   "source": [
    "lancaster = LancasterStemmer()\n",
    "\n",
    "print([lancaster.stem(i) for i in forms])\n",
    "\n"
   ]
  },
  {
   "cell_type": "markdown",
   "id": "6eb6291e-db37-441a-9429-820c37a5780f",
   "metadata": {},
   "source": [
    "# Terms by genre\n",
    "\n",
    "\n",
    "Now, we'll try calculating the top words separately for each genre. "
   ]
  },
  {
   "cell_type": "code",
   "execution_count": null,
   "id": "809246c1-2737-4f77-bec2-abbed0ae9cda",
   "metadata": {},
   "outputs": [],
   "source": []
  },
  {
   "cell_type": "code",
   "execution_count": 243,
   "id": "9cd6baf3-7018-4857-a4d0-d35c654f04fe",
   "metadata": {
    "tags": []
   },
   "outputs": [],
   "source": [
    "top_words =lyrics_filtered.value_counts('lyrics_stemmed').head(10)\n",
    "terms_by_genre = pd.crosstab(lyrics_filtered.lyrics_stemmed, lyrics_filtered.genre, normalize='columns')\n",
    "\n"
   ]
  },
  {
   "cell_type": "markdown",
   "id": "b474b532-3e2f-45a2-ba90-80eaeaa439b8",
   "metadata": {},
   "source": [
    "Let's keep only the most frequent words so that we don't have too many to look at at once."
   ]
  },
  {
   "cell_type": "code",
   "execution_count": 239,
   "id": "26a13512-695d-4294-9407-516567290afe",
   "metadata": {},
   "outputs": [
    {
     "data": {
      "text/html": [
       "<div>\n",
       "<style scoped>\n",
       "    .dataframe tbody tr th:only-of-type {\n",
       "        vertical-align: middle;\n",
       "    }\n",
       "\n",
       "    .dataframe tbody tr th {\n",
       "        vertical-align: top;\n",
       "    }\n",
       "\n",
       "    .dataframe thead th {\n",
       "        text-align: right;\n",
       "    }\n",
       "</style>\n",
       "<table border=\"1\" class=\"dataframe\">\n",
       "  <thead>\n",
       "    <tr style=\"text-align: right;\">\n",
       "      <th>genre</th>\n",
       "      <th>country</th>\n",
       "      <th>pop</th>\n",
       "      <th>rap</th>\n",
       "      <th>rb</th>\n",
       "      <th>rock</th>\n",
       "    </tr>\n",
       "    <tr>\n",
       "      <th>lyrics_stemmed</th>\n",
       "      <th></th>\n",
       "      <th></th>\n",
       "      <th></th>\n",
       "      <th></th>\n",
       "      <th></th>\n",
       "    </tr>\n",
       "  </thead>\n",
       "  <tbody>\n",
       "    <tr>\n",
       "      <th>one</th>\n",
       "      <td>0.007419</td>\n",
       "      <td>0.007995</td>\n",
       "      <td>0.006765</td>\n",
       "      <td>0.007790</td>\n",
       "      <td>0.006216</td>\n",
       "    </tr>\n",
       "    <tr>\n",
       "      <th>go</th>\n",
       "      <td>0.007029</td>\n",
       "      <td>0.009945</td>\n",
       "      <td>0.006840</td>\n",
       "      <td>0.007946</td>\n",
       "      <td>0.010686</td>\n",
       "    </tr>\n",
       "    <tr>\n",
       "      <th>ooh</th>\n",
       "      <td>0.014447</td>\n",
       "      <td>0.008424</td>\n",
       "      <td>0.005542</td>\n",
       "      <td>0.006850</td>\n",
       "      <td>0.012050</td>\n",
       "    </tr>\n",
       "    <tr>\n",
       "      <th>get</th>\n",
       "      <td>0.007809</td>\n",
       "      <td>0.010101</td>\n",
       "      <td>0.011708</td>\n",
       "      <td>0.008808</td>\n",
       "      <td>0.009105</td>\n",
       "    </tr>\n",
       "    <tr>\n",
       "      <th>got</th>\n",
       "      <td>0.005857</td>\n",
       "      <td>0.010725</td>\n",
       "      <td>0.012407</td>\n",
       "      <td>0.010921</td>\n",
       "      <td>0.006761</td>\n",
       "    </tr>\n",
       "    <tr>\n",
       "      <th>love</th>\n",
       "      <td>0.010022</td>\n",
       "      <td>0.016029</td>\n",
       "      <td>0.006416</td>\n",
       "      <td>0.014523</td>\n",
       "      <td>0.010523</td>\n",
       "    </tr>\n",
       "    <tr>\n",
       "      <th>know</th>\n",
       "      <td>0.014578</td>\n",
       "      <td>0.015873</td>\n",
       "      <td>0.012457</td>\n",
       "      <td>0.017420</td>\n",
       "      <td>0.011177</td>\n",
       "    </tr>\n",
       "    <tr>\n",
       "      <th>yeah</th>\n",
       "      <td>0.005792</td>\n",
       "      <td>0.018330</td>\n",
       "      <td>0.017575</td>\n",
       "      <td>0.019807</td>\n",
       "      <td>0.013522</td>\n",
       "    </tr>\n",
       "    <tr>\n",
       "      <th>like</th>\n",
       "      <td>0.014057</td>\n",
       "      <td>0.016848</td>\n",
       "      <td>0.016427</td>\n",
       "      <td>0.018202</td>\n",
       "      <td>0.013413</td>\n",
       "    </tr>\n",
       "    <tr>\n",
       "      <th>oh</th>\n",
       "      <td>0.016725</td>\n",
       "      <td>0.024141</td>\n",
       "      <td>0.007489</td>\n",
       "      <td>0.022391</td>\n",
       "      <td>0.019846</td>\n",
       "    </tr>\n",
       "  </tbody>\n",
       "</table>\n",
       "</div>"
      ],
      "text/plain": [
       "genre            country       pop       rap        rb      rock\n",
       "lyrics_stemmed                                                  \n",
       "one             0.007419  0.007995  0.006765  0.007790  0.006216\n",
       "go              0.007029  0.009945  0.006840  0.007946  0.010686\n",
       "ooh             0.014447  0.008424  0.005542  0.006850  0.012050\n",
       "get             0.007809  0.010101  0.011708  0.008808  0.009105\n",
       "got             0.005857  0.010725  0.012407  0.010921  0.006761\n",
       "love            0.010022  0.016029  0.006416  0.014523  0.010523\n",
       "know            0.014578  0.015873  0.012457  0.017420  0.011177\n",
       "yeah            0.005792  0.018330  0.017575  0.019807  0.013522\n",
       "like            0.014057  0.016848  0.016427  0.018202  0.013413\n",
       "oh              0.016725  0.024141  0.007489  0.022391  0.019846"
      ]
     },
     "execution_count": 239,
     "metadata": {},
     "output_type": "execute_result"
    }
   ],
   "source": [
    "top_words_by_genre = terms_by_genre.loc[top_words.index[::-1],:]\n",
    "top_words_by_genre"
   ]
  },
  {
   "cell_type": "code",
   "execution_count": 240,
   "id": "e6d882f7-a086-45d7-948f-bfa2b052ee91",
   "metadata": {},
   "outputs": [],
   "source": [
    "# could also do top terms separately for each genre with this slightly messy code: \n",
    "#terms_by_genre_long = terms_by_genre.melt(ignore_index=False).sort_values(by='value', ascending=False).groupby('genre').head(n=5)\n",
    "#terms_by_genre_long"
   ]
  },
  {
   "cell_type": "code",
   "execution_count": 241,
   "id": "b262eadf-950c-483e-a4c5-33374b0a33ad",
   "metadata": {
    "tags": []
   },
   "outputs": [
    {
     "data": {
      "application/vnd.plotly.v1+json": {
       "config": {
        "plotlyServerURL": "https://plot.ly"
       },
       "data": [
        {
         "alignmentgroup": "True",
         "hovertemplate": "genre=country<br>lyric=%{x}<br>proportion of all terms=%{y}<extra></extra>",
         "legendgroup": "country",
         "marker": {
          "color": "#636efa",
          "pattern": {
           "shape": ""
          }
         },
         "name": "country",
         "offsetgroup": "country",
         "orientation": "v",
         "showlegend": true,
         "textposition": "auto",
         "type": "bar",
         "x": [
          "one",
          "go",
          "ooh",
          "get",
          "got",
          "love",
          "know",
          "yeah",
          "like",
          "oh"
         ],
         "xaxis": "x",
         "y": [
          0.00741897696212417,
          0.007028504490433424,
          0.014447481452557595,
          0.007809449433814916,
          0.005857087075361187,
          0.010022126773395808,
          0.014577638943121177,
          0.005792008330079396,
          0.014057008980866849,
          0.01672523753742028
         ],
         "yaxis": "y"
        },
        {
         "alignmentgroup": "True",
         "hovertemplate": "genre=pop<br>lyric=%{x}<br>proportion of all terms=%{y}<extra></extra>",
         "legendgroup": "pop",
         "marker": {
          "color": "#EF553B",
          "pattern": {
           "shape": ""
          }
         },
         "name": "pop",
         "offsetgroup": "pop",
         "orientation": "v",
         "showlegend": true,
         "textposition": "auto",
         "type": "bar",
         "x": [
          "one",
          "go",
          "ooh",
          "get",
          "got",
          "love",
          "know",
          "yeah",
          "like",
          "oh"
         ],
         "xaxis": "x",
         "y": [
          0.007995007995007995,
          0.009945009945009945,
          0.008424008424008424,
          0.010101010101010102,
          0.010725010725010725,
          0.01602901602901603,
          0.015873015873015872,
          0.01833001833001833,
          0.016848016848016848,
          0.02414102414102414
         ],
         "yaxis": "y"
        },
        {
         "alignmentgroup": "True",
         "hovertemplate": "genre=rap<br>lyric=%{x}<br>proportion of all terms=%{y}<extra></extra>",
         "legendgroup": "rap",
         "marker": {
          "color": "#00cc96",
          "pattern": {
           "shape": ""
          }
         },
         "name": "rap",
         "offsetgroup": "rap",
         "orientation": "v",
         "showlegend": true,
         "textposition": "auto",
         "type": "bar",
         "x": [
          "one",
          "go",
          "ooh",
          "get",
          "got",
          "love",
          "know",
          "yeah",
          "like",
          "oh"
         ],
         "xaxis": "x",
         "y": [
          0.006765359362907856,
          0.006840252639988017,
          0.005542102503931897,
          0.011708315650198467,
          0.012407319569613301,
          0.00641585740320044,
          0.012457248421000076,
          0.017574955688144395,
          0.016426592106248597,
          0.007489327708016077
         ],
         "yaxis": "y"
        },
        {
         "alignmentgroup": "True",
         "hovertemplate": "genre=rb<br>lyric=%{x}<br>proportion of all terms=%{y}<extra></extra>",
         "legendgroup": "rb",
         "marker": {
          "color": "#ab63fa",
          "pattern": {
           "shape": ""
          }
         },
         "name": "rb",
         "offsetgroup": "rb",
         "orientation": "v",
         "showlegend": true,
         "textposition": "auto",
         "type": "bar",
         "x": [
          "one",
          "go",
          "ooh",
          "get",
          "got",
          "love",
          "know",
          "yeah",
          "like",
          "oh"
         ],
         "xaxis": "x",
         "y": [
          0.007789869255460737,
          0.007946449542002661,
          0.006850387536209191,
          0.008807641117983246,
          0.010921474986299225,
          0.014522821576763486,
          0.017419556877789087,
          0.019807406247553432,
          0.018202458310498708,
          0.022390980975495186
         ],
         "yaxis": "y"
        },
        {
         "alignmentgroup": "True",
         "hovertemplate": "genre=rock<br>lyric=%{x}<br>proportion of all terms=%{y}<extra></extra>",
         "legendgroup": "rock",
         "marker": {
          "color": "#FFA15A",
          "pattern": {
           "shape": ""
          }
         },
         "name": "rock",
         "offsetgroup": "rock",
         "orientation": "v",
         "showlegend": true,
         "textposition": "auto",
         "type": "bar",
         "x": [
          "one",
          "go",
          "ooh",
          "get",
          "got",
          "love",
          "know",
          "yeah",
          "like",
          "oh"
         ],
         "xaxis": "x",
         "y": [
          0.0062155825745597295,
          0.01068644021590971,
          0.012049506569979827,
          0.009105283245188375,
          0.006760809116187776,
          0.010522872253421297,
          0.011177144103374953,
          0.013521618232375552,
          0.013412572924049944,
          0.019846246115260893
         ],
         "yaxis": "y"
        }
       ],
       "layout": {
        "autosize": true,
        "barmode": "group",
        "legend": {
         "title": {
          "text": "genre"
         },
         "tracegroupgap": 0
        },
        "margin": {
         "t": 60
        },
        "template": {
         "data": {
          "bar": [
           {
            "error_x": {
             "color": "#2a3f5f"
            },
            "error_y": {
             "color": "#2a3f5f"
            },
            "marker": {
             "line": {
              "color": "#E5ECF6",
              "width": 0.5
             },
             "pattern": {
              "fillmode": "overlay",
              "size": 10,
              "solidity": 0.2
             }
            },
            "type": "bar"
           }
          ],
          "barpolar": [
           {
            "marker": {
             "line": {
              "color": "#E5ECF6",
              "width": 0.5
             },
             "pattern": {
              "fillmode": "overlay",
              "size": 10,
              "solidity": 0.2
             }
            },
            "type": "barpolar"
           }
          ],
          "carpet": [
           {
            "aaxis": {
             "endlinecolor": "#2a3f5f",
             "gridcolor": "white",
             "linecolor": "white",
             "minorgridcolor": "white",
             "startlinecolor": "#2a3f5f"
            },
            "baxis": {
             "endlinecolor": "#2a3f5f",
             "gridcolor": "white",
             "linecolor": "white",
             "minorgridcolor": "white",
             "startlinecolor": "#2a3f5f"
            },
            "type": "carpet"
           }
          ],
          "choropleth": [
           {
            "colorbar": {
             "outlinewidth": 0,
             "ticks": ""
            },
            "type": "choropleth"
           }
          ],
          "contour": [
           {
            "colorbar": {
             "outlinewidth": 0,
             "ticks": ""
            },
            "colorscale": [
             [
              0,
              "#0d0887"
             ],
             [
              0.1111111111111111,
              "#46039f"
             ],
             [
              0.2222222222222222,
              "#7201a8"
             ],
             [
              0.3333333333333333,
              "#9c179e"
             ],
             [
              0.4444444444444444,
              "#bd3786"
             ],
             [
              0.5555555555555556,
              "#d8576b"
             ],
             [
              0.6666666666666666,
              "#ed7953"
             ],
             [
              0.7777777777777778,
              "#fb9f3a"
             ],
             [
              0.8888888888888888,
              "#fdca26"
             ],
             [
              1,
              "#f0f921"
             ]
            ],
            "type": "contour"
           }
          ],
          "contourcarpet": [
           {
            "colorbar": {
             "outlinewidth": 0,
             "ticks": ""
            },
            "type": "contourcarpet"
           }
          ],
          "heatmap": [
           {
            "colorbar": {
             "outlinewidth": 0,
             "ticks": ""
            },
            "colorscale": [
             [
              0,
              "#0d0887"
             ],
             [
              0.1111111111111111,
              "#46039f"
             ],
             [
              0.2222222222222222,
              "#7201a8"
             ],
             [
              0.3333333333333333,
              "#9c179e"
             ],
             [
              0.4444444444444444,
              "#bd3786"
             ],
             [
              0.5555555555555556,
              "#d8576b"
             ],
             [
              0.6666666666666666,
              "#ed7953"
             ],
             [
              0.7777777777777778,
              "#fb9f3a"
             ],
             [
              0.8888888888888888,
              "#fdca26"
             ],
             [
              1,
              "#f0f921"
             ]
            ],
            "type": "heatmap"
           }
          ],
          "heatmapgl": [
           {
            "colorbar": {
             "outlinewidth": 0,
             "ticks": ""
            },
            "colorscale": [
             [
              0,
              "#0d0887"
             ],
             [
              0.1111111111111111,
              "#46039f"
             ],
             [
              0.2222222222222222,
              "#7201a8"
             ],
             [
              0.3333333333333333,
              "#9c179e"
             ],
             [
              0.4444444444444444,
              "#bd3786"
             ],
             [
              0.5555555555555556,
              "#d8576b"
             ],
             [
              0.6666666666666666,
              "#ed7953"
             ],
             [
              0.7777777777777778,
              "#fb9f3a"
             ],
             [
              0.8888888888888888,
              "#fdca26"
             ],
             [
              1,
              "#f0f921"
             ]
            ],
            "type": "heatmapgl"
           }
          ],
          "histogram": [
           {
            "marker": {
             "pattern": {
              "fillmode": "overlay",
              "size": 10,
              "solidity": 0.2
             }
            },
            "type": "histogram"
           }
          ],
          "histogram2d": [
           {
            "colorbar": {
             "outlinewidth": 0,
             "ticks": ""
            },
            "colorscale": [
             [
              0,
              "#0d0887"
             ],
             [
              0.1111111111111111,
              "#46039f"
             ],
             [
              0.2222222222222222,
              "#7201a8"
             ],
             [
              0.3333333333333333,
              "#9c179e"
             ],
             [
              0.4444444444444444,
              "#bd3786"
             ],
             [
              0.5555555555555556,
              "#d8576b"
             ],
             [
              0.6666666666666666,
              "#ed7953"
             ],
             [
              0.7777777777777778,
              "#fb9f3a"
             ],
             [
              0.8888888888888888,
              "#fdca26"
             ],
             [
              1,
              "#f0f921"
             ]
            ],
            "type": "histogram2d"
           }
          ],
          "histogram2dcontour": [
           {
            "colorbar": {
             "outlinewidth": 0,
             "ticks": ""
            },
            "colorscale": [
             [
              0,
              "#0d0887"
             ],
             [
              0.1111111111111111,
              "#46039f"
             ],
             [
              0.2222222222222222,
              "#7201a8"
             ],
             [
              0.3333333333333333,
              "#9c179e"
             ],
             [
              0.4444444444444444,
              "#bd3786"
             ],
             [
              0.5555555555555556,
              "#d8576b"
             ],
             [
              0.6666666666666666,
              "#ed7953"
             ],
             [
              0.7777777777777778,
              "#fb9f3a"
             ],
             [
              0.8888888888888888,
              "#fdca26"
             ],
             [
              1,
              "#f0f921"
             ]
            ],
            "type": "histogram2dcontour"
           }
          ],
          "mesh3d": [
           {
            "colorbar": {
             "outlinewidth": 0,
             "ticks": ""
            },
            "type": "mesh3d"
           }
          ],
          "parcoords": [
           {
            "line": {
             "colorbar": {
              "outlinewidth": 0,
              "ticks": ""
             }
            },
            "type": "parcoords"
           }
          ],
          "pie": [
           {
            "automargin": true,
            "type": "pie"
           }
          ],
          "scatter": [
           {
            "fillpattern": {
             "fillmode": "overlay",
             "size": 10,
             "solidity": 0.2
            },
            "type": "scatter"
           }
          ],
          "scatter3d": [
           {
            "line": {
             "colorbar": {
              "outlinewidth": 0,
              "ticks": ""
             }
            },
            "marker": {
             "colorbar": {
              "outlinewidth": 0,
              "ticks": ""
             }
            },
            "type": "scatter3d"
           }
          ],
          "scattercarpet": [
           {
            "marker": {
             "colorbar": {
              "outlinewidth": 0,
              "ticks": ""
             }
            },
            "type": "scattercarpet"
           }
          ],
          "scattergeo": [
           {
            "marker": {
             "colorbar": {
              "outlinewidth": 0,
              "ticks": ""
             }
            },
            "type": "scattergeo"
           }
          ],
          "scattergl": [
           {
            "marker": {
             "colorbar": {
              "outlinewidth": 0,
              "ticks": ""
             }
            },
            "type": "scattergl"
           }
          ],
          "scattermapbox": [
           {
            "marker": {
             "colorbar": {
              "outlinewidth": 0,
              "ticks": ""
             }
            },
            "type": "scattermapbox"
           }
          ],
          "scatterpolar": [
           {
            "marker": {
             "colorbar": {
              "outlinewidth": 0,
              "ticks": ""
             }
            },
            "type": "scatterpolar"
           }
          ],
          "scatterpolargl": [
           {
            "marker": {
             "colorbar": {
              "outlinewidth": 0,
              "ticks": ""
             }
            },
            "type": "scatterpolargl"
           }
          ],
          "scatterternary": [
           {
            "marker": {
             "colorbar": {
              "outlinewidth": 0,
              "ticks": ""
             }
            },
            "type": "scatterternary"
           }
          ],
          "surface": [
           {
            "colorbar": {
             "outlinewidth": 0,
             "ticks": ""
            },
            "colorscale": [
             [
              0,
              "#0d0887"
             ],
             [
              0.1111111111111111,
              "#46039f"
             ],
             [
              0.2222222222222222,
              "#7201a8"
             ],
             [
              0.3333333333333333,
              "#9c179e"
             ],
             [
              0.4444444444444444,
              "#bd3786"
             ],
             [
              0.5555555555555556,
              "#d8576b"
             ],
             [
              0.6666666666666666,
              "#ed7953"
             ],
             [
              0.7777777777777778,
              "#fb9f3a"
             ],
             [
              0.8888888888888888,
              "#fdca26"
             ],
             [
              1,
              "#f0f921"
             ]
            ],
            "type": "surface"
           }
          ],
          "table": [
           {
            "cells": {
             "fill": {
              "color": "#EBF0F8"
             },
             "line": {
              "color": "white"
             }
            },
            "header": {
             "fill": {
              "color": "#C8D4E3"
             },
             "line": {
              "color": "white"
             }
            },
            "type": "table"
           }
          ]
         },
         "layout": {
          "annotationdefaults": {
           "arrowcolor": "#2a3f5f",
           "arrowhead": 0,
           "arrowwidth": 1
          },
          "autotypenumbers": "strict",
          "coloraxis": {
           "colorbar": {
            "outlinewidth": 0,
            "ticks": ""
           }
          },
          "colorscale": {
           "diverging": [
            [
             0,
             "#8e0152"
            ],
            [
             0.1,
             "#c51b7d"
            ],
            [
             0.2,
             "#de77ae"
            ],
            [
             0.3,
             "#f1b6da"
            ],
            [
             0.4,
             "#fde0ef"
            ],
            [
             0.5,
             "#f7f7f7"
            ],
            [
             0.6,
             "#e6f5d0"
            ],
            [
             0.7,
             "#b8e186"
            ],
            [
             0.8,
             "#7fbc41"
            ],
            [
             0.9,
             "#4d9221"
            ],
            [
             1,
             "#276419"
            ]
           ],
           "sequential": [
            [
             0,
             "#0d0887"
            ],
            [
             0.1111111111111111,
             "#46039f"
            ],
            [
             0.2222222222222222,
             "#7201a8"
            ],
            [
             0.3333333333333333,
             "#9c179e"
            ],
            [
             0.4444444444444444,
             "#bd3786"
            ],
            [
             0.5555555555555556,
             "#d8576b"
            ],
            [
             0.6666666666666666,
             "#ed7953"
            ],
            [
             0.7777777777777778,
             "#fb9f3a"
            ],
            [
             0.8888888888888888,
             "#fdca26"
            ],
            [
             1,
             "#f0f921"
            ]
           ],
           "sequentialminus": [
            [
             0,
             "#0d0887"
            ],
            [
             0.1111111111111111,
             "#46039f"
            ],
            [
             0.2222222222222222,
             "#7201a8"
            ],
            [
             0.3333333333333333,
             "#9c179e"
            ],
            [
             0.4444444444444444,
             "#bd3786"
            ],
            [
             0.5555555555555556,
             "#d8576b"
            ],
            [
             0.6666666666666666,
             "#ed7953"
            ],
            [
             0.7777777777777778,
             "#fb9f3a"
            ],
            [
             0.8888888888888888,
             "#fdca26"
            ],
            [
             1,
             "#f0f921"
            ]
           ]
          },
          "colorway": [
           "#636efa",
           "#EF553B",
           "#00cc96",
           "#ab63fa",
           "#FFA15A",
           "#19d3f3",
           "#FF6692",
           "#B6E880",
           "#FF97FF",
           "#FECB52"
          ],
          "font": {
           "color": "#2a3f5f"
          },
          "geo": {
           "bgcolor": "white",
           "lakecolor": "white",
           "landcolor": "#E5ECF6",
           "showlakes": true,
           "showland": true,
           "subunitcolor": "white"
          },
          "hoverlabel": {
           "align": "left"
          },
          "hovermode": "closest",
          "mapbox": {
           "style": "light"
          },
          "paper_bgcolor": "white",
          "plot_bgcolor": "#E5ECF6",
          "polar": {
           "angularaxis": {
            "gridcolor": "white",
            "linecolor": "white",
            "ticks": ""
           },
           "bgcolor": "#E5ECF6",
           "radialaxis": {
            "gridcolor": "white",
            "linecolor": "white",
            "ticks": ""
           }
          },
          "scene": {
           "xaxis": {
            "backgroundcolor": "#E5ECF6",
            "gridcolor": "white",
            "gridwidth": 2,
            "linecolor": "white",
            "showbackground": true,
            "ticks": "",
            "zerolinecolor": "white"
           },
           "yaxis": {
            "backgroundcolor": "#E5ECF6",
            "gridcolor": "white",
            "gridwidth": 2,
            "linecolor": "white",
            "showbackground": true,
            "ticks": "",
            "zerolinecolor": "white"
           },
           "zaxis": {
            "backgroundcolor": "#E5ECF6",
            "gridcolor": "white",
            "gridwidth": 2,
            "linecolor": "white",
            "showbackground": true,
            "ticks": "",
            "zerolinecolor": "white"
           }
          },
          "shapedefaults": {
           "line": {
            "color": "#2a3f5f"
           }
          },
          "ternary": {
           "aaxis": {
            "gridcolor": "white",
            "linecolor": "white",
            "ticks": ""
           },
           "baxis": {
            "gridcolor": "white",
            "linecolor": "white",
            "ticks": ""
           },
           "bgcolor": "#E5ECF6",
           "caxis": {
            "gridcolor": "white",
            "linecolor": "white",
            "ticks": ""
           }
          },
          "title": {
           "x": 0.05
          },
          "xaxis": {
           "automargin": true,
           "gridcolor": "white",
           "linecolor": "white",
           "ticks": "",
           "title": {
            "standoff": 15
           },
           "zerolinecolor": "white",
           "zerolinewidth": 2
          },
          "yaxis": {
           "automargin": true,
           "gridcolor": "white",
           "linecolor": "white",
           "ticks": "",
           "title": {
            "standoff": 15
           },
           "zerolinecolor": "white",
           "zerolinewidth": 2
          }
         }
        },
        "xaxis": {
         "anchor": "y",
         "autorange": true,
         "domain": [
          0,
          1
         ],
         "range": [
          -0.5,
          9.5
         ],
         "title": {
          "text": "lyric"
         },
         "type": "category"
        },
        "yaxis": {
         "anchor": "x",
         "autorange": true,
         "domain": [
          0,
          1
         ],
         "range": [
          0,
          0.02541160435897278
         ],
         "title": {
          "text": "proportion of all terms"
         },
         "type": "linear"
        }
       }
      },
      "image/png": "[encoded data removed]",
      "text/html": [
       "<div>                            <div id=\"28bbc6fd-d476-43ea-b205-5d092a27c740\" class=\"plotly-graph-div\" style=\"height:525px; width:100%;\"></div>            <script type=\"text/javascript\">                require([\"plotly\"], function(Plotly) {                    window.PLOTLYENV=window.PLOTLYENV || {};                                    if (document.getElementById(\"28bbc6fd-d476-43ea-b205-5d092a27c740\")) {                    Plotly.newPlot(                        \"28bbc6fd-d476-43ea-b205-5d092a27c740\",                        [{\"alignmentgroup\":\"True\",\"hovertemplate\":\"genre=country\\u003cbr\\u003elyric=%{x}\\u003cbr\\u003eproportion of all terms=%{y}\\u003cextra\\u003e\\u003c\\u002fextra\\u003e\",\"legendgroup\":\"country\",\"marker\":{\"color\":\"#636efa\",\"pattern\":{\"shape\":\"\"}},\"name\":\"country\",\"offsetgroup\":\"country\",\"orientation\":\"v\",\"showlegend\":true,\"textposition\":\"auto\",\"x\":[\"one\",\"go\",\"ooh\",\"get\",\"got\",\"love\",\"know\",\"yeah\",\"like\",\"oh\"],\"xaxis\":\"x\",\"y\":[0.00741897696212417,0.007028504490433424,0.014447481452557595,0.007809449433814916,0.005857087075361187,0.010022126773395808,0.014577638943121177,0.005792008330079396,0.014057008980866849,0.01672523753742028],\"yaxis\":\"y\",\"type\":\"bar\"},{\"alignmentgroup\":\"True\",\"hovertemplate\":\"genre=pop\\u003cbr\\u003elyric=%{x}\\u003cbr\\u003eproportion of all terms=%{y}\\u003cextra\\u003e\\u003c\\u002fextra\\u003e\",\"legendgroup\":\"pop\",\"marker\":{\"color\":\"#EF553B\",\"pattern\":{\"shape\":\"\"}},\"name\":\"pop\",\"offsetgroup\":\"pop\",\"orientation\":\"v\",\"showlegend\":true,\"textposition\":\"auto\",\"x\":[\"one\",\"go\",\"ooh\",\"get\",\"got\",\"love\",\"know\",\"yeah\",\"like\",\"oh\"],\"xaxis\":\"x\",\"y\":[0.007995007995007995,0.009945009945009945,0.008424008424008424,0.010101010101010102,0.010725010725010725,0.01602901602901603,0.015873015873015872,0.01833001833001833,0.016848016848016848,0.02414102414102414],\"yaxis\":\"y\",\"type\":\"bar\"},{\"alignmentgroup\":\"True\",\"hovertemplate\":\"genre=rap\\u003cbr\\u003elyric=%{x}\\u003cbr\\u003eproportion of all terms=%{y}\\u003cextra\\u003e\\u003c\\u002fextra\\u003e\",\"legendgroup\":\"rap\",\"marker\":{\"color\":\"#00cc96\",\"pattern\":{\"shape\":\"\"}},\"name\":\"rap\",\"offsetgroup\":\"rap\",\"orientation\":\"v\",\"showlegend\":true,\"textposition\":\"auto\",\"x\":[\"one\",\"go\",\"ooh\",\"get\",\"got\",\"love\",\"know\",\"yeah\",\"like\",\"oh\"],\"xaxis\":\"x\",\"y\":[0.006765359362907856,0.006840252639988017,0.005542102503931897,0.011708315650198467,0.012407319569613301,0.00641585740320044,0.012457248421000076,0.017574955688144395,0.016426592106248597,0.007489327708016077],\"yaxis\":\"y\",\"type\":\"bar\"},{\"alignmentgroup\":\"True\",\"hovertemplate\":\"genre=rb\\u003cbr\\u003elyric=%{x}\\u003cbr\\u003eproportion of all terms=%{y}\\u003cextra\\u003e\\u003c\\u002fextra\\u003e\",\"legendgroup\":\"rb\",\"marker\":{\"color\":\"#ab63fa\",\"pattern\":{\"shape\":\"\"}},\"name\":\"rb\",\"offsetgroup\":\"rb\",\"orientation\":\"v\",\"showlegend\":true,\"textposition\":\"auto\",\"x\":[\"one\",\"go\",\"ooh\",\"get\",\"got\",\"love\",\"know\",\"yeah\",\"like\",\"oh\"],\"xaxis\":\"x\",\"y\":[0.007789869255460737,0.007946449542002661,0.006850387536209191,0.008807641117983246,0.010921474986299225,0.014522821576763486,0.017419556877789087,0.019807406247553432,0.018202458310498708,0.022390980975495186],\"yaxis\":\"y\",\"type\":\"bar\"},{\"alignmentgroup\":\"True\",\"hovertemplate\":\"genre=rock\\u003cbr\\u003elyric=%{x}\\u003cbr\\u003eproportion of all terms=%{y}\\u003cextra\\u003e\\u003c\\u002fextra\\u003e\",\"legendgroup\":\"rock\",\"marker\":{\"color\":\"#FFA15A\",\"pattern\":{\"shape\":\"\"}},\"name\":\"rock\",\"offsetgroup\":\"rock\",\"orientation\":\"v\",\"showlegend\":true,\"textposition\":\"auto\",\"x\":[\"one\",\"go\",\"ooh\",\"get\",\"got\",\"love\",\"know\",\"yeah\",\"like\",\"oh\"],\"xaxis\":\"x\",\"y\":[0.0062155825745597295,0.01068644021590971,0.012049506569979827,0.009105283245188375,0.006760809116187776,0.010522872253421297,0.011177144103374953,0.013521618232375552,0.013412572924049944,0.019846246115260893],\"yaxis\":\"y\",\"type\":\"bar\"}],                        {\"template\":{\"data\":{\"histogram2dcontour\":[{\"type\":\"histogram2dcontour\",\"colorbar\":{\"outlinewidth\":0,\"ticks\":\"\"},\"colorscale\":[[0.0,\"#0d0887\"],[0.1111111111111111,\"#46039f\"],[0.2222222222222222,\"#7201a8\"],[0.3333333333333333,\"#9c179e\"],[0.4444444444444444,\"#bd3786\"],[0.5555555555555556,\"#d8576b\"],[0.6666666666666666,\"#ed7953\"],[0.7777777777777778,\"#fb9f3a\"],[0.8888888888888888,\"#fdca26\"],[1.0,\"#f0f921\"]]}],\"choropleth\":[{\"type\":\"choropleth\",\"colorbar\":{\"outlinewidth\":0,\"ticks\":\"\"}}],\"histogram2d\":[{\"type\":\"histogram2d\",\"colorbar\":{\"outlinewidth\":0,\"ticks\":\"\"},\"colorscale\":[[0.0,\"#0d0887\"],[0.1111111111111111,\"#46039f\"],[0.2222222222222222,\"#7201a8\"],[0.3333333333333333,\"#9c179e\"],[0.4444444444444444,\"#bd3786\"],[0.5555555555555556,\"#d8576b\"],[0.6666666666666666,\"#ed7953\"],[0.7777777777777778,\"#fb9f3a\"],[0.8888888888888888,\"#fdca26\"],[1.0,\"#f0f921\"]]}],\"heatmap\":[{\"type\":\"heatmap\",\"colorbar\":{\"outlinewidth\":0,\"ticks\":\"\"},\"colorscale\":[[0.0,\"#0d0887\"],[0.1111111111111111,\"#46039f\"],[0.2222222222222222,\"#7201a8\"],[0.3333333333333333,\"#9c179e\"],[0.4444444444444444,\"#bd3786\"],[0.5555555555555556,\"#d8576b\"],[0.6666666666666666,\"#ed7953\"],[0.7777777777777778,\"#fb9f3a\"],[0.8888888888888888,\"#fdca26\"],[1.0,\"#f0f921\"]]}],\"heatmapgl\":[{\"type\":\"heatmapgl\",\"colorbar\":{\"outlinewidth\":0,\"ticks\":\"\"},\"colorscale\":[[0.0,\"#0d0887\"],[0.1111111111111111,\"#46039f\"],[0.2222222222222222,\"#7201a8\"],[0.3333333333333333,\"#9c179e\"],[0.4444444444444444,\"#bd3786\"],[0.5555555555555556,\"#d8576b\"],[0.6666666666666666,\"#ed7953\"],[0.7777777777777778,\"#fb9f3a\"],[0.8888888888888888,\"#fdca26\"],[1.0,\"#f0f921\"]]}],\"contourcarpet\":[{\"type\":\"contourcarpet\",\"colorbar\":{\"outlinewidth\":0,\"ticks\":\"\"}}],\"contour\":[{\"type\":\"contour\",\"colorbar\":{\"outlinewidth\":0,\"ticks\":\"\"},\"colorscale\":[[0.0,\"#0d0887\"],[0.1111111111111111,\"#46039f\"],[0.2222222222222222,\"#7201a8\"],[0.3333333333333333,\"#9c179e\"],[0.4444444444444444,\"#bd3786\"],[0.5555555555555556,\"#d8576b\"],[0.6666666666666666,\"#ed7953\"],[0.7777777777777778,\"#fb9f3a\"],[0.8888888888888888,\"#fdca26\"],[1.0,\"#f0f921\"]]}],\"surface\":[{\"type\":\"surface\",\"colorbar\":{\"outlinewidth\":0,\"ticks\":\"\"},\"colorscale\":[[0.0,\"#0d0887\"],[0.1111111111111111,\"#46039f\"],[0.2222222222222222,\"#7201a8\"],[0.3333333333333333,\"#9c179e\"],[0.4444444444444444,\"#bd3786\"],[0.5555555555555556,\"#d8576b\"],[0.6666666666666666,\"#ed7953\"],[0.7777777777777778,\"#fb9f3a\"],[0.8888888888888888,\"#fdca26\"],[1.0,\"#f0f921\"]]}],\"mesh3d\":[{\"type\":\"mesh3d\",\"colorbar\":{\"outlinewidth\":0,\"ticks\":\"\"}}],\"scatter\":[{\"fillpattern\":{\"fillmode\":\"overlay\",\"size\":10,\"solidity\":0.2},\"type\":\"scatter\"}],\"parcoords\":[{\"type\":\"parcoords\",\"line\":{\"colorbar\":{\"outlinewidth\":0,\"ticks\":\"\"}}}],\"scatterpolargl\":[{\"type\":\"scatterpolargl\",\"marker\":{\"colorbar\":{\"outlinewidth\":0,\"ticks\":\"\"}}}],\"bar\":[{\"error_x\":{\"color\":\"#2a3f5f\"},\"error_y\":{\"color\":\"#2a3f5f\"},\"marker\":{\"line\":{\"color\":\"#E5ECF6\",\"width\":0.5},\"pattern\":{\"fillmode\":\"overlay\",\"size\":10,\"solidity\":0.2}},\"type\":\"bar\"}],\"scattergeo\":[{\"type\":\"scattergeo\",\"marker\":{\"colorbar\":{\"outlinewidth\":0,\"ticks\":\"\"}}}],\"scatterpolar\":[{\"type\":\"scatterpolar\",\"marker\":{\"colorbar\":{\"outlinewidth\":0,\"ticks\":\"\"}}}],\"histogram\":[{\"marker\":{\"pattern\":{\"fillmode\":\"overlay\",\"size\":10,\"solidity\":0.2}},\"type\":\"histogram\"}],\"scattergl\":[{\"type\":\"scattergl\",\"marker\":{\"colorbar\":{\"outlinewidth\":0,\"ticks\":\"\"}}}],\"scatter3d\":[{\"type\":\"scatter3d\",\"line\":{\"colorbar\":{\"outlinewidth\":0,\"ticks\":\"\"}},\"marker\":{\"colorbar\":{\"outlinewidth\":0,\"ticks\":\"\"}}}],\"scattermapbox\":[{\"type\":\"scattermapbox\",\"marker\":{\"colorbar\":{\"outlinewidth\":0,\"ticks\":\"\"}}}],\"scatterternary\":[{\"type\":\"scatterternary\",\"marker\":{\"colorbar\":{\"outlinewidth\":0,\"ticks\":\"\"}}}],\"scattercarpet\":[{\"type\":\"scattercarpet\",\"marker\":{\"colorbar\":{\"outlinewidth\":0,\"ticks\":\"\"}}}],\"carpet\":[{\"aaxis\":{\"endlinecolor\":\"#2a3f5f\",\"gridcolor\":\"white\",\"linecolor\":\"white\",\"minorgridcolor\":\"white\",\"startlinecolor\":\"#2a3f5f\"},\"baxis\":{\"endlinecolor\":\"#2a3f5f\",\"gridcolor\":\"white\",\"linecolor\":\"white\",\"minorgridcolor\":\"white\",\"startlinecolor\":\"#2a3f5f\"},\"type\":\"carpet\"}],\"table\":[{\"cells\":{\"fill\":{\"color\":\"#EBF0F8\"},\"line\":{\"color\":\"white\"}},\"header\":{\"fill\":{\"color\":\"#C8D4E3\"},\"line\":{\"color\":\"white\"}},\"type\":\"table\"}],\"barpolar\":[{\"marker\":{\"line\":{\"color\":\"#E5ECF6\",\"width\":0.5},\"pattern\":{\"fillmode\":\"overlay\",\"size\":10,\"solidity\":0.2}},\"type\":\"barpolar\"}],\"pie\":[{\"automargin\":true,\"type\":\"pie\"}]},\"layout\":{\"autotypenumbers\":\"strict\",\"colorway\":[\"#636efa\",\"#EF553B\",\"#00cc96\",\"#ab63fa\",\"#FFA15A\",\"#19d3f3\",\"#FF6692\",\"#B6E880\",\"#FF97FF\",\"#FECB52\"],\"font\":{\"color\":\"#2a3f5f\"},\"hovermode\":\"closest\",\"hoverlabel\":{\"align\":\"left\"},\"paper_bgcolor\":\"white\",\"plot_bgcolor\":\"#E5ECF6\",\"polar\":{\"bgcolor\":\"#E5ECF6\",\"angularaxis\":{\"gridcolor\":\"white\",\"linecolor\":\"white\",\"ticks\":\"\"},\"radialaxis\":{\"gridcolor\":\"white\",\"linecolor\":\"white\",\"ticks\":\"\"}},\"ternary\":{\"bgcolor\":\"#E5ECF6\",\"aaxis\":{\"gridcolor\":\"white\",\"linecolor\":\"white\",\"ticks\":\"\"},\"baxis\":{\"gridcolor\":\"white\",\"linecolor\":\"white\",\"ticks\":\"\"},\"caxis\":{\"gridcolor\":\"white\",\"linecolor\":\"white\",\"ticks\":\"\"}},\"coloraxis\":{\"colorbar\":{\"outlinewidth\":0,\"ticks\":\"\"}},\"colorscale\":{\"sequential\":[[0.0,\"#0d0887\"],[0.1111111111111111,\"#46039f\"],[0.2222222222222222,\"#7201a8\"],[0.3333333333333333,\"#9c179e\"],[0.4444444444444444,\"#bd3786\"],[0.5555555555555556,\"#d8576b\"],[0.6666666666666666,\"#ed7953\"],[0.7777777777777778,\"#fb9f3a\"],[0.8888888888888888,\"#fdca26\"],[1.0,\"#f0f921\"]],\"sequentialminus\":[[0.0,\"#0d0887\"],[0.1111111111111111,\"#46039f\"],[0.2222222222222222,\"#7201a8\"],[0.3333333333333333,\"#9c179e\"],[0.4444444444444444,\"#bd3786\"],[0.5555555555555556,\"#d8576b\"],[0.6666666666666666,\"#ed7953\"],[0.7777777777777778,\"#fb9f3a\"],[0.8888888888888888,\"#fdca26\"],[1.0,\"#f0f921\"]],\"diverging\":[[0,\"#8e0152\"],[0.1,\"#c51b7d\"],[0.2,\"#de77ae\"],[0.3,\"#f1b6da\"],[0.4,\"#fde0ef\"],[0.5,\"#f7f7f7\"],[0.6,\"#e6f5d0\"],[0.7,\"#b8e186\"],[0.8,\"#7fbc41\"],[0.9,\"#4d9221\"],[1,\"#276419\"]]},\"xaxis\":{\"gridcolor\":\"white\",\"linecolor\":\"white\",\"ticks\":\"\",\"title\":{\"standoff\":15},\"zerolinecolor\":\"white\",\"automargin\":true,\"zerolinewidth\":2},\"yaxis\":{\"gridcolor\":\"white\",\"linecolor\":\"white\",\"ticks\":\"\",\"title\":{\"standoff\":15},\"zerolinecolor\":\"white\",\"automargin\":true,\"zerolinewidth\":2},\"scene\":{\"xaxis\":{\"backgroundcolor\":\"#E5ECF6\",\"gridcolor\":\"white\",\"linecolor\":\"white\",\"showbackground\":true,\"ticks\":\"\",\"zerolinecolor\":\"white\",\"gridwidth\":2},\"yaxis\":{\"backgroundcolor\":\"#E5ECF6\",\"gridcolor\":\"white\",\"linecolor\":\"white\",\"showbackground\":true,\"ticks\":\"\",\"zerolinecolor\":\"white\",\"gridwidth\":2},\"zaxis\":{\"backgroundcolor\":\"#E5ECF6\",\"gridcolor\":\"white\",\"linecolor\":\"white\",\"showbackground\":true,\"ticks\":\"\",\"zerolinecolor\":\"white\",\"gridwidth\":2}},\"shapedefaults\":{\"line\":{\"color\":\"#2a3f5f\"}},\"annotationdefaults\":{\"arrowcolor\":\"#2a3f5f\",\"arrowhead\":0,\"arrowwidth\":1},\"geo\":{\"bgcolor\":\"white\",\"landcolor\":\"#E5ECF6\",\"subunitcolor\":\"white\",\"showland\":true,\"showlakes\":true,\"lakecolor\":\"white\"},\"title\":{\"x\":0.05},\"mapbox\":{\"style\":\"light\"}}},\"xaxis\":{\"anchor\":\"y\",\"domain\":[0.0,1.0],\"title\":{\"text\":\"lyric\"}},\"yaxis\":{\"anchor\":\"x\",\"domain\":[0.0,1.0],\"title\":{\"text\":\"proportion of all terms\"}},\"legend\":{\"title\":{\"text\":\"genre\"},\"tracegroupgap\":0},\"margin\":{\"t\":60},\"barmode\":\"group\"},                        {\"responsive\": true}                    ).then(function(){\n",
       "                            \n",
       "var gd = document.getElementById('28bbc6fd-d476-43ea-b205-5d092a27c740');\n",
       "var x = new MutationObserver(function (mutations, observer) {{\n",
       "        var display = window.getComputedStyle(gd).display;\n",
       "        if (!display || display === 'none') {{\n",
       "            console.log([gd, 'removed!']);\n",
       "            Plotly.purge(gd);\n",
       "            observer.disconnect();\n",
       "        }}\n",
       "}});\n",
       "\n",
       "// Listen for the removal of the full notebook cells\n",
       "var notebookContainer = gd.closest('#notebook-container');\n",
       "if (notebookContainer) {{\n",
       "    x.observe(notebookContainer, {childList: true});\n",
       "}}\n",
       "\n",
       "// Listen for the clearing of the current output cell\n",
       "var outputEl = gd.closest('.output');\n",
       "if (outputEl) {{\n",
       "    x.observe(outputEl, {childList: true});\n",
       "}}\n",
       "\n",
       "                        })                };                });            </script>        </div>"
      ]
     },
     "metadata": {},
     "output_type": "display_data"
    }
   ],
   "source": [
    "fig = px.bar(top_words_by_genre, \n",
    "             y = top_words_by_genre.columns, \n",
    "             x = top_words_by_genre.index, \n",
    "             barmode='group',\n",
    "       orientation = 'v', \n",
    "            labels = {'lyrics_stemmed': 'lyric',\n",
    "                      'value': 'proportion of all terms'\n",
    "                     }\n",
    "            )\n",
    "\n",
    "fig.show()"
   ]
  },
  {
   "cell_type": "markdown",
   "id": "6ce06a06-6e15-4ae5-b1a4-8d45932a8f56",
   "metadata": {},
   "source": [
    "<font color ='red'>**Question 4: The code below generates a table with the number of unique stemmed terms per song. Make a plot showing the distribution of the variable across each genre**</font>\n"
   ]
  },
  {
   "cell_type": "code",
   "execution_count": 255,
   "id": "254bcd19-bd96-4a93-88f4-b45392ba739d",
   "metadata": {},
   "outputs": [
    {
     "data": {
      "text/html": [
       "<div>\n",
       "<style scoped>\n",
       "    .dataframe tbody tr th:only-of-type {\n",
       "        vertical-align: middle;\n",
       "    }\n",
       "\n",
       "    .dataframe tbody tr th {\n",
       "        vertical-align: top;\n",
       "    }\n",
       "\n",
       "    .dataframe thead th {\n",
       "        text-align: right;\n",
       "    }\n",
       "</style>\n",
       "<table border=\"1\" class=\"dataframe\">\n",
       "  <thead>\n",
       "    <tr style=\"text-align: right;\">\n",
       "      <th></th>\n",
       "      <th>title</th>\n",
       "      <th>genre</th>\n",
       "      <th>artist</th>\n",
       "      <th>lyrics_stemmed</th>\n",
       "    </tr>\n",
       "  </thead>\n",
       "  <tbody>\n",
       "    <tr>\n",
       "      <th>0</th>\n",
       "      <td>1-800-273-8255</td>\n",
       "      <td>pop</td>\n",
       "      <td>Logic</td>\n",
       "      <td>93</td>\n",
       "    </tr>\n",
       "    <tr>\n",
       "      <th>1</th>\n",
       "      <td>1-800-273-8255</td>\n",
       "      <td>rap</td>\n",
       "      <td>Logic</td>\n",
       "      <td>93</td>\n",
       "    </tr>\n",
       "    <tr>\n",
       "      <th>2</th>\n",
       "      <td>1-800-273-8255</td>\n",
       "      <td>rb</td>\n",
       "      <td>Logic</td>\n",
       "      <td>93</td>\n",
       "    </tr>\n",
       "    <tr>\n",
       "      <th>3</th>\n",
       "      <td>10,000 Hours</td>\n",
       "      <td>country</td>\n",
       "      <td>Dan + Shay &amp; Justin Bieber</td>\n",
       "      <td>49</td>\n",
       "    </tr>\n",
       "    <tr>\n",
       "      <th>4</th>\n",
       "      <td>34+35</td>\n",
       "      <td>rb</td>\n",
       "      <td>Ariana Grande</td>\n",
       "      <td>107</td>\n",
       "    </tr>\n",
       "    <tr>\n",
       "      <th>...</th>\n",
       "      <td>...</td>\n",
       "      <td>...</td>\n",
       "      <td>...</td>\n",
       "      <td>...</td>\n",
       "    </tr>\n",
       "    <tr>\n",
       "      <th>495</th>\n",
       "      <td>​thanK you aIMee</td>\n",
       "      <td>country</td>\n",
       "      <td>Taylor Swift</td>\n",
       "      <td>112</td>\n",
       "    </tr>\n",
       "    <tr>\n",
       "      <th>496</th>\n",
       "      <td>​when the party’s over</td>\n",
       "      <td>pop</td>\n",
       "      <td>Billie Eilish</td>\n",
       "      <td>35</td>\n",
       "    </tr>\n",
       "    <tr>\n",
       "      <th>497</th>\n",
       "      <td>​when the party’s over</td>\n",
       "      <td>rb</td>\n",
       "      <td>Billie Eilish</td>\n",
       "      <td>35</td>\n",
       "    </tr>\n",
       "    <tr>\n",
       "      <th>498</th>\n",
       "      <td>’Till I Collapse</td>\n",
       "      <td>rap</td>\n",
       "      <td>Eminem</td>\n",
       "      <td>228</td>\n",
       "    </tr>\n",
       "    <tr>\n",
       "      <th>499</th>\n",
       "      <td>藤井 風 (Fujii Kaze) - 死ぬのがいいわ (Shinunoga E-Wa) (...</td>\n",
       "      <td>pop</td>\n",
       "      <td>Genius Romanizations</td>\n",
       "      <td>71</td>\n",
       "    </tr>\n",
       "  </tbody>\n",
       "</table>\n",
       "<p>500 rows × 4 columns</p>\n",
       "</div>"
      ],
      "text/plain": [
       "                                                 title    genre  \\\n",
       "0                                       1-800-273-8255      pop   \n",
       "1                                       1-800-273-8255      rap   \n",
       "2                                       1-800-273-8255       rb   \n",
       "3                                         10,000 Hours  country   \n",
       "4                                                34+35       rb   \n",
       "..                                                 ...      ...   \n",
       "495                                   ​thanK you aIMee  country   \n",
       "496                             ​when the party’s over      pop   \n",
       "497                             ​when the party’s over       rb   \n",
       "498                                   ’Till I Collapse      rap   \n",
       "499  藤井 風 (Fujii Kaze) - 死ぬのがいいわ (Shinunoga E-Wa) (...      pop   \n",
       "\n",
       "                         artist  lyrics_stemmed  \n",
       "0                         Logic              93  \n",
       "1                         Logic              93  \n",
       "2                         Logic              93  \n",
       "3    Dan + Shay & Justin Bieber              49  \n",
       "4                 Ariana Grande             107  \n",
       "..                          ...             ...  \n",
       "495                Taylor Swift             112  \n",
       "496               Billie Eilish              35  \n",
       "497               Billie Eilish              35  \n",
       "498                      Eminem             228  \n",
       "499        Genius Romanizations              71  \n",
       "\n",
       "[500 rows x 4 columns]"
      ]
     },
     "execution_count": 255,
     "metadata": {},
     "output_type": "execute_result"
    }
   ],
   "source": [
    "lyrics_counts = lyrics_filtered.groupby(['title', 'genre', 'artist'])['lyrics_stemmed'].nunique().reset_index()\n"
   ]
  },
  {
   "cell_type": "markdown",
   "id": "4795110d-925f-4624-9531-8d041c7fe470",
   "metadata": {},
   "source": [
    "# Extra stuff"
   ]
  },
  {
   "cell_type": "markdown",
   "id": "7c807f9e-c0a3-4c97-8c06-bf99563795eb",
   "metadata": {},
   "source": [
    "## Finding Key terms\n",
    "\n",
    "What terms are disproportionately likely to occur in a country music compared to other genres? There are a number of metrics used to calculate this stat, called \"keyness\". The code below uses the log base 2 ratio of proportions between two corpuses. Positive numbers indicate that a term is more associated with the \"target\" group, and negative numbers indicate that they're more strongly associated with the \"negative\" group.\n",
    "\n"
   ]
  },
  {
   "cell_type": "code",
   "execution_count": null,
   "id": "8fdb53fd-9ded-46fc-b26e-8ddd5473a65a",
   "metadata": {},
   "outputs": [],
   "source": [
    "import math\n",
    "target = lyrics_filtered.loc[lyrics_filtered['genre'] == 'country'].value_counts('lyrics_stemmed')\n",
    "baseline = lyrics_filtered.loc[lyrics_filtered['genre'] !='country'].value_counts('lyrics_stemmed')\n",
    "\n",
    "keyness = []\n",
    "target_total = sum(target)\n",
    "baseline_total = sum(baseline)\n",
    "norm = 1/ (baseline_total + target_total)\n",
    "combined =  target.index.union(baseline.index)\n",
    "# placing a minimum threshold on the total number of word occurrences\n",
    "minimum = 10\n",
    "\n",
    "for i in combined:\n",
    "    # adds a small value for terms that don't occur at all\n",
    "    target_count = target[i] if i in target.index else norm\n",
    "    baseline_count = baseline[i] if i in baseline.index else norm\n",
    "    if (baseline_count + target_count) < minimum: \n",
    "        continue\n",
    "    target_prop = ((target_count/target_total)) \n",
    "    baseline_prop = ((baseline_count/baseline_total)) \n",
    "    stats = {'term': i,\n",
    "             'count_target' : int(target_count),\n",
    "             'count_baseline': int(baseline_count),\n",
    "             'oddsratio': math.log2( target_prop/baseline_prop)}\n",
    "    keyness.append(stats)\n",
    "        \n",
    "\n",
    "# put the results in a data frame and sort them\n",
    "df=pd.DataFrame(keyness).sort_values('oddsratio', ascending=False)\n"
   ]
  },
  {
   "cell_type": "code",
   "execution_count": null,
   "id": "834c2e7f-8eb9-4e50-a5a3-a909dac08565",
   "metadata": {},
   "outputs": [],
   "source": [
    "df.head(15)"
   ]
  },
  {
   "cell_type": "code",
   "execution_count": null,
   "id": "5de61a07-e866-4141-a168-133814aead12",
   "metadata": {},
   "outputs": [],
   "source": [
    "# Wrapping it in a function definition\n",
    "\n",
    "def keyness(target, baseline, minimum=10):\n",
    "    \"\"\"\n",
    "    Given two sets of value counts, calculate keyness using the log 2 ratio of\n",
    "    term proportions. \n",
    "    \"\"\"\n",
    "    keyness = []\n",
    "    target_total = sum(target)\n",
    "    baseline_total = sum(baseline)\n",
    "    norm = 1/ (baseline_total + target_total)\n",
    "    combined =  target.index.union(baseline.index)\n",
    "    for i in combined:\n",
    "        # adds a small value if the term doesn't occur anywhere in the corpus\n",
    "        target_count = target[i] if i in target.index else norm\n",
    "        baseline_count = baseline[i] if i in baseline.index else norm\n",
    "        if (baseline_count + target_count) < minimum: \n",
    "            continue\n",
    "        target_prop = (target_count/target_total)\n",
    "        baseline_prop = (baseline_count/baseline_total)\n",
    "        stats = {'term': i,\n",
    "                 'count_target' : int(target_count),\n",
    "                 'count_baseline': int(baseline_count),\n",
    "                 'oddsratio': math.log2( target_prop/baseline_prop)}\n",
    "        keyness.append(stats)\n",
    "        \n",
    "\n",
    "        # put the results in a data frame and sort them\n",
    "    keydata=pd.DataFrame(keyness).sort_values('oddsratio', ascending=False)\n",
    "    return(keydata)\n",
    "\n",
    "\n"
   ]
  },
  {
   "cell_type": "code",
   "execution_count": null,
   "id": "9a27ca66-2e13-4d52-8891-e248928b46e2",
   "metadata": {},
   "outputs": [],
   "source": [
    "# what terms are most strongly associated with Drake? \n",
    "\n",
    "df=keyness(lyrics_filtered.loc[lyrics_filtered['artist'] == 'Drake'].value_counts('lyrics_stemmed'), \n",
    "           lyrics_filtered.loc[lyrics_filtered['artist']!='Drake'].value_counts('lyrics_stemmed'),\n",
    "           minimum= 5)\n",
    "\n",
    "df.head(15)"
   ]
  },
  {
   "cell_type": "markdown",
   "id": "bf8699be-0044-45bd-b7ed-ef63a83d4842",
   "metadata": {},
   "source": [
    "# Example of lemmatization\n",
    "\n",
    "This may be overkill for what we're doing here, but here's an example of using lemmatization instead of stemming for the song Old Town Road. You'll notice that the lemmatization is able to do things like convert \"to be\" verbs to their base form and separate contractions like \"can't\" into separate words.\n"
   ]
  },
  {
   "cell_type": "code",
   "execution_count": null,
   "id": "d1027752-be02-431e-85a7-0244c2097e58",
   "metadata": {},
   "outputs": [],
   "source": [
    "text = lyrics_df.loc[lyrics_df['titles'] == \"Old Town Road\", 'lyrics'].item()\n",
    "stemmer = SnowballStemmer(\"english\")"
   ]
  },
  {
   "cell_type": "code",
   "execution_count": null,
   "id": "6e3541dc-32a1-4490-93eb-6c29d7094da6",
   "metadata": {},
   "outputs": [],
   "source": [
    "import spacy\n",
    "nlp = spacy.load('en_core_web_sm')\n",
    " \n",
    "# Process the text using spaCy\n",
    "doc = nlp(text)\n",
    "\n",
    "# originals\n",
    "lowercase_tokens = [token.lower_ for token in doc]\n",
    "\n",
    "# stemmed\n",
    "stemmed_tokens = [stemmer.stem(token.lower_) for token in doc]\n",
    "\n",
    "# lemmatized\n",
    "lemmatized_tokens = [token.lemma_ for token in doc]\n"
   ]
  },
  {
   "cell_type": "code",
   "execution_count": null,
   "id": "f0b4283b-0cde-4a98-ac98-cd93df677677",
   "metadata": {},
   "outputs": [],
   "source": [
    "\n",
    "# putting it all in a data frame for comparison: \n",
    "\n",
    "pd.DataFrame({\"original\": lowercase_tokens, \n",
    "             \"stemmed\": stemmed_tokens,\n",
    "              \"lemma\": lemmatized_tokens\n",
    "             }).head(n = 25)\n",
    "\n"
   ]
  }
 ],
 "metadata": {
  "kernelspec": {
   "display_name": "Python 3 (ipykernel)",
   "language": "python",
   "name": "python3"
  },
  "language_info": {
   "codemirror_mode": {
    "name": "ipython",
    "version": 3
   },
   "file_extension": ".py",
   "mimetype": "text/x-python",
   "name": "python",
   "nbconvert_exporter": "python",
   "pygments_lexer": "ipython3",
   "version": "3.12.2"
  }
 },
 "nbformat": 4,
 "nbformat_minor": 5
}
