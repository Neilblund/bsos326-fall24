{
 "cells": [
  {
   "cell_type": "markdown",
   "id": "780734fc-062f-487b-9fa5-267f323b44b4",
   "metadata": {
    "tags": []
   },
   "source": [
    "# Interactive Visualizations\n",
    "\n",
    "Use **Code** cells to write and run any code you need to answer the question and **Markdown** cells to write out answers in words. After you are finished with the assignment, remember to download it as an **HTML file** and submit it in **ELMS**."
   ]
  },
  {
   "cell_type": "code",
   "execution_count": null,
   "id": "595cb5dc-3964-4828-ae33-a57ad0e6140b",
   "metadata": {},
   "outputs": [],
   "source": [
    "from requests import get\n",
    "\n",
    "import numpy as np \n",
    "import pandas as pd\n",
    "import matplotlib.pyplot as plt\n",
    "%matplotlib inline\n",
    "\n",
    "import seaborn as sns\n",
    "import plotly.express as px"
   ]
  },
  {
   "cell_type": "markdown",
   "id": "b19c49d2-993c-439e-a90f-a775f857aa0a",
   "metadata": {
    "tags": []
   },
   "source": [
    "## Dynamic Visualizations\n",
    "\n",
    "So far, we have only worked with static visualizations. That is, there were no moving pieces or changes that you would make to the graphs after they were made. These are the more traditional visualizations and most commonly used within reports (after all, you can't animate figures on a piece of paper ... at least not yet!).\n",
    "\n",
    "However, now that presentations and reports are distributed and accessed online much more frequently, the use of interactive, dynamic visualizations has grown. Dynamic visualizations can open up a whole new dimension and allow you to show relationships and trends more clearly than with a static visualization. In addition, they can be more flexible and allow for customization of different views of the data much more easily than creating any individual static visualizations.\n",
    "\n",
    "These interactive visualizations are typically used for:\n",
    "- Flexible custom views of the data\n",
    "- Creating dashboards and other data tools for non-technical users\n",
    "- Showing a time dimension that would be otherwise difficult to show\n",
    "- Making adjustments in real-time as data comes in\n",
    "- And more ...\n",
    "\n",
    "To start, we'll bring in some datasets to use within our figures."
   ]
  },
  {
   "cell_type": "code",
   "execution_count": null,
   "id": "2f3cacc3-4f51-4134-89bf-8bdefad7d561",
   "metadata": {},
   "outputs": [],
   "source": [
    "with open('census-key.txt', 'r') as f:\n",
    "    census_key = f.readline()"
   ]
  },
  {
   "cell_type": "code",
   "execution_count": null,
   "id": "ddf7cb3d-c5c4-4d1d-8a80-1d0d799c550e",
   "metadata": {
    "tags": []
   },
   "outputs": [],
   "source": [
    "# or try\n",
    "from os.path import expanduser\n",
    "home = expanduser(\"~\")\n",
    "\n",
    "with open(home + '/keys/census-key.txt', 'r') as f:\n",
    "    census_key = f.readline()"
   ]
  },
  {
   "cell_type": "code",
   "execution_count": null,
   "id": "a402d969-cf44-46b6-9723-c42e2c3e1bb0",
   "metadata": {
    "tags": []
   },
   "outputs": [],
   "source": [
    "from acs_data import get_county_data\n",
    "from acs_data import get_us_data"
   ]
  },
  {
   "cell_type": "code",
   "execution_count": null,
   "id": "20dcf9dc-90a7-408b-b59c-ed226c49c01e",
   "metadata": {
    "tags": []
   },
   "outputs": [],
   "source": [
    "census_data = get_county_data(2022, census_key)\n",
    "census_data.head()"
   ]
  },
  {
   "cell_type": "code",
   "execution_count": null,
   "id": "882bc716-30a3-4444-a2d8-f507a1c050d7",
   "metadata": {
    "tags": []
   },
   "outputs": [],
   "source": [
    "md_va = census_data[(census_data.state == 'Maryland') | (census_data.state == 'Virginia')]\n",
    "md_va.head()"
   ]
  },
  {
   "cell_type": "code",
   "execution_count": null,
   "id": "b56f792b-7f11-49e5-8ccf-2f360bf5014d",
   "metadata": {},
   "outputs": [],
   "source": [
    "data_file = '201807-CAH_PulseOfTheNation_Raw.csv'\n",
    "potn = pd.read_csv(data_file)\n",
    "potn.head()"
   ]
  },
  {
   "cell_type": "markdown",
   "id": "481d6d69-c7cf-457d-af0f-16d3d597df8e",
   "metadata": {
    "tags": []
   },
   "source": [
    "## Plotly\n",
    "\n",
    "The `plotly` package provides an easy way to create quick interactive visualizations. Here, we'll go over how to use the \"express\" functions, which create quick interactive visualizations without needing lots of code or customization. The `plotly` package also allows for more complicated animations and dynamic aspects, including maps and 3-D plots. For more guides on how to use `plotly`, see the tutorials at https://plotly.com/python/#animations.  \n",
    "\n",
    "The `scatter` function from plotly uses syntax similar to seaborn, but creates a scatterplot with points that you can hover over to get information about them. "
   ]
  },
  {
   "cell_type": "code",
   "execution_count": null,
   "id": "3f2db289-1c87-4581-9eb7-3b6603d8151f",
   "metadata": {
    "tags": []
   },
   "outputs": [],
   "source": [
    "fig = px.scatter(census_data, x = 'percent_bachelors', y = 'mean_income')\n",
    "fig.show()"
   ]
  },
  {
   "cell_type": "markdown",
   "id": "0fdcca06-7793-41b7-a33c-de4ebd8b0562",
   "metadata": {},
   "source": [
    "Note that the hover information only has the values of the variables that are plotted. This is useful if we want to get the exact values, but we might also want to know what each observation represents. For example, which county is the one that had the highest percent of people with a Bachelor's degree? Or the lowest? We can add this information to the graph by adding the `hover_data` argument."
   ]
  },
  {
   "cell_type": "code",
   "execution_count": null,
   "id": "79606f76-0c35-41bf-8468-fbedbbacaedf",
   "metadata": {
    "tags": []
   },
   "outputs": [],
   "source": [
    "fig = px.scatter(census_data, x = 'percent_bachelors', y = 'mean_income', hover_data = ['county'])\n",
    "fig.show()"
   ]
  },
  {
   "cell_type": "markdown",
   "id": "2909795e-da57-4245-8bbe-9e7a506cc6e6",
   "metadata": {},
   "source": [
    "Finally, we'll generally want to add at least some basic annotations to this plot to make it easier to interpret. We can assign x and y axis labels with the \"labels\" argument, and we can add a title with the title argument. In this example, I've also added a subtitle by using some html tags: `<br>` starts a new line, and `<sup>` gives us <sup>Superscript text</sup>"
   ]
  },
  {
   "cell_type": "code",
   "execution_count": null,
   "id": "6c52791a-29a7-42b9-8dfb-5c28ec21451e",
   "metadata": {
    "tags": []
   },
   "outputs": [],
   "source": [
    "fig = px.scatter(census_data.dropna(), \n",
    "                 x = 'percent_bachelors', \n",
    "                 y = 'mean_income', \n",
    "                 hover_data = ['county'], \n",
    "                 size = 'num_households',\n",
    "                 # x and y axis labels as a key:value dictionary\n",
    "                 labels={\"mean_income\": \"Mean Income\",\n",
    "                         \"percent_bachelors\": \"% Bachelor's Degree\"},\n",
    "                 # title + subtitle (note the HTML tags)\n",
    "                 title=\"Mean Income by % Bachelor's degree<br><sup>Points scaled by household size</sup>\",\n",
    "                 \n",
    "                )\n",
    "\n",
    "fig.show()"
   ]
  },
  {
   "cell_type": "markdown",
   "id": "879cd43e-f225-4690-87ba-e95e02225c23",
   "metadata": {},
   "source": [
    "Plotly has sensible default settings for most of the color options, but you can make additional modifications to an existing figure using the `update_layout` (which controls the background) and `update_markers` methods (which controls the points, bars, boxes etc.) Here, I'm making a transparent background and modifying the color of the points"
   ]
  },
  {
   "cell_type": "code",
   "execution_count": null,
   "id": "1cb03945-e2b5-4bac-b40f-f0264caff798",
   "metadata": {},
   "outputs": [],
   "source": [
    "\n",
    "fig.update_layout({\n",
    "    # all zeros here makes a transparent background\n",
    "    'plot_bgcolor': 'rgba(0, 0, 0, 0)',\n",
    "    'paper_bgcolor': 'rgba(0, 0, 0, 0)'\n",
    "\n",
    "})\n",
    "\n",
    "fig.update_traces(\n",
    "    # red markers with a white border\n",
    "    marker_line_color=\"white\", \n",
    "    marker_color=\"red\"\n",
    "    )"
   ]
  },
  {
   "cell_type": "markdown",
   "id": "d40793a9-8665-4617-8497-5e2f6388a3b9",
   "metadata": {},
   "source": [
    "<font color ='red'>**Question 1: Create a visualization that plots the percent of people with a bachelor's degree with the percent of people employed within a county, with the size of the observation scaled to the mean income of that county. Add a title and axis labels to the plot**</font>"
   ]
  },
  {
   "cell_type": "code",
   "execution_count": null,
   "id": "e5880099-0946-46dd-a839-6a61203fc359",
   "metadata": {
    "tags": []
   },
   "outputs": [],
   "source": [
    "\n",
    "\n"
   ]
  },
  {
   "cell_type": "markdown",
   "id": "c17fc38a-ea22-4fca-b1ca-628ccd5fab5c",
   "metadata": {},
   "source": [
    "## Interactive Bar Charts\n",
    "\n",
    "We can use `plotly` to make interactive bar charts as well. First, we start by using `crosstab` in order to make the table that contains the underlying data in the bar chart. We'll use `normalize = 'index'` in order to get proportions rather than raw counts so that we can see the relationship between two variables.\n",
    "\n",
    "In this example, we look at political party and gender."
   ]
  },
  {
   "cell_type": "code",
   "execution_count": null,
   "id": "3e230e74-a4bd-4314-875e-5ab30f656b10",
   "metadata": {
    "tags": []
   },
   "outputs": [],
   "source": [
    "party_by_gender = pd.crosstab(potn.political_party, potn.gender, normalize = 'index')\n",
    "party_by_gender"
   ]
  },
  {
   "cell_type": "markdown",
   "id": "ebe037ce-bb3a-44fd-8421-cfaca4d3c696",
   "metadata": {},
   "source": [
    "As before, we need to reorder the variables so that they are in a more intuitive order. "
   ]
  },
  {
   "cell_type": "code",
   "execution_count": null,
   "id": "b93fa838-ca21-48a7-9dcb-5ebfab40c24e",
   "metadata": {
    "tags": []
   },
   "outputs": [],
   "source": [
    "party_order = ['Strong Democrat', 'Not Very strong Democrat', 'Independent',\n",
    "              'Not very Strong Republican', 'Strong Republican', 'DK/REF']\n",
    "party_by_gender = party_by_gender.loc[party_order, :]"
   ]
  },
  {
   "cell_type": "markdown",
   "id": "baca62e4-4c85-428c-9bdb-565baff5770c",
   "metadata": {},
   "source": [
    "Now that we have our data in the form that we need, using `px.bar` and specifying the x and y variables gives us the bar chart that we want. This bar chart allows us to see the relationship between gender and political party, as well as allowing us to see the exact values of each of the bars and colors by hovering over them. This provides a clean image for comparing the groups as well as a way to see exact values if we want to without having them clutter up the graph."
   ]
  },
  {
   "cell_type": "code",
   "execution_count": null,
   "id": "67c8de2e-f8d8-46b4-a294-b45fce569640",
   "metadata": {
    "tags": []
   },
   "outputs": [],
   "source": [
    "fig = px.bar(party_by_gender, x = party_by_gender.index, y = party_by_gender.columns,\n",
    "            labels = {''}\n",
    "            \n",
    "            )\n",
    "fig.show()"
   ]
  },
  {
   "cell_type": "markdown",
   "id": "4c29c86b-f9bc-447e-b2df-dcc870890aad",
   "metadata": {},
   "source": [
    "We could have also made this into a horizontal bar graph by adding the `orientation = 'h'` argument. Note that this requires you to switch the `x` and `y` arguments, because the elements that you are putting on the x- and y-axes are now changed. "
   ]
  },
  {
   "cell_type": "code",
   "execution_count": null,
   "id": "9ec43e2f-bafc-48c0-8d6d-3d9b39c5c374",
   "metadata": {
    "tags": []
   },
   "outputs": [],
   "source": [
    "fig = px.bar(party_by_gender, x = party_by_gender.columns, y = party_by_gender.index, orientation = 'h')\n",
    "fig.show()"
   ]
  },
  {
   "cell_type": "markdown",
   "id": "bbf43473-8cde-412f-9538-b15825f2d511",
   "metadata": {},
   "source": [
    "Finally, we would probably want to add descriptive labels to this plot, I'm also modifying the xaxis to use % values in the tick marks instead of proportions "
   ]
  },
  {
   "cell_type": "code",
   "execution_count": null,
   "id": "eb4ed442-071a-4ed9-9417-f64284f42583",
   "metadata": {},
   "outputs": [],
   "source": [
    "fig = px.bar(party_by_gender, x = party_by_gender.columns, y = party_by_gender.index, orientation = 'h',\n",
    "                # x and y axis labels as a key:value dictionary\n",
    "                 labels={\"political_party\": \"Party ID\",\n",
    "                         \"value\": \"Percent\"},\n",
    "                 # title + subtitle (note the HTML tags)\n",
    "                 title=\"Gender by Party ID\",\n",
    "                 \n",
    "            \n",
    "            )\n",
    "# rescale to % instead of 0 to 1\n",
    "fig.layout.xaxis.tickformat = '0%'\n",
    "fig.show()"
   ]
  },
  {
   "cell_type": "markdown",
   "id": "6b510249-cb04-45e1-b6c2-08d71dee82b7",
   "metadata": {},
   "source": [
    "### Boxplots\n",
    "\n",
    "You can make boxplots in the same manner as well. This will add information about the underlying computation that was done to create the boxplots, such as the median and quartile values. Similar to seaborn, we provide the DataFrame as well as specify the `x` and `y` variables. We can also provide an argument for `color` which will further split the data into groups to do more comparisons."
   ]
  },
  {
   "cell_type": "code",
   "execution_count": null,
   "id": "b2d534ca-16e2-4ad8-8acf-d0f8337f222c",
   "metadata": {
    "tags": []
   },
   "outputs": [],
   "source": [
    "fig = px.box(potn, x = 'gender', y = 'age', color = 'race',\n",
    "            title = \"Distribution of age by gender and race\"             \n",
    "             #leaving x and y axis labels as-is, since they're already fairly descriptive\n",
    "            )\n",
    "fig.show()"
   ]
  },
  {
   "cell_type": "markdown",
   "id": "442ff9e2-78b6-4614-b9cb-b1846a4da883",
   "metadata": {},
   "source": [
    "<font color ='red'>**Question 2: Create a visualization that compares the boxplot of mean income for counties in Maryland and in Virginia. Be sure to add descriptive labels and a title**</font>"
   ]
  },
  {
   "cell_type": "code",
   "execution_count": null,
   "id": "8b73af6a-90c8-40e0-a2c9-18635c524e8e",
   "metadata": {
    "tags": []
   },
   "outputs": [],
   "source": [
    "# trying adding the points = 'all' as an extra argument to px.box. What do you see?\n",
    "\n"
   ]
  },
  {
   "cell_type": "markdown",
   "id": "afde9199-f19d-48d0-b4e2-81f4bff078cb",
   "metadata": {},
   "source": [
    "## Sliders and Animated Plots\n",
    "\n",
    "The `plotly` package also provides the ability to add sliders and animations to graphs. This is most useful for when you want to show changes over time or want to look at different cuts of the data according to some categorical variable.\n",
    "\n",
    "Let's take a look at an example using the built-in Gapminder dataset within `plotly`."
   ]
  },
  {
   "cell_type": "code",
   "execution_count": null,
   "id": "df496de3-f613-4cc9-a3b0-f58519329d98",
   "metadata": {
    "tags": []
   },
   "outputs": [],
   "source": [
    "gm = px.data.gapminder()\n",
    "gm.head()\n"
   ]
  },
  {
   "cell_type": "markdown",
   "id": "59cde976-93c0-4119-82ae-0a035244398d",
   "metadata": {},
   "source": [
    "This data contains country level information about characteristics such as life expectancy, population, and GDP per capita. The Gapminder website (https://www.gapminder.org) also has resources to find data on other characteristics for countries around the world, such as fertility and child mortality. We can make a scatterplot similar to before using the `scatter` function, but also add an `animation_frame` argument to make it so that it animates by year. The `animation_group` argument makes sure that observations that are the same across time points are animated smoothly and match. "
   ]
  },
  {
   "cell_type": "code",
   "execution_count": null,
   "id": "0eba3614-4941-41e4-b545-6fe84b50cf1b",
   "metadata": {
    "tags": []
   },
   "outputs": [],
   "source": [
    "fig = px.scatter(gm, x=\"gdpPercap\", y=\"lifeExp\", animation_frame=\"year\", animation_group=\"country\",\n",
    "                 size=\"pop\", color=\"continent\", hover_name=\"country\",\n",
    "                 log_x=True, size_max=55, range_x=[100,100000], range_y=[25,90])\n",
    "fig.show()"
   ]
  },
  {
   "cell_type": "markdown",
   "id": "1a5b5446-a06e-48cb-b704-c4f072b0fd6f",
   "metadata": {},
   "source": [
    "We could have done this with the ACS data too, but we would need to get data over multiple years first. The fact that we defined a function separately makes this easier to do. Using a `for` loop, we can use the `get_county_data` function to pull data for a range of years, then use `pd.concat` to combine the datasets together."
   ]
  },
  {
   "cell_type": "code",
   "execution_count": null,
   "id": "1c2c6602-ac95-4dd1-85d4-17165691b761",
   "metadata": {
    "tags": []
   },
   "outputs": [],
   "source": [
    "year_range = range(2013,2020)\n",
    "acs = []\n",
    "\n",
    "for year in year_range:\n",
    "    df = get_county_data(year, census_key)\n",
    "    df['year'] = year\n",
    "    acs.append(df) \n",
    "    \n",
    "acs_over_years = pd.concat(acs, ignore_index = True)"
   ]
  },
  {
   "cell_type": "markdown",
   "id": "8db06d43-965e-433d-86af-73d385e929a5",
   "metadata": {},
   "source": [
    "To avoid issues with some counties having the same name across states, we'll combine the `county` and `state` variables and create a new variable that has a unique county-state combination. "
   ]
  },
  {
   "cell_type": "code",
   "execution_count": null,
   "id": "a93f5c62-b745-401b-ba72-0bf67198b1d1",
   "metadata": {
    "tags": []
   },
   "outputs": [],
   "source": [
    "acs_over_years['county_state'] = acs_over_years.county + ', ' + acs_over_years.state"
   ]
  },
  {
   "cell_type": "markdown",
   "id": "b39faa49-e532-425d-8041-ee1591c99a29",
   "metadata": {},
   "source": [
    "Finally, we use `dropna()` to remove any rows with NAs in them, then create the visualization. Here, we are graphing the `percent_employed` variable with `mean_income`. Note that some of the variable names changed over the years, so it would take a bit more work to get the appropriate `percent_bachelors` variable."
   ]
  },
  {
   "cell_type": "code",
   "execution_count": null,
   "id": "b9327684-bbd0-4570-86f4-5020c13fe6b0",
   "metadata": {
    "tags": []
   },
   "outputs": [],
   "source": [
    "fig = px.scatter(acs_over_years.dropna(), x=\"percent_employed\", y=\"mean_income\", \n",
    "                 animation_frame=\"year\", animation_group=\"county_state\",\n",
    "                 size=\"num_households\", hover_name=\"county\",\n",
    "                 range_x=[25,90], range_y=[0,300000])\n",
    "fig.show()"
   ]
  }
 ],
 "metadata": {
  "kernelspec": {
   "display_name": "Python 3 (ipykernel)",
   "language": "python",
   "name": "python3"
  },
  "language_info": {
   "codemirror_mode": {
    "name": "ipython",
    "version": 3
   },
   "file_extension": ".py",
   "mimetype": "text/x-python",
   "name": "python",
   "nbconvert_exporter": "python",
   "pygments_lexer": "ipython3",
   "version": "3.12.2"
  }
 },
 "nbformat": 4,
 "nbformat_minor": 5
}
