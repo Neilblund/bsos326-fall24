{
 "cells": [
  {
   "cell_type": "markdown",
   "id": "b9fbb3d1-da93-4b6c-a574-73e09ec2b561",
   "metadata": {},
   "source": [
    "# Neural Network Basics\n",
    "\n",
    "Use **Code** cells to write and run any code you need to answer the question and **Markdown** cells to write out answers in words. After you are finished with the assignment, remember to download it as an **HTML file** and submit it in **ELMS**."
   ]
  },
  {
   "cell_type": "code",
   "execution_count": null,
   "id": "3b65352a-adde-48f5-bc2a-d5691291a3fc",
   "metadata": {},
   "outputs": [],
   "source": [
    "# !pip install tensorflow"
   ]
  },
  {
   "cell_type": "code",
   "execution_count": null,
   "id": "9115f60f-17a7-4f73-9deb-aabce62a388d",
   "metadata": {
    "tags": []
   },
   "outputs": [],
   "source": [
    "import pandas as pd\n",
    "import numpy as np\n",
    "import tensorflow as tf\n",
    "import matplotlib.pyplot as plt\n",
    "%matplotlib inline\n",
    "\n",
    "from sklearn.linear_model import LogisticRegression\n",
    "\n",
    "from tensorflow.keras.datasets import mnist\n",
    "from tensorflow.keras.models import Sequential\n",
    "from tensorflow.keras.layers import Flatten, Dense, Dropout\n",
    "from tensorflow.keras.losses import SparseCategoricalCrossentropy"
   ]
  },
  {
   "cell_type": "markdown",
   "id": "a11f0e0c-c46a-4a93-ab64-2e218349afff",
   "metadata": {},
   "source": [
    "## Neural Networks \n",
    "\n",
    "Artificial Intelligence (AI) tools have seen a huge surge in popularity in recent years. The wide availability of tools like ChatGPT has made AI a very hot topic in past year or so. But what exactly is AI? How does it work? We'll take a look some of the mechanism behind how AI works with an introduction to neural networks.\n",
    "\n",
    "In this notebook, we will go over how to train neural network models to do supervised machine learning using tensorflow. This is mostly to demonstrate how the code works and how one goes about building these types of models. A more detailed explanation of what exactly is going on behind the scenes and the math behind the implementation is reserved for another class. \n",
    "\n",
    "### Machine Learning \n",
    "\n",
    "Before we talk about neural networks, however, we should first go over what machine learning is. \n",
    "\n",
    "> **One definition of machine learning**: Machine is said to learn when a machine improves on a task with respect to a performance measure.\n",
    "\n",
    "Generative AI tools like chatbots fit under the umbrella of **unsupervised learning**, in which there is nothing we to predict or classify. Instead, these types of machine learning involve getting some new information as outputs. Another example of unsupervised learning that we have already used is **topic modeling**. Since we are trying to generative new information (the topics and the assignment of documents to topics), this fits under unsupervised learning. \n",
    "\n",
    "In **supervised learning**, we are focused on finding the relationship between a **label y** and **features x**.\n",
    "\n",
    "$$ y = f(x) $$\n",
    "\n",
    "\"Learning\" is finding a function f that minimizes future error in recovering y. \n",
    "\n",
    "For supervised learning, we must have a y variable that we know. That is, we need to have a the y variable in our dataset, so that we can build our model and use that model to predict y for future data."
   ]
  },
  {
   "cell_type": "markdown",
   "id": "7d18a7ec-8224-475c-aaf1-9f3b88afccbb",
   "metadata": {},
   "source": [
    "### Prediction Example\n",
    "\n",
    "Let's take a look at a quick example of doing some prediction. The `ncbirths` dataset has information on births in North Carolina, including information about the mother, weeks of pregnancy, and whether the baby was a low birthweight baby or not."
   ]
  },
  {
   "cell_type": "code",
   "execution_count": null,
   "id": "022b02e8-694b-436d-a076-cf89f589c2a4",
   "metadata": {
    "tags": []
   },
   "outputs": [],
   "source": [
    "ncbirths = pd.read_csv('ncbirths.csv')\n",
    "ncbirths.head()"
   ]
  },
  {
   "cell_type": "code",
   "execution_count": null,
   "id": "75a278df-43cf-4f77-87e4-ebfe6c257763",
   "metadata": {
    "tags": []
   },
   "outputs": [],
   "source": [
    "# Change the low birthweight indicator variable to a 0/1 variable\n",
    "ncbirths['low'] = ncbirths.lowbirthweight == 'low'\n",
    "ncbirths.low = ncbirths.low.astype(int)"
   ]
  },
  {
   "cell_type": "markdown",
   "id": "8cb3b9be-628b-4ddf-abc0-53e9fc2fe263",
   "metadata": {},
   "source": [
    "We'll try a very simple example of predicting the low birthweight status of the baby using the number of weeks that the pregnancy lasted. If we were to take a look at the relationship with a graph, it might look like the following. Note that `1` refers to low birthweight while `0` refers to not low birthweight. "
   ]
  },
  {
   "cell_type": "code",
   "execution_count": null,
   "id": "b2e816c5-d162-41a1-9afe-2f49381a8521",
   "metadata": {
    "tags": []
   },
   "outputs": [],
   "source": [
    "ncbirths.plot.scatter(y = 'low', x = 'weeks')"
   ]
  },
  {
   "cell_type": "markdown",
   "id": "c0634dde-3e83-4a30-b229-2bb8e2d71b63",
   "metadata": {},
   "source": [
    "So, how do we use `weeks` to predict the low birthweight status? Well, using a straight line to show the relationship wouldn't make sense. This is because low birthweight can only take one of two values: `0` or `1`. So, instead, we try to create a curved function that gets as close to the points as possible. That's essentially what Logistic Regression is doing -- optimizing by minimizing a **loss function**, or a measure of how far off the predictions are from the actual values. \n",
    "\n",
    "Let's take a look at what happens when we fit a logistic regression line."
   ]
  },
  {
   "cell_type": "code",
   "execution_count": null,
   "id": "3abe4201-e44e-4868-ab72-ada97befa297",
   "metadata": {
    "tags": []
   },
   "outputs": [],
   "source": [
    "logit = LogisticRegression()\n",
    "logit.fit(ncbirths[['weeks']], ncbirths.low)"
   ]
  },
  {
   "cell_type": "markdown",
   "id": "505a1201-6db8-40d9-885c-76a26f96d86b",
   "metadata": {},
   "source": [
    "Once we fit the logistic regression model, we can see the predictions it would make by using a line. "
   ]
  },
  {
   "cell_type": "code",
   "execution_count": null,
   "id": "aea2d8d7-0cc5-487d-a1c4-84c3fe6365bd",
   "metadata": {
    "tags": []
   },
   "outputs": [],
   "source": [
    "preds = logit.predict_proba(ncbirths[['weeks']])[:,1]"
   ]
  },
  {
   "cell_type": "code",
   "execution_count": null,
   "id": "cabf4f8c-c5de-4103-bb14-bba3a971e203",
   "metadata": {
    "tags": []
   },
   "outputs": [],
   "source": [
    "pred_by_week = pd.DataFrame({'weeks': ncbirths.weeks, 'preds':preds}).sort_values('weeks')"
   ]
  },
  {
   "cell_type": "code",
   "execution_count": null,
   "id": "c723f612-b467-4b2f-94a7-c38e9670fb92",
   "metadata": {
    "tags": []
   },
   "outputs": [],
   "source": [
    "fig, axes = plt.subplots(figsize=(8,6))\n",
    "pred_by_week.plot.line('weeks','preds', ax = axes)\n",
    "ncbirths.plot.scatter(y = 'low', x = 'weeks', ax = axes)"
   ]
  },
  {
   "cell_type": "markdown",
   "id": "df94d266-a759-4a01-a9c2-66990e7cb789",
   "metadata": {},
   "source": [
    "The predictions here are just ok. It looks like it might do well for some, but there are lots of points that it does poorly on. That's because we're just using one feature (variable) to make a prediction. In reality, we might want to use many features. In addition, there might be relationships that aren't quite exactly this type of neat curved line. \n",
    "\n",
    "That's where something like neural networks might come in. The above logistic regression is an example of what one **node** in a neural network might look like. Neural networks essentially work by combining lots of these types of simple relationships to create a complex model that makes predictions. "
   ]
  },
  {
   "cell_type": "markdown",
   "id": "432fc74c-2991-4385-8395-bc2ee6edcdcd",
   "metadata": {},
   "source": [
    "![Neural Network](neural_network.png)\n",
    "\n",
    "*Source: https://towardsdatascience.com/simple-introduction-to-neural-networks-ac1d7c3d7a2c*"
   ]
  },
  {
   "cell_type": "markdown",
   "id": "9d17f188-97b1-4d3b-9254-c3a46c9dc3b1",
   "metadata": {},
   "source": [
    "### MNIST Data\n",
    "\n",
    "Let's look at an example of applying neural network modeling to some image data. The MNIST dataset that comes with the `tensorflow` package contains images from handwritten digits (numbers). Our goal is to train a neural network that is able to accurately determine what number is written based on the data from the image. In other words, we want to build a neural network that is able to recognize numbers that have been handwritten. \n",
    "\n",
    "The data itself is structured so that it is in a 2-dimensional format for each observation. Each observation is 28 by 28, with the values within each cell representing the intensity of the pixel. These values make up the **features**, or variables that we use to predict/classify the observation as one of the 10 numerical digits. \n",
    "\n",
    "The data has been split into a **train** set and a **test** set for us already. The **train** set is what we will use to build our neural network model. The test set is what we will use to evaluate how well our model would perform if we were to get new data."
   ]
  },
  {
   "cell_type": "code",
   "execution_count": null,
   "id": "8f3199ff-da54-4d64-a3a2-bf8fe012bf1b",
   "metadata": {
    "tags": []
   },
   "outputs": [],
   "source": [
    "# Load the data\n",
    "(x_train, y_train), (x_test, y_test) = mnist.load_data()\n",
    "\n",
    "# Scale it so that the values are between 0 and 1\n",
    "x_train, x_test = x_train / 255.0, x_test / 255.0"
   ]
  },
  {
   "cell_type": "markdown",
   "id": "0384157c-5b02-4e04-b3f7-92d41e69b47c",
   "metadata": {},
   "source": [
    "To visually see what the data look like, let's graph some of the observations. "
   ]
  },
  {
   "cell_type": "code",
   "execution_count": null,
   "id": "24a2caa5-16c3-4755-ab36-012f867b7477",
   "metadata": {
    "tags": []
   },
   "outputs": [],
   "source": [
    "plt.figure(figsize=(10,10))\n",
    "for i in range(25):\n",
    "    plt.subplot(5,5,i+1)\n",
    "    plt.xticks([])\n",
    "    plt.yticks([])\n",
    "    plt.grid(False)\n",
    "    plt.imshow(x_train[i], cmap=plt.cm.binary)\n",
    "    plt.xlabel(y_train[i])\n",
    "\n",
    "plt.show()"
   ]
  },
  {
   "cell_type": "markdown",
   "id": "1197c1a9-b8f2-4f28-8425-af3bbd0fb8c4",
   "metadata": {},
   "source": [
    "We specify the neural network model using `Sequential` and adding the layers in a list. \n",
    "\n",
    "Let's take a look at the layers one by one.\n",
    "- `Flatten(input_shape=(28, 28))`: This flattens the 28 by 28 data into a 1-D format. There isn't anything being done to values at this step -- all that is happening is that the 2-D shape is being changed to a 1-D shape so that all of the same values are in a vector format.\n",
    "- `Dense(128, activation='relu')` / `Dense(64, activation='relu')` : This is a dense layer, with the first argument specifying how many nodes there are. We have two dense layers in this neural network: one with 128 nodes and one with 64 nodes. You can imagine all of the features (variables) in our data feeding into every single one of the 128 nodes, and the outputs of those 128 nodes feeding into the 64 nodes in the next step. \n",
    "- `Dense(10)`: This is an **output layer**. Since we are trying to predict the image as being one of ten different categories (that is, the individual digits values from 0 to 9), we need a layer with 10 nodes."
   ]
  },
  {
   "cell_type": "code",
   "execution_count": null,
   "id": "a40f6e52-7603-42f0-a486-d45c108d9cf8",
   "metadata": {
    "tags": []
   },
   "outputs": [],
   "source": [
    "model = Sequential([\n",
    "  Flatten(input_shape=(28, 28)),\n",
    "  Dense(128, activation='relu'),\n",
    "  Dense(64, activation='relu'),\n",
    "  Dense(10)\n",
    "])"
   ]
  },
  {
   "cell_type": "markdown",
   "id": "f684cded-678c-4e34-9771-165f5d523cff",
   "metadata": {},
   "source": [
    "Then, we need to compile the model, specify the loss function, and give it the metric we will use to evaluate how it is doing. "
   ]
  },
  {
   "cell_type": "code",
   "execution_count": null,
   "id": "aa56201f-5e51-46ae-a4cb-a548509d638a",
   "metadata": {
    "tags": []
   },
   "outputs": [],
   "source": [
    "model.compile(optimizer='adam',\n",
    "              loss=SparseCategoricalCrossentropy(from_logits=True),\n",
    "              metrics=['accuracy'])"
   ]
  },
  {
   "cell_type": "markdown",
   "id": "1eb82ca5-b124-460c-93e2-339699e2cd95",
   "metadata": {},
   "source": [
    "Finally, we fit the model by giving it our data. Since we are using the training set to build our model, we give it the x and y data from the train. We also set the batch size and the number of epochs to 10. The **batch size** refers to how much of the data is used to fit the model at a time. An **epoch** refers to the number of times that the full data has been sent through the neural network. "
   ]
  },
  {
   "cell_type": "code",
   "execution_count": null,
   "id": "1509ffd9-495d-4f63-a201-e1e88780c830",
   "metadata": {
    "tags": []
   },
   "outputs": [],
   "source": [
    "model.fit(x_train, y_train, batch_size = 32, epochs=10)"
   ]
  },
  {
   "cell_type": "markdown",
   "id": "b99c757a-7c99-4a9d-9cfb-5196fef520f1",
   "metadata": {},
   "source": [
    "## Evaluation\n",
    "\n",
    "Now, let's take a look at how this would do on new data. We can use the `evaluate` method to apply our trained model to the test set and see how accurate it actually is."
   ]
  },
  {
   "cell_type": "code",
   "execution_count": null,
   "id": "ac128f91-64fb-4874-bfd0-543a4be9069d",
   "metadata": {
    "tags": []
   },
   "outputs": [],
   "source": [
    "model.evaluate(x_test,  y_test, verbose=2)"
   ]
  },
  {
   "cell_type": "code",
   "execution_count": null,
   "id": "4fef317f-3286-4138-9a13-8b9765120eab",
   "metadata": {
    "tags": []
   },
   "outputs": [],
   "source": [
    "predictions = model.predict(x_test)\n",
    "plt.figure(figsize=(10,10))\n",
    "for i in range(25):\n",
    "    plt.subplot(5,5,i+1)\n",
    "    plt.xticks([])\n",
    "    plt.yticks([])\n",
    "    plt.grid(False)\n",
    "    plt.imshow(x_test[i], cmap=plt.cm.binary)\n",
    "    if np.argmax(predictions[i]) == y_test[i]:\n",
    "        color = 'green'\n",
    "    else:\n",
    "        color = 'red'\n",
    "    plt.xlabel(f'Predicted: {np.argmax(predictions[i])}, Actual: {y_test[i]}', color = color)\n",
    "\n",
    "plt.show()"
   ]
  },
  {
   "cell_type": "markdown",
   "id": "0562639d-9918-4256-905f-ba0b3b13b969",
   "metadata": {},
   "source": [
    "### Next Steps\n",
    "\n",
    "This is an example of using neural networks for image classification. There are lots of different applications of neural networks, though. For example, you can also use neural networks for **unsupervised learning** tasks, such as generative AI. Neural networks are also widely used in **text analysis** applications, such as sentiment analysis. "
   ]
  }
 ],
 "metadata": {
  "kernelspec": {
   "display_name": "Python 3 (ipykernel)",
   "language": "python",
   "name": "python3"
  },
  "language_info": {
   "codemirror_mode": {
    "name": "ipython",
    "version": 3
   },
   "file_extension": ".py",
   "mimetype": "text/x-python",
   "name": "python",
   "nbconvert_exporter": "python",
   "pygments_lexer": "ipython3",
   "version": "3.10.9"
  }
 },
 "nbformat": 4,
 "nbformat_minor": 5
}
