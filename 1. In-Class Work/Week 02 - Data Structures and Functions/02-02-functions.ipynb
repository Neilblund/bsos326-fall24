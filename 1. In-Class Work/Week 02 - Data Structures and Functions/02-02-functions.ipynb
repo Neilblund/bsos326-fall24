{
 "cells": [
  {
   "cell_type": "markdown",
   "id": "c8b355ea-df34-4257-9e18-712839fe8ee7",
   "metadata": {},
   "source": [
    "# Functions, Arrays, and Files\n",
    "\n",
    "This notebook goes over material covered in [Chapter 3 of Python for Data Analysis](https://wesmckinney.com/book/python-builtin). Use **Code** cells to write and run any code you need to answer the question and **Markdown** cells to write out answers in words. After you are finished with the assignment, remember to download it as an **HTML file** and submit it in **ELMS**."
   ]
  },
  {
   "cell_type": "code",
   "execution_count": null,
   "id": "9dbb6ac8-f53b-418c-9ad8-279fd198c02c",
   "metadata": {},
   "outputs": [],
   "source": [
    "import numpy as np\n",
    "import pandas as pd"
   ]
  },
  {
   "cell_type": "markdown",
   "id": "abbcc298-67c6-4395-8724-3344d90e130f",
   "metadata": {
    "slideshow": {
     "slide_type": "slide"
    },
    "tags": []
   },
   "source": [
    "## Defining functions\n",
    "\n",
    "Let's write a very simple function that converts a proportion to a percentage by multiplying it by 100.  For example, the value of `to_percentage(.5)` should be the number 50 (no percent sign).\n",
    "\n",
    "A function definition has a few parts."
   ]
  },
  {
   "cell_type": "markdown",
   "id": "bccfd2c7-87dd-4647-893c-8fc4e93ecac2",
   "metadata": {
    "slideshow": {
     "slide_type": "slide"
    },
    "tags": []
   },
   "source": [
    "### `def`\n",
    "It always starts with `def` (short for **def**ine):\n",
    "\n",
    "    def"
   ]
  },
  {
   "cell_type": "markdown",
   "id": "21704681-5d61-44cd-b180-b8e78e8798c9",
   "metadata": {
    "tags": []
   },
   "source": [
    "### Name\n",
    "Next comes the name of the function.  Like other names we've defined, it can't start with a number or contain spaces. Let's call our function `to_percentage`:\n",
    "    \n",
    "    def to_percentage"
   ]
  },
  {
   "cell_type": "markdown",
   "id": "6be34e77-2f33-4b48-a0ce-a58d8e6b0805",
   "metadata": {
    "slideshow": {
     "slide_type": "slide"
    },
    "tags": []
   },
   "source": [
    "### Signature\n",
    "Next comes something called the *signature* of the function.  This tells Python how many arguments your function should have, and what names you'll use to refer to those arguments in the function's code.  A function can have any number of arguments (including 0!). \n",
    "\n",
    "`to_percentage` should take one argument, and we'll call that argument `proportion` since it should be a proportion.\n",
    "\n",
    "    def to_percentage(proportion)\n",
    "    \n",
    "If we want our function to take more than one argument, we add a comma between each argument name.\n",
    "\n",
    "We put a colon after the signature to tell Python it's over. If you're getting a syntax error after defining a function, check to make sure you remembered the colon!\n",
    "\n",
    "    def to_percentage(proportion):\n",
    "    "
   ]
  },
  {
   "cell_type": "markdown",
   "id": "70cc4f9b-4ec5-4acb-9ad5-7ee29e468819",
   "metadata": {
    "slideshow": {
     "slide_type": "slide"
    },
    "tags": []
   },
   "source": [
    "### Documentation\n",
    "Functions can do complicated things, so you should write an explanation of what your function does.  For small functions, this is less important, but it's a good habit to learn from the start.  Conventionally, Python functions are documented by writing an **indented** triple-quoted string:\n",
    "\n",
    "    def to_percentage(proportion):\n",
    "        \"\"\"Converts a proportion to a percentage.\"\"\"\n",
    "    \n",
    "    "
   ]
  },
  {
   "cell_type": "markdown",
   "id": "77294f53-e51a-40a5-9030-36941e1b24bd",
   "metadata": {
    "slideshow": {
     "slide_type": "slide"
    },
    "tags": []
   },
   "source": [
    "### Body\n",
    "Now we start writing code that runs when the function is called.  This is called the *body* of the function and every line **must be indented with a tab**.  Any lines that are *not* indented and left-aligned with the def statement is considered outside the function. \n",
    "\n",
    "Some notes about the body of the function:\n",
    "- We can write any code that we would write anywhere else.  \n",
    "- We use the arguments defined in the function signature. We can do this because we assume that when we call the function, values are already assigned to those arguments.\n",
    "- We generally avoid referencing variables defined *outside* the function.\n",
    "\n",
    "\n",
    "Now, let's give a name to the number we multiply a proportion by to get a percentage:\n",
    "\n",
    "    def to_percentage(proportion):\n",
    "        \"\"\"Converts a proportion to a percentage.\"\"\"\n",
    "        factor = 100"
   ]
  },
  {
   "cell_type": "markdown",
   "id": "7202d36c-3d49-48d3-81de-e0d36223b089",
   "metadata": {
    "slideshow": {
     "slide_type": "slide"
    },
    "tags": []
   },
   "source": [
    "### `return`\n",
    "The special instruction `return` is part of the function's body and tells Python to make the value of the function call equal to whatever comes right after `return`.  We want the value of `to_percentage(.5)` to be the proportion .5 times the factor 100, so we write:\n",
    "\n",
    "    def to_percentage(proportion):\n",
    "        \"\"\"Converts a proportion to a percentage.\"\"\"\n",
    "        factor = 100\n",
    "        return proportion * factor\n",
    "        \n",
    "`return` only makes sense in the context of a function, and **can never be used outside of a function**. `return` is always the last line of the function because Python stops executing the body of a function once it hits a `return` statement.\n",
    "\n",
    "*Note:*  `return` inside a function tells Python what value the function evaluates to. However, there are other functions, like `print`, that have no `return` value. For example, `print` simply prints a certain value out to the console. \n",
    "\n",
    "`return` and `print` are **very** different. "
   ]
  },
  {
   "cell_type": "markdown",
   "id": "1957618c-24b8-4344-b650-1d154379bc48",
   "metadata": {},
   "source": [
    "<font color = 'red'>**Question 1.Define `to_percentage` in the cell below.  Call your function to convert the proportion .2 to a percentage.  Name that percentage `twenty_percent`.**</font>"
   ]
  },
  {
   "cell_type": "code",
   "execution_count": null,
   "id": "85562cfc-ca16-4b21-8aca-8ef345cad1ba",
   "metadata": {
    "for_assignment_type": "student"
   },
   "outputs": [],
   "source": [
    "\n",
    "\n",
    "\n"
   ]
  },
  {
   "cell_type": "markdown",
   "id": "64a77bc0-9656-46c1-9e8e-4a767bbe2628",
   "metadata": {},
   "source": [
    "Here's something important about functions: the names assigned *within* a function body are only accessible within the function body. Once the function has returned, those names are gone.  So even though you defined `factor = 100` inside  the body of the `to_percentage` function up above and then called `to_percentage`, you cannot refer to `factor` anywhere except inside the body of `to_percentage`:"
   ]
  },
  {
   "cell_type": "code",
   "execution_count": null,
   "id": "67dfc006-3832-4111-87ac-d89afceb696e",
   "metadata": {},
   "outputs": [],
   "source": [
    "# You should see an error when you run this.  (If you don't, you might\n",
    "# have defined factor somewhere above.)\n",
    "factor"
   ]
  },
  {
   "cell_type": "markdown",
   "id": "878828c7-69c7-44cb-bd39-4425a8283ccb",
   "metadata": {},
   "source": [
    "<font color = 'red'>**Question 2. Define a function called `disemvowel`.  It should take a single string as its argument.  (You can call that argument whatever you want.)  It should return a copy of that string, but with all the characters that are vowels removed.  (In English, the vowels are the characters \"a\", \"e\", \"i\", \"o\", and \"u\".)**</font>\n",
    "\n",
    "*Hint:* To remove all the \"a\"s from a string, you can use `<that_string>.replace(\"a\", \"\")`.  The `.replace` method for strings returns a new string, so you can call `replace` multiple times, one after the other. "
   ]
  },
  {
   "cell_type": "code",
   "execution_count": null,
   "id": "392afaad-eafe-4b96-b26a-7ef20662aa38",
   "metadata": {},
   "outputs": [],
   "source": [
    "\n",
    "\n",
    "\n",
    "\n",
    "\n",
    "# Run this after you define your function above.\n",
    "disemvowel(\"Can you read this without vowels?\")"
   ]
  },
  {
   "cell_type": "markdown",
   "id": "09cae7b8-e460-4dc4-acb4-1700b2decefd",
   "metadata": {
    "tags": []
   },
   "source": [
    "### Building functions\n",
    "Just as you write a series of lines to build up a complex computation, it's useful to define a series of small functions that build on each other.  Since you can write any code inside a function's body, you can call other functions you've written.\n",
    "\n",
    "If a function is a like a recipe, defining a function in terms of other functions is like having a recipe for cake telling you to follow another recipe to make the frosting, and another to make the jam filling.  This makes the cake recipe shorter and clearer, and it avoids having a bunch of duplicated frosting recipes.  It's a foundation of productive programming.\n",
    "\n",
    "For example, suppose you want to count the number of characters *that aren't vowels* in a piece of text.  One way to do that is this to remove all the vowels and count the size of the remaining string.\n",
    "\n",
    "<font color = 'red'>**Question 3. Write a function called `num_non_vowels`.  It should take a string as its argument and return a number.  That number should be the number of characters in the argument string that aren't vowels.**</font>\n",
    "\n",
    "*Hint:* The function `len` can take a string as its argument and returns the number of characters in it."
   ]
  },
  {
   "cell_type": "code",
   "execution_count": null,
   "id": "2dc2fe2a-567c-47ec-acc1-bc2c04ada2f4",
   "metadata": {},
   "outputs": [],
   "source": [
    "\n",
    "\n",
    "\n",
    "\n"
   ]
  },
  {
   "cell_type": "markdown",
   "id": "c5fc543a-ad61-4373-adb2-a0c82f8a061b",
   "metadata": {},
   "source": [
    "<font color = 'red'>**Question 4. Write a function called `num_vowels_nonvowels` that return two values: the number of vowel characters and the number of non-vowel characters. Try running the function with the example text below and assign the number of vowels to `total_vowels` and `total_non_vowels`.**</font>"
   ]
  },
  {
   "cell_type": "code",
   "execution_count": null,
   "id": "ce1722d7-6faa-4c74-9927-0a4183e018e2",
   "metadata": {},
   "outputs": [],
   "source": [
    "example_text = \"Can you read this without vowels?\"\n",
    "\n",
    "\n",
    "\n",
    "\n"
   ]
  },
  {
   "cell_type": "markdown",
   "id": "5845c26d-57d8-4235-8157-78728862d646",
   "metadata": {},
   "source": [
    "## Arrays\n",
    "\n",
    "We've already gone over lots of ways of storing data such as **lists**, **dictionaries**, and **tuples**. Two more types of object that you can use are the **Numpy array** and the **Pandas Series**. Numpy arrays are quite flexible and have lots of nice properties that we'll see mirrored in Pandas objects. We won't go over all of the different things you might be able to do with Numpy arrays (mostly because we'll move to using Pandas Series and DataFrames), but it is useful to know what types of operations you can do with arrays.\n",
    "\n",
    "One of the nice things about arrays is that you can do arithmetic operations with large amounts of data much more quickly than you might be able to with lists. Here, we show an example of timing how long it takes to multiply each of 1,000,000 numbers by 2. The first example uses array operations, while the second uses list comprehension. "
   ]
  },
  {
   "cell_type": "code",
   "execution_count": null,
   "id": "97daf18f-936f-4cf0-8b5d-775ba26fee92",
   "metadata": {
    "tags": []
   },
   "outputs": [],
   "source": [
    "my_array = np.arange(1000000)\n",
    "my_list = list(my_array)"
   ]
  },
  {
   "cell_type": "code",
   "execution_count": null,
   "id": "253dd923-9543-4f4f-afb8-ed6ff37fecb9",
   "metadata": {
    "tags": []
   },
   "outputs": [],
   "source": [
    "%timeit my_array*2"
   ]
  },
  {
   "cell_type": "code",
   "execution_count": null,
   "id": "f8f72681-eb42-4ba3-84a4-b966586abb71",
   "metadata": {
    "tags": []
   },
   "outputs": [],
   "source": [
    "%timeit [x * 2 for x in my_list]"
   ]
  },
  {
   "cell_type": "markdown",
   "id": "cb3d4a2a-1f0a-4680-be40-8fc072233f0e",
   "metadata": {},
   "source": [
    "Notice that doing arithmetic with arrays is also much simpler. Rather than needing to use something like list comprehension, we can simply us arithmetic with arrays like they are scalars, and it will apply the arithmetic operation to each number in the array. "
   ]
  },
  {
   "cell_type": "code",
   "execution_count": null,
   "id": "e006a664-93fd-43d5-925b-8f182f41b01c",
   "metadata": {
    "tags": []
   },
   "outputs": [],
   "source": [
    "np.array([1,2,3,4,5]) / 3"
   ]
  },
  {
   "cell_type": "markdown",
   "id": "b5908cec-017b-41ff-bb9d-8e6de13aeea4",
   "metadata": {},
   "source": [
    "If we were to try this using lists (or dictionaries or tuples), we would get an error."
   ]
  },
  {
   "cell_type": "code",
   "execution_count": null,
   "id": "fd501556-9fac-4a45-97c5-781c3c051551",
   "metadata": {
    "tags": []
   },
   "outputs": [],
   "source": [
    "[1,2,3,4,5] / 3"
   ]
  },
  {
   "cell_type": "markdown",
   "id": "ffc815f7-2029-457a-803d-c64bf92b653f",
   "metadata": {},
   "source": [
    "Arithmetic also works with two arrays of the same dimensions."
   ]
  },
  {
   "cell_type": "code",
   "execution_count": null,
   "id": "fd1a0e76-c7ac-4788-a9c7-fc7a9c572786",
   "metadata": {
    "tags": []
   },
   "outputs": [],
   "source": [
    "array1 = np.array([1,2,3,4,5]) \n",
    "array2 = np.array([5,5,5,5,5])\n",
    "\n",
    "array1 + array2"
   ]
  },
  {
   "cell_type": "code",
   "execution_count": null,
   "id": "34185e70-ef77-4ccb-8551-013f3170653b",
   "metadata": {
    "tags": []
   },
   "outputs": [],
   "source": [
    "array1/array2"
   ]
  },
  {
   "cell_type": "markdown",
   "id": "7cd6478a-7c1c-4107-9d1a-bdf5269c9d51",
   "metadata": {
    "tags": []
   },
   "source": [
    "### Some array functions\n",
    "\n",
    "Some array creation functions are shown in the table below.\n",
    "\n",
    "|Function | Description|\n",
    "|---|---|\n",
    "|array() | Convert input data (list, tuple, array, or other sequence type) to an array|\n",
    "|arange() | Like the built-in `range` function but returns an array instead of a list|\n",
    "|ones() | Produce an array of all 1s with the given shape and data type|\n",
    "|zeros()| Like ones but producing arrays of 0s instead|\n",
    "\n",
    "For more information on arrays, see the numpy array documentation at: https://numpy.org/doc/stable/reference/generated/numpy.ndarray.html"
   ]
  },
  {
   "cell_type": "markdown",
   "id": "fbe74511-997a-439e-a885-5ac40a0066fa",
   "metadata": {},
   "source": [
    "<font color = 'red'>**Question 5: Create a array that contains all the powers of 3 starting with 3^0, all the way up to 3^10. Call this array `powers_of_three`.**</font>"
   ]
  },
  {
   "cell_type": "code",
   "execution_count": null,
   "id": "c90f1553-9bea-4fde-99b0-2b347d1360ec",
   "metadata": {},
   "outputs": [],
   "source": []
  },
  {
   "cell_type": "markdown",
   "id": "d107429d-2999-4dca-a07f-361349c9728a",
   "metadata": {},
   "source": [
    "<font color = 'red'>**Question 6: Calculate the mean of `powers_of_three` from the previous question manually (using arithmetic). Then, use the `.mean` method to calcuate the mean of the array.**</font>"
   ]
  },
  {
   "cell_type": "code",
   "execution_count": null,
   "id": "684b6b47-e43f-47c4-857b-bf3a7c0de788",
   "metadata": {},
   "outputs": [],
   "source": []
  },
  {
   "cell_type": "markdown",
   "id": "2c4eb8d0-e376-4e2e-b1b9-3dd66c21ac7d",
   "metadata": {},
   "source": [
    "Note that these are `ndarray`s, meaning n-dimensional arrays. So, you can use them to store data in something like a matrix format too. "
   ]
  },
  {
   "cell_type": "code",
   "execution_count": null,
   "id": "5d11437f-5d8f-4d14-8487-bf5a93b63f3e",
   "metadata": {
    "tags": []
   },
   "outputs": [],
   "source": [
    "my2darray = np.array([[1,2,3],[4,5,6]])"
   ]
  },
  {
   "cell_type": "code",
   "execution_count": null,
   "id": "61fdb4e4-f125-426b-81c6-4ebe24af9c9a",
   "metadata": {
    "tags": []
   },
   "outputs": [],
   "source": [
    "my2darray.shape"
   ]
  },
  {
   "cell_type": "markdown",
   "id": "e59a48f6-f925-4fef-81d7-558b859574f3",
   "metadata": {},
   "source": [
    "### Pandas Series\n",
    "\n",
    "Pandas Series have many of the same properties as arrays. They can be used to do arithmetic, and allow for faster computation. "
   ]
  },
  {
   "cell_type": "code",
   "execution_count": null,
   "id": "c1893a35-239f-40e3-9951-f504e764e969",
   "metadata": {
    "tags": []
   },
   "outputs": [],
   "source": [
    "my_series = pd.Series(my_array)"
   ]
  },
  {
   "cell_type": "code",
   "execution_count": null,
   "id": "0736b4d0-974d-4256-a41a-506b63f11751",
   "metadata": {
    "tags": []
   },
   "outputs": [],
   "source": [
    "%timeit my_series*2"
   ]
  },
  {
   "cell_type": "markdown",
   "id": "3944a140-dac9-4c2d-8ded-98ebc3d95e05",
   "metadata": {},
   "source": [
    "Pandas Series also have a lot of the same functionalities as numpy arrays. For example, you can find a mean with Series in the same as you can with Series."
   ]
  },
  {
   "cell_type": "code",
   "execution_count": null,
   "id": "dfaa4937-2e94-47bc-bc71-3eba82570e34",
   "metadata": {
    "tags": []
   },
   "outputs": [],
   "source": [
    "my_series.mean()"
   ]
  },
  {
   "cell_type": "code",
   "execution_count": null,
   "id": "b16ed0b2-b859-448e-a172-79bf7cb9cd3d",
   "metadata": {
    "tags": []
   },
   "outputs": [],
   "source": [
    "my_series.std()"
   ]
  },
  {
   "cell_type": "markdown",
   "id": "a09679c9-87cc-4977-b910-6cf9dd054f9e",
   "metadata": {},
   "source": [
    "Pandas Series do have a different set of methods associated with them though. For the full list, see the documentation for Pandas Series here: https://pandas.pydata.org/pandas-docs/stable/reference/api/pandas.Series.html.\n",
    "\n",
    "One useful Pandas Series method is the `apply` method. This can be used to apply a function over the values of the series."
   ]
  },
  {
   "cell_type": "code",
   "execution_count": null,
   "id": "1b7fc567-2092-4f10-b784-3558b7e8a9d2",
   "metadata": {
    "tags": []
   },
   "outputs": [],
   "source": [
    "example_series = pd.Series([1,2,3,4,6,9,10])\n",
    "\n",
    "example_series.apply(lambda x: x**2)"
   ]
  },
  {
   "cell_type": "markdown",
   "id": "04798f85-ad7a-45cb-a0b0-d5d05ce174c0",
   "metadata": {},
   "source": [
    "The above example could actually be done more succinctly with using arithmetic, but there are lots of times when this is useful."
   ]
  },
  {
   "cell_type": "code",
   "execution_count": null,
   "id": "dba02e1f-e2e7-411e-af83-380742d85089",
   "metadata": {
    "tags": []
   },
   "outputs": [],
   "source": [
    "string_series = pd.Series(['     this ', ' is    ', 'an\\n', 'example\\n'])\n",
    "string_series"
   ]
  },
  {
   "cell_type": "code",
   "execution_count": null,
   "id": "23e3b022-365e-4cfb-9721-0eec7d6bebb6",
   "metadata": {
    "tags": []
   },
   "outputs": [],
   "source": [
    "cleaned_strings = string_series.apply(lambda x: x.strip())\n",
    "cleaned_strings"
   ]
  },
  {
   "cell_type": "code",
   "execution_count": null,
   "id": "c83f94f1-4b33-41e7-96b9-371b46a16467",
   "metadata": {
    "tags": []
   },
   "outputs": [],
   "source": [
    "# Converting to a list to see the difference better\n",
    "string_series.to_list()"
   ]
  },
  {
   "cell_type": "code",
   "execution_count": null,
   "id": "0466bf2e-b3df-4566-a7d7-d5432c6a4d7a",
   "metadata": {
    "tags": []
   },
   "outputs": [],
   "source": [
    "cleaned_strings.to_list()"
   ]
  },
  {
   "cell_type": "markdown",
   "id": "45f24f1a-18d7-41ff-899d-43235bde5c28",
   "metadata": {},
   "source": [
    "<font color = 'red'>**Question 7: Remove all the vowels in `cleaned_strings`.**</font>"
   ]
  },
  {
   "cell_type": "code",
   "execution_count": null,
   "id": "55e8d4a9-d4bd-4be0-9aee-1e977166b6b0",
   "metadata": {},
   "outputs": [],
   "source": [
    "\n",
    "\n"
   ]
  },
  {
   "cell_type": "markdown",
   "id": "2cf3a954-d694-400b-af38-63bb0c91c1e4",
   "metadata": {},
   "source": [
    "## Files\n",
    "\n",
    "Most of the time, we won't directly open and interact with files except to load datasets from files such as CSV files. However, it can still be useful to know how to interact with text files from Python. Here, we'll go over some basics of how Python can interact with text files.\n",
    "\n",
    "A basic way of interacting a file is by using the `open` function. This opens a file and returns a stream so that we can interact with the file. After you are done, you can use the `.close` method to close the file. In order to make this process simpler and avoid having to remember to close every time, we can instead use a `with` statement."
   ]
  },
  {
   "cell_type": "code",
   "execution_count": null,
   "id": "b0fa642d-42a1-4e17-9bbf-4f3998badf79",
   "metadata": {},
   "outputs": [],
   "source": [
    "with open('example.csv','w') as f:\n",
    "    f.writelines(['1\\n', '2\\n', '3\\n'])"
   ]
  },
  {
   "cell_type": "markdown",
   "id": "e182618c-b847-403c-a148-42ff9f6e8239",
   "metadata": {},
   "source": [
    "This code opens an `example.csv` file with write privileges, then write three lines containing 1, 2, and 3. Note that we have to use `\\n` in order to go to the next line.\n",
    "\n",
    "We can also read files using the same general format."
   ]
  },
  {
   "cell_type": "code",
   "execution_count": null,
   "id": "22e39e64-f93d-4b80-a760-bf2aa7679695",
   "metadata": {
    "tags": []
   },
   "outputs": [],
   "source": [
    "with open('example.csv','r', encoding = 'utf-8') as f:\n",
    "    list_from_file = f.readlines()\n",
    "list_from_file"
   ]
  },
  {
   "cell_type": "markdown",
   "id": "6c73ec7e-1e1b-483e-9c46-6ef756c380bf",
   "metadata": {},
   "source": [
    "Note that though the file itself has numbers as the text, we read it in as strings. We can address this by changing them into integers as we read it in."
   ]
  },
  {
   "cell_type": "code",
   "execution_count": null,
   "id": "ada157f1-47bd-4683-b0dd-4bcca7fa9cad",
   "metadata": {
    "tags": []
   },
   "outputs": [],
   "source": [
    "with open('example.csv','r', encoding = 'utf-8') as f:\n",
    "    list_from_file = [int(x) for x in f]\n",
    "list_from_file"
   ]
  },
  {
   "cell_type": "markdown",
   "id": "b94e06bf-3a89-4b77-a4dc-b3ef7aa5c98a",
   "metadata": {},
   "source": [
    "<font color ='red'>**Question 8: The file `Austen_PrideAndPrejudice.txt` has the full text of Pride and Prejudice as a text file. Read this file into Python as a list called `pride_and_prejudice`. Look at the first 10 lines of the list (don't display all of it! or you'll have a really long Jupyter notebook file when you download as an HTML).**</font>"
   ]
  },
  {
   "cell_type": "code",
   "execution_count": null,
   "id": "42275d22-d584-4d35-99f4-d7c5a37f18fb",
   "metadata": {},
   "outputs": [],
   "source": [
    "\n",
    "\n"
   ]
  },
  {
   "cell_type": "markdown",
   "id": "cf0c2ad4-6fe4-4432-91dc-340d36fa1085",
   "metadata": {},
   "source": [
    "<font color = 'red'>**Question 9: Clean up the `pride_and_prejudice` using `.strip` to remove any spaces at the beginning or end of a line, then remove any elements of the list that are empty.**</font>"
   ]
  },
  {
   "cell_type": "code",
   "execution_count": null,
   "id": "ac51d240-5096-4352-a4b2-a9a76c677d0c",
   "metadata": {},
   "outputs": [],
   "source": [
    "\n",
    "\n",
    "\n",
    "\n"
   ]
  },
  {
   "cell_type": "markdown",
   "id": "b31c67ff-a7dc-438b-aceb-e7cd0eacc982",
   "metadata": {},
   "source": [
    "<font color = 'red'>**Question 10: Create a list that has the number of non-vowel characters in each line of `pride_and_prejudice` as well as a list that has the number of vowels in each line of `pride_and_prejudice`.**</font>"
   ]
  },
  {
   "cell_type": "code",
   "execution_count": null,
   "id": "687a6c11-780c-4270-9fbf-d6400f6bd4dd",
   "metadata": {},
   "outputs": [],
   "source": [
    "\n",
    "\n"
   ]
  },
  {
   "cell_type": "markdown",
   "id": "c075d961-b558-48e8-bd29-71599d576bfd",
   "metadata": {},
   "source": [
    "<font color = 'red'>**Question 11: What is the average proportion of vowels per character by line of Pride and Prejudice? (Don't worry about removing things like the title and the line that just says, \"A NOVEL\")**</font>"
   ]
  },
  {
   "cell_type": "code",
   "execution_count": null,
   "id": "0cc6252a-0eb0-49f3-8f15-a5d066b6e6e0",
   "metadata": {},
   "outputs": [],
   "source": [
    "\n",
    "\n",
    "\n"
   ]
  },
  {
   "cell_type": "markdown",
   "id": "5f6c227a-9471-42de-8985-1b274aa9c0aa",
   "metadata": {},
   "source": [
    "### Interacting with Files using Pandas\n",
    "\n",
    "Generally, when we want to open or write a CSV file, we'll actually use Pandas to do this. Pandas has a `read_csv` function that can read files, as well as a `to_csv` method to write its DataFrames as CSV files. We'll go over more of these functionalities later, but an example using pandas is shown below."
   ]
  },
  {
   "cell_type": "code",
   "execution_count": null,
   "id": "6b628dc8-a3cb-4fa1-a040-0269fd03b6fa",
   "metadata": {
    "tags": []
   },
   "outputs": [],
   "source": [
    "pd.read_csv('example.csv', header = None)"
   ]
  }
 ],
 "metadata": {
  "kernelspec": {
   "display_name": "Python 3 (ipykernel)",
   "language": "python",
   "name": "python3"
  },
  "language_info": {
   "codemirror_mode": {
    "name": "ipython",
    "version": 3
   },
   "file_extension": ".py",
   "mimetype": "text/x-python",
   "name": "python",
   "nbconvert_exporter": "python",
   "pygments_lexer": "ipython3",
   "version": "3.10.9"
  }
 },
 "nbformat": 4,
 "nbformat_minor": 5
}
