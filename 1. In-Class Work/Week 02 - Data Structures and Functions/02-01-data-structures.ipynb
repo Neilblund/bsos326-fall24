{
 "cells": [
  {
   "cell_type": "markdown",
   "id": "671ca964-7a66-4c87-b778-9ef2be1fc8ef",
   "metadata": {
    "slideshow": {
     "slide_type": "slide"
    },
    "tags": []
   },
   "source": [
    "# Data Structures \n",
    "\n",
    "This notebook goes over material covered in [Chapter 3 of Python for Data Analysis](https://wesmckinney.com/book/python-builtin). Use **Code** cells to write and run any code you need to answer the question and **Markdown** cells to write out answers in words. After you are finished with the assignment, remember to download it as an **HTML file** and submit it in **ELMS**."
   ]
  },
  {
   "cell_type": "code",
   "execution_count": 20,
   "id": "776b5e38-41bb-4ec7-90b4-2731f6976cce",
   "metadata": {
    "tags": []
   },
   "outputs": [],
   "source": [
    "import numpy as np\n",
    "import pandas as pd"
   ]
  },
  {
   "cell_type": "markdown",
   "id": "327f2966-37f9-4e4d-a35d-4a6d8a424380",
   "metadata": {},
   "source": [
    "Python has many ways to store **data**. They each have different properties, and thus will be useful in their own ways. For example, we might want to look at the heights of everyone in a group of 100 people. In that case, we might store the heights data in a *list* (or some other type of sequence) with 100 values. However, as we'll see, if we want to convert everyone's heights into diffent units, a list might not actually be the best. \n",
    "\n",
    "In this class, we will use many different ways to store sequences:\n",
    "- tuples\n",
    "- dictionaries\n",
    "- lists\n",
    "- arrays (numpy)\n",
    "- Series (pandas)\n",
    "\n",
    "**Note**: They are sometimes interchangeable, so it can be easy to get mixed up. If you are getting an error, check what type of object you have!"
   ]
  },
  {
   "cell_type": "markdown",
   "id": "1cb7d15b-a0e7-42d5-a926-8d207c0297d0",
   "metadata": {
    "slideshow": {
     "slide_type": "slide"
    },
    "tags": []
   },
   "source": [
    "## Tuples\n",
    "\n",
    "Tuples are fixed-length, immutable sequences. \n",
    "- Fixed-length: cannot change length in place\n",
    "- Immutable: cannot change values in place\n",
    "\n",
    "We'll use tuples a lot with functions to output and store multiple values. Note that we would not generally use tuples to store data within loops because they are fixed-length and immutable. "
   ]
  },
  {
   "cell_type": "code",
   "execution_count": 4,
   "id": "23f7493c-2aa1-4b2b-adcd-760806c04ee1",
   "metadata": {},
   "outputs": [
    {
     "data": {
      "text/plain": [
       "(1, 2, 3)"
      ]
     },
     "execution_count": 4,
     "metadata": {},
     "output_type": "execute_result"
    }
   ],
   "source": [
    "tup = (1,2,3)\n",
    "tup"
   ]
  },
  {
   "cell_type": "markdown",
   "id": "1e888a09-ea7e-479b-873a-7bc0b2993dc6",
   "metadata": {},
   "source": [
    "You can access individual values of a tuple using the **index** of that value. Remember, Python starts indexing at 0!"
   ]
  },
  {
   "cell_type": "code",
   "execution_count": null,
   "id": "83ccb212-e60f-4c42-a887-9daf81b7f1b2",
   "metadata": {
    "tags": []
   },
   "outputs": [],
   "source": [
    "tup[2]"
   ]
  },
  {
   "cell_type": "markdown",
   "id": "ecf925bd-3693-4c87-baac-d66bfc83fc18",
   "metadata": {},
   "source": [
    "Note that you can use negative numbers to count backwards from the end. So, the last value would be the \"-1\" index, the second to last would be the \"-2\" index, and so on."
   ]
  },
  {
   "cell_type": "code",
   "execution_count": null,
   "id": "20a8cab1-9040-450d-8ff4-49b81d86808f",
   "metadata": {
    "tags": []
   },
   "outputs": [],
   "source": [
    "tup[-1]"
   ]
  },
  {
   "cell_type": "markdown",
   "id": "0f4ed37e-c253-4c37-8c66-7de4f3729075",
   "metadata": {},
   "source": [
    "Generally, Python interprets values separated by commas to be tuples, even if they don't have the associated parentheses with them. "
   ]
  },
  {
   "cell_type": "code",
   "execution_count": null,
   "id": "60e1ae06-bc6f-4fd8-bf20-bf23078d760e",
   "metadata": {
    "tags": []
   },
   "outputs": [],
   "source": [
    "tup2 = 1, 2, 3\n",
    "tup2"
   ]
  },
  {
   "cell_type": "markdown",
   "id": "46476e0a-9c7b-4553-87e2-c6c25c242702",
   "metadata": {},
   "source": [
    "Tuples are immutable, meaning they cannot be changed in place."
   ]
  },
  {
   "cell_type": "code",
   "execution_count": null,
   "id": "4e5fb917-29bc-4f82-adf5-f9dcaba84e1f",
   "metadata": {
    "tags": []
   },
   "outputs": [],
   "source": [
    "# This does not work\n",
    "tup2[2] = 5"
   ]
  },
  {
   "cell_type": "markdown",
   "id": "f23164f9-f289-40bb-9900-e1ce98b2680f",
   "metadata": {},
   "source": [
    "You can also unpack tuples. This gives us an easy way of accessing individual elements of a tuple without necessarily needing to assign everything individually. "
   ]
  },
  {
   "cell_type": "code",
   "execution_count": 1,
   "id": "6e09e5c1-639f-4d1d-ab4d-2f2d066bd997",
   "metadata": {
    "tags": []
   },
   "outputs": [
    {
     "name": "stdout",
     "output_type": "stream",
     "text": [
      "1\n",
      "2\n",
      "3\n"
     ]
    }
   ],
   "source": [
    "a, b, c = (1, 2, 3)\n",
    "print(a)\n",
    "print(b)\n",
    "print(c)"
   ]
  },
  {
   "cell_type": "markdown",
   "id": "821351a7-d0e0-4f79-b770-2d59e82f4e8c",
   "metadata": {},
   "source": [
    "We'll see this happening with functions and having multiple outputs that we want to unpack."
   ]
  },
  {
   "cell_type": "markdown",
   "id": "f8d08fc1-fe03-42d7-ae85-31777fdd215b",
   "metadata": {},
   "source": [
    "<font color = 'red'>**Question 1: Consider the tuple below. What are the number of elements in the tuple? How would you access the value of `'example'`?**</font>\n",
    "\n",
    "Think about the answers to these questions. Try using the `len` function to get the answer to the first question. Is this what you expected? "
   ]
  },
  {
   "cell_type": "code",
   "execution_count": 5,
   "id": "33762c63-0712-4dac-88da-2a70cc28daae",
   "metadata": {
    "tags": []
   },
   "outputs": [],
   "source": [
    "some_tuple = (1,2,3), ('this','is','an','example')"
   ]
  },
  {
   "cell_type": "code",
   "execution_count": 6,
   "id": "ac782657-be5a-4067-a77c-5520f409bddd",
   "metadata": {
    "tags": []
   },
   "outputs": [
    {
     "data": {
      "text/plain": [
       "2"
      ]
     },
     "execution_count": 6,
     "metadata": {},
     "output_type": "execute_result"
    }
   ],
   "source": [
    "\n",
    "\n"
   ]
  },
  {
   "cell_type": "markdown",
   "id": "c54db2aa-1016-4f06-b4f9-1e615b91581c",
   "metadata": {
    "slideshow": {
     "slide_type": "slide"
    },
    "tags": []
   },
   "source": [
    "## Lists\n",
    "\n",
    "Lists are variable length and mutable. This means you can add or change values within lists. This makes lists very useful for storing values when using a loop. Lists are one of the most common ways of storing sequences that we'll use, so make sure you are familiar with the properties of lists!"
   ]
  },
  {
   "cell_type": "code",
   "execution_count": null,
   "id": "8c93288a-52ae-4795-8f9e-e64f0c8bf763",
   "metadata": {},
   "outputs": [],
   "source": [
    "example = [1, 2, 3]"
   ]
  },
  {
   "cell_type": "markdown",
   "id": "9530c165-4f78-4047-9435-add9afcd340d",
   "metadata": {},
   "source": [
    "Just like tuples, you can access individual values of the list using the **index** of the value with the bracket notation. "
   ]
  },
  {
   "cell_type": "code",
   "execution_count": null,
   "id": "b74e7ec6-af1c-45d1-9b83-dfd8f83f7c99",
   "metadata": {
    "tags": []
   },
   "outputs": [],
   "source": [
    "example[0]"
   ]
  },
  {
   "cell_type": "markdown",
   "id": "5c83147d-4e4d-4bf7-b9b1-1476a5a5c5ec",
   "metadata": {},
   "source": [
    "However, unlike tuples, lists are mutable."
   ]
  },
  {
   "cell_type": "code",
   "execution_count": null,
   "id": "0bf8c352-7a9b-479c-ae26-7735fdf3944d",
   "metadata": {
    "tags": []
   },
   "outputs": [],
   "source": [
    "example[0] = 3\n",
    "example"
   ]
  },
  {
   "cell_type": "markdown",
   "id": "1e1ab550-a274-4526-a3c2-704f8f83a87b",
   "metadata": {},
   "source": [
    "You can also create lists by using the `list` function. The same is true using `tuple` to turn something into a tuple.\n",
    "\n",
    "> This might be useful if you have a tuple of some sort and need it to have properties of a list. For example, if you want to change some values within a tuple and need it to be mutable, then converting it to a list might make sense."
   ]
  },
  {
   "cell_type": "code",
   "execution_count": null,
   "id": "5c9f2e19-bc24-4a4d-837b-f2d38f965258",
   "metadata": {
    "tags": []
   },
   "outputs": [],
   "source": [
    "list((1,2,3))"
   ]
  },
  {
   "cell_type": "code",
   "execution_count": null,
   "id": "004f3a9e-42aa-421d-aab9-197e295824ca",
   "metadata": {
    "tags": []
   },
   "outputs": [],
   "source": [
    "tuple([1,2,3])"
   ]
  },
  {
   "cell_type": "markdown",
   "id": "3e8d0118-211e-42ff-ba14-3beee7ed0805",
   "metadata": {},
   "source": [
    "<font color = 'red'>**Question 2: Consider the list below. What are the number of elements in the list? What types of objects are in the list? How would you access the value of `'example'`? Can you change the value of `'an'` to `'another'`?**</font>"
   ]
  },
  {
   "cell_type": "code",
   "execution_count": 2,
   "id": "9e5ef6a0-526f-4a53-93c3-1ab1c9282019",
   "metadata": {
    "tags": []
   },
   "outputs": [],
   "source": [
    "some_list = [(1,2,3), ('this','is','an','example'),[1, 2, 3]]"
   ]
  },
  {
   "cell_type": "code",
   "execution_count": null,
   "id": "47ec4b57-0fd3-4756-a001-52a07b084a45",
   "metadata": {},
   "outputs": [],
   "source": []
  },
  {
   "cell_type": "markdown",
   "id": "ac05591c-15b6-4594-9c82-55ffeebda7f0",
   "metadata": {},
   "source": [
    "### Notes about lists \n",
    "- Indexed positionally, and therefore has a notion of position / order\n",
    "- This allows you to do things like sort, find by position (e.g., \"first\" or \"last\")\n",
    "- Mutable, so you can change the values inside. \n",
    "- The `+` operator combines lists."
   ]
  },
  {
   "cell_type": "code",
   "execution_count": null,
   "id": "00c44e58-0162-4c71-af96-c8cfbb5214c6",
   "metadata": {},
   "outputs": [],
   "source": [
    "[1, 2, 3] + [4, 5, 6]"
   ]
  },
  {
   "cell_type": "markdown",
   "id": "d14e553a-c460-4632-a24b-fd41d8565533",
   "metadata": {},
   "source": [
    "### Some List methods\n",
    "|Method | Description|\n",
    "|---|---|\n",
    "|.append() | Append a value to the list|\n",
    "|.count() | Returns the number of elements with the specified value|\n",
    "|.pop() | Remove an element at the specified position|\n",
    "|.sort()|Sort the list|"
   ]
  },
  {
   "cell_type": "markdown",
   "id": "fe25b394-6c7a-43cc-9a00-fd83f1330ece",
   "metadata": {},
   "source": [
    "The `append` method is commonly used with loops. We first initialize an empty list using `[]`, then append values as we go through the loop. "
   ]
  },
  {
   "cell_type": "code",
   "execution_count": null,
   "id": "98bb5d6b-bd22-4188-8f4f-e8e02f72e6ed",
   "metadata": {
    "tags": []
   },
   "outputs": [],
   "source": [
    "output = []\n",
    "for i in range(10):\n",
    "    output.append(i * 2)\n",
    "output"
   ]
  },
  {
   "cell_type": "markdown",
   "id": "0441b70b-d460-4a58-9835-3e513a10bbbd",
   "metadata": {},
   "source": [
    "The `pop` method does the opposite of `append` and removes an element at the specified position and outputs that element."
   ]
  },
  {
   "cell_type": "code",
   "execution_count": null,
   "id": "600c7199-b712-4004-8f49-49d782df445e",
   "metadata": {
    "tags": []
   },
   "outputs": [],
   "source": [
    "example = [1, 2, 3]\n",
    "example.pop(1)"
   ]
  },
  {
   "cell_type": "code",
   "execution_count": null,
   "id": "1f083272-901c-49e8-af93-804de982a8f9",
   "metadata": {
    "tags": []
   },
   "outputs": [],
   "source": [
    "example"
   ]
  },
  {
   "cell_type": "markdown",
   "id": "654024f2-ec7d-4223-bea8-b35cbc13a591",
   "metadata": {},
   "source": [
    "<font color = 'red'>**Question 3: Create a list that contains all the powers of 3 starting with 3^0, all the way up to 3^10. Call this list `powers_of_three`.**</font>"
   ]
  },
  {
   "cell_type": "code",
   "execution_count": 18,
   "id": "603a17b6-fccf-446f-8030-0f944dea0103",
   "metadata": {},
   "outputs": [
    {
     "data": {
      "text/plain": [
       "[1, 3, 9, 27, 81, 243, 729, 2187, 6561, 19683]"
      ]
     },
     "execution_count": 18,
     "metadata": {},
     "output_type": "execute_result"
    }
   ],
   "source": [
    "powers_of_three = []\n",
    "for i in range(10):\n",
    "    powers_of_three.append(3**i)\n",
    "powers_of_three"
   ]
  },
  {
   "cell_type": "markdown",
   "id": "d828712e-d34e-4581-92f1-a2a5c4aff5d1",
   "metadata": {},
   "source": [
    "<font color = 'red'>**Question 4: Calculate the mean of `powers_of_three` from the previous question.**</font>\n",
    "\n",
    "**Hint:** You can use the `np.mean` function from numpy for this."
   ]
  },
  {
   "cell_type": "code",
   "execution_count": 27,
   "id": "2e069147-9838-421c-9785-7b7fe36af820",
   "metadata": {},
   "outputs": [
    {
     "name": "stdout",
     "output_type": "stream",
     "text": [
      "Help on built-in function sum in module builtins:\n",
      "\n",
      "sum(iterable, /, start=0)\n",
      "    Return the sum of a 'start' value (default: 0) plus an iterable of numbers\n",
      "    \n",
      "    When the iterable is empty, return the start value.\n",
      "    This function is intended specifically for use with numeric values and may\n",
      "    reject non-numeric types.\n",
      "\n"
     ]
    }
   ],
   "source": []
  },
  {
   "cell_type": "markdown",
   "id": "d7fb0c5f-ce0a-4dff-bfb7-97efb9395443",
   "metadata": {
    "tags": []
   },
   "source": [
    "## Dictionaries\n",
    "\n",
    "A **dictionary** stores a collection of *key-value* pairs. Each key is associated with a value, and you can access the values that are stored within dictionaries by using its key. Keys and values can be any type of object. \n",
    "\n",
    "Intuitively, a dictionary works similar to how a dictionary works in real life, with words. You look up a word (a key) to find the definition (the value). In the same way, we can access the data inside a dictionary by looking up the key associated with that piece of data."
   ]
  },
  {
   "cell_type": "markdown",
   "id": "e76368af-3ee8-47b8-b9dc-affcc85888b3",
   "metadata": {},
   "source": [
    "Dictionaries are useful because they allow us to store data using informative keys. Rather than trying to remember which position we happened to have decided to use to store a particular attribute (if we used lists), we can use semantically meaningful indices for values, i.e., keys!"
   ]
  },
  {
   "cell_type": "code",
   "execution_count": 34,
   "id": "02143d8c-7cdd-477d-9d79-5a4b691e964e",
   "metadata": {
    "tags": []
   },
   "outputs": [],
   "source": [
    "example_dict = {'a': (1, 2, 3), 'b': (2, 3, 4)}"
   ]
  },
  {
   "cell_type": "markdown",
   "id": "d034f097-26d8-4028-9708-4e668b7cc90e",
   "metadata": {
    "tags": []
   },
   "source": [
    "The key parts of a dictionary are:\n",
    "\n",
    "- The `{ }` curly braces which indicate that it's a dictionary (similar to `\"\"` for strings, or `[]` for lists)\n",
    "- Each entry has maps a value on the right of a `:` to a key on the left. For example, our first entry maps the value `(1,2,3)` to the key `'a'`.\n",
    "- We include commas, similar to lists, to separate entries in the dictionary."
   ]
  },
  {
   "cell_type": "markdown",
   "id": "516b0430-7871-4aed-b2da-0ae7584a7d5b",
   "metadata": {},
   "source": [
    "Dictionaries are very flexible, and the objects stored inside a dictionary do not all need to be the same type."
   ]
  },
  {
   "cell_type": "code",
   "execution_count": 32,
   "id": "802517d7-b84d-4456-ada3-309c55146d04",
   "metadata": {
    "tags": []
   },
   "outputs": [],
   "source": [
    "example_dict2 = {'a': (1, 2, 3), 'b': 'some text', 3: 'c' }"
   ]
  },
  {
   "cell_type": "markdown",
   "id": "ae63972b-462a-4cb6-8832-19ef9a1580c1",
   "metadata": {},
   "source": [
    "<font color = 'red'>**Question 5: What type of object is `example_dict['a']`? What about `example_dict2['b']`?**</font>"
   ]
  },
  {
   "cell_type": "code",
   "execution_count": 35,
   "id": "db986dea-9bfa-4d71-938c-c585b1f34164",
   "metadata": {
    "tags": []
   },
   "outputs": [
    {
     "data": {
      "text/plain": [
       "tuple"
      ]
     },
     "execution_count": 35,
     "metadata": {},
     "output_type": "execute_result"
    }
   ],
   "source": []
  },
  {
   "cell_type": "markdown",
   "id": "4ba19d8c-28af-4445-a4ee-e93ba4dafbbb",
   "metadata": {},
   "source": [
    "Note: Unlike lists, dictionaries are **not ordered**. They are organized according to their *keys*, rather than by *indices*, so there's no way to access dictionary items by their index."
   ]
  },
  {
   "cell_type": "markdown",
   "id": "071aef9f-46b1-488d-9c9e-2ed20ec7ae1c",
   "metadata": {},
   "source": [
    "<font color = 'red'>**Question 6: Consider the list `list_of_numbers` below. Create a dictionary called `even_odd_dict` with two lists: a list of even numbers from `list_of_numbers` and a list of odd numbers from `list_of_numbers` . Use the keys `even` and `odd` for these two lists. Write your code to be generalizable so that you could perform the same calculation again for a different list of numbers**</font>\n",
    "\n",
    "*Hint:* One useful operator might be `%` which is the modulo (returns the remainder after division) operator. "
   ]
  },
  {
   "cell_type": "code",
   "execution_count": 2,
   "id": "82e5ce43-536d-44fb-b991-453799a323a5",
   "metadata": {
    "tags": []
   },
   "outputs": [],
   "source": [
    "list_of_numbers = [1, 2, 2, 3, 4, 5, 17, 4, 12, 0, 32, 23, 15, 12, 121, 44, 21, 53] "
   ]
  },
  {
   "cell_type": "code",
   "execution_count": null,
   "id": "1dd5cb6c-c395-4f15-9913-fbbe58897263",
   "metadata": {
    "tags": []
   },
   "outputs": [],
   "source": []
  },
  {
   "cell_type": "markdown",
   "id": "58a67827-4a42-4238-bd6c-8077736007e9",
   "metadata": {},
   "source": [
    "<font color = 'red'>**Question 7: Check your code above by creating a list with integers from 1 to 100 and finding the even and odd numbers from that list**</font>"
   ]
  },
  {
   "cell_type": "code",
   "execution_count": null,
   "id": "f1b3854f-90c6-4981-9ec9-21998dad577a",
   "metadata": {},
   "outputs": [],
   "source": [
    "\n",
    "\n",
    "\n"
   ]
  },
  {
   "cell_type": "markdown",
   "id": "c499b99f-afcf-454f-9c87-b011c0e037f7",
   "metadata": {},
   "source": [
    "### List Comprehension\n",
    "\n",
    "List comprehension is a quick, concise way of constructing a list based on a specific structure. It looks similar to a for loop, but is constructed completely inside a list."
   ]
  },
  {
   "cell_type": "code",
   "execution_count": null,
   "id": "01c5c509-bd23-44a0-8c50-2cdd03c524f9",
   "metadata": {
    "tags": []
   },
   "outputs": [],
   "source": [
    "[2*x for x in range(5)]"
   ]
  },
  {
   "cell_type": "markdown",
   "id": "6589ab5c-3aa9-4f63-9520-53d6561ec669",
   "metadata": {},
   "source": [
    "Recall: Loop structure looks like:\n",
    "\n",
    "    for i in <range>:\n",
    "        <some expression>\n",
    "        \n",
    "List comprehension would look something like this:\n",
    "\n",
    "    [<some expression> for i in <range>]"
   ]
  },
  {
   "cell_type": "markdown",
   "id": "2314a8f3-3750-4f04-8ae7-96696c12ce7d",
   "metadata": {},
   "source": [
    "<font color='red'>**Question 8: Consider the following code. Use list comprehension to get the same result in one line of code.**</font>"
   ]
  },
  {
   "cell_type": "code",
   "execution_count": 56,
   "id": "98f97407-9b32-4879-a40a-6e642260337f",
   "metadata": {
    "tags": []
   },
   "outputs": [
    {
     "data": {
      "text/plain": [
       "[5, 7, 9, 11, 13, 15, 17, 19, 21, 23]"
      ]
     },
     "execution_count": 56,
     "metadata": {},
     "output_type": "execute_result"
    }
   ],
   "source": [
    "values = []\n",
    "for i in range(10):\n",
    "    new_value = 2*i + 5\n",
    "    values.append(new_value)\n",
    "values"
   ]
  },
  {
   "cell_type": "code",
   "execution_count": 55,
   "id": "4bbe1b22-09e7-40a3-b8e9-b86ca34524c4",
   "metadata": {},
   "outputs": [
    {
     "data": {
      "text/plain": [
       "[5, 7, 9, 11, 13, 15, 17, 19, 21, 23]"
      ]
     },
     "execution_count": 55,
     "metadata": {},
     "output_type": "execute_result"
    }
   ],
   "source": [
    "[2*i+5 for i in range(10)]\n",
    "\n",
    "\n",
    "\n"
   ]
  },
  {
   "cell_type": "markdown",
   "id": "2595418b-5bbc-4a7b-8133-751eeb49c14a",
   "metadata": {},
   "source": [
    "<font color = 'red'>**Question 9: Using list comprehension, create a list that contains all of the powers of 2 from 0 to 10. In other words, the list should contain the values 1, 2, 4, 8, 16, 32, 64, 128, 256, 512, and 1024.**</font>"
   ]
  },
  {
   "cell_type": "code",
   "execution_count": null,
   "id": "989fa7f9-58ec-409d-8be6-711fb2b99e46",
   "metadata": {
    "tags": []
   },
   "outputs": [],
   "source": [
    "\n",
    "\n",
    "\n"
   ]
  },
  {
   "cell_type": "markdown",
   "id": "2791c57a-7f19-4611-8d04-04fdf5b36037",
   "metadata": {},
   "source": [
    "### List Comprehension with Conditionals\n",
    "\n",
    "We might also have a loop structure that looks like this:\n",
    "\n",
    "    for i in <range>:\n",
    "        if <some conditional>:\n",
    "            <some expression>\n",
    "        \n",
    "List comprehension can be used in this case:\n",
    "\n",
    "    [<some expression> for i in <range> if <some conditional>]"
   ]
  },
  {
   "cell_type": "code",
   "execution_count": 4,
   "id": "85d26d20-37a0-4398-a502-fa95cc3545c5",
   "metadata": {
    "tags": []
   },
   "outputs": [
    {
     "data": {
      "text/plain": [
       "[12, 14, 16, 18]"
      ]
     },
     "execution_count": 4,
     "metadata": {},
     "output_type": "execute_result"
    }
   ],
   "source": [
    "[2*x for x in range(10) if x > 5] "
   ]
  },
  {
   "cell_type": "markdown",
   "id": "e6692276-4211-4c5e-89b5-9c3a69861ca6",
   "metadata": {},
   "source": [
    "<font color = 'red'>**Question 10: Repeat Question 6 using list comprehension to create the dictionary with two lists.**</font>"
   ]
  },
  {
   "cell_type": "code",
   "execution_count": null,
   "id": "ae333e6c-44d3-4a11-b973-204b2767c8f9",
   "metadata": {},
   "outputs": [],
   "source": []
  }
 ],
 "metadata": {
  "kernelspec": {
   "display_name": "Python 3 (ipykernel)",
   "language": "python",
   "name": "python3"
  },
  "language_info": {
   "codemirror_mode": {
    "name": "ipython",
    "version": 3
   },
   "file_extension": ".py",
   "mimetype": "text/x-python",
   "name": "python",
   "nbconvert_exporter": "python",
   "pygments_lexer": "ipython3",
   "version": "3.12.2"
  }
 },
 "nbformat": 4,
 "nbformat_minor": 5
}
