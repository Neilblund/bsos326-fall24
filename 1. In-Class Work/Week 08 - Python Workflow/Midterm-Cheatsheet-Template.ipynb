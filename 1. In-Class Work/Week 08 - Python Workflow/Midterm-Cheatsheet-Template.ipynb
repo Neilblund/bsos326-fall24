{
 "cells": [
  {
   "cell_type": "markdown",
   "id": "2599bcd4-59e6-4715-b780-1e47e01fba95",
   "metadata": {},
   "source": [
    "# Midterm Workspace Template\n",
    "\n",
    "Using this Jupyter Notebook is completely optional. This is just provided to make putting together what you need for the midterm easier. **This is not necessarily an exhaustive list of everything that will be on the midterm or that you will need on the midterm.**"
   ]
  },
  {
   "cell_type": "markdown",
   "id": "559ebe7f-9425-4d96-a3bd-bd5255c6fb6a",
   "metadata": {},
   "source": [
    "## Midterm Exam\n",
    "\n",
    "Here is a list of concepts you will need to be familiar with for the midterm. Note that this is NOT an exhaustive list -- this just covers the most important parts from what we have covered in class. Anything we discussed in class, in in-class work, or in assignments is fair game. Stuff in the textbook that we have not discussed will not be on the exam."
   ]
  },
  {
   "cell_type": "markdown",
   "id": "2648c3dd-d640-4213-85b9-4dda1ba72e07",
   "metadata": {},
   "source": [
    "0. Basic Python\n",
    "    - Packages, `import`\n",
    "    - Functions\n",
    "    - Loops\n",
    "    - Conditionals\n",
    "1. Data Structures\n",
    "    - Tuples, properties of tuples\n",
    "    - Lists, list comprehension, properties of lists\n",
    "    - Dictionaries, dictionary comprehension, properties of dictionaries\n",
    "    - Arrays, properties of arrays\n",
    "2. APIs\n",
    "    - What are APIs, advantages and disadvantages of APIs\n",
    "    - How to call APIs\n",
    "    - Working with data from APIs\n",
    "3. Pandas\n",
    "    - Series objects\n",
    "    - DataFrame objects\n",
    "    - Properties of DataFrames\n",
    "    - Accessing elements of DataFrames\n",
    "    - Subsetting\n",
    "    - Finding summaries and describing data\n",
    "    - Creating basic visualizations\n",
    "    - Aggregation\n",
    "4. Web Scraping\n",
    "    - Reading in web data into Python\n",
    "    - Using Selector Gadget\n",
    "    - Using Beautiful Soup\n",
    "5. Data Cleaning\n",
    "    - Methods for dealing with missing Values\n",
    "    - Working with strings\n",
    "\n",
    "I recommend adding your own notes to this so that it is all in one place."
   ]
  },
  {
   "cell_type": "markdown",
   "id": "56f8cf88-7c8d-4589-880b-1fa2d4444087",
   "metadata": {},
   "source": [
    "### Basic Python\n",
    "\n",
    "This is mostly stuff that you should have known coming into this class. You will need to understand functions, loops, conditionals, and how Python overall works."
   ]
  },
  {
   "cell_type": "code",
   "execution_count": null,
   "id": "87c8bbb4-8b1f-4ad8-affd-677849435a16",
   "metadata": {},
   "outputs": [],
   "source": [
    "from requests import get\n",
    "\n",
    "import numpy as np \n",
    "import pandas as pd "
   ]
  },
  {
   "cell_type": "markdown",
   "id": "467ea9eb-6e19-495e-b50f-4d91250efc09",
   "metadata": {},
   "source": [
    "### Data Structures\n",
    "\n",
    "Know the properties of tuples, lists, dictionaries, arrays, and Series. Be able to work with each of them and know which one you should use in which context."
   ]
  },
  {
   "cell_type": "code",
   "execution_count": null,
   "id": "64f57189-d40f-4f83-9532-425186a39c7a",
   "metadata": {},
   "outputs": [],
   "source": [
    "# Create some example tuples, lists, dictionaries, arrays, Series here\n",
    "\n",
    "\n"
   ]
  },
  {
   "cell_type": "markdown",
   "id": "9aa4ceb5-a32a-49d8-8f95-52c2a9d51c9b",
   "metadata": {},
   "source": [
    "### APIs\n",
    "\n",
    "Know how to work with APIs. Know what goes into an API, and how to get that data into a DataFrame format."
   ]
  },
  {
   "cell_type": "code",
   "execution_count": null,
   "id": "8212a3fd-2480-4ae6-8ab1-14a0186db344",
   "metadata": {},
   "outputs": [],
   "source": [
    "# Put some examples of API code here\n",
    "\n",
    "\n",
    "\n"
   ]
  },
  {
   "cell_type": "markdown",
   "id": "301ca6ea-a50c-4a15-9180-e0f615991b6f",
   "metadata": {},
   "source": [
    "### Pandas and DataFrames\n",
    "\n",
    "Know how to work with pandas DataFrames, including the methods and the various data wrangling steps that you can do with them. Know where to find information about DataFrames and the methods associated with them."
   ]
  },
  {
   "cell_type": "code",
   "execution_count": null,
   "id": "adf9dd04-818f-46cb-b099-e4b19a4635c5",
   "metadata": {},
   "outputs": [],
   "source": [
    "# Create some example DataFrames here\n",
    "\n",
    "\n",
    "\n"
   ]
  },
  {
   "cell_type": "markdown",
   "id": "0058e56c-2291-4f71-bd7a-79b50b304425",
   "metadata": {},
   "source": [
    "### Web Scraping\n",
    "\n",
    "Know how the web scraping process works overall. Know the different ways of identifying the data you want. Understand how Beautiful Soup works."
   ]
  },
  {
   "cell_type": "code",
   "execution_count": null,
   "id": "ff05de81-fff6-45dc-93b3-b45449348460",
   "metadata": {},
   "outputs": [],
   "source": [
    "# Put some example web scraping code here\n",
    "\n",
    "\n",
    "\n",
    "\n"
   ]
  },
  {
   "cell_type": "markdown",
   "id": "1c880e30-458e-4e6b-98b4-8f52a13e2c12",
   "metadata": {},
   "source": [
    "### Data Cleaning\n",
    "\n",
    "Understand what goes into data cleaning, including the implications of how we deal with missing values. Know how to work with strings."
   ]
  },
  {
   "cell_type": "code",
   "execution_count": null,
   "id": "1b4acf11-9873-4b58-b4cf-e9bdf4182ad6",
   "metadata": {},
   "outputs": [],
   "source": [
    "# Some example datasets with missing data and strings here\n",
    "\n",
    "\n",
    "\n"
   ]
  }
 ],
 "metadata": {
  "kernelspec": {
   "display_name": "Python 3 (ipykernel)",
   "language": "python",
   "name": "python3"
  },
  "language_info": {
   "codemirror_mode": {
    "name": "ipython",
    "version": 3
   },
   "file_extension": ".py",
   "mimetype": "text/x-python",
   "name": "python",
   "nbconvert_exporter": "python",
   "pygments_lexer": "ipython3",
   "version": "3.10.9"
  }
 },
 "nbformat": 4,
 "nbformat_minor": 5
}
