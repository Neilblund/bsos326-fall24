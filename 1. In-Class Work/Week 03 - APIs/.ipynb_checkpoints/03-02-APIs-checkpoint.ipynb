{
 "cells": [
  {
   "cell_type": "markdown",
   "id": "e252fe33-814d-4e00-a0d7-a0f11160aff2",
   "metadata": {},
   "source": [
    "# APIs with Keys"
   ]
  },
  {
   "cell_type": "code",
   "execution_count": null,
   "id": "435cfba7-7378-4c71-8ff4-280657f87d10",
   "metadata": {},
   "outputs": [],
   "source": [
    "from requests import get \n",
    "\n",
    "import pandas as pd \n",
    "import numpy as np"
   ]
  },
  {
   "cell_type": "markdown",
   "id": "88f2fad1-9ad5-4657-8976-487eeadee40f",
   "metadata": {},
   "source": [
    "# API Keys\n",
    "Many times, data providers don't want to provide access to their APIs to just anybody. In order to make sure that they control access and track usage of the API, they might require the use of an API key. An API key is basically like a password that is uniquely associated with your account that you use every time you want to use that API."
   ]
  },
  {
   "cell_type": "markdown",
   "id": "38e196b2-8089-4384-99c1-e66766002799",
   "metadata": {},
   "source": [
    "# New York Times API\n",
    "One example of an API that requires a key is the New York Times API. We'll show an example of using the New York Times API to make the API call. We start by navigating the NYT API site so that we can look up instructions on how to access their API.\n",
    "\n",
    "We need to get an API key from the New York Times first before we can access the API. We can go to their Dev Portal to sign up and get access: https://developer.nytimes.com/apis. You'll need to make an account, then log in. After you have an account, you can access your Apps by clicking on your username at the top right and create an app. Enable the APIs that you want to have access to, and get the key.\n",
    "\n",
    "After you get the key, create a new text file (I called mine nyt-key.txt) and paste the key into that text file. <b>We want to avoid writing out the key in any documents we share with others</b>, so we're going to keep the key separate and simply read in the key into Python and use it to call the API.\n",
    "\n"
   ]
  },
  {
   "cell_type": "markdown",
   "id": "442eabe5-fe97-4b32-ace2-86c6cbe3f9a3",
   "metadata": {},
   "source": [
    "<b style=\"color:red;\"> Question 1: Do the steps described above and assign the API key as a string to nyt_key.</b>"
   ]
  },
  {
   "cell_type": "code",
   "execution_count": null,
   "id": "39f7a31d-ab49-4476-8512-400141759a53",
   "metadata": {},
   "outputs": [],
   "source": [
    "with open('nyt-key.txt', 'r') as f:\n",
    "    nyt_key = f.readline()"
   ]
  },
  {
   "cell_type": "markdown",
   "id": "d0113e43-9c10-4496-b527-606489e123dd",
   "metadata": {},
   "source": [
    "# NYT Archives\n",
    "After you do this, you can poke around on the API site a bit to get an idea of what data is available and how you might access that data. We'll start with the Archives API, for which the documentation can be found here: https://developer.nytimes.com/docs/archive-product/1/overview. The Archives API can be used to access article metadata (such as headline, byline, article URL, and so on) for a given month. Let's try getting the content for January 2019.\n",
    "\n",
    "Following the instructions given on their site, we start with the base URL."
   ]
  },
  {
   "cell_type": "code",
   "execution_count": null,
   "id": "c4cf9526-c47a-4e63-8ded-72542481cb1f",
   "metadata": {},
   "outputs": [],
   "source": [
    "base_url = \"https://api.nytimes.com/svc/archive/v1/2019/1.json\""
   ]
  },
  {
   "cell_type": "code",
   "execution_count": null,
   "id": "12bfb5b3-2dd6-469c-907c-3b5a591642e2",
   "metadata": {},
   "outputs": [],
   "source": [
    "r = get(base_url, params= {'api-key':nyt_key})"
   ]
  },
  {
   "cell_type": "markdown",
   "id": "eed3f095-c16a-4b86-8f10-266d971eeec2",
   "metadata": {},
   "source": [
    "Now we can check the status code. Remember that code 200 means everything is fine. When we're sending authentication information, a code of 401 will indicate that our request is not authorized. "
   ]
  },
  {
   "cell_type": "code",
   "execution_count": null,
   "id": "3fbfa29e-a295-4ed5-841a-2b43245da461",
   "metadata": {},
   "outputs": [],
   "source": [
    "r.status_code"
   ]
  },
  {
   "cell_type": "markdown",
   "id": "12fade6d-3661-4c44-8883-57104819e46e",
   "metadata": {},
   "source": [
    "We are good to go. Now let's get the content."
   ]
  },
  {
   "cell_type": "code",
   "execution_count": null,
   "id": "89896794-beba-4003-bb4e-d37df8ea587b",
   "metadata": {},
   "outputs": [],
   "source": [
    "json = r.json()  # Convert response to JSON format"
   ]
  },
  {
   "cell_type": "markdown",
   "id": "b0ce814b-77a4-4752-92f5-c0a98cce2cc3",
   "metadata": {},
   "source": [
    "<b style=\"color:red;\">Question 2: How many NYT articles were there in January 2019?</b>\n",
    "\n"
   ]
  },
  {
   "cell_type": "code",
   "execution_count": null,
   "id": "2f564cbf-6733-4faa-bc8b-d21e36480dfd",
   "metadata": {},
   "outputs": [],
   "source": []
  },
  {
   "cell_type": "markdown",
   "id": "babdb256-2126-4424-aa44-adf2c38ac36a",
   "metadata": {},
   "source": [
    "<b style=\"color:red;\">Question 3: What are the types of metadata that are available in the data from this API? Show the keys from one article to answer this question.</b>"
   ]
  },
  {
   "cell_type": "code",
   "execution_count": null,
   "id": "51be320b-855d-4d3c-8c37-661306b66639",
   "metadata": {},
   "outputs": [],
   "source": []
  },
  {
   "cell_type": "markdown",
   "id": "70af91e6-c7dc-4894-8342-c8d44276150e",
   "metadata": {},
   "source": [
    "<b style=\"color:red;\">Question 4: Create a list called `abstracts` that contains the article abstract for each article in `json`.\n",
    "\n",
    "</b>"
   ]
  },
  {
   "cell_type": "code",
   "execution_count": null,
   "id": "274db2e6-3e60-471c-9ac0-43bc8b8e1aea",
   "metadata": {},
   "outputs": [],
   "source": []
  },
  {
   "cell_type": "markdown",
   "id": "3477b659-1923-4629-be17-808d4c891442",
   "metadata": {},
   "source": [
    "## Editing strings\n",
    "\n",
    "If we wanted to get all of the metadata of articles published in a certain year, or over an extended time period, we would actually need to change the base URL that we were using. That's because the URL as we've defined it contains the year and month hard-coded into it. This might get tedious, so we can instead edit the strings to do this automatically. This way, we are able to, for example, loop through years and months and get the data we want.\n",
    "\n",
    "We've already discussed editing strings by using the `+` operator to combine them. That is one possibility for how we might approach this."
   ]
  },
  {
   "cell_type": "code",
   "execution_count": null,
   "id": "1d681b34-1f1a-4392-a526-abc246152ca8",
   "metadata": {},
   "outputs": [],
   "source": [
    "month = 10\n",
    "year = 2020\n",
    "\n",
    "f\"https://api.nytimes.com/svc/archive/v1/{year}/{month}.json\"\n"
   ]
  },
  {
   "cell_type": "markdown",
   "id": "e1be8495-3ee4-40a0-b22f-fd2787f5fadb",
   "metadata": {},
   "source": [
    "The `f` in front of the string indicates that it is an f-string, and the pieces that we want to replace within the string are included with curly braces. We use the names of the objects we want to put into those places, and the values are then interpolated into the string."
   ]
  },
  {
   "cell_type": "markdown",
   "id": "b5748599-9452-4d06-b605-45b5ec3451d6",
   "metadata": {},
   "source": [
    "<b style=\"color:red;\">Question 5: Write a function called nyt_api that has two arguments, month and year, and outputs the response from pulling from the NYT Archive API for that month and year.</b>"
   ]
  },
  {
   "cell_type": "code",
   "execution_count": null,
   "id": "a664321a-5ec1-48c4-83ad-7311b7e0a4bb",
   "metadata": {},
   "outputs": [],
   "source": []
  },
  {
   "cell_type": "markdown",
   "id": "2582c226-e5dc-4d76-88df-ab88da6704bf",
   "metadata": {},
   "source": [
    "<b style=\"color:red;\">Question 6: Write a function called nyt_headlines that has two arguments, month and year, and outputs a list of headlines from pulling from the NYT Archive API for that month and year.</b>"
   ]
  },
  {
   "cell_type": "code",
   "execution_count": null,
   "id": "7bb535ba-dc83-42b7-8a03-f33129700f2f",
   "metadata": {},
   "outputs": [],
   "source": []
  },
  {
   "cell_type": "markdown",
   "id": "983d166b-4423-4b5f-94df-3b42891eb109",
   "metadata": {},
   "source": [
    "## JSON to Pandas DataFrame\n",
    "\n",
    "If we have nicely formatted JSON data we can often convert it into a more useable pandas data frame with minimal effort by using `json_normalize`"
   ]
  },
  {
   "cell_type": "code",
   "execution_count": null,
   "id": "ba71adb0-f18f-49cb-abfa-addd27e9359d",
   "metadata": {},
   "outputs": [],
   "source": [
    "pd.json_normalize(json['response']['docs'])"
   ]
  },
  {
   "cell_type": "markdown",
   "id": "bb597b21-1978-453a-a766-c67c19326c66",
   "metadata": {},
   "source": [
    "### Article Search\n",
    "\n",
    "If you are looking into the New York Times archives, most of the time, you are trying to find articles about a certain topic. That is, you usually don't want to try to sift through all of the articles that the NYT has published. But, you might be interested in how they are covering the election, for example. In that case, you might not want to grab every single article published. Instead, you'd want to do a search on some keywords. To do this, you can use the Article Search API instead.\n",
    "\n",
    "You can look at the documentation at https://developer.nytimes.com/docs/articlesearch-product/1/overview for more information on how this might work. It is very similar to the Archive API, except we use a slightly different base URL, as well as different parameters. "
   ]
  },
  {
   "cell_type": "code",
   "execution_count": null,
   "id": "b8780477-dc31-43ba-b9d6-53e675da9e61",
   "metadata": {},
   "outputs": [],
   "source": [
    "article_base = 'https://api.nytimes.com/svc/search/v2/articlesearch.json'"
   ]
  },
  {
   "cell_type": "markdown",
   "id": "081bda8d-1756-47b1-8b67-9a51fa05966f",
   "metadata": {},
   "source": [
    "We can specify the keywords using `q` in our parameters. Let's look for articles with the keyword \"election\"."
   ]
  },
  {
   "cell_type": "code",
   "execution_count": null,
   "id": "2ae6a691-69de-4621-8607-f4b43ca2ccad",
   "metadata": {},
   "outputs": [],
   "source": [
    "r = get(article_base, params= {'q':'election','api-key':nyt_key}) "
   ]
  },
  {
   "cell_type": "code",
   "execution_count": null,
   "id": "7b0318f5-006e-4e88-a00e-68bf82014e64",
   "metadata": {},
   "outputs": [],
   "source": [
    "r.url"
   ]
  },
  {
   "cell_type": "code",
   "execution_count": null,
   "id": "dc2665bd-d261-45ce-a3a8-865019b20fc3",
   "metadata": {},
   "outputs": [],
   "source": [
    "response_dict =  r.json()\n",
    "response_dict.keys()"
   ]
  },
  {
   "cell_type": "code",
   "execution_count": null,
   "id": "0646f614-42d4-4286-bb7a-3df4346da949",
   "metadata": {},
   "outputs": [],
   "source": [
    "election_articles = r.json()['response']['docs']\n",
    "len(election_articles)"
   ]
  },
  {
   "cell_type": "code",
   "execution_count": null,
   "id": "c57ad946-5101-481b-9a15-9ca7aff87248",
   "metadata": {},
   "outputs": [],
   "source": [
    "election_articles[0]"
   ]
  },
  {
   "cell_type": "markdown",
   "id": "9a563fe8-a28c-4021-ab45-150d025692a9",
   "metadata": {},
   "source": [
    "<b style=\"color:red;\">Question 7: Use the NYT Article Search to look for articles about mental health in January 2024. How many articles were there? How does this compare to January 2014?</b>"
   ]
  },
  {
   "cell_type": "markdown",
   "id": "c3610720-1376-4100-9ff1-0ac2f5bc45ec",
   "metadata": {},
   "source": [
    "Note that the search only returns 10 articles at a time. We can get more using pagination. "
   ]
  },
  {
   "cell_type": "code",
   "execution_count": null,
   "id": "aeb21a39-346a-49b7-9574-aa85571a5c72",
   "metadata": {},
   "outputs": [],
   "source": [
    "election_parameters = {'q':'election',\n",
    "                       'page':'1',\n",
    "                       'api-key':nyt_key}\n",
    "\n",
    "response_page1 = get(article_base, params= election_parameters).json()\n",
    "election_articles2 = response_page1['response']['docs']\n",
    "election_articles2[0]['abstract']"
   ]
  },
  {
   "cell_type": "markdown",
   "id": "aeb5020d-6986-4271-b140-bdc222b0ebfd",
   "metadata": {},
   "source": [
    "We can also take a look at the meta information to see how many hits we had. Since we are just searching on \"election\" without any other qualifiers, we would expect to be pretty high."
   ]
  },
  {
   "cell_type": "code",
   "execution_count": null,
   "id": "2c0f4a32-71dc-40e2-8113-9aa1f5ffe19c",
   "metadata": {},
   "outputs": [],
   "source": [
    "response_page1['response']['meta']"
   ]
  },
  {
   "cell_type": "markdown",
   "id": "243d07f5-9c55-4e70-8512-9b9d8e70b1e3",
   "metadata": {},
   "source": [
    "To narrow our search, we can add filters. For example, you can adjust the begin and end dates of your search to look at specific time periods. Let's take a look at the month of January in 2020. Note that the dates use \"YYYYMMDD\" formatting. So, January 1, 2020 will be `20200101`. "
   ]
  },
  {
   "cell_type": "code",
   "execution_count": null,
   "id": "b121f31e-1cab-43cb-a988-2ce165120426",
   "metadata": {},
   "outputs": [],
   "source": [
    "election_parameters = {'q':'election',\n",
    "                       'begin_date':'20200101',\n",
    "                       'end_date':'20200201',\n",
    "                       'api-key':nyt_key}\n",
    "\n",
    "response_2020 = get(article_base, params= election_parameters).json()\n",
    "election_articles3 = response_2020['response']['docs']\n",
    "election_articles3[0]['web_url']"
   ]
  },
  {
   "cell_type": "code",
   "execution_count": null,
   "id": "9f409570-8f35-45db-9a92-752477421c09",
   "metadata": {},
   "outputs": [],
   "source": [
    "response_2020['response']['meta']"
   ]
  },
  {
   "cell_type": "markdown",
   "id": "99fcaf02-ebbf-4882-be93-3c19fe6371b6",
   "metadata": {},
   "source": [
    "<font color = 'red'>**Question 7: Use the NYT Article Search to look for articles about mental health in January 2024. How many articles were there? How does this compare to January 2014?**</font>"
   ]
  },
  {
   "cell_type": "code",
   "execution_count": null,
   "id": "94a15729-a6a5-457a-841e-f5b6a00c6d5a",
   "metadata": {},
   "outputs": [],
   "source": []
  },
  {
   "cell_type": "markdown",
   "id": "c4a6bcc9-0564-4310-99d5-692c325f02c4",
   "metadata": {
    "editable": true,
    "slideshow": {
     "slide_type": ""
    },
    "tags": []
   },
   "source": [
    "## Census API\n",
    "\n",
    "One extremely useful API in social science research is the **Census API**. This API provides access to a wide variety of data sources on demographics and characteristics of people in the US. It contains data from the Decennial Census, but also from many other sources, such as the American Community Survey (ACS). Information about the Census API can be found at: https://www.census.gov/data/developers/data-sets.html.\n",
    "\n",
    "As with the New York Times API, you will need to request an API key in order to access it. You can request an API key here: https://api.census.gov/data/key_signup.html. You will need to provide your email address and organization (you can just put University of Maryland), and you should get an email with your census key shortly after that. \n",
    "\n",
    "After you get your Census API key, save it in a text file like before (I put mine in a file called `census-key.txt`), then read it in."
   ]
  },
  {
   "cell_type": "code",
   "execution_count": null,
   "id": "a0d5f721-4ea8-4c75-8804-9e75217ac2b8",
   "metadata": {},
   "outputs": [],
   "source": [
    "with open('census-key.txt', 'r') as f:\n",
    "    census_key = f.readline()"
   ]
  },
  {
   "cell_type": "markdown",
   "id": "81d8c3af-90af-407a-8cf4-c6b1c59e3b37",
   "metadata": {},
   "source": [
    "Even within just one data source like the ACS, there are lots of different variables and groupings that you can pull data about. We'll start with the 1-year ACS estimates. Information about this data can be found by navigating to the American Community Survey 1-Year Data page (https://www.census.gov/data/developers/data-sets/acs-1year.html). \n",
    "\n",
    "The webpage documentation shows how to access their data as well example code and a list of variables. For example, if you scroll down to the Detailed Tables section, you can find a link to the detailed tables variables (https://api.census.gov/data/2022/acs/acs1/variables.html). The Examples and Supported Geographies page (https://api.census.gov/data/2022/acs/acs1.html) can also be helpful in identifying the data that you want.\n",
    "\n",
    "To start, let's find something basic: the total number of people in each state. Looking at the variables table, we can see that this is called `B01001_001E` (not very intuitive, I know). Since we want this for every state, we use `state:*` as our `for` parameter. We include `NAME` as a variable we want to get since we want to know what the state names are for each of the counts. Finally, we make sure to include our key."
   ]
  },
  {
   "cell_type": "code",
   "execution_count": null,
   "id": "3cc0a77d-4b6e-48e6-9fca-adbdd69546c6",
   "metadata": {},
   "outputs": [],
   "source": [
    "census_base_url = 'https://api.census.gov/data/2022/acs/acs1'\n",
    "\n",
    "census_params = {'get':'NAME,B01001_001E', \n",
    "                 'for':'state:*',\n",
    "                 'key':census_key}\n",
    "\n",
    "r = get(census_base_url, params = census_params)\n",
    "r.status_code"
   ]
  },
  {
   "cell_type": "code",
   "execution_count": null,
   "id": "88e83621-5a76-42bd-a8a2-d4b372f298bc",
   "metadata": {},
   "outputs": [],
   "source": [
    "people_by_state = r.json()\n",
    "people_by_state"
   ]
  },
  {
   "cell_type": "markdown",
   "id": "0b764357-b165-44c8-bd3e-d6f078c9e0a7",
   "metadata": {},
   "source": [
    "<font color = 'red'>**Question 8: Which states had more than 10,000,000 people in 2022? Create a list that contains the names of these states.**</font>"
   ]
  },
  {
   "cell_type": "code",
   "execution_count": null,
   "id": "f6dab7ca-0c80-43e2-bb71-f1c8eae597a4",
   "metadata": {},
   "outputs": [],
   "source": []
  },
  {
   "cell_type": "markdown",
   "id": "2cc988c2-5774-4ee2-b419-2f379d4b4d8d",
   "metadata": {},
   "source": [
    "## Using groups in the Census API\n",
    "\n",
    "If you look at some of the examples provided, you'll notice that they use the `groups` syntax. For example, on the ACS 1-Year estimates page (https://www.census.gov/data/developers/data-sets/acs-1year.html), you can see an example shown as:\n",
    "\n",
    "    api.census.gov/data/2022/acs/acs1?get=NAME,group(B01001)&for=us:1&key=YOUR_KEY_GOES_HERE\n",
    "\n",
    "This grabs all of the variables in that group. Variable groups might be something like all Race categories, or Age categories, or combinations thereof. These are helpful if you want to get every breakdown for a certain characteristic."
   ]
  },
  {
   "cell_type": "code",
   "execution_count": null,
   "id": "d99630fe-4258-4c02-b2f3-21a575cef0b3",
   "metadata": {},
   "outputs": [],
   "source": [
    "census_params = {'get':'NAME,group(B02001)', \n",
    "                 'for':'state:*',\n",
    "                 'key':census_key}\n",
    "\n",
    "r = get(census_base_url, params = census_params)\n",
    "r.status_code"
   ]
  },
  {
   "cell_type": "code",
   "execution_count": null,
   "id": "d040c31f-bafa-4873-839b-307cb274d818",
   "metadata": {},
   "outputs": [],
   "source": [
    "r.json()[:2]"
   ]
  },
  {
   "cell_type": "markdown",
   "id": "5895407e-7fc6-479f-bd1a-e080b8bf50cc",
   "metadata": {},
   "source": [
    "There are a lot of variables here! Note that this includes both estimates as well as the margin of error and any annotations about there. The variables ending in E are the estimates and the ones ending in M are the margin of error, with EA and MA representing annotations on those values. For more information about these annotations, see this page: https://www.census.gov/data/developers/data-sets/acs-1year/notes-on-acs-estimate-and-annotation-values.html"
   ]
  },
  {
   "cell_type": "markdown",
   "id": "408ac995-a9e6-45fd-b8ee-5385474f9dbe",
   "metadata": {},
   "source": [
    "<b style=\"color:red;\">Question 9: Find the breakdown of the number of people by race in Maryland in 2014. Create a dictionary with the race category as the key and the counts as integers for the value.</b>"
   ]
  },
  {
   "cell_type": "code",
   "execution_count": null,
   "id": "83d5d3ea-214a-46c3-a924-300836b2c717",
   "metadata": {
    "editable": true,
    "slideshow": {
     "slide_type": ""
    },
    "tags": []
   },
   "outputs": [],
   "source": []
  }
 ],
 "metadata": {
  "kernelspec": {
   "display_name": "Python 3 (ipykernel)",
   "language": "python",
   "name": "python3"
  },
  "language_info": {
   "codemirror_mode": {
    "name": "ipython",
    "version": 3
   },
   "file_extension": ".py",
   "mimetype": "text/x-python",
   "name": "python",
   "nbconvert_exporter": "python",
   "pygments_lexer": "ipython3",
   "version": "3.12.2"
  }
 },
 "nbformat": 4,
 "nbformat_minor": 5
}
