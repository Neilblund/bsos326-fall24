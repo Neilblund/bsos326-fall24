{
 "cells": [
  {
   "cell_type": "markdown",
   "id": "db79b11f-5dce-4ecb-8ecf-c6b95586c522",
   "metadata": {},
   "source": [
    "# API and HTTP requests\n",
    "\n",
    "APIs (Application Programming Interfaces) are systems that allow computer programs to interact with one another. Many organizations that maintain large databases available on the internet will also provide an API that is designed to allow users to retrieve, post, or modify data by sending queries programmatically. For instance: you can get a list of current members of Congress by directing your web browser to <a href=\"https://www.congress.gov/search?q=%7B%22congress%22%3A%5B%22118%22%5D%2C%22source%22%3A%22members%22%7D\">Congress.gov</a> and using the search bar, but you could also write a Python program that queries <a href=\"https://github.com/LibraryOfCongress/api.congress.gov/blob/main/Documentation/MemberEndpoint.md\">the Congress.gov API</a> and retrieves the same information. Learning how to navigate these systems makes it very easy to collect data and analyze data from the web.\n",
    "\n",
    "We'll use the <a href=\"https://pypi.org/project/requests/\">Requests</a> library to interact with Web-based APIs using HTTP methods."
   ]
  },
  {
   "cell_type": "code",
   "execution_count": 2,
   "id": "869d50c3-6575-440f-bab2-a59962a1a561",
   "metadata": {},
   "outputs": [],
   "source": [
    "from requests import get # \"get\" requests can retrieve data from a server\n",
    "\n",
    "# data manipulation\n",
    "import pandas as pd \n",
    "import numpy as np"
   ]
  },
  {
   "cell_type": "markdown",
   "id": "8b758cd9-430e-4758-ad27-6f30578e1915",
   "metadata": {},
   "source": [
    "# How does the request package work?\n",
    "We'll start with a simple example of using an API to get information about the International Space Station, such as location and people currently on the ISS. Information about this API can be found here: http://open-notify.org\n",
    "\n",
    "Note: There are Python code examples provided in the documentation as well. We will be using slightly different code, but their code should work too! There are multiple modules you can use to access APIs, and we just use one possibility. Feel free to look at the code that they provide and see if you can figure out what is going on.\n"
   ]
  },
  {
   "cell_type": "markdown",
   "id": "728afcad-c22b-4c89-bba4-18bb76b540c3",
   "metadata": {},
   "source": [
    "# Using the Open Notify ISS API\n",
    "To access the API, we use the request function. In oder to tell Python what to access we need to specify the url of the API endpoint.\n",
    "\n",
    "# Making a Request\n",
    "When you ping a website or portal for information this is called making a request. That is exactly what the requests library has been designed to do.\n",
    "\n",
    "### Step 1. Specify the URL"
   ]
  },
  {
   "cell_type": "code",
   "execution_count": 28,
   "id": "acb643a4-767f-43bc-8f3f-97c340ec8480",
   "metadata": {},
   "outputs": [],
   "source": [
    "url = \"http://api.open-notify.org/iss-now.json\""
   ]
  },
  {
   "cell_type": "markdown",
   "id": "cd9a5e5c-e57c-42d0-9532-5fb609c26b58",
   "metadata": {},
   "source": [
    "(you could also plug this url directly into the address bar in your browser and get a response. You're sending simple get requests every time you click a link)"
   ]
  },
  {
   "cell_type": "markdown",
   "id": "352cff2d-71bf-4828-a47c-f52ebf57c8b5",
   "metadata": {},
   "source": [
    "### Step 2. Get the response"
   ]
  },
  {
   "cell_type": "markdown",
   "id": "4662ab05-1238-43b1-8ff9-6fe003770e6d",
   "metadata": {},
   "source": [
    "Now let's get the response using the URL defined above, using the requests library. We'll use the HTTP `get` method to retrieve data. Note that, as soon as we use `get()` we're sending a request to the server and (hopefully) retrieving data.  This will be important to keep in mind when using APIs that place limits on our "
   ]
  },
  {
   "cell_type": "code",
   "execution_count": 29,
   "id": "5d45bbd5-89b9-4ff5-87b1-48a64da52e4c",
   "metadata": {},
   "outputs": [
    {
     "data": {
      "text/plain": [
       "'http://api.open-notify.org/iss-now.json'"
      ]
     },
     "execution_count": 29,
     "metadata": {},
     "output_type": "execute_result"
    }
   ],
   "source": [
    "# Response from the URL\n",
    "# get is a function from requests\n",
    "\n",
    "r = get(url) \n",
    "\n",
    "r.url"
   ]
  },
  {
   "cell_type": "markdown",
   "id": "fd9fc636-92c1-4366-8045-5e7d46233250",
   "metadata": {},
   "source": [
    "## Step 3. Check the Response Code\n",
    "Before you can do anything with a website or URL in Python, it’s a good idea to check the current status code of said portal.\n",
    "\n",
    "The following are some useful response codes to keep in mind:\n",
    "\n",
    "`200` - the query parameters are all valid; the results will be in the body of the response\n",
    "\n",
    "`400` - the query parameters are not valid, typically either because they are not in valid JSON format, or a specified field or value is not valid; the “status reason” in the header will contain the error message\n",
    "\n",
    "`500` - there is an internal error with the processing of the query; the “status reason” in the header will contain the error message\n",
    "\n",
    "If we get a `200`, we're ready to start checking out the results of our query.\n"
   ]
  },
  {
   "cell_type": "code",
   "execution_count": 30,
   "id": "91e384a9-da7e-4f95-b975-ec637fd526ac",
   "metadata": {},
   "outputs": [
    {
     "data": {
      "text/plain": [
       "200"
      ]
     },
     "execution_count": 30,
     "metadata": {},
     "output_type": "execute_result"
    }
   ],
   "source": [
    "r.status_code  # Check the status code\n"
   ]
  },
  {
   "cell_type": "markdown",
   "id": "940972d3-7a74-4b92-8c43-8d0d08c4f804",
   "metadata": {},
   "source": [
    "# Step 4. Get the Content (and maybe parse it)\n",
    "\n",
    "Web browsers will use HTML to display information in an attractive format that's easy for humans to read, but when we're working with an API, all this extra formatting is just wasted space, so we'll usually get data a more computer-friendly format like <a href=\"https://www.json.org/json-en.html\">JSON (Java Script Object Notation)</a>. \n",
    "\n",
    "JSON data will consist of a set of attributes followed by one or more values: "
   ]
  },
  {
   "cell_type": "code",
   "execution_count": 31,
   "id": "44577dca-6759-4e50-b5a0-cdf9dcba69db",
   "metadata": {},
   "outputs": [
    {
     "name": "stdout",
     "output_type": "stream",
     "text": [
      "b'{\"message\": \"success\", \"timestamp\": 1725906108, \"iss_position\": {\"latitude\": \"12.0068\", \"longitude\": \"161.9452\"}}'\n"
     ]
    }
   ],
   "source": [
    "print(r.content)"
   ]
  },
  {
   "cell_type": "markdown",
   "id": "02266e57-fdbc-4f20-9c1a-861f224c67b1",
   "metadata": {},
   "source": [
    "Despite the name, JSON is platform independent and can easily be converted into Python data by using the `json` method:"
   ]
  },
  {
   "cell_type": "code",
   "execution_count": 32,
   "id": "5a57191d-7ec0-4c6f-ad63-c47f8a32c77c",
   "metadata": {},
   "outputs": [],
   "source": [
    "json_result = r.json()"
   ]
  },
  {
   "cell_type": "code",
   "execution_count": 33,
   "id": "03988acc-b038-432c-8128-88192f23cb2b",
   "metadata": {},
   "outputs": [
    {
     "data": {
      "text/plain": [
       "dict"
      ]
     },
     "execution_count": 33,
     "metadata": {},
     "output_type": "execute_result"
    }
   ],
   "source": [
    "type(json_result) # what kind of data is this? "
   ]
  },
  {
   "cell_type": "code",
   "execution_count": 34,
   "id": "2e7ffa09-7bf4-4490-a82a-afd0fd65d34c",
   "metadata": {},
   "outputs": [
    {
     "data": {
      "text/plain": [
       "{'message': 'success',\n",
       " 'timestamp': 1725906108,\n",
       " 'iss_position': {'latitude': '12.0068', 'longitude': '161.9452'}}"
      ]
     },
     "execution_count": 34,
     "metadata": {},
     "output_type": "execute_result"
    }
   ],
   "source": [
    "json_result # view the data"
   ]
  },
  {
   "cell_type": "markdown",
   "id": "2b8c46ac-24c9-471b-a97b-fd36ace5e000",
   "metadata": {},
   "source": [
    "Here, this API gives us information on the timestamp, the message whether it was a success or not, and the ISS position. This isn't a super sophisticated API, because it really only gives information about the position of the ISS whenever you send a request, but it does give some information."
   ]
  },
  {
   "cell_type": "markdown",
   "id": "ff8b979d-5809-4cd8-8192-e107eae45edb",
   "metadata": {},
   "source": [
    "<b style=\"color:red;\">Question 1: What is the length of json? What type of object is the value associated with the key iss_position?</b>"
   ]
  },
  {
   "cell_type": "code",
   "execution_count": null,
   "id": "5cdc36af-9d09-4d0e-8cff-1301dd314775",
   "metadata": {},
   "outputs": [],
   "source": []
  },
  {
   "cell_type": "markdown",
   "id": "d244385c-6727-4863-b76a-f58dbb1a9304",
   "metadata": {},
   "source": [
    "Sometimes, it can be hard to see exactly what is in the response. It might be useful to look at the keys to see what data we actually want."
   ]
  },
  {
   "cell_type": "code",
   "execution_count": 35,
   "id": "b8473fbf-df96-4d65-b9ba-f1e7e048b5bd",
   "metadata": {},
   "outputs": [
    {
     "data": {
      "text/plain": [
       "dict_keys(['message', 'timestamp', 'iss_position'])"
      ]
     },
     "execution_count": 35,
     "metadata": {},
     "output_type": "execute_result"
    }
   ],
   "source": [
    "json_result.keys()  # View JSON keys"
   ]
  },
  {
   "cell_type": "markdown",
   "id": "622dea8a-1655-43a4-b59c-db74229f6c43",
   "metadata": {},
   "source": [
    "Note that we have three keys: message, iss_position, and timestamp. The information that we really want is in the iss_position key. We can try taking a look at it."
   ]
  },
  {
   "cell_type": "code",
   "execution_count": 36,
   "id": "538464ed-3112-4215-a61c-f7ae896c1351",
   "metadata": {},
   "outputs": [
    {
     "data": {
      "text/plain": [
       "{'latitude': '12.0068', 'longitude': '161.9452'}"
      ]
     },
     "execution_count": 36,
     "metadata": {},
     "output_type": "execute_result"
    }
   ],
   "source": [
    "json_result['iss_position']\n"
   ]
  },
  {
   "cell_type": "markdown",
   "id": "f2b911ec-0c24-40d1-9e18-cd75b9cd0c72",
   "metadata": {},
   "source": [
    "## Adding Queries to the API Request\n",
    "The ISS API is a very simple example of an API. There is only one thing that we can get from it: the position of the ISS at the point in time that we send the request. Usually, we also have query parameters that we add so that we can specify exactly what data we want to get. For example, if you wanted to get data about the US, there's lots of different variables that you might be interested, over different time frames. These are things that you might need to specify to get the data you need.\n",
    "\n",
    "Consider the Data USA API, which can be found here: https://datausa.io/about/api/. This is an API that you can use to get information about various statistics about the US, broken down by categories like State or Year. Let's look at an example of constructing the API query."
   ]
  },
  {
   "cell_type": "code",
   "execution_count": 37,
   "id": "8e767d4c-195c-490a-a6c8-4e3e2ae60977",
   "metadata": {},
   "outputs": [
    {
     "data": {
      "text/plain": [
       "200"
      ]
     },
     "execution_count": 37,
     "metadata": {},
     "output_type": "execute_result"
    }
   ],
   "source": [
    "datausa_base_url = 'https://datausa.io/api/data'\n",
    "parameters = {'drilldowns': 'State', 'measures':'Population' ,'year':2020}\n",
    "datausa_response = get(datausa_base_url, params = parameters) \n",
    "datausa_response.status_code\n",
    "\n",
    "\n"
   ]
  },
  {
   "cell_type": "code",
   "execution_count": 38,
   "id": "750e2d9a-68ea-49bf-8093-8e1e089567b7",
   "metadata": {},
   "outputs": [
    {
     "data": {
      "text/plain": [
       "'https://datausa.io/api/data?drilldowns=State&measures=Population&year=2020'"
      ]
     },
     "execution_count": 38,
     "metadata": {},
     "output_type": "execute_result"
    }
   ],
   "source": [
    "datausa_response.url"
   ]
  },
  {
   "cell_type": "markdown",
   "id": "78b0e958-8709-458b-91fd-765c758404d3",
   "metadata": {},
   "source": [
    "(here again, you might just try plugging this into your browser and taking a look at the result. The `get` function is taking our base URL and some query parameters and building a link for us)"
   ]
  },
  {
   "cell_type": "markdown",
   "id": "3a32a832-3b0e-4274-a1ed-f3ec071ab754",
   "metadata": {},
   "source": [
    "Here, we start with the base URL and add the queries that we want to include. The way to define the parameters to get the data you want should generally be described within the API documentation (the Data USA website isn't the best about this, but they do include some examples to help you see how this might be constructed). In our example above, we want the `Population` of each state in the year 2020. Looking at the documentation from the Data USA site, we can see that we should specify a drilldown of `State`, a measure of `Population`, and a `year` of 2020. This helps us to construct the final URL which retrieves the data we want.\n",
    "\n",
    "You can try looking at that URL and actually navigating to it. You should see the JSON of the response we get from it."
   ]
  },
  {
   "cell_type": "code",
   "execution_count": 39,
   "id": "5304136b-ce68-4934-aa6a-d711660ef3f5",
   "metadata": {},
   "outputs": [],
   "source": [
    "pop_by_state_2020 = datausa_response.json()"
   ]
  },
  {
   "cell_type": "markdown",
   "id": "426207c0-9331-466c-8215-e24951f90f9f",
   "metadata": {},
   "source": [
    "<b style=\"color:red;\"> Question 2: What are the keys in pop_by_state_2020? What are the types of objects for the values for those keys? What is the source of the data that we pulled?</b>"
   ]
  },
  {
   "cell_type": "code",
   "execution_count": null,
   "id": "caba5075-3c86-43ef-b9c4-455e3cc44341",
   "metadata": {},
   "outputs": [],
   "source": []
  },
  {
   "cell_type": "markdown",
   "id": "8a912659-5f64-4ba5-91d6-07f16fae210b",
   "metadata": {},
   "source": [
    "<b style=\"color:red;\">Question 3: Assign the population of Alabama to alabama_pop. Do not hard code anything (that is, retrieve the information from pop_by_state_2020 instead of just typing out the number after reading it).\n",
    "</b>"
   ]
  },
  {
   "cell_type": "code",
   "execution_count": null,
   "id": "66be0863-7183-47ff-95c6-588ee05265c7",
   "metadata": {},
   "outputs": [],
   "source": []
  },
  {
   "cell_type": "markdown",
   "id": "8d119187-9797-498c-ac29-9d8e2b794c82",
   "metadata": {},
   "source": [
    "\n",
    "## Exploring the Data\n",
    "Looking through the various tools within the Data USA website, you should be able to find other drilldowns, measures, and characteristics you can request data about. For example, to get the total population in 2020 broken down by citizenship status, we can use the drilldown of Citizenship Status with a measure of Total Population and a year of 2020.\n"
   ]
  },
  {
   "cell_type": "code",
   "execution_count": 40,
   "id": "efdbe5f3-cef3-453e-baad-46a36161012d",
   "metadata": {},
   "outputs": [
    {
     "name": "stdout",
     "output_type": "stream",
     "text": [
      "https://datausa.io/api/data?drilldowns=Citizenship+Status&measure=Total+Population&Year=2020\n"
     ]
    },
    {
     "data": {
      "text/plain": [
       "{'data': [{'ID Citizenship Status': 5,\n",
       "   'Citizenship Status': 'Not a citizen of the U.S.',\n",
       "   'ID Year': 2020,\n",
       "   'Year': '2020',\n",
       "   'Total Population': 21981211},\n",
       "  {'ID Citizenship Status': 1,\n",
       "   'Citizenship Status': 'Born in the U.S.',\n",
       "   'ID Year': 2020,\n",
       "   'Year': '2020',\n",
       "   'Total Population': 277039429},\n",
       "  {'ID Citizenship Status': 2,\n",
       "   'Citizenship Status': 'Born in Puerto Rico, Guam, the U.S. Virgin Islands, or the Northern Marianas',\n",
       "   'ID Year': 2020,\n",
       "   'Year': '2020',\n",
       "   'Total Population': 5036174},\n",
       "  {'ID Citizenship Status': 3,\n",
       "   'Citizenship Status': 'Born abroad of American parent(s)',\n",
       "   'ID Year': 2020,\n",
       "   'Year': '2020',\n",
       "   'Total Population': 3250155},\n",
       "  {'ID Citizenship Status': 4,\n",
       "   'Citizenship Status': 'U.S. citizen by naturalization',\n",
       "   'ID Year': 2020,\n",
       "   'Year': '2020',\n",
       "   'Total Population': 22517983}],\n",
       " 'source': [{'measures': ['Total Population'],\n",
       "   'annotations': {'source_name': 'Census Bureau',\n",
       "    'source_description': 'The American Community Survey (ACS) Public Use Microdata Sample (PUMS) files are a set of untabulated records about individual people or housing units. The Census Bureau produces the PUMS files so that data users can create custom tables that are not available through pretabulated (or summary) ACS data products.',\n",
       "    'dataset_name': 'ACS PUMS 5-Year Estimate',\n",
       "    'dataset_link': 'https://www.census.gov/programs-surveys/acs/microdata.html',\n",
       "    'subtopic': 'Demographics',\n",
       "    'table_id': 'PUMS',\n",
       "    'topic': 'Diversity',\n",
       "    'hidden_measures': 'ygbpop RCA,ygopop RCA,ygipop RCA,yocpop RCA,yiopop RCA,ycbpop RCA'},\n",
       "   'name': 'pums_5',\n",
       "   'substitutions': []}]}"
      ]
     },
     "execution_count": 40,
     "metadata": {},
     "output_type": "execute_result"
    }
   ],
   "source": [
    "parameters = {'drilldowns': 'Citizenship Status', 'measure':'Total Population', \"Year\":2020}\n",
    "\n",
    "response = get(datausa_base_url, params = parameters)\n",
    "print(response.url)\n",
    "response.json()\n"
   ]
  },
  {
   "cell_type": "code",
   "execution_count": 41,
   "id": "aa84b076-9134-4b99-a42c-e5cefbde3fb1",
   "metadata": {},
   "outputs": [],
   "source": [
    "response_with_full_url = get('https://datausa.io/api/data?drilldowns=Citizenship+Status&measure=Total+Population&Year=2020')\n"
   ]
  },
  {
   "cell_type": "code",
   "execution_count": 42,
   "id": "dd4a16ed-c1bb-43d3-8c8f-d2d346fbdfc1",
   "metadata": {},
   "outputs": [
    {
     "data": {
      "text/plain": [
       "{'data': [{'ID Citizenship Status': 5,\n",
       "   'Citizenship Status': 'Not a citizen of the U.S.',\n",
       "   'ID Year': 2020,\n",
       "   'Year': '2020',\n",
       "   'Total Population': 21981211},\n",
       "  {'ID Citizenship Status': 1,\n",
       "   'Citizenship Status': 'Born in the U.S.',\n",
       "   'ID Year': 2020,\n",
       "   'Year': '2020',\n",
       "   'Total Population': 277039429},\n",
       "  {'ID Citizenship Status': 2,\n",
       "   'Citizenship Status': 'Born in Puerto Rico, Guam, the U.S. Virgin Islands, or the Northern Marianas',\n",
       "   'ID Year': 2020,\n",
       "   'Year': '2020',\n",
       "   'Total Population': 5036174},\n",
       "  {'ID Citizenship Status': 3,\n",
       "   'Citizenship Status': 'Born abroad of American parent(s)',\n",
       "   'ID Year': 2020,\n",
       "   'Year': '2020',\n",
       "   'Total Population': 3250155},\n",
       "  {'ID Citizenship Status': 4,\n",
       "   'Citizenship Status': 'U.S. citizen by naturalization',\n",
       "   'ID Year': 2020,\n",
       "   'Year': '2020',\n",
       "   'Total Population': 22517983}],\n",
       " 'source': [{'measures': ['Total Population'],\n",
       "   'annotations': {'source_name': 'Census Bureau',\n",
       "    'source_description': 'The American Community Survey (ACS) Public Use Microdata Sample (PUMS) files are a set of untabulated records about individual people or housing units. The Census Bureau produces the PUMS files so that data users can create custom tables that are not available through pretabulated (or summary) ACS data products.',\n",
       "    'dataset_name': 'ACS PUMS 5-Year Estimate',\n",
       "    'dataset_link': 'https://www.census.gov/programs-surveys/acs/microdata.html',\n",
       "    'subtopic': 'Demographics',\n",
       "    'table_id': 'PUMS',\n",
       "    'topic': 'Diversity',\n",
       "    'hidden_measures': 'ygbpop RCA,ygopop RCA,ygipop RCA,yocpop RCA,yiopop RCA,ycbpop RCA'},\n",
       "   'name': 'pums_5',\n",
       "   'substitutions': []}]}"
      ]
     },
     "execution_count": 42,
     "metadata": {},
     "output_type": "execute_result"
    }
   ],
   "source": [
    "response_with_full_url.json()\n"
   ]
  },
  {
   "cell_type": "markdown",
   "id": "61465abc-d4be-4239-b631-3ca0d3f40597",
   "metadata": {},
   "source": [
    "<b style=\"color:red;\">Question 4: Pull from the Data USA API to get the breakdown of the number of people by Gender in the US in the year 2020.</b>\n",
    "\n"
   ]
  },
  {
   "cell_type": "code",
   "execution_count": 43,
   "id": "b8e171b4-0642-4e6a-9b27-2a006ab1affc",
   "metadata": {},
   "outputs": [],
   "source": [
    "# Hint: You can use Gender for this.\n"
   ]
  },
  {
   "cell_type": "markdown",
   "id": "f9225d3d-a3e1-4983-a908-791636485ae4",
   "metadata": {},
   "source": [
    "You can also include multiple variables in your parameters by including the variable names in a list. Take a look at the URL to see what happens when you do this. You should be able to see the way that the URL is constructed, as well as the resulting data that you get back from this request."
   ]
  },
  {
   "cell_type": "code",
   "execution_count": 44,
   "id": "fcab6225-b558-434c-8b58-8c9564df91d9",
   "metadata": {},
   "outputs": [
    {
     "name": "stdout",
     "output_type": "stream",
     "text": [
      "https://datausa.io/api/data?drilldowns=State&drilldowns=Citizenship+Status&measures=Total+Population&Year=2020\n"
     ]
    }
   ],
   "source": [
    "parameters = {'drilldowns': ['State','Citizenship Status'], 'measures':'Total Population', \"Year\":2020}\n",
    "\n",
    "citizenship_by_state_response = get(datausa_base_url, params = parameters)\n",
    "print(citizenship_by_state_response.url)\n",
    "citizenship_by_state = citizenship_by_state_response.json()['data']"
   ]
  },
  {
   "cell_type": "markdown",
   "id": "8b59756b-3cbc-4a58-b2df-38214639b5b2",
   "metadata": {},
   "source": [
    "<b style=\"color:red;\">Question 5: What type of object is citizenship_by_state? What is the length of citizenship_by_state? What are the types of objects that are inside citizenship_by_state?</b>\n"
   ]
  },
  {
   "cell_type": "code",
   "execution_count": null,
   "id": "5e3ae93b-5d70-4a07-b38f-299276d7d10d",
   "metadata": {},
   "outputs": [],
   "source": []
  },
  {
   "cell_type": "markdown",
   "id": "089a231d-3e7f-42c2-b2c6-e2854c594478",
   "metadata": {},
   "source": [
    "# Dictionary Comprehension\n",
    "Dictionary comprehension is very similar to list comprehension, except we create a dictionary instead of a list as the output. We have the same format, except it is in curly braces ({}) and includes an expression for how we should define the keys as well as the values.\n",
    "\n",
    "Recall: Loop structure looks like"
   ]
  },
  {
   "cell_type": "markdown",
   "id": "24d2ca7e-b547-4afd-aa13-e7d2150220a2",
   "metadata": {},
   "source": [
    "`for i in <range>:`\n",
    "<br>\n",
    "    `   <some expression>`"
   ]
  },
  {
   "cell_type": "markdown",
   "id": "946252d3-74d5-4883-9758-18a08b4b3a08",
   "metadata": {},
   "source": [
    "Dictionary comprehension would look something like this: \n",
    "\n",
    "`{<key expression>:<value expression> for i in <range>}`\n",
    "\n",
    "\n",
    "For example:"
   ]
  },
  {
   "cell_type": "code",
   "execution_count": 45,
   "id": "cfe6dea3-70c8-4675-8a74-ea259acc7add",
   "metadata": {},
   "outputs": [
    {
     "data": {
      "text/plain": [
       "{0: 0, 1: 2, 2: 4, 3: 6, 4: 8, 5: 10, 6: 12, 7: 14, 8: 16, 9: 18}"
      ]
     },
     "execution_count": 45,
     "metadata": {},
     "output_type": "execute_result"
    }
   ],
   "source": [
    "{x:x*2 for x in range(10)}"
   ]
  },
  {
   "cell_type": "markdown",
   "id": "25be09d8-18cb-476c-abe2-02ee3ca5afb0",
   "metadata": {},
   "source": [
    "<b style=\"color:red;\"><b style=\"color:red;\">Question 6: Create a dictionary called noncitizens that contains the number of non-citizens in each state. The key should contain the state name and the value should be the number of non-citizens.<b>"
   ]
  },
  {
   "cell_type": "code",
   "execution_count": null,
   "id": "4d59c546-0637-4b82-bc34-665dd211efd6",
   "metadata": {},
   "outputs": [],
   "source": []
  },
  {
   "cell_type": "markdown",
   "id": "7775899c-07fa-4da1-80e1-8100982c1ab5",
   "metadata": {},
   "source": [
    "<b style=\"color:red;\">Question 7: In 2015, what was the average wage by race for male and female workers? Create two dictionaries, one called `male_wages` and one called `female_wages`, with keys representing race category and values representing the average wage for people in that group.</b>\n",
    "\n",
    "\n"
   ]
  },
  {
   "cell_type": "code",
   "execution_count": null,
   "id": "7c03b02b-6179-4514-8806-93c886ab21fc",
   "metadata": {},
   "outputs": [],
   "source": []
  },
  {
   "cell_type": "markdown",
   "id": "54e19f26-ff8a-45d4-a86c-77ca0b3e6e43",
   "metadata": {},
   "source": [
    "APIs are generally useful because they are typically well-documented and come with example code. This is because the data provider wants to make the data available to others. However, there are many cases in which the documentation can be confusing or misleading. In addition, there might be times when building the URL can be a bit difficult or may not follow the exact conventions that you are used to. Feel free to try building the URL manually and navigating to it so that you can see\n",
    "the JSON response before using it in Python. Sometimes, the best way to check something is by trying it out in the browser!"
   ]
  }
 ],
 "metadata": {
  "kernelspec": {
   "display_name": "Python 3 (ipykernel)",
   "language": "python",
   "name": "python3"
  },
  "language_info": {
   "codemirror_mode": {
    "name": "ipython",
    "version": 3
   },
   "file_extension": ".py",
   "mimetype": "text/x-python",
   "name": "python",
   "nbconvert_exporter": "python",
   "pygments_lexer": "ipython3",
   "version": "3.12.2"
  }
 },
 "nbformat": 4,
 "nbformat_minor": 5
}
