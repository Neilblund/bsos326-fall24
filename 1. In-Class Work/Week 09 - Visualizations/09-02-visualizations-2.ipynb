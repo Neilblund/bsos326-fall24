{
 "cells": [
  {
   "cell_type": "markdown",
   "metadata": {
    "tags": []
   },
   "source": [
    "# Customizing Visualizations\n",
    "\n",
    "Use **Code** cells to write and run any code you need to answer the question and **Markdown** cells to write out answers in words. After you are finished with the assignment, remember to download it as an **HTML file** and submit it in **ELMS**."
   ]
  },
  {
   "cell_type": "code",
   "execution_count": null,
   "metadata": {},
   "outputs": [],
   "source": [
    "from requests import get\n",
    "\n",
    "import numpy as np \n",
    "import pandas as pd\n",
    "import matplotlib.pyplot as plt\n",
    "%matplotlib inline"
   ]
  },
  {
   "cell_type": "markdown",
   "metadata": {
    "tags": []
   },
   "source": [
    "## Adjustments to Visualizations\n",
    "\n",
    "Many times, we want to add more customizations to a visualization than just adding a title or labeling axes. This might include additional text or lines to clarify relationships, or changing the color scheme to make certain parts of the graph more clear. These can add to the visual appeal of the graph, but also add to the clarity and successful delivery of information. \n",
    "\n",
    "In this notebook, we will discuss some techniques to add features to graphs and make them look nicer while keeping in mind the elements that are key for a successful visualization. \n",
    "\n",
    "Let's start by bringing in some data that we can make plots with."
   ]
  },
  {
   "cell_type": "code",
   "execution_count": null,
   "metadata": {
    "tags": []
   },
   "outputs": [],
   "source": [
    "with open('census-key.txt', 'r') as f:\n",
    "    census_key = f.readline()"
   ]
  },
  {
   "cell_type": "code",
   "execution_count": null,
   "metadata": {
    "tags": []
   },
   "outputs": [],
   "source": [
    "from acs_data import get_county_data\n",
    "from acs_data import get_us_data"
   ]
  },
  {
   "cell_type": "markdown",
   "metadata": {},
   "source": [
    "The `get_county_data` function (defined in `acs_data.py`) gets county-level data on characteristics like number of households, mean income, percent employed, percent with a bachelor's degree, and percent with a graduate degree. The `get_us_data` function does the same for the US as a whole (so there will be only one row). "
   ]
  },
  {
   "cell_type": "code",
   "execution_count": null,
   "metadata": {
    "tags": []
   },
   "outputs": [],
   "source": [
    "census_data = get_county_data(2022, census_key)\n",
    "census_data.head()"
   ]
  },
  {
   "cell_type": "code",
   "execution_count": null,
   "metadata": {
    "tags": []
   },
   "outputs": [],
   "source": [
    "us_data = get_us_data(2022, census_key)\n",
    "us_data"
   ]
  },
  {
   "cell_type": "markdown",
   "metadata": {},
   "source": [
    "## Styles\n",
    "\n",
    "So far, we have just been using the default style for graphs. For example, if we create a quick graph, it might look like this."
   ]
  },
  {
   "cell_type": "code",
   "execution_count": null,
   "metadata": {
    "tags": []
   },
   "outputs": [],
   "source": [
    "census_data.mean_income.hist()"
   ]
  },
  {
   "cell_type": "markdown",
   "metadata": {
    "tags": []
   },
   "source": [
    "One easy way to change the overall look of the graph is by trying out different styles. For example, you could use the default style used with ggplot, which is a visualization package first developed for R and is widely used. "
   ]
  },
  {
   "cell_type": "code",
   "execution_count": null,
   "metadata": {
    "tags": []
   },
   "outputs": [],
   "source": [
    "plt.style.use('ggplot')\n",
    "fig, axes = plt.subplots(figsize=(8,6))\n",
    "census_data.mean_income.hist(bins=20)\n",
    "axes.set_xlabel(\"Mean Income\")\n",
    "axes.set_ylabel(\"Frequency\")\n",
    "axes.set_title(\"Mean Income for Counties in the US\")"
   ]
  },
  {
   "cell_type": "markdown",
   "metadata": {},
   "source": [
    "Alternatively, you could use the style used by FiveThirtyEight (https://fivethirtyeight.com/about-us/), which became popular for its use of graphics to show polling results as well as successful election predictions."
   ]
  },
  {
   "cell_type": "code",
   "execution_count": null,
   "metadata": {
    "tags": []
   },
   "outputs": [],
   "source": [
    "plt.style.use('fivethirtyeight')\n",
    "\n",
    "fig, axes = plt.subplots(figsize=(8,6))\n",
    "census_data.mean_income.hist(bins=20)\n",
    "axes.set_xlabel(\"Mean Income\")\n",
    "axes.set_ylabel(\"Frequency\")\n",
    "axes.set_title(\"Mean Income for Counties in the US\")"
   ]
  },
  {
   "cell_type": "markdown",
   "metadata": {},
   "source": [
    "More plotting styles are provided in the matplotlib documentation here: https://matplotlib.org/stable/gallery/style_sheets/style_sheets_reference.html"
   ]
  },
  {
   "cell_type": "markdown",
   "metadata": {},
   "source": [
    "## Adding Lines\n",
    "\n",
    "Suppose we wanted to show what the overall US mean income value was on this histogram. We could do this by adding a line and adding a note about what that line represents. The `axvline` function adds a vertical line by providing the x value that it should be at, as well as providing some specifications for what that line should look like. The `color` argument adjusts the color, while `ls` adjusts the type of line. Since we want to distinguish it from the bars on the graph, we use red to contrast from the blue and make it dashed instead of solid. "
   ]
  },
  {
   "cell_type": "code",
   "execution_count": null,
   "metadata": {
    "tags": []
   },
   "outputs": [],
   "source": [
    "us_mean_income = us_data.mean_income[0]"
   ]
  },
  {
   "cell_type": "code",
   "execution_count": null,
   "metadata": {
    "tags": []
   },
   "outputs": [],
   "source": [
    "fig, axes = plt.subplots(figsize=(8,6))\n",
    "census_data.mean_income.hist(bins=20)\n",
    "axes.set_xlabel(\"Mean Income\")\n",
    "axes.set_ylabel(\"Frequency\")\n",
    "axes.set_title(\"Mean Income for Counties in the US\")\n",
    "plt.axvline(x = us_mean_income, color = 'red', ls = '--')"
   ]
  },
  {
   "cell_type": "markdown",
   "metadata": {},
   "source": [
    "### Adding Annotations\n",
    "\n",
    "The line might be helpful in identifying where the mean income for the US overall might be, but we can't tell what the value is exactly. In order to make it clear where that line is, we can add an annotation with the exact value. We use the `annotate` method to add the annotation on the Axes object. In the example below, we use f-strings to construct the exact text we want to put on the graph and specify the location of the text using the data coordinates. We want it a little bit offset from the actual mean so that the text isn't right on the line, so we add `5000` to the x-value of the location, then put it sufficiently high up so that it isn't running into any bars. \n",
    "\n",
    "Note that we use a slightly fancy f-string here as well. The `{us_mean_income:,}` means that it should insert the value in `us_mean_income` while using commas for every three digits, similar to how it might be shown when writing numbers in English. This makes it easier to read on the graph."
   ]
  },
  {
   "cell_type": "code",
   "execution_count": null,
   "metadata": {
    "tags": []
   },
   "outputs": [],
   "source": [
    "fig, axes = plt.subplots(figsize=(6,4))\n",
    "census_data.mean_income.hist(bins=20)\n",
    "axes.set_xlabel(\"Mean Income\")\n",
    "axes.set_ylabel(\"Frequency\")\n",
    "axes.set_title(\"Mean Income for Counties in the US\")\n",
    "plt.axvline(x = us_data.mean_income[0], color = 'red', ls = '--')\n",
    "axes.annotate(f\"Mean Income for US: ${us_mean_income:,}\", \n",
    "              xy=(us_mean_income + 5000, 150), xycoords='data')"
   ]
  },
  {
   "cell_type": "markdown",
   "metadata": {},
   "source": [
    "We also could have added the text using the figure coordinates by pixels or percentage of the full figure. For example, to add the text start halfway on the x-axis and 80% in height on the y-axis, we can use `xycoords = 'figure fraction'` with `xy=(0.5, 0.8)`. The `(0,0)` point is the bottom left, while `(1,1)` is on the top right. This might require a bit of fiddling around with the values to make sure it is in the right place."
   ]
  },
  {
   "cell_type": "code",
   "execution_count": null,
   "metadata": {
    "tags": []
   },
   "outputs": [],
   "source": [
    "fig, axes = plt.subplots(figsize=(6,4))\n",
    "census_data.mean_income.hist(bins=20)\n",
    "axes.set_xlabel(\"Mean Income\")\n",
    "axes.set_ylabel(\"Frequency\")\n",
    "axes.set_title(\"Mean Income for Counties in the US\")\n",
    "plt.axvline(x = us_data.mean_income[0], color = 'red', ls = '--')\n",
    "axes.annotate(f\"Mean Income for US: ${us_mean_income:,}\", \n",
    "              xy=(0.5, 0.8), xycoords='figure fraction')"
   ]
  },
  {
   "cell_type": "markdown",
   "metadata": {},
   "source": [
    "We might want to make it a bit more clearer that this line represents the mean, too. That is, we might want to draw an arrow that indicates that the text is describing that line. To do this, we can add arguments to the `annotate` method to have it draw an arrow and give it where the arrow should be pointing. The `xy` argument indicates where on the graph the arrow should be pointing, and the `xytext` argument indicates where on the graph the text should be. An arrow will then be drawn from the text to the point in `xy`. "
   ]
  },
  {
   "cell_type": "code",
   "execution_count": null,
   "metadata": {
    "tags": []
   },
   "outputs": [],
   "source": [
    "fig, axes = plt.subplots(figsize=(6,4))\n",
    "census_data.mean_income.hist(bins=20)\n",
    "axes.set_xlabel(\"Mean Income\")\n",
    "axes.set_ylabel(\"Frequency\")\n",
    "axes.set_title(\"Mean Income for Counties in the US\")\n",
    "plt.axvline(x = us_data.mean_income[0], color = 'red', ls = '--')\n",
    "axes.annotate(f\"Mean Income for US: ${us_mean_income:,}\", \n",
    "              xy=(us_mean_income, 150), xycoords='data',\n",
    "             xytext = (us_mean_income + 20000, 140), textcoords = 'data',\n",
    "             arrowprops=dict(facecolor='black', shrink=0.05),\n",
    "             horizontalalignment='left', verticalalignment='top')"
   ]
  },
  {
   "cell_type": "markdown",
   "metadata": {},
   "source": [
    "<font color ='red'>**Question 1: Consider the scatterplot shown below. Add an annotation to show the county name of the point with the highest percent of people with a bachelor's degree as well as the lowest percent of people with a bachelor's degree.**</font>"
   ]
  },
  {
   "cell_type": "code",
   "execution_count": null,
   "metadata": {
    "tags": []
   },
   "outputs": [],
   "source": [
    "income_bachelors = census_data[['mean_income','percent_bachelors']]\n",
    "\n",
    "fig, axes = plt.subplots(figsize=(8,6))\n",
    "income_bachelors.plot.scatter(x = 'percent_bachelors', y = 'mean_income', ax = axes)\n",
    "axes.set_xlabel(\"Percent of people with a bachelor's degree\")\n",
    "axes.set_ylabel(\"Mean Income\")\n",
    "axes.set_title(\"Mean Income by Percent Bachelors for Counties in the US\")"
   ]
  },
  {
   "cell_type": "markdown",
   "metadata": {
    "tags": []
   },
   "source": [
    "## Adjusting Categories \n",
    "\n",
    "Sometimes, when you make a graph with a categorical variables, the order of the categories gets mixed around and isn't really in a sensical order. This happens most often with **ordinal** variables, in which the values of the categorical variables are ordered in some way (for example, something like shirt size with small, medium, and large). \n",
    "\n",
    "Let's take a look at some categorical variables from the Pulse of the Nation dataset."
   ]
  },
  {
   "cell_type": "code",
   "execution_count": null,
   "metadata": {},
   "outputs": [],
   "source": [
    "data_file = '201807-CAH_PulseOfTheNation_Raw.csv'\n",
    "potn = pd.read_csv(data_file)\n",
    "potn.head()"
   ]
  },
  {
   "cell_type": "code",
   "execution_count": null,
   "metadata": {
    "tags": []
   },
   "outputs": [],
   "source": [
    "potn.political_party.value_counts().plot.barh()"
   ]
  },
  {
   "cell_type": "markdown",
   "metadata": {},
   "source": [
    "This graph organizes the values in increasing order, but it can be a bit confusing to try to get an idea of the overall spectrum of political parties because the Republican and Democrat categories are all mixed up. In order to reorder these categories, we can convert the `political_party` column in our DataFrame to a `pd.Categorical` type and use our own ordering of the categories. This will enforce that ordering when the graph is made.\n",
    "\n"
   ]
  },
  {
   "cell_type": "code",
   "execution_count": null,
   "metadata": {
    "tags": []
   },
   "outputs": [],
   "source": [
    "pol_parties = ['Strong Democrat', 'Not Very strong Democrat', 'Independent', \n",
    "               'Not very Strong Republican','Strong Republican',\n",
    "              'DK/REF']\n",
    "pd.Categorical(potn.political_party, categories = pol_parties)\n",
    "potn.political_party.value_counts()[pol_parties].plot.barh()\n"
   ]
  },
  {
   "cell_type": "markdown",
   "metadata": {},
   "source": [
    "<font color ='red'>**Question 2: Create a bar graph of the education level for the Pulse of the Nation dataset. Make sure it is in a reasonable order.**</font>"
   ]
  },
  {
   "cell_type": "code",
   "execution_count": null,
   "metadata": {
    "tags": []
   },
   "outputs": [],
   "source": [
    "\n",
    "\n",
    "\n"
   ]
  },
  {
   "cell_type": "markdown",
   "metadata": {},
   "source": [
    "## Using colors\n",
    "\n",
    "The plotting defaults typically provide colors that work well for a given graph. However, sometimes, you might want to adjust these colors to better represent the data. This is often pertinent when using an ordinal variable, especially for a variable like political party, where a standard color is associated with the groups (blue for Democrats, red for Republicans). The default colors might be misleading in these cases, so it would be good to set our own colors. Let's take a look at an example by comparing political party by gender in the Pulse of the Nation dataset.\n",
    "\n",
    "Recall that we used `pd.crosstab` to look at comparisons of two categorical variables, with the `normalize` argument allowing us to get proportions rather than raw numbers."
   ]
  },
  {
   "cell_type": "code",
   "execution_count": null,
   "metadata": {
    "tags": []
   },
   "outputs": [],
   "source": [
    "party_by_gender = pd.crosstab(potn.gender,potn.political_party, normalize='index')"
   ]
  },
  {
   "cell_type": "markdown",
   "metadata": {},
   "source": [
    "We will create a stacked bar chart so that we can look at the comparisons of proportions across genders. Note that since we used `normalize=index`, the overall length of all the bars should be 1."
   ]
  },
  {
   "cell_type": "code",
   "execution_count": null,
   "metadata": {
    "tags": []
   },
   "outputs": [],
   "source": [
    "fig, axes = plt.subplots(figsize=(8,6))\n",
    "party_by_gender.plot.barh(stacked = True, ax = axes)"
   ]
  },
  {
   "cell_type": "markdown",
   "metadata": {},
   "source": [
    "There are a lot of things that we need to fix with this graph! First, as mentioned before, the colors are very confusing. Blue does not correspond to Democrats, nor does the color that is closest to red correspond to Republicans. In addition, we lost the ordering of the political parties when we used the `pd.crosstab` function. Finally, the legend is covering up part of the graph, making this harder to read.\n",
    "\n",
    "Let's address each of these one by one. First, we will make sure that the order of the political parties is adjusted to match what we had used before, so that we have Independent in between the Democrats and Republicans, with DK/REF separated out. Then, we'll move the legend by using the `.legend()` method with the `bbox_to_anchor` argument providing a way for us to adjust the location. The `ncol = 3` argument makes it so that the categories are displaying more horizontal, saving space. "
   ]
  },
  {
   "cell_type": "code",
   "execution_count": null,
   "metadata": {
    "tags": []
   },
   "outputs": [],
   "source": [
    "party_by_gender = party_by_gender.loc[:,pol_parties]\n",
    "\n",
    "fig, axes = plt.subplots(figsize=(8,6))\n",
    "party_by_gender.plot.barh(stacked = True, ax = axes)\n",
    "axes.legend(loc='lower center', bbox_to_anchor=(0.5, -0.3), ncol = 3)"
   ]
  },
  {
   "cell_type": "markdown",
   "metadata": {},
   "source": [
    "We still have an issue with the colors. We'd like to adjust these to better represent the parties. To do this, we can use the `color` argument within `barh` so that we assign colors to the six categories. This can be done using a myriad of methods, such as specifying hex RGB values or using existing named colors. Here, we simply use the names, but you can check the matplotlib color section to see other ways of specifying colors here: https://matplotlib.org/stable/gallery/color/color_demo.html. \n",
    "\n",
    "A list of named colors can be found here: https://matplotlib.org/stable/gallery/color/named_colors.html."
   ]
  },
  {
   "cell_type": "code",
   "execution_count": null,
   "metadata": {
    "tags": []
   },
   "outputs": [],
   "source": [
    "fig, axes = plt.subplots(figsize=(8,6))\n",
    "party_by_gender.plot.barh(stacked = True, color = ['royalblue','skyblue', 'plum',\n",
    "                                                    'orangered','crimson','gray'],\n",
    "                         ax = axes)\n",
    "axes.legend(loc='lower center', bbox_to_anchor=(0.5, -0.3), ncol = 3)\n"
   ]
  },
  {
   "cell_type": "markdown",
   "metadata": {},
   "source": [
    "We could have also used existing color maps from matplotlib to get some colors from a range. For example, we might want to use the blue-red-green range, and get some colors from the blue to red scale and set the \"DK/REF\" as green to separate it out from the political parties. \n",
    "\n",
    "For a list of colormaps, see https://matplotlib.org/stable/gallery/color/colormap_reference.html"
   ]
  },
  {
   "cell_type": "code",
   "execution_count": null,
   "metadata": {
    "tags": []
   },
   "outputs": [],
   "source": [
    "import matplotlib as mpl\n",
    "cmap = mpl.colormaps['brg']\n",
    "cmap"
   ]
  },
  {
   "cell_type": "code",
   "execution_count": null,
   "metadata": {
    "tags": []
   },
   "outputs": [],
   "source": [
    "colors = cmap(np.linspace(0, 1, 11))\n",
    "colors"
   ]
  },
  {
   "cell_type": "code",
   "execution_count": null,
   "metadata": {},
   "outputs": [],
   "source": [
    "fig, axes = plt.subplots(figsize=(8,6))\n",
    "party_by_gender.plot.barh(stacked = True, color = colors[[0,1,2,3,4,10]],\n",
    "                         ax = axes)\n",
    "axes.legend(loc='lower center', bbox_to_anchor=(0.5, -0.3), ncol = 3)"
   ]
  },
  {
   "cell_type": "markdown",
   "metadata": {},
   "source": [
    "<font color ='red'>**Question 3: Create a visualization that looks at the relationship between the `biz_regulations` variable and the `political_party` variable. Make sure you adjust colors and reorder variables as appropriate. Does it look like there is a relationship?**</font>"
   ]
  },
  {
   "cell_type": "code",
   "execution_count": null,
   "metadata": {},
   "outputs": [],
   "source": [
    "biz_by_gender = pd.crosstab(potn.biz_regulations,potn.political_party, normalize='index')\n",
    "biz_by_gender\n",
    "\n"
   ]
  }
 ],
 "metadata": {
  "kernelspec": {
   "display_name": "Python 3 (ipykernel)",
   "language": "python",
   "name": "python3"
  },
  "language_info": {
   "codemirror_mode": {
    "name": "ipython",
    "version": 3
   },
   "file_extension": ".py",
   "mimetype": "text/x-python",
   "name": "python",
   "nbconvert_exporter": "python",
   "pygments_lexer": "ipython3",
   "version": "3.10.9"
  },
  "toc": {
   "base_numbering": 1,
   "nav_menu": {},
   "number_sections": false,
   "sideBar": false,
   "skip_h1_title": false,
   "title_cell": "Table of Contents",
   "title_sidebar": "Contents",
   "toc_cell": false,
   "toc_position": {},
   "toc_section_display": false,
   "toc_window_display": false
  }
 },
 "nbformat": 4,
 "nbformat_minor": 4
}
