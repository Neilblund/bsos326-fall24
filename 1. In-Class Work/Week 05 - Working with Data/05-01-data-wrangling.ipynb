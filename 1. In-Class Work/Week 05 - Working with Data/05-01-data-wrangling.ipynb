{
 "cells": [
  {
   "cell_type": "markdown",
   "metadata": {
    "tags": []
   },
   "source": [
    "# Data Wrangling\n",
    "\n",
    "Use **Code** cells to write and run any code you need to answer the question and **Markdown** cells to write out answers in words. After you are finished with the assignment, remember to download it as an **HTML file** and submit it in **ELMS**."
   ]
  },
  {
   "cell_type": "markdown",
   "metadata": {},
   "source": [
    "## Merging Data\n",
    "\n",
    "Suppose we had data from two different sources and wanted to combine them to look at relationships between variables and overall create a more comprehensive dataset. To do this, we'd have to **merge** the two datasets together. That is, we would need to make sure that the observations match on certain characteristics to make sure that it's the same entity (such as individual, county, state, etc.). Then, we'd need to get the variables from both datasets and make sure they are included in the full combined table for each observation.\n",
    "\n",
    "With all the different methods of data collection available nowadays, this is becoming more and more common. In this section, we'll go over how to handle data from multiple sources, and why we might want to use them together. "
   ]
  },
  {
   "cell_type": "code",
   "execution_count": null,
   "metadata": {},
   "outputs": [],
   "source": [
    "from requests import get\n",
    "\n",
    "import numpy as np \n",
    "import pandas as pd "
   ]
  },
  {
   "cell_type": "markdown",
   "metadata": {
    "tags": []
   },
   "source": [
    "## Census Data\n",
    "Let's first use the Census API to get some data to analyze. We'll bring in our census key from a text file first. Remember to copy and paste that file into this folder so that the following piece of code works."
   ]
  },
  {
   "cell_type": "code",
   "execution_count": null,
   "metadata": {
    "tags": []
   },
   "outputs": [],
   "source": [
    "with open('census-key.txt', 'r') as f:\n",
    "    census_key = f.readline()"
   ]
  },
  {
   "cell_type": "markdown",
   "metadata": {},
   "source": [
    "Let's start by bringing in a set of variables from the 2022 American Community Survey (ACS) Data Profiles tables. We'll look at some employment and education characteristics of people by state. The variables we'll want to pull are:\n",
    "- `NAME`: State name\n",
    "- `DP02_0001E`: Total number of households in the state\n",
    "- `DP03_0087E`: Mean income of people in the state\n",
    "- `DP03_0002PE`: Percent of people 16 years and older in labor force\n",
    "- `DP02_0068PE`: Percent of people 25 years and older with a Bachelor's Degree or higher\n",
    "- `DP02_0066PE`: Percent of people 25 years and older with a Graduate or Professional degree\n",
    "\n",
    "Note that we are going to be using the Data Profile table (note the DP at the beginning of each variable name) so the base url needs to be for that particular type of table. "
   ]
  },
  {
   "cell_type": "code",
   "execution_count": null,
   "metadata": {
    "tags": []
   },
   "outputs": [],
   "source": [
    "year = 2022\n",
    "census_base_url = f'https://api.census.gov/data/{year}/acs/acs1/profile'\n",
    "\n",
    "census_params = {'get':'NAME,DP02_0001E,DP03_0087E,DP03_0002PE,DP02_0068PE,DP02_0066PE',\n",
    "                 'for':'state:*',\n",
    "                 'key':census_key}\n",
    "\n",
    "r = get(census_base_url, params = census_params)\n",
    "r.status_code"
   ]
  },
  {
   "cell_type": "code",
   "execution_count": null,
   "metadata": {
    "tags": []
   },
   "outputs": [],
   "source": [
    "# Removing Puerto Rico due to lack of data.\n",
    "people_by_state = r.json()[:-1]"
   ]
  },
  {
   "cell_type": "code",
   "execution_count": null,
   "metadata": {
    "tags": []
   },
   "outputs": [],
   "source": [
    "keys = ['state', 'num_households','mean_income','percent_employed','percent_bachelors','percent_graduate']"
   ]
  },
  {
   "cell_type": "code",
   "execution_count": null,
   "metadata": {
    "tags": []
   },
   "outputs": [],
   "source": [
    "census_dict = {key:[float(state[keys.index(key)]) for state in people_by_state[1:]] for key in keys[1:]}\n",
    "census_dict['state'] = [state[0] for state in people_by_state[1:]]\n",
    "census_df = pd.DataFrame(census_dict)\n",
    "census_df.head()\n"
   ]
  },
  {
   "cell_type": "markdown",
   "metadata": {},
   "source": [
    "<font color ='red'>**Question 1: Read in the data from `states.csv` as a DataFrame called `states`. Look at the first few rows. What does it look like this dataset contains?**</font>"
   ]
  },
  {
   "cell_type": "code",
   "execution_count": null,
   "metadata": {
    "tags": []
   },
   "outputs": [],
   "source": [
    "\n",
    "\n",
    "\n"
   ]
  },
  {
   "cell_type": "markdown",
   "metadata": {},
   "source": [
    "<font color ='red'>**Question 2: How many different regions are there within `states`? How many states are in each region?**</font>"
   ]
  },
  {
   "cell_type": "code",
   "execution_count": null,
   "metadata": {},
   "outputs": [],
   "source": [
    "\n",
    "\n",
    "\n",
    "\n"
   ]
  },
  {
   "cell_type": "markdown",
   "metadata": {},
   "source": [
    "## Merging Data\n",
    "\n",
    "Suppose you wanted to know what the distribution of mean incomes are like in the different regions of the US. The Census data has the information on mean incomes, but we also need to add information about the region, which is in the `states` DataFrame. To use the information in these data together, we need to **merge** them. \n",
    "\n",
    "To merge the datasets together, we need to make sure we have the appropriate variable(s) to merge on. In this case, we want to add the state abbreviation and region to the information we got from the Census API. Since each row represents a state, we want to match on the **unique state identifier that is common in both datasets.** This would be the state name here, since that is the variable that is the same in both. Note that this can vary depending on the datasets you want to join together. Make sure you have a good idea of what each row represents in your dataset when you are doing these types of merges.\n",
    "\n",
    "Using the `merge` method, we provide a datasets to merge with as well as the variables we want to merge on."
   ]
  },
  {
   "cell_type": "code",
   "execution_count": null,
   "metadata": {
    "tags": []
   },
   "outputs": [],
   "source": [
    "merged_data = census_df.merge(states, left_on = 'state', right_on = 'State')\n",
    "merged_data.head()"
   ]
  },
  {
   "cell_type": "markdown",
   "metadata": {},
   "source": [
    "<font color ='red'>**Question 3: How many rows are there in `merge_data`? Does this differ from `census_df`?**</font>"
   ]
  },
  {
   "cell_type": "code",
   "execution_count": null,
   "metadata": {},
   "outputs": [],
   "source": [
    "\n",
    "\n",
    "\n"
   ]
  },
  {
   "cell_type": "markdown",
   "metadata": {},
   "source": [
    "You'll notice that the merged data no longer contains information about Washington D.C. This is because the `states` data doesn't have D.C. in it. The merge omitted any rows that didn't have a matching value in both datasets. This is called an `inner join`. If you had wanted to keep DC in and just leave the values from the `state` DataFrame as missing for D.C., we could have done a `left join` "
   ]
  },
  {
   "cell_type": "code",
   "execution_count": null,
   "metadata": {
    "tags": []
   },
   "outputs": [],
   "source": [
    "left_join_data = census_df.merge(states, left_on = 'state', right_on = 'State', how = 'left')\n",
    "left_join_data.shape"
   ]
  },
  {
   "cell_type": "code",
   "execution_count": null,
   "metadata": {
    "tags": []
   },
   "outputs": [],
   "source": [
    "left_join_data[left_join_data.state == 'District of Columbia']"
   ]
  },
  {
   "cell_type": "markdown",
   "metadata": {},
   "source": [
    "### Group Operations\n",
    "\n",
    "Now that we have merged our datasets, we can start looking at the breakdown of the Census variables by region. We could do this by looking at four different subsets of the `Region` variable, but repeating the same analysis four times can be tedious. Instead, we can use the `groupby` method and use what is called the split-apply-combine workflow.\n",
    "\n",
    "First, we use `groupby` to create the groups that we to use. In this case, we want to get some statistics by region, so we use `groupby('Region')`. Then, we can use these groups to apply whatever action we want to, and Python will combine the results and provide the full summary split by each group. Let's take a look at the code. "
   ]
  },
  {
   "cell_type": "code",
   "execution_count": null,
   "metadata": {
    "tags": []
   },
   "outputs": [],
   "source": [
    "merged_data[['Region','mean_income']].groupby('Region').describe()"
   ]
  },
  {
   "cell_type": "markdown",
   "metadata": {},
   "source": [
    "We are able to get the various summary statistics for `mean_income` using `describe` split up by each `Region`. This allows us to make comparisons between `Region` without needing to calculate all of these manually. \n",
    "\n",
    "We can also do the same for plots."
   ]
  },
  {
   "cell_type": "code",
   "execution_count": null,
   "metadata": {
    "tags": []
   },
   "outputs": [],
   "source": [
    "merged_data[['Region','mean_income']].groupby('Region').boxplot()"
   ]
  },
  {
   "cell_type": "markdown",
   "metadata": {},
   "source": [
    "This helps us see the distribution of mean income by Region. "
   ]
  },
  {
   "cell_type": "markdown",
   "metadata": {},
   "source": [
    "<font color ='red'>**Question 4: What are the differences in percent of people with a graduate or professional degree by region of the US?**</font>"
   ]
  },
  {
   "cell_type": "code",
   "execution_count": null,
   "metadata": {},
   "outputs": [],
   "source": [
    "\n",
    "\n",
    "\n"
   ]
  },
  {
   "cell_type": "markdown",
   "metadata": {},
   "source": [
    "### Joining Another Dataset\n",
    "\n",
    "Consider the `anxiety.csv` file. This data comes from a daily survey administered through Facebook asking a variety of questions during the COVID-19 pandemic. The value reported in `anxiety.csv` is the \"estimated percentage of respondents who reported feeling 'nervous, anxious, or on edge' for most or all of the past 7 days.\" The percentage was calculated at the state level, and the dataset contains responses over a number of days between May 1, 2022 and June 25, 2022. \n",
    "\n",
    "> This data was obtained using the Delphi Epidata API (https://cmu-delphi.github.io/delphi-epidata/) and has been cleaned to fit this exercise. You can also try accessing the API yourself to get the data!\n",
    "\n",
    "Let's say we want to look at whether factors such as employment rate and level of education is associated with higher levels of reported anxiety during this time period. The data for employment and education are in the Census data, while the data about anxiety are in the `anxiety` data file. We'll need to join them together to use them together. "
   ]
  },
  {
   "cell_type": "code",
   "execution_count": null,
   "metadata": {
    "tags": []
   },
   "outputs": [],
   "source": [
    "anxiety = pd.read_csv('anxiety.csv')\n",
    "anxiety.head()"
   ]
  },
  {
   "cell_type": "markdown",
   "metadata": {},
   "source": [
    "Note that the `geo_value` variable has the 2-letter state code, but it is all lowercase instead of being uppercase like it is in our Census data. We will first need to make sure that they match exactly so that the merge can work properly."
   ]
  },
  {
   "cell_type": "code",
   "execution_count": null,
   "metadata": {
    "tags": []
   },
   "outputs": [],
   "source": [
    "merged_data.Abbreviation = merged_data.Abbreviation.str.lower()\n",
    "merged_data.head()"
   ]
  },
  {
   "cell_type": "markdown",
   "metadata": {},
   "source": [
    "<font color ='red'>**Question 5: Join `merged_data` with `anxiety`. Call the new dataset `full_data`.**</font>"
   ]
  },
  {
   "cell_type": "code",
   "execution_count": null,
   "metadata": {},
   "outputs": [],
   "source": [
    "\n",
    "\n",
    "\n",
    "\n"
   ]
  },
  {
   "cell_type": "markdown",
   "metadata": {},
   "source": [
    "<font color ='red'>**Question 6: Consider only data from May 1, 2022. What is the relationship between anxiety and percentage of people employed within each state? Use a scatterplot to look at the relationship.**</font>"
   ]
  },
  {
   "cell_type": "code",
   "execution_count": null,
   "metadata": {
    "tags": []
   },
   "outputs": [],
   "source": [
    "\n",
    "\n",
    "\n"
   ]
  },
  {
   "cell_type": "markdown",
   "metadata": {},
   "source": [
    "<font color ='red'>**Question 7: Again using only data from May 1, 2022, are there differences in distribution of proportion of people who reported anxiety by region of the US?**</font>"
   ]
  },
  {
   "cell_type": "code",
   "execution_count": null,
   "metadata": {
    "tags": []
   },
   "outputs": [],
   "source": [
    "\n",
    "\n",
    "\n"
   ]
  }
 ],
 "metadata": {
  "kernelspec": {
   "display_name": "Python 3 (ipykernel)",
   "language": "python",
   "name": "python3"
  },
  "language_info": {
   "codemirror_mode": {
    "name": "ipython",
    "version": 3
   },
   "file_extension": ".py",
   "mimetype": "text/x-python",
   "name": "python",
   "nbconvert_exporter": "python",
   "pygments_lexer": "ipython3",
   "version": "3.10.9"
  },
  "toc": {
   "base_numbering": 1,
   "nav_menu": {},
   "number_sections": false,
   "sideBar": false,
   "skip_h1_title": false,
   "title_cell": "Table of Contents",
   "title_sidebar": "Contents",
   "toc_cell": false,
   "toc_position": {},
   "toc_section_display": false,
   "toc_window_display": false
  }
 },
 "nbformat": 4,
 "nbformat_minor": 4
}
