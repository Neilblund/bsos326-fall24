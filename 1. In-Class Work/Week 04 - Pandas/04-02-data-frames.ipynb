{
 "cells": [
  {
   "cell_type": "markdown",
   "metadata": {
    "tags": []
   },
   "source": [
    "# APIs and Data Frames\n",
    "\n",
    "Use **Code** cells to write and run any code you need to answer the question and **Markdown** cells to write out answers in words. After you are finished with the assignment, remember to download it as an **HTML file** and submit it in **ELMS**."
   ]
  },
  {
   "cell_type": "markdown",
   "metadata": {},
   "source": [
    "# Data from APIs \n",
    "\n",
    "The data we get from APIs is typically in form of a JSON file, which gets translated into a dictionary within Python. This is useful for getting all sorts of data in all sorts of formats, but when we want to do analysis, we typically want it in a more tabular format. This usually means we want it in a DataFrame rather than in a dictionary."
   ]
  },
  {
   "cell_type": "code",
   "execution_count": 1,
   "metadata": {},
   "outputs": [],
   "source": [
    "from requests import get\n",
    "\n",
    "import numpy as np \n",
    "import pandas as pd "
   ]
  },
  {
   "cell_type": "markdown",
   "metadata": {
    "tags": []
   },
   "source": [
    "## Census Data\n",
    "Let's first use the Census API to get some data to analyze. We'll bring in our census key from a text file first. Remember to copy and paste that file into this folder so that the following piece of code works."
   ]
  },
  {
   "cell_type": "code",
   "execution_count": 2,
   "metadata": {
    "tags": []
   },
   "outputs": [],
   "source": [
    "with open('census-key.txt', 'r') as f:\n",
    "    census_key = f.readline()"
   ]
  },
  {
   "cell_type": "markdown",
   "metadata": {},
   "source": [
    "Let's start by bringing in a set of variables from the 2022 American Community Survey (ACS) Data Profiles tables. We'll look at some employment and education characteristics of people by state. The variables we'll want to pull are:\n",
    "- `NAME`: State name\n",
    "- `DP02_0001E`: Total number of households in the state\n",
    "- `DP03_0087E`: Mean income of people in the state\n",
    "- `DP03_0002PE`: Percent of people 16 years and older in labor force\n",
    "- `DP02_0068PE`: Percent of people 25 years and older with a Bachelor's Degree or higher\n",
    "- `DP02_0066PE`: Percent of people 25 years and older with a Graduate or Professional degree\n",
    "\n",
    "Note that we are going to be using the Data Profile table (note the DP at the beginning of each variable name) so the base url needs to be for that particular type of table. "
   ]
  },
  {
   "cell_type": "code",
   "execution_count": 3,
   "metadata": {
    "tags": []
   },
   "outputs": [
    {
     "data": {
      "text/plain": [
       "200"
      ]
     },
     "execution_count": 3,
     "metadata": {},
     "output_type": "execute_result"
    }
   ],
   "source": [
    "year = 2022\n",
    "census_base_url = f'https://api.census.gov/data/{year}/acs/acs1/profile'\n",
    "\n",
    "census_params = {'get':'NAME,DP02_0001E,DP03_0087E,DP03_0002PE,DP02_0068PE,DP02_0066PE',\n",
    "                 'for':'state:*',\n",
    "                 'key':census_key}\n",
    "\n",
    "r = get(census_base_url, params = census_params)\n",
    "r.status_code"
   ]
  },
  {
   "cell_type": "code",
   "execution_count": 4,
   "metadata": {
    "tags": []
   },
   "outputs": [],
   "source": [
    "# Removing Puerto Rico due to lack of data.\n",
    "people_by_state = r.json()[:-1]"
   ]
  },
  {
   "cell_type": "code",
   "execution_count": 5,
   "metadata": {
    "tags": []
   },
   "outputs": [
    {
     "data": {
      "text/plain": [
       "[['NAME',\n",
       "  'DP02_0001E',\n",
       "  'DP03_0087E',\n",
       "  'DP03_0002PE',\n",
       "  'DP02_0068PE',\n",
       "  'DP02_0066PE',\n",
       "  'state'],\n",
       " ['Alabama', '2016448', '100785', '58.6', '28.8', '11.3', '01'],\n",
       " ['Alaska', '274574', '124663', '67.0', '30.6', '11.3', '02'],\n",
       " ['Arizona', '2850377', '116717', '60.7', '33.0', '12.5', '04'],\n",
       " ['Arkansas', '1216207', '92935', '57.8', '25.4', '9.7', '05'],\n",
       " ['California', '13550586', '147628', '63.9', '37.0', '14.4', '06'],\n",
       " ['Colorado', '2384584', '142387', '68.9', '45.9', '17.1', '08'],\n",
       " ['Connecticut', '1433635', '157696', '65.7', '41.9', '18.9', '09'],\n",
       " ['Delaware', '402334', '124756', '62.7', '36.5', '15.5', '10'],\n",
       " ['District of Columbia', '326970', '202466', '71.8', '65.4', '38.9', '11'],\n",
       " ['Florida', '8826394', '115717', '59.6', '34.3', '12.9', '12'],\n",
       " ['Georgia', '4092467', '116323', '63.9', '34.7', '14.0', '13'],\n",
       " ['Hawaii', '494827', '135028', '63.5', '35.4', '13.3', '15'],\n",
       " ['Idaho', '717151', '108727', '62.4', '32.3', '10.8', '16'],\n",
       " ['Illinois', '5056360', '129493', '65.0', '37.7', '15.2', '17'],\n",
       " ['Indiana', '2726489', '106944', '63.9', '29.6', '10.6', '18'],\n",
       " ['Iowa', '1330995', '114205', '66.6', '32.3', '10.8', '19'],\n",
       " ['Kansas', '1175294', '113962', '65.7', '35.6', '13.7', '20'],\n",
       " ['Kentucky', '1828680', '99631', '59.9', '27.9', '11.4', '21'],\n",
       " ['Louisiana', '1816902', '96505', '59.4', '27.1', '10.2', '22'],\n",
       " ['Maine', '605338', '114321', '61.7', '36.1', '13.8', '23'],\n",
       " ['Maryland', '2375984', '148486', '67.0', '43.8', '20.6', '24'],\n",
       " ['Massachusetts', '2797776', '162406', '66.8', '46.6', '21.3', '25'],\n",
       " ['Michigan', '4089794', '111255', '61.6', '32.1', '12.6', '26'],\n",
       " ['Minnesota', '2322190', '133458', '68.0', '39.1', '13.7', '27'],\n",
       " ['Mississippi', '1148340', '87442', '57.1', '24.8', '9.6', '28'],\n",
       " ['Missouri', '2521832', '108019', '62.8', '32.2', '12.5', '29'],\n",
       " ['Montana', '464072', '109448', '63.5', '34.6', '11.7', '30'],\n",
       " ['Nebraska', '803157', '116618', '68.3', '34.7', '12.1', '31'],\n",
       " ['Nevada', '1198356', '112544', '63.3', '27.0', '9.5', '32'],\n",
       " ['New Hampshire', '557220', '140757', '65.8', '41.3', '16.7', '33'],\n",
       " ['New Jersey', '3516978', '157601', '66.2', '43.5', '17.6', '34'],\n",
       " ['New Mexico', '848218', '97014', '58.5', '30.5', '13.5', '35'],\n",
       " ['New York', '7774308', '141334', '62.8', '40.0', '17.7', '36'],\n",
       " ['North Carolina', '4299266', '112123', '62.8', '35.9', '13.2', '37'],\n",
       " ['North Dakota', '331481', '125399', '68.7', '31.8', '9.5', '38'],\n",
       " ['Ohio', '4878206', '110719', '63.1', '32.0', '12.6', '39'],\n",
       " ['Oklahoma', '1573180', '98937', '61.0', '28.5', '9.9', '40'],\n",
       " ['Oregon', '1726340', '123364', '62.4', '36.3', '14.1', '41'],\n",
       " ['Pennsylvania', '5294065', '121871', '62.8', '35.1', '14.3', '42'],\n",
       " ['Rhode Island', '446688', '133207', '64.6', '39.6', '15.7', '44'],\n",
       " ['South Carolina', '2136080', '105495', '60.7', '32.6', '12.8', '45'],\n",
       " ['South Dakota', '368300', '110227', '66.9', '31.6', '9.9', '46'],\n",
       " ['Tennessee', '2846684', '105555', '62.4', '31.1', '11.4', '47'],\n",
       " ['Texas', '11087708', '117182', '65.5', '33.9', '12.3', '48'],\n",
       " ['Utah', '1129660', '127229', '70.0', '37.9', '13.2', '49'],\n",
       " ['Vermont', '277090', '117603', '65.0', '44.2', '19.7', '50'],\n",
       " ['Virginia', '3380607', '141078', '65.3', '42.2', '18.6', '51'],\n",
       " ['Washington', '3079953', '146344', '64.7', '39.5', '15.7', '53'],\n",
       " ['West Virginia', '736341', '89306', '52.8', '24.8', '9.8', '54'],\n",
       " ['Wisconsin', '2491121', '114906', '65.1', '33.2', '11.6', '55'],\n",
       " ['Wyoming', '243321', '106006', '65.8', '29.6', '11.6', '56']]"
      ]
     },
     "execution_count": 5,
     "metadata": {},
     "output_type": "execute_result"
    }
   ],
   "source": [
    "people_by_state"
   ]
  },
  {
   "cell_type": "markdown",
   "metadata": {},
   "source": [
    "### Method 1: Create a dictionary\n",
    "\n",
    "One common way of creating a Data Frame is by first creating a dictionary of lists (or other sequences, like arrays), then just converting that into a Data Frame. The keys in the dictionary will be set as the column names, and the values associated with those keys will become the data in the columns. "
   ]
  },
  {
   "cell_type": "code",
   "execution_count": 6,
   "metadata": {
    "tags": []
   },
   "outputs": [
    {
     "data": {
      "text/html": [
       "<div>\n",
       "<style scoped>\n",
       "    .dataframe tbody tr th:only-of-type {\n",
       "        vertical-align: middle;\n",
       "    }\n",
       "\n",
       "    .dataframe tbody tr th {\n",
       "        vertical-align: top;\n",
       "    }\n",
       "\n",
       "    .dataframe thead th {\n",
       "        text-align: right;\n",
       "    }\n",
       "</style>\n",
       "<table border=\"1\" class=\"dataframe\">\n",
       "  <thead>\n",
       "    <tr style=\"text-align: right;\">\n",
       "      <th></th>\n",
       "      <th>example</th>\n",
       "      <th>example2</th>\n",
       "    </tr>\n",
       "  </thead>\n",
       "  <tbody>\n",
       "    <tr>\n",
       "      <th>0</th>\n",
       "      <td>1</td>\n",
       "      <td>4</td>\n",
       "    </tr>\n",
       "    <tr>\n",
       "      <th>1</th>\n",
       "      <td>2</td>\n",
       "      <td>5</td>\n",
       "    </tr>\n",
       "    <tr>\n",
       "      <th>2</th>\n",
       "      <td>3</td>\n",
       "      <td>6</td>\n",
       "    </tr>\n",
       "  </tbody>\n",
       "</table>\n",
       "</div>"
      ],
      "text/plain": [
       "   example  example2\n",
       "0        1         4\n",
       "1        2         5\n",
       "2        3         6"
      ]
     },
     "execution_count": 6,
     "metadata": {},
     "output_type": "execute_result"
    }
   ],
   "source": [
    "example_df = pd.DataFrame({'example':[1,2,3], 'example2':[4,5,6]})\n",
    "example_df"
   ]
  },
  {
   "cell_type": "markdown",
   "metadata": {},
   "source": [
    "So, in order to create a DataFrame, we can just make sure that our data is in the correct dictionary format, then convert it. This means we will need to make sure to convert the data we get back from the API into this type of dictionary. Let's take a look at what we got from the census API to see what we would need to do."
   ]
  },
  {
   "cell_type": "code",
   "execution_count": 7,
   "metadata": {
    "tags": []
   },
   "outputs": [
    {
     "data": {
      "text/plain": [
       "list"
      ]
     },
     "execution_count": 7,
     "metadata": {},
     "output_type": "execute_result"
    }
   ],
   "source": [
    "type(people_by_state)"
   ]
  },
  {
   "cell_type": "code",
   "execution_count": 8,
   "metadata": {
    "tags": []
   },
   "outputs": [
    {
     "data": {
      "text/plain": [
       "52"
      ]
     },
     "execution_count": 8,
     "metadata": {},
     "output_type": "execute_result"
    }
   ],
   "source": [
    "len(people_by_state)"
   ]
  },
  {
   "cell_type": "code",
   "execution_count": 9,
   "metadata": {
    "tags": []
   },
   "outputs": [
    {
     "data": {
      "text/plain": [
       "['NAME',\n",
       " 'DP02_0001E',\n",
       " 'DP03_0087E',\n",
       " 'DP03_0002PE',\n",
       " 'DP02_0068PE',\n",
       " 'DP02_0066PE',\n",
       " 'state']"
      ]
     },
     "execution_count": 9,
     "metadata": {},
     "output_type": "execute_result"
    }
   ],
   "source": [
    "people_by_state[0]"
   ]
  },
  {
   "cell_type": "code",
   "execution_count": null,
   "metadata": {
    "tags": []
   },
   "outputs": [],
   "source": [
    "people_by_state[:4]"
   ]
  },
  {
   "cell_type": "markdown",
   "metadata": {},
   "source": [
    "<font color ='red'>**Question 1: Create a list called `hh` that has the number of households in each state.**</font>"
   ]
  },
  {
   "cell_type": "code",
   "execution_count": null,
   "metadata": {
    "tags": []
   },
   "outputs": [],
   "source": [
    "\n",
    "\n"
   ]
  },
  {
   "cell_type": "markdown",
   "metadata": {},
   "source": [
    "<font color ='red'>**Question 2: Now, following this model, create a dictionary called `census_dict` with the keys of `state`, `household`, `mean_income`, `percent_employed`, `percent_bachelors`, `percent_graduate`. These should have lists with the appropriate data corresponding to each key. Make sure that the numbers are included as numeric values rather than as strings.**</font>\n",
    "\n",
    "Note: This is possible to do with dictionary comprehension! Think about how you might do this."
   ]
  },
  {
   "cell_type": "code",
   "execution_count": null,
   "metadata": {
    "tags": []
   },
   "outputs": [],
   "source": [
    "keys = ['state', 'num_households','mean_income','percent_employed','percent_bachelors','percent_graduate']"
   ]
  },
  {
   "cell_type": "code",
   "execution_count": null,
   "metadata": {
    "tags": []
   },
   "outputs": [],
   "source": [
    "census_dict = ...\n",
    "\n",
    "\n",
    "\n"
   ]
  },
  {
   "cell_type": "markdown",
   "metadata": {},
   "source": [
    "Once you get the dictionary set up correctly, it's very easy to turn it into a DataFrame -- just use `pd.DataFrame`. "
   ]
  },
  {
   "cell_type": "code",
   "execution_count": null,
   "metadata": {
    "tags": []
   },
   "outputs": [],
   "source": [
    "census_df = pd.DataFrame(census_dict)\n",
    "census_df.head()"
   ]
  },
  {
   "cell_type": "markdown",
   "metadata": {},
   "source": [
    "<font color ='red'>**Question 3: Use the `.describe` method to look at some summary statistics for the variables that we got. Then, use the `sort_values` method to figure out which state had the highest mean income and which had the lowest.**</font>\n",
    "\n",
    "Hint: Look at the [documentation for sort_values](https://pandas.pydata.org/pandas-docs/version/0.17.0/generated/pandas.DataFrame.sort_values.html) to see how you might use this method. You'll need to give it a variable name as an argument, and you can also use `ascending = False` to sort the other way."
   ]
  },
  {
   "cell_type": "code",
   "execution_count": null,
   "metadata": {
    "tags": []
   },
   "outputs": [],
   "source": [
    "census_df.describe()"
   ]
  },
  {
   "cell_type": "markdown",
   "metadata": {},
   "source": [
    "### Method 2: Convert to Data Frame, then clean\n",
    "\n",
    "We actually could have made the list of lists into a Data Frame much faster -- by simply turning it into a Data Frame immediately."
   ]
  },
  {
   "cell_type": "code",
   "execution_count": 10,
   "metadata": {
    "tags": []
   },
   "outputs": [
    {
     "data": {
      "text/html": [
       "<div>\n",
       "<style scoped>\n",
       "    .dataframe tbody tr th:only-of-type {\n",
       "        vertical-align: middle;\n",
       "    }\n",
       "\n",
       "    .dataframe tbody tr th {\n",
       "        vertical-align: top;\n",
       "    }\n",
       "\n",
       "    .dataframe thead th {\n",
       "        text-align: right;\n",
       "    }\n",
       "</style>\n",
       "<table border=\"1\" class=\"dataframe\">\n",
       "  <thead>\n",
       "    <tr style=\"text-align: right;\">\n",
       "      <th></th>\n",
       "      <th>0</th>\n",
       "      <th>1</th>\n",
       "      <th>2</th>\n",
       "      <th>3</th>\n",
       "      <th>4</th>\n",
       "      <th>5</th>\n",
       "      <th>6</th>\n",
       "    </tr>\n",
       "  </thead>\n",
       "  <tbody>\n",
       "    <tr>\n",
       "      <th>0</th>\n",
       "      <td>NAME</td>\n",
       "      <td>DP02_0001E</td>\n",
       "      <td>DP03_0087E</td>\n",
       "      <td>DP03_0002PE</td>\n",
       "      <td>DP02_0068PE</td>\n",
       "      <td>DP02_0066PE</td>\n",
       "      <td>state</td>\n",
       "    </tr>\n",
       "    <tr>\n",
       "      <th>1</th>\n",
       "      <td>Alabama</td>\n",
       "      <td>2016448</td>\n",
       "      <td>100785</td>\n",
       "      <td>58.6</td>\n",
       "      <td>28.8</td>\n",
       "      <td>11.3</td>\n",
       "      <td>01</td>\n",
       "    </tr>\n",
       "    <tr>\n",
       "      <th>2</th>\n",
       "      <td>Alaska</td>\n",
       "      <td>274574</td>\n",
       "      <td>124663</td>\n",
       "      <td>67.0</td>\n",
       "      <td>30.6</td>\n",
       "      <td>11.3</td>\n",
       "      <td>02</td>\n",
       "    </tr>\n",
       "    <tr>\n",
       "      <th>3</th>\n",
       "      <td>Arizona</td>\n",
       "      <td>2850377</td>\n",
       "      <td>116717</td>\n",
       "      <td>60.7</td>\n",
       "      <td>33.0</td>\n",
       "      <td>12.5</td>\n",
       "      <td>04</td>\n",
       "    </tr>\n",
       "    <tr>\n",
       "      <th>4</th>\n",
       "      <td>Arkansas</td>\n",
       "      <td>1216207</td>\n",
       "      <td>92935</td>\n",
       "      <td>57.8</td>\n",
       "      <td>25.4</td>\n",
       "      <td>9.7</td>\n",
       "      <td>05</td>\n",
       "    </tr>\n",
       "  </tbody>\n",
       "</table>\n",
       "</div>"
      ],
      "text/plain": [
       "          0           1           2            3            4            5  \\\n",
       "0      NAME  DP02_0001E  DP03_0087E  DP03_0002PE  DP02_0068PE  DP02_0066PE   \n",
       "1   Alabama     2016448      100785         58.6         28.8         11.3   \n",
       "2    Alaska      274574      124663         67.0         30.6         11.3   \n",
       "3   Arizona     2850377      116717         60.7         33.0         12.5   \n",
       "4  Arkansas     1216207       92935         57.8         25.4          9.7   \n",
       "\n",
       "       6  \n",
       "0  state  \n",
       "1     01  \n",
       "2     02  \n",
       "3     04  \n",
       "4     05  "
      ]
     },
     "execution_count": 10,
     "metadata": {},
     "output_type": "execute_result"
    }
   ],
   "source": [
    "df2 = pd.DataFrame(people_by_state)\n",
    "df2.head()"
   ]
  },
  {
   "cell_type": "markdown",
   "metadata": {},
   "source": [
    "However, because we aren't being careful about how to specify column names, we end up with the first row containing the column names instead. This is problematic, because we don't want them there and we might want to use the numbers to calculate summaries. We can instead set the column names manually, then remove the first row so that it isn't in our data. If we weren't going to change the column names, then we could have just pulled out the first row and assigned that as the column names instead.\n",
    "\n",
    "While we're doing this, we'll also remove the last column that has the state ID. Since we have the state names in the dataset already, this is redundant. Note that in the first method above, we simply omitted it while creating the dictionary."
   ]
  },
  {
   "cell_type": "code",
   "execution_count": 11,
   "metadata": {},
   "outputs": [],
   "source": [
    "col_names = ['state', 'num_households','mean_income',\n",
    "             'percent_employed','percent_bachelors',\n",
    "             'percent_graduate','state_id']\n",
    "df2.columns = col_names"
   ]
  },
  {
   "cell_type": "code",
   "execution_count": 12,
   "metadata": {
    "tags": []
   },
   "outputs": [
    {
     "data": {
      "text/html": [
       "<div>\n",
       "<style scoped>\n",
       "    .dataframe tbody tr th:only-of-type {\n",
       "        vertical-align: middle;\n",
       "    }\n",
       "\n",
       "    .dataframe tbody tr th {\n",
       "        vertical-align: top;\n",
       "    }\n",
       "\n",
       "    .dataframe thead th {\n",
       "        text-align: right;\n",
       "    }\n",
       "</style>\n",
       "<table border=\"1\" class=\"dataframe\">\n",
       "  <thead>\n",
       "    <tr style=\"text-align: right;\">\n",
       "      <th></th>\n",
       "      <th>state</th>\n",
       "      <th>num_households</th>\n",
       "      <th>mean_income</th>\n",
       "      <th>percent_employed</th>\n",
       "      <th>percent_bachelors</th>\n",
       "      <th>percent_graduate</th>\n",
       "      <th>state_id</th>\n",
       "    </tr>\n",
       "  </thead>\n",
       "  <tbody>\n",
       "    <tr>\n",
       "      <th>0</th>\n",
       "      <td>NAME</td>\n",
       "      <td>DP02_0001E</td>\n",
       "      <td>DP03_0087E</td>\n",
       "      <td>DP03_0002PE</td>\n",
       "      <td>DP02_0068PE</td>\n",
       "      <td>DP02_0066PE</td>\n",
       "      <td>state</td>\n",
       "    </tr>\n",
       "    <tr>\n",
       "      <th>1</th>\n",
       "      <td>Alabama</td>\n",
       "      <td>2016448</td>\n",
       "      <td>100785</td>\n",
       "      <td>58.6</td>\n",
       "      <td>28.8</td>\n",
       "      <td>11.3</td>\n",
       "      <td>01</td>\n",
       "    </tr>\n",
       "    <tr>\n",
       "      <th>2</th>\n",
       "      <td>Alaska</td>\n",
       "      <td>274574</td>\n",
       "      <td>124663</td>\n",
       "      <td>67.0</td>\n",
       "      <td>30.6</td>\n",
       "      <td>11.3</td>\n",
       "      <td>02</td>\n",
       "    </tr>\n",
       "    <tr>\n",
       "      <th>3</th>\n",
       "      <td>Arizona</td>\n",
       "      <td>2850377</td>\n",
       "      <td>116717</td>\n",
       "      <td>60.7</td>\n",
       "      <td>33.0</td>\n",
       "      <td>12.5</td>\n",
       "      <td>04</td>\n",
       "    </tr>\n",
       "    <tr>\n",
       "      <th>4</th>\n",
       "      <td>Arkansas</td>\n",
       "      <td>1216207</td>\n",
       "      <td>92935</td>\n",
       "      <td>57.8</td>\n",
       "      <td>25.4</td>\n",
       "      <td>9.7</td>\n",
       "      <td>05</td>\n",
       "    </tr>\n",
       "  </tbody>\n",
       "</table>\n",
       "</div>"
      ],
      "text/plain": [
       "      state num_households mean_income percent_employed percent_bachelors  \\\n",
       "0      NAME     DP02_0001E  DP03_0087E      DP03_0002PE       DP02_0068PE   \n",
       "1   Alabama        2016448      100785             58.6              28.8   \n",
       "2    Alaska         274574      124663             67.0              30.6   \n",
       "3   Arizona        2850377      116717             60.7              33.0   \n",
       "4  Arkansas        1216207       92935             57.8              25.4   \n",
       "\n",
       "  percent_graduate state_id  \n",
       "0      DP02_0066PE    state  \n",
       "1             11.3       01  \n",
       "2             11.3       02  \n",
       "3             12.5       04  \n",
       "4              9.7       05  "
      ]
     },
     "execution_count": 12,
     "metadata": {},
     "output_type": "execute_result"
    }
   ],
   "source": [
    "df2.head()"
   ]
  },
  {
   "cell_type": "markdown",
   "metadata": {},
   "source": [
    "<font color ='red'>**Question 4: Remove the first row and the last column of `df2`. Call the new DataFrame `census`.**</font>\n"
   ]
  },
  {
   "cell_type": "code",
   "execution_count": 13,
   "metadata": {
    "tags": []
   },
   "outputs": [],
   "source": [
    "\n",
    "\n",
    "\n"
   ]
  },
  {
   "cell_type": "code",
   "execution_count": 14,
   "metadata": {
    "tags": []
   },
   "outputs": [
    {
     "data": {
      "text/html": [
       "<div>\n",
       "<style scoped>\n",
       "    .dataframe tbody tr th:only-of-type {\n",
       "        vertical-align: middle;\n",
       "    }\n",
       "\n",
       "    .dataframe tbody tr th {\n",
       "        vertical-align: top;\n",
       "    }\n",
       "\n",
       "    .dataframe thead th {\n",
       "        text-align: right;\n",
       "    }\n",
       "</style>\n",
       "<table border=\"1\" class=\"dataframe\">\n",
       "  <thead>\n",
       "    <tr style=\"text-align: right;\">\n",
       "      <th></th>\n",
       "      <th>state</th>\n",
       "      <th>num_households</th>\n",
       "      <th>mean_income</th>\n",
       "      <th>percent_employed</th>\n",
       "      <th>percent_bachelors</th>\n",
       "      <th>percent_graduate</th>\n",
       "    </tr>\n",
       "  </thead>\n",
       "  <tbody>\n",
       "    <tr>\n",
       "      <th>1</th>\n",
       "      <td>Alabama</td>\n",
       "      <td>2016448</td>\n",
       "      <td>100785</td>\n",
       "      <td>58.6</td>\n",
       "      <td>28.8</td>\n",
       "      <td>11.3</td>\n",
       "    </tr>\n",
       "    <tr>\n",
       "      <th>2</th>\n",
       "      <td>Alaska</td>\n",
       "      <td>274574</td>\n",
       "      <td>124663</td>\n",
       "      <td>67.0</td>\n",
       "      <td>30.6</td>\n",
       "      <td>11.3</td>\n",
       "    </tr>\n",
       "    <tr>\n",
       "      <th>3</th>\n",
       "      <td>Arizona</td>\n",
       "      <td>2850377</td>\n",
       "      <td>116717</td>\n",
       "      <td>60.7</td>\n",
       "      <td>33.0</td>\n",
       "      <td>12.5</td>\n",
       "    </tr>\n",
       "    <tr>\n",
       "      <th>4</th>\n",
       "      <td>Arkansas</td>\n",
       "      <td>1216207</td>\n",
       "      <td>92935</td>\n",
       "      <td>57.8</td>\n",
       "      <td>25.4</td>\n",
       "      <td>9.7</td>\n",
       "    </tr>\n",
       "    <tr>\n",
       "      <th>5</th>\n",
       "      <td>California</td>\n",
       "      <td>13550586</td>\n",
       "      <td>147628</td>\n",
       "      <td>63.9</td>\n",
       "      <td>37.0</td>\n",
       "      <td>14.4</td>\n",
       "    </tr>\n",
       "  </tbody>\n",
       "</table>\n",
       "</div>"
      ],
      "text/plain": [
       "        state num_households mean_income percent_employed percent_bachelors  \\\n",
       "1     Alabama        2016448      100785             58.6              28.8   \n",
       "2      Alaska         274574      124663             67.0              30.6   \n",
       "3     Arizona        2850377      116717             60.7              33.0   \n",
       "4    Arkansas        1216207       92935             57.8              25.4   \n",
       "5  California       13550586      147628             63.9              37.0   \n",
       "\n",
       "  percent_graduate  \n",
       "1             11.3  \n",
       "2             11.3  \n",
       "3             12.5  \n",
       "4              9.7  \n",
       "5             14.4  "
      ]
     },
     "execution_count": 14,
     "metadata": {},
     "output_type": "execute_result"
    }
   ],
   "source": [
    "census.head()"
   ]
  },
  {
   "cell_type": "markdown",
   "metadata": {},
   "source": [
    "After that, we need to make it so that the numbers are numeric instead of strings. Remember, the data from the Census API is provided as strings, so those values won't be treated as numbers and any attempt to describe them will not give the correct response. "
   ]
  },
  {
   "cell_type": "code",
   "execution_count": 15,
   "metadata": {
    "tags": []
   },
   "outputs": [
    {
     "data": {
      "text/html": [
       "<div>\n",
       "<style scoped>\n",
       "    .dataframe tbody tr th:only-of-type {\n",
       "        vertical-align: middle;\n",
       "    }\n",
       "\n",
       "    .dataframe tbody tr th {\n",
       "        vertical-align: top;\n",
       "    }\n",
       "\n",
       "    .dataframe thead th {\n",
       "        text-align: right;\n",
       "    }\n",
       "</style>\n",
       "<table border=\"1\" class=\"dataframe\">\n",
       "  <thead>\n",
       "    <tr style=\"text-align: right;\">\n",
       "      <th></th>\n",
       "      <th>state</th>\n",
       "      <th>num_households</th>\n",
       "      <th>mean_income</th>\n",
       "      <th>percent_employed</th>\n",
       "      <th>percent_bachelors</th>\n",
       "      <th>percent_graduate</th>\n",
       "    </tr>\n",
       "  </thead>\n",
       "  <tbody>\n",
       "    <tr>\n",
       "      <th>count</th>\n",
       "      <td>51</td>\n",
       "      <td>51</td>\n",
       "      <td>51</td>\n",
       "      <td>51</td>\n",
       "      <td>51</td>\n",
       "      <td>51</td>\n",
       "    </tr>\n",
       "    <tr>\n",
       "      <th>unique</th>\n",
       "      <td>51</td>\n",
       "      <td>51</td>\n",
       "      <td>51</td>\n",
       "      <td>38</td>\n",
       "      <td>47</td>\n",
       "      <td>40</td>\n",
       "    </tr>\n",
       "    <tr>\n",
       "      <th>top</th>\n",
       "      <td>Alabama</td>\n",
       "      <td>2016448</td>\n",
       "      <td>100785</td>\n",
       "      <td>62.8</td>\n",
       "      <td>24.8</td>\n",
       "      <td>11.3</td>\n",
       "    </tr>\n",
       "    <tr>\n",
       "      <th>freq</th>\n",
       "      <td>1</td>\n",
       "      <td>1</td>\n",
       "      <td>1</td>\n",
       "      <td>4</td>\n",
       "      <td>2</td>\n",
       "      <td>2</td>\n",
       "    </tr>\n",
       "  </tbody>\n",
       "</table>\n",
       "</div>"
      ],
      "text/plain": [
       "          state num_households mean_income percent_employed percent_bachelors  \\\n",
       "count        51             51          51               51                51   \n",
       "unique       51             51          51               38                47   \n",
       "top     Alabama        2016448      100785             62.8              24.8   \n",
       "freq          1              1           1                4                 2   \n",
       "\n",
       "       percent_graduate  \n",
       "count                51  \n",
       "unique               40  \n",
       "top                11.3  \n",
       "freq                  2  "
      ]
     },
     "execution_count": 15,
     "metadata": {},
     "output_type": "execute_result"
    }
   ],
   "source": [
    "census.describe()"
   ]
  },
  {
   "cell_type": "markdown",
   "metadata": {},
   "source": [
    "The `pd.to_numeric` function can help us do some of the conversion, but it would be quite tedious to have to do this manually for each column that needs it. Instead, we can use the `apply` method."
   ]
  },
  {
   "cell_type": "code",
   "execution_count": 16,
   "metadata": {
    "collapsed": true,
    "jupyter": {
     "outputs_hidden": true
    },
    "tags": []
   },
   "outputs": [
    {
     "data": {
      "text/plain": [
       "1     100785\n",
       "2     124663\n",
       "3     116717\n",
       "4      92935\n",
       "5     147628\n",
       "6     142387\n",
       "7     157696\n",
       "8     124756\n",
       "9     202466\n",
       "10    115717\n",
       "11    116323\n",
       "12    135028\n",
       "13    108727\n",
       "14    129493\n",
       "15    106944\n",
       "16    114205\n",
       "17    113962\n",
       "18     99631\n",
       "19     96505\n",
       "20    114321\n",
       "21    148486\n",
       "22    162406\n",
       "23    111255\n",
       "24    133458\n",
       "25     87442\n",
       "26    108019\n",
       "27    109448\n",
       "28    116618\n",
       "29    112544\n",
       "30    140757\n",
       "31    157601\n",
       "32     97014\n",
       "33    141334\n",
       "34    112123\n",
       "35    125399\n",
       "36    110719\n",
       "37     98937\n",
       "38    123364\n",
       "39    121871\n",
       "40    133207\n",
       "41    105495\n",
       "42    110227\n",
       "43    105555\n",
       "44    117182\n",
       "45    127229\n",
       "46    117603\n",
       "47    141078\n",
       "48    146344\n",
       "49     89306\n",
       "50    114906\n",
       "51    106006\n",
       "Name: mean_income, dtype: int64"
      ]
     },
     "execution_count": 16,
     "metadata": {},
     "output_type": "execute_result"
    }
   ],
   "source": [
    "pd.to_numeric(census.mean_income)"
   ]
  },
  {
   "cell_type": "markdown",
   "metadata": {},
   "source": [
    "### Using apply\n",
    "\n",
    "We have already used `apply` to apply a function to an array. We can do the same to a DataFrame over all of its rows or columns. This might be helpful in cases where you want to do something to every single row or every single column (like convert it to a numeric value). \n",
    "\n",
    "Pandas has a `to_numeric` function that we can use on a list, tuple, 1-d array or Series object to convert to numeric. However, we can't apply it to the DataFrame overall. We'll need to apply it to each column. \n",
    "\n",
    "We'll apply it to every column except the first one (because we don't want to to try to turn the state names into numeric values). "
   ]
  },
  {
   "cell_type": "code",
   "execution_count": null,
   "metadata": {
    "tags": []
   },
   "outputs": [],
   "source": [
    "variables_to_convert = ['num_households', 'mean_income','percent_employed',\n",
    "                       'percent_bachelors','percent_graduate']\n",
    "census[variables_to_convert] = census[variables_to_convert].apply(pd.to_numeric, 1)"
   ]
  },
  {
   "cell_type": "code",
   "execution_count": null,
   "metadata": {
    "tags": []
   },
   "outputs": [],
   "source": [
    "census.describe()"
   ]
  },
  {
   "cell_type": "markdown",
   "metadata": {},
   "source": [
    "<font color ='red'>**Question 5: Note that the last three variables are shown as percentages. Using `apply`, change the percentages into proportions (so that they are between 0 and 1) and create a new Data Frame called `census_props`. Everything else in the Data Frame should be the same.**</font>\n"
   ]
  },
  {
   "cell_type": "markdown",
   "metadata": {},
   "source": [
    "\n",
    "\n",
    "\n"
   ]
  },
  {
   "cell_type": "markdown",
   "metadata": {},
   "source": [
    "## A Note on Getting Data into Data Frames\n",
    "\n",
    "It might seem like the second method is much more convoluted in getting the data into the format we need, but it isn't always the case. For example, if we had strings or categorical variables instead of numbers, then we might not have needed to do the conversion to numeric and use the `apply` step. Also, it can be a bit tedious to try to think about how to build the dictionary to begin with, especially if it takes you some time to think of how to build the list and dictionary comprehension pieces. \n",
    "\n",
    "The path that you getting data into Data Frames will differ depending on the data source and what format it comes in. Many times, you'll still have to do some data management steps even after getting a dictionary in the right format. \n",
    "\n",
    "Try to think about the format that you want the data in. Some questions to ask are:\n",
    "- What are the rows? \n",
    "- What are the columnns?\n",
    "- What type of data are you starting with? \n",
    "- Where is that data? \n",
    "\n",
    "Let's look at another example using the NY Times API. Make sure to copy and paste your NY Times API key text file into this folder before running the following code."
   ]
  },
  {
   "cell_type": "code",
   "execution_count": null,
   "metadata": {
    "tags": []
   },
   "outputs": [],
   "source": [
    "# My file with the key is called nyt-key.txt. Make sure you have that file with your key!\n",
    "with open('nyt-key.txt', 'r') as f:\n",
    "    nyt_key = f.readline()\n",
    "\n",
    "base_url = \"https://api.nytimes.com/svc/archive/v1/2019/1.json\"\n",
    "r = get(base_url, params= {'api-key':nyt_key}) \n",
    "archive_2019_01 = r.json()['response']['docs']\n"
   ]
  },
  {
   "cell_type": "code",
   "execution_count": null,
   "metadata": {
    "tags": []
   },
   "outputs": [],
   "source": [
    "type(archive_2019_01)"
   ]
  },
  {
   "cell_type": "code",
   "execution_count": null,
   "metadata": {
    "tags": []
   },
   "outputs": [],
   "source": [
    "len(archive_2019_01)"
   ]
  },
  {
   "cell_type": "code",
   "execution_count": null,
   "metadata": {
    "tags": []
   },
   "outputs": [],
   "source": [
    "archive_2019_01[0].keys()"
   ]
  },
  {
   "cell_type": "markdown",
   "metadata": {},
   "source": [
    "<font color ='red'>**Question 6: Create a Data Frame called `nyt_archive` that has the `abstract`, `web_url`, `type_of_material` and `word_count` of the articles in `archive_2019_01`.**</font>\n"
   ]
  },
  {
   "cell_type": "code",
   "execution_count": null,
   "metadata": {
    "tags": []
   },
   "outputs": [],
   "source": [
    "\n",
    "\n",
    "\n"
   ]
  },
  {
   "cell_type": "markdown",
   "metadata": {},
   "source": [
    "<font color ='red'>**Question 7: What are the types of articles there were in January 2019 in the NY Times? What was the most common type of article? Which articles had the longest word counts on average?**</font>"
   ]
  },
  {
   "cell_type": "code",
   "execution_count": null,
   "metadata": {},
   "outputs": [],
   "source": [
    "\n",
    "\n",
    "\n"
   ]
  },
  {
   "cell_type": "markdown",
   "metadata": {
    "tags": []
   },
   "source": [
    "### Scatterplots\n",
    "\n",
    "To look at the relationship between two numerical variables, we can use a scatterplot. The `plot.scatter` method with the arguments for the variable names to go on the x and y axes does this for us."
   ]
  },
  {
   "cell_type": "code",
   "execution_count": null,
   "metadata": {
    "tags": []
   },
   "outputs": [],
   "source": [
    "census.plot.scatter('percent_bachelors','percent_employed')"
   ]
  },
  {
   "cell_type": "markdown",
   "metadata": {},
   "source": [
    "<font color = 'red'>**Question 8: Create a scatterplot of `percent_bachelors` and `mean_income`. Does it look like there is a relationship between the two variables?**</font>"
   ]
  },
  {
   "cell_type": "code",
   "execution_count": null,
   "metadata": {},
   "outputs": [],
   "source": [
    "\n",
    "\n",
    "\n"
   ]
  }
 ],
 "metadata": {
  "kernelspec": {
   "display_name": "Python 3 (ipykernel)",
   "language": "python",
   "name": "python3"
  },
  "language_info": {
   "codemirror_mode": {
    "name": "ipython",
    "version": 3
   },
   "file_extension": ".py",
   "mimetype": "text/x-python",
   "name": "python",
   "nbconvert_exporter": "python",
   "pygments_lexer": "ipython3",
   "version": "3.10.9"
  },
  "toc": {
   "base_numbering": 1,
   "nav_menu": {},
   "number_sections": false,
   "sideBar": false,
   "skip_h1_title": false,
   "title_cell": "Table of Contents",
   "title_sidebar": "Contents",
   "toc_cell": false,
   "toc_position": {},
   "toc_section_display": false,
   "toc_window_display": false
  }
 },
 "nbformat": 4,
 "nbformat_minor": 4
}
