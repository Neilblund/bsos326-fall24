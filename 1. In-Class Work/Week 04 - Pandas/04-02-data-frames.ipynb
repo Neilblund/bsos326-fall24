{
 "cells": [
  {
   "cell_type": "markdown",
   "metadata": {
    "tags": []
   },
   "source": [
    "# APIs and Data Frames\n",
    "\n",
    "Use **Code** cells to write and run any code you need to answer the question and **Markdown** cells to write out answers in words. After you are finished with the assignment, remember to download it as an **HTML file** and submit it in **ELMS**."
   ]
  },
  {
   "cell_type": "markdown",
   "metadata": {},
   "source": [
    "# Data from APIs \n",
    "\n",
    "The data we get from APIs is typically in form of a JSON file, which gets translated into a dictionary within Python. This is useful for getting all sorts of data in all sorts of formats, but when we want to do analysis, we typically want it in a more tabular format. This usually means we want it in a DataFrame rather than in a dictionary."
   ]
  },
  {
   "cell_type": "code",
   "execution_count": null,
   "metadata": {},
   "outputs": [],
   "source": [
    "from requests import get\n",
    "\n",
    "import numpy as np \n",
    "import pandas as pd "
   ]
  },
  {
   "cell_type": "markdown",
   "metadata": {
    "tags": []
   },
   "source": [
    "## Census Data\n",
    "Let's first use the Census API to get some data to analyze. We'll bring in our census key from a text file first. Remember to copy and paste that file into this folder so that the following piece of code works."
   ]
  },
  {
   "cell_type": "code",
   "execution_count": null,
   "metadata": {
    "tags": []
   },
   "outputs": [],
   "source": [
    "with open('census-key.txt', 'r') as f:\n",
    "    census_key = f.readline()"
   ]
  },
  {
   "cell_type": "markdown",
   "metadata": {},
   "source": [
    "Let's start by bringing in a set of variables from the 2022 American Community Survey (ACS) Data Profiles tables. We'll look at some employment and education characteristics of people by state. The variables we'll want to pull are:\n",
    "- `NAME`: State name\n",
    "- `DP02_0001E`: Total number of households in the state\n",
    "- `DP03_0087E`: Mean income of people in the state\n",
    "- `DP03_0002PE`: Percent of people 16 years and older in labor force\n",
    "- `DP02_0068PE`: Percent of people 25 years and older with a Bachelor's Degree or higher\n",
    "- `DP02_0066PE`: Percent of people 25 years and older with a Graduate or Professional degree\n",
    "\n",
    "Note that we are going to be using the Data Profile table (note the DP at the beginning of each variable name) so the base url needs to be for that particular type of table. "
   ]
  },
  {
   "cell_type": "code",
   "execution_count": null,
   "metadata": {
    "tags": []
   },
   "outputs": [],
   "source": [
    "year = 2022\n",
    "census_base_url = f'https://api.census.gov/data/{year}/acs/acs1/profile'\n",
    "\n",
    "census_params = {'get':'NAME,DP02_0001E,DP03_0087E,DP03_0002PE,DP02_0068PE,DP02_0066PE',\n",
    "                 'for':'state:*',\n",
    "                 'key':census_key}\n",
    "\n",
    "r = get(census_base_url, params = census_params)\n",
    "r.status_code"
   ]
  },
  {
   "cell_type": "code",
   "execution_count": null,
   "metadata": {
    "tags": []
   },
   "outputs": [],
   "source": [
    "# Removing Puerto Rico due to lack of data.\n",
    "people_by_state = r.json()[:-1]"
   ]
  },
  {
   "cell_type": "code",
   "execution_count": null,
   "metadata": {
    "tags": []
   },
   "outputs": [],
   "source": [
    "people_by_state"
   ]
  },
  {
   "cell_type": "markdown",
   "metadata": {},
   "source": [
    "### Method 1: Create a dictionary\n",
    "\n",
    "One common way of creating a Data Frame is by first creating a dictionary of lists (or other sequences, like arrays), then just converting that into a Data Frame. The keys in the dictionary will be set as the column names, and the values associated with those keys will become the data in the columns. "
   ]
  },
  {
   "cell_type": "code",
   "execution_count": null,
   "metadata": {
    "tags": []
   },
   "outputs": [],
   "source": [
    "example_df = pd.DataFrame({'example':[1,2,3], 'example2':[4,5,6]})\n",
    "example_df"
   ]
  },
  {
   "cell_type": "markdown",
   "metadata": {},
   "source": [
    "So, in order to create a DataFrame, we can just make sure that our data is in the correct dictionary format, then convert it. This means we will need to make sure to convert the data we get back from the API into this type of dictionary. Let's take a look at what we got from the census API to see what we would need to do."
   ]
  },
  {
   "cell_type": "code",
   "execution_count": null,
   "metadata": {
    "tags": []
   },
   "outputs": [],
   "source": [
    "type(people_by_state)"
   ]
  },
  {
   "cell_type": "code",
   "execution_count": null,
   "metadata": {
    "tags": []
   },
   "outputs": [],
   "source": [
    "len(people_by_state)"
   ]
  },
  {
   "cell_type": "code",
   "execution_count": null,
   "metadata": {
    "tags": []
   },
   "outputs": [],
   "source": [
    "people_by_state[0]"
   ]
  },
  {
   "cell_type": "code",
   "execution_count": null,
   "metadata": {
    "tags": []
   },
   "outputs": [],
   "source": [
    "people_by_state[:4]"
   ]
  },
  {
   "cell_type": "markdown",
   "metadata": {},
   "source": [
    "<font color ='red'>**Question 1: Create a list called `hh` that has the number of households in each state.**</font>"
   ]
  },
  {
   "cell_type": "code",
   "execution_count": null,
   "metadata": {
    "tags": []
   },
   "outputs": [],
   "source": [
    "\n",
    "\n"
   ]
  },
  {
   "cell_type": "markdown",
   "metadata": {},
   "source": [
    "<font color ='red'>**Question 2: Now, following this model, create a dictionary called `census_dict` with the keys of `state`, `household`, `mean_income`, `percent_employed`, `percent_bachelors`, `percent_graduate`. These should have lists with the appropriate data corresponding to each key. Make sure that the numbers are included as numeric values rather than as strings.**</font>\n",
    "\n",
    "Note: This is possible to do with dictionary comprehension! Think about how you might do this."
   ]
  },
  {
   "cell_type": "code",
   "execution_count": null,
   "metadata": {
    "tags": []
   },
   "outputs": [],
   "source": [
    "keys = ['state', 'num_households','mean_income','percent_employed','percent_bachelors','percent_graduate']"
   ]
  },
  {
   "cell_type": "code",
   "execution_count": null,
   "metadata": {
    "tags": []
   },
   "outputs": [],
   "source": [
    "\n",
    "\n",
    "\n"
   ]
  },
  {
   "cell_type": "markdown",
   "metadata": {},
   "source": [
    "Once you get the dictionary set up correctly, it's very easy to turn it into a DataFrame -- just use `pd.DataFrame`. "
   ]
  },
  {
   "cell_type": "code",
   "execution_count": null,
   "metadata": {
    "tags": []
   },
   "outputs": [],
   "source": [
    "census_df = pd.DataFrame(census_dict)\n",
    "census_df.head()"
   ]
  },
  {
   "cell_type": "markdown",
   "metadata": {},
   "source": [
    "<font color ='red'>**Question 3: Use the `.describe` method to look at some summary statistics for the variables that we got. Then, use the `sort_values` method to figure out which state had the highest mean income and which had the lowest.**</font>\n",
    "\n",
    "Hint: Look at the [documentation for sort_values](https://pandas.pydata.org/pandas-docs/version/0.17.0/generated/pandas.DataFrame.sort_values.html) to see how you might use this method. You'll need to give it a variable name as an argument, and you can also use `ascending = False` to sort the other way."
   ]
  },
  {
   "cell_type": "code",
   "execution_count": null,
   "metadata": {
    "tags": []
   },
   "outputs": [],
   "source": [
    "census_df.describe()"
   ]
  },
  {
   "cell_type": "markdown",
   "metadata": {},
   "source": [
    "### Method 2: Convert to Data Frame, then clean\n",
    "\n",
    "We actually could have made the list of lists into a Data Frame much faster -- by simply turning it into a Data Frame immediately."
   ]
  },
  {
   "cell_type": "code",
   "execution_count": null,
   "metadata": {
    "tags": []
   },
   "outputs": [],
   "source": [
    "df2 = pd.DataFrame(people_by_state)\n",
    "df2.head()"
   ]
  },
  {
   "cell_type": "markdown",
   "metadata": {},
   "source": [
    "However, because we aren't being careful about how to specify column names, we end up with the first row containing the column names instead. This is problematic, because we don't want them there and we might want to use the numbers to calculate summaries. We can instead set the column names manually, then remove the first row so that it isn't in our data. If we weren't going to change the column names, then we could have just pulled out the first row and assigned that as the column names instead.\n",
    "\n",
    "While we're doing this, we'll also remove the last column that has the state ID. Since we have the state names in the dataset already, this is redundant. Note that in the first method above, we simply omitted it while creating the dictionary."
   ]
  },
  {
   "cell_type": "code",
   "execution_count": null,
   "metadata": {},
   "outputs": [],
   "source": [
    "col_names = ['state', 'num_households','mean_income',\n",
    "             'percent_employed','percent_bachelors',\n",
    "             'percent_graduate','state_id']\n",
    "df2.columns = col_names"
   ]
  },
  {
   "cell_type": "code",
   "execution_count": null,
   "metadata": {
    "tags": []
   },
   "outputs": [],
   "source": [
    "df2.head()"
   ]
  },
  {
   "cell_type": "markdown",
   "metadata": {},
   "source": [
    "<font color ='red'>**Question 4: Remove the first row and the last column of `df2`. Call the new DataFrame `census`.**</font>\n"
   ]
  },
  {
   "cell_type": "code",
   "execution_count": null,
   "metadata": {
    "tags": []
   },
   "outputs": [],
   "source": [
    "\n",
    "\n",
    "\n"
   ]
  },
  {
   "cell_type": "code",
   "execution_count": null,
   "metadata": {
    "tags": []
   },
   "outputs": [],
   "source": [
    "census.head()"
   ]
  },
  {
   "cell_type": "markdown",
   "metadata": {},
   "source": [
    "After that, we need to make it so that the numbers are numeric instead of strings. Remember, the data from the Census API is provided as strings, so those values won't be treated as numbers and any attempt to describe them will not give the correct response. "
   ]
  },
  {
   "cell_type": "code",
   "execution_count": null,
   "metadata": {
    "tags": []
   },
   "outputs": [],
   "source": [
    "census.describe()"
   ]
  },
  {
   "cell_type": "markdown",
   "metadata": {},
   "source": [
    "The `pd.to_numeric` function can help us do some of the conversion, but it would be quite tedious to have to do this manually for each column that needs it. Instead, we can use the `apply` method."
   ]
  },
  {
   "cell_type": "code",
   "execution_count": null,
   "metadata": {
    "tags": []
   },
   "outputs": [],
   "source": [
    "pd.to_numeric(census.mean_income)"
   ]
  },
  {
   "cell_type": "markdown",
   "metadata": {},
   "source": [
    "### Using apply\n",
    "\n",
    "We have already used `apply` to apply a function to an array. We can do the same to a DataFrame over all of its rows or columns. This might be helpful in cases where you want to do something to every single row or every single column (like convert it to a numeric value). \n",
    "\n",
    "Pandas has a `to_numeric` function that we can use on a list, tuple, 1-d array or Series object to convert to numeric. However, we can't apply it to the DataFrame overall. We'll need to apply it to each column. \n",
    "\n",
    "We'll apply it to every column except the first one (because we don't want to to try to turn the state names into numeric values). "
   ]
  },
  {
   "cell_type": "code",
   "execution_count": null,
   "metadata": {
    "tags": []
   },
   "outputs": [],
   "source": [
    "variables_to_convert = ['num_households', 'mean_income','percent_employed',\n",
    "                       'percent_bachelors','percent_graduate']\n",
    "census[variables_to_convert] = census[variables_to_convert].apply(pd.to_numeric, 1)"
   ]
  },
  {
   "cell_type": "code",
   "execution_count": null,
   "metadata": {
    "tags": []
   },
   "outputs": [],
   "source": [
    "census.describe()"
   ]
  },
  {
   "cell_type": "markdown",
   "metadata": {},
   "source": [
    "<font color ='red'>**Question 5: Note that the last three variables are shown as percentages. Using `apply`, change the percentages into proportions (so that they are between 0 and 1) and create a new Data Frame called `census_props`. Everything else in the Data Frame should be the same.**</font>\n"
   ]
  },
  {
   "cell_type": "code",
   "execution_count": null,
   "metadata": {},
   "outputs": [],
   "source": []
  },
  {
   "cell_type": "markdown",
   "metadata": {},
   "source": [
    "\n",
    "\n",
    "\n"
   ]
  },
  {
   "cell_type": "markdown",
   "metadata": {},
   "source": [
    "## A Note on Getting Data into Data Frames\n",
    "\n",
    "It might seem like the second method is much more convoluted in getting the data into the format we need, but it isn't always the case. For example, if we had strings or categorical variables instead of numbers, then we might not have needed to do the conversion to numeric and use the `apply` step. Also, it can be a bit tedious to try to think about how to build the dictionary to begin with, especially if it takes you some time to think of how to build the list and dictionary comprehension pieces. \n",
    "\n",
    "The path that you getting data into Data Frames will differ depending on the data source and what format it comes in. Many times, you'll still have to do some data management steps even after getting a dictionary in the right format. \n",
    "\n",
    "Try to think about the format that you want the data in. Some questions to ask are:\n",
    "- What are the rows? \n",
    "- What are the columnns?\n",
    "- What type of data are you starting with? \n",
    "- Where is that data? \n",
    "\n",
    "Let's look at another example using the NY Times API. Make sure to copy and paste your NY Times API key text file into this folder before running the following code."
   ]
  },
  {
   "cell_type": "code",
   "execution_count": null,
   "metadata": {
    "tags": []
   },
   "outputs": [],
   "source": [
    "# My file with the key is called nyt-key.txt. Make sure you have that file with your key!\n",
    "with open('nyt-key.txt', 'r') as f:\n",
    "    nyt_key = f.readline()\n",
    "\n",
    "base_url = \"https://api.nytimes.com/svc/archive/v1/2019/1.json\"\n",
    "r = get(base_url, params= {'api-key':nyt_key}) \n",
    "archive_2019_01 = r.json()['response']['docs']\n"
   ]
  },
  {
   "cell_type": "code",
   "execution_count": null,
   "metadata": {
    "tags": []
   },
   "outputs": [],
   "source": [
    "type(archive_2019_01)"
   ]
  },
  {
   "cell_type": "code",
   "execution_count": null,
   "metadata": {
    "tags": []
   },
   "outputs": [],
   "source": [
    "len(archive_2019_01)"
   ]
  },
  {
   "cell_type": "code",
   "execution_count": null,
   "metadata": {
    "tags": []
   },
   "outputs": [],
   "source": [
    "archive_2019_01[0].keys()"
   ]
  },
  {
   "cell_type": "markdown",
   "metadata": {},
   "source": [
    "<font color ='red'>**Question 6: Create a Data Frame called `nyt_archive` that has the `abstract`, `web_url`, `type_of_material` and `word_count` of the articles in `archive_2019_01`.**</font>\n"
   ]
  },
  {
   "cell_type": "code",
   "execution_count": null,
   "metadata": {
    "tags": []
   },
   "outputs": [],
   "source": [
    "\n",
    "\n",
    "\n"
   ]
  },
  {
   "cell_type": "markdown",
   "metadata": {},
   "source": [
    "<font color ='red'>**Question 7: What are the types of articles there were in January 2019 in the NY Times? What was the most common type of article? Which articles had the longest word counts on average?**</font>"
   ]
  },
  {
   "cell_type": "code",
   "execution_count": null,
   "metadata": {},
   "outputs": [],
   "source": [
    "\n",
    "\n",
    "\n"
   ]
  },
  {
   "cell_type": "markdown",
   "metadata": {
    "tags": []
   },
   "source": [
    "### Scatterplots\n",
    "\n",
    "To look at the relationship between two numerical variables, we can use a scatterplot. The `plot.scatter` method with the arguments for the variable names to go on the x and y axes does this for us."
   ]
  },
  {
   "cell_type": "code",
   "execution_count": null,
   "metadata": {
    "tags": []
   },
   "outputs": [],
   "source": [
    "census.plot.scatter('percent_bachelors','percent_employed')"
   ]
  },
  {
   "cell_type": "markdown",
   "metadata": {},
   "source": [
    "<font color = 'red'>**Question 8: Create a scatterplot of `percent_bachelors` and `mean_income`. Does it look like there is a relationship between the two variables?**</font>"
   ]
  },
  {
   "cell_type": "code",
   "execution_count": null,
   "metadata": {},
   "outputs": [],
   "source": [
    "\n",
    "\n",
    "\n"
   ]
  }
 ],
 "metadata": {
  "kernelspec": {
   "display_name": "Python 3 (ipykernel)",
   "language": "python",
   "name": "python3"
  },
  "language_info": {
   "codemirror_mode": {
    "name": "ipython",
    "version": 3
   },
   "file_extension": ".py",
   "mimetype": "text/x-python",
   "name": "python",
   "nbconvert_exporter": "python",
   "pygments_lexer": "ipython3",
   "version": "3.12.2"
  },
  "toc": {
   "base_numbering": 1,
   "nav_menu": {},
   "number_sections": false,
   "sideBar": false,
   "skip_h1_title": false,
   "title_cell": "Table of Contents",
   "title_sidebar": "Contents",
   "toc_cell": false,
   "toc_position": {},
   "toc_section_display": false,
   "toc_window_display": false
  }
 },
 "nbformat": 4,
 "nbformat_minor": 4
}
