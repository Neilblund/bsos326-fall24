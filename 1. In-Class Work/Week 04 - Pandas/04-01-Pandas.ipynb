{
 "cells": [
  {
   "cell_type": "markdown",
   "id": "ae81135f-9abe-49e1-b2fa-aedeebea8db4",
   "metadata": {},
   "source": [
    "# Introduction to Pandas\n",
    "\n",
    "Pandas is by far the most commonly used primary Python tool for data analysis. It offers many tools for working with all kinds of data, and many packages are even built around the pandas tools. If you have worked with R before in another class, you are probably familiar with data frames. Pandas offers a DataFrame class of objects that has very similar properties to R data frames and will be the main method of storing tabular data (data with rows and columns).\n",
    "\n",
    "If you'd like to read more about the libraries that we're loading here, <a href='https://pandas.pydata.org/docs/index.html'>take a look at the online documentation</a>\n",
    "\n",
    "\n"
   ]
  },
  {
   "cell_type": "code",
   "execution_count": null,
   "id": "b2ae9a87-ea57-481e-88be-0ae066f1827b",
   "metadata": {},
   "outputs": [],
   "source": [
    "import numpy as np \n",
    "import pandas as pd "
   ]
  },
  {
   "cell_type": "markdown",
   "id": "64a2e129-87d9-4536-8edb-0144a4bc44eb",
   "metadata": {},
   "source": [
    "You can use the .head method for DataFrames to see the top few lines of the dataset. The rows represent individual observations, while the columns represent the variables. Note that there are row names as well as column names. The column names are the variable names, while the row names are by default just incrementing up from 0.# Reading in the Data Set\n",
    "Before we can start analyzing data, we first need to actually bring in the data into Python so that we can work with it. We'll start by reading in a data set from a csv, or comma-separated value, file.\n",
    "\n",
    "We use the read_csv function from pandas to read in the csv file."
   ]
  },
  {
   "cell_type": "code",
   "execution_count": null,
   "id": "f71d0961-72e3-4fcb-a997-f45bcc3845f5",
   "metadata": {},
   "outputs": [],
   "source": [
    "data_file = '201807-CAH_PulseOfTheNation_Raw.csv'\n",
    "df = pd.read_csv(data_file)"
   ]
  },
  {
   "cell_type": "markdown",
   "id": "bf927981-a6ec-45d0-ad15-96cb672e6b03",
   "metadata": {},
   "source": [
    "You can use the .head method for DataFrames to see the top few lines of the dataset. The rows represent individual observations, while the columns represent the variables. Note that there are row names as well as column names. The column names are the variable names, while the row names are by default just incrementing up from 0."
   ]
  },
  {
   "cell_type": "code",
   "execution_count": null,
   "id": "d3fea3ca-80a9-4966-ac60-cedd3d9c5044",
   "metadata": {},
   "outputs": [],
   "source": [
    "df.head()"
   ]
  },
  {
   "cell_type": "markdown",
   "id": "95ba474b-1549-488f-b660-cda0930bf36f",
   "metadata": {},
   "source": [
    "<font style=\"color:red\">**Question 1: Bring in the Codebook file as a DataFrame object called `codebook`. This should have two columns: the name of the variable in the dataset as well as the description of that variable. Look at the first few lines.**</font>"
   ]
  },
  {
   "cell_type": "markdown",
   "id": "59c104d2-382b-476d-97a3-5f9bd83cbd02",
   "metadata": {},
   "source": []
  },
  {
   "cell_type": "markdown",
   "id": "1897e19c-8ea3-44db-8f74-17c1b28da501",
   "metadata": {},
   "source": [
    "# Data from the internet\n",
    "\n",
    "We can also bring in data from a URL. The Pulse of the Nation Data is available on their website and we can supply that URL directly to `read_csv()` in place of a file path. (you'll notice some slight differences in the formatting and colum names here, but these are otherwise identical)\n"
   ]
  },
  {
   "cell_type": "code",
   "execution_count": null,
   "id": "86be5190-f36e-4c32-a39d-36fe985ae663",
   "metadata": {},
   "outputs": [],
   "source": [
    "\n",
    "data_url = 'https://thepulseofthenation.com/downloads/201807-CAH_PulseOfTheNation_Raw.csv'\n",
    "df_from_url = pd.read_csv(data_url)"
   ]
  },
  {
   "cell_type": "code",
   "execution_count": null,
   "id": "56aa366b-4ec0-427c-a945-ba02917b34f9",
   "metadata": {},
   "outputs": [],
   "source": [
    "df_from_url.head()"
   ]
  },
  {
   "cell_type": "markdown",
   "id": "4602b3ba-912b-4295-9a9a-d2e32bb273af",
   "metadata": {},
   "source": [
    "# Exploring the Data Frame\n",
    "\n",
    "There's a lot that you can do with Data Frames. The documentation for Data Frames (https://pandas.pydata.org/pandas-docs/stable/reference/frame.html) describes all of the methods and instance variables associated with it. We'll go over a few here that are helpful for exploring and looking at the data.\n",
    "\n",
    "First, let's check the number of rows and columns. We can do this by looking at the shape attribute of a data frame."
   ]
  },
  {
   "cell_type": "code",
   "execution_count": null,
   "id": "9b957ea2-941d-4e23-add2-d1583df98d78",
   "metadata": {},
   "outputs": [],
   "source": [
    "df.shape"
   ]
  },
  {
   "cell_type": "code",
   "execution_count": null,
   "id": "ea32c53d-ff3a-43a4-bbe3-de237d1e1253",
   "metadata": {},
   "outputs": [],
   "source": [
    "df.columns"
   ]
  },
  {
   "cell_type": "markdown",
   "id": "5648c7af-11ee-499a-9b31-da40246f5130",
   "metadata": {},
   "source": [
    "The codebook DataFrame has information about what question each of these variables correspond to.\n",
    "\n",
    "To get more information about the contents of the Data Frame, we can also use the `.info()` method. This will give us the number of non-null values and the type of data (these have all been read in as integers) for each column."
   ]
  },
  {
   "cell_type": "code",
   "execution_count": null,
   "id": "eaee90d4-f9cf-4be9-93fa-5e92c033f097",
   "metadata": {},
   "outputs": [],
   "source": [
    "df.info()"
   ]
  },
  {
   "cell_type": "markdown",
   "id": "82cf2fbc-187f-449a-a60c-4762a3653fd4",
   "metadata": {},
   "source": [
    "Notice that the count of non-null objects is 800 for most, but much smaller for others. This indicates that there are a few rows with missing values. We'll discuss how to deal with missing values later, but this is a good way to identify which variables have missing values and how many there are.\n",
    "\n",
    "We have already used the head method, but we can also use the tail methods in order to look at the last few rows of the data frame."
   ]
  },
  {
   "cell_type": "code",
   "execution_count": null,
   "id": "ab2dbcad-f332-47aa-b2e0-b37b35240933",
   "metadata": {},
   "outputs": [],
   "source": [
    "df.tail()"
   ]
  },
  {
   "cell_type": "code",
   "execution_count": null,
   "id": "cca97ac6-3713-4559-8bb9-bb8418c59616",
   "metadata": {},
   "outputs": [],
   "source": [
    "df.tail(10) # show additional rows"
   ]
  },
  {
   "cell_type": "code",
   "execution_count": null,
   "id": "4bab3459-ddbd-4558-a399-337a449cf6c0",
   "metadata": {},
   "outputs": [],
   "source": [
    "df[\"gender\"] "
   ]
  },
  {
   "cell_type": "code",
   "execution_count": null,
   "id": "f08dabb8-b3ee-4183-888d-82cf0d76f141",
   "metadata": {},
   "outputs": [],
   "source": [
    "df.gender "
   ]
  },
  {
   "cell_type": "markdown",
   "id": "b8f30245-f06e-44c2-b3cf-2d49e4c936fe",
   "metadata": {},
   "source": [
    "# Accessing Rows\n",
    "What if we want to get certain rows? We can use bracket notation to get the rows we want."
   ]
  },
  {
   "cell_type": "code",
   "execution_count": null,
   "id": "b170b889-0a74-48b9-85b8-5251fc72a058",
   "metadata": {},
   "outputs": [],
   "source": [
    "df[10:15] "
   ]
  },
  {
   "cell_type": "markdown",
   "id": "313edca6-d2dc-45cf-b09d-231a4a1b9b07",
   "metadata": {},
   "source": [
    "We can also use `loc` with square brackets. We use a colon to indicate that we want a series of indices with a start and end. We can also leave one side of the colon empty to indicate that we want the rest of the values on that end."
   ]
  },
  {
   "cell_type": "code",
   "execution_count": null,
   "id": "aa317f95-0e4a-4a0a-b1b2-a6cbdad0e92d",
   "metadata": {},
   "outputs": [],
   "source": [
    "df.loc[10:20] # rows labeled 10 - 20"
   ]
  },
  {
   "cell_type": "code",
   "execution_count": null,
   "id": "5c45cf2f-b6be-4bbc-9db6-27c1fa7f8cd2",
   "metadata": {},
   "outputs": [],
   "source": [
    "df.loc[:10]  # rows from the first to the label 10"
   ]
  },
  {
   "cell_type": "code",
   "execution_count": null,
   "id": "8b9726ba-249c-414a-b762-f075804c5c41",
   "metadata": {},
   "outputs": [],
   "source": [
    "df.loc[:] # all rows"
   ]
  },
  {
   "cell_type": "markdown",
   "id": "f14dc842-36f6-4c6c-87c8-43bec0d5e320",
   "metadata": {},
   "source": [
    "In addition, we can use loc to access certain columns as well as certain indices in the Data Frame."
   ]
  },
  {
   "cell_type": "code",
   "execution_count": null,
   "id": "c7849cd6-13b6-4f9f-86fb-bf5051ba6463",
   "metadata": {},
   "outputs": [],
   "source": [
    "df.loc[10:20,\"race\"] "
   ]
  },
  {
   "cell_type": "markdown",
   "id": "e6b5c6da-83d2-4d5b-84ae-956ec74323bc",
   "metadata": {},
   "source": [
    "And we can use similar notation to get a range of columns. This would give us the all columns from \"gender\" through \"race\" (inclusive)"
   ]
  },
  {
   "cell_type": "code",
   "execution_count": null,
   "id": "23f6825c-c36c-411a-9b74-75352d301734",
   "metadata": {},
   "outputs": [],
   "source": [
    "df.loc[10:20,'gender':'race']"
   ]
  },
  {
   "cell_type": "markdown",
   "id": "ddbecb84-74b7-4170-9154-b7ed75a6cb58",
   "metadata": {},
   "source": [
    "In this case, we were able to use the `\"-5:\"` to indicate that we want the last 5 rows of the data frame. Note that we can't do the same with `.loc.` This is because `.loc` retrieves the rows from a particular label in the Data Frame, while `.iloc` retrieves them from particular positions."
   ]
  },
  {
   "cell_type": "markdown",
   "id": "b9e7688b-6839-446c-a43a-35cf1870034a",
   "metadata": {},
   "source": [
    "# Data summaries\n",
    "\n",
    "When we look individual columns, that itself is a Series object rather than a DataFrame object."
   ]
  },
  {
   "cell_type": "code",
   "execution_count": null,
   "id": "cb44e3c2-b901-4beb-a161-463e287f38ef",
   "metadata": {},
   "outputs": [],
   "source": [
    "type(df.gender)"
   ]
  },
  {
   "cell_type": "code",
   "execution_count": null,
   "id": "02eb3761-1f85-4383-9962-0d07ee0f8b46",
   "metadata": {},
   "outputs": [],
   "source": [
    "df.age.max()"
   ]
  },
  {
   "cell_type": "code",
   "execution_count": null,
   "id": "c21012ea-872c-4dc8-88dd-6b0ba9c62c01",
   "metadata": {},
   "outputs": [],
   "source": [
    "df.age.median()"
   ]
  },
  {
   "cell_type": "markdown",
   "id": "ec0d2bb8-0e5d-45d1-b39f-51582ba61788",
   "metadata": {},
   "source": [
    "<font style=\"color:red\">**Question 2: What is the mean age of people in this dataset? What is the standard deviation of age**</font>"
   ]
  },
  {
   "cell_type": "code",
   "execution_count": null,
   "id": "4b964eed-0ebb-43eb-8895-4032026cb7cf",
   "metadata": {},
   "outputs": [],
   "source": []
  },
  {
   "cell_type": "markdown",
   "id": "8d9d975f-38d2-472f-9b14-201c89d2aaf8",
   "metadata": {},
   "source": [
    "You can also use the `describe` method with DataFrames to calculate a lot of the summary statistics for numerical variables. In this dataset, we only have one, so we will only have one column."
   ]
  },
  {
   "cell_type": "code",
   "execution_count": null,
   "id": "fa7cdbf0-182d-4eab-b54b-3e69af4d7cd4",
   "metadata": {},
   "outputs": [],
   "source": [
    "df.describe()"
   ]
  },
  {
   "cell_type": "markdown",
   "id": "d1b7b14b-5f39-422a-95b6-572f8f27d580",
   "metadata": {},
   "source": [
    "For categorical variables, you can use the `value_counts` method to create a frequency table"
   ]
  },
  {
   "cell_type": "code",
   "execution_count": null,
   "id": "f94f9352-1c28-42df-9ace-2efb36dce90e",
   "metadata": {},
   "outputs": [],
   "source": [
    "df.race.value_counts()"
   ]
  },
  {
   "cell_type": "markdown",
   "id": "02e20b82-bf55-419b-ad4b-2aef43fc511a",
   "metadata": {},
   "source": [
    "To get the counts as proportions instead, use the `normalize=True` argument."
   ]
  },
  {
   "cell_type": "code",
   "execution_count": null,
   "id": "75be62ee-fc1a-4bb9-93a4-c53150c850d5",
   "metadata": {},
   "outputs": [],
   "source": [
    "df.race.value_counts(normalize=True)"
   ]
  },
  {
   "cell_type": "markdown",
   "id": "b90d3854-cd42-4860-9af1-46df3921aff2",
   "metadata": {},
   "source": [
    "And we can use the `value_counts` method on a data frame with multiple columns to count unique combinations of multiple variables."
   ]
  },
  {
   "cell_type": "code",
   "execution_count": null,
   "id": "88a0a9bf-0898-4685-a679-fb2e2e271a16",
   "metadata": {},
   "outputs": [],
   "source": [
    "df[['gender', 'political_party']].value_counts()"
   ]
  },
  {
   "cell_type": "code",
   "execution_count": null,
   "id": "e2d683db-0f66-4820-bd3a-b3fbc45ebe62",
   "metadata": {},
   "outputs": [],
   "source": []
  },
  {
   "cell_type": "markdown",
   "id": "c96cc5e1-f816-483e-989e-b3e633c60f54",
   "metadata": {},
   "source": [
    "<font style=\"color:red\">**Question 3: What is the distribution of political party like? Which political party was the most common answer? What proportion of people said they didn't know or refused to answer?**</font>"
   ]
  },
  {
   "cell_type": "code",
   "execution_count": null,
   "id": "48674a6d-33e2-4711-b823-b0a28bc0e225",
   "metadata": {},
   "outputs": [],
   "source": []
  },
  {
   "cell_type": "markdown",
   "id": "56f87972-b369-4bf5-a19a-581414e9f4c7",
   "metadata": {},
   "source": [
    "# Subsetting\n",
    "\n",
    "You can subset DataFrames using logical operators like `>`, `<`, `==` etc. For instance, if I wanted to get a list of all rows where `age` was over 40, I could write\n",
    "\n"
   ]
  },
  {
   "cell_type": "code",
   "execution_count": null,
   "id": "3d1120c5-c4c7-4d61-a08d-8787ac73c4e6",
   "metadata": {
    "scrolled": true
   },
   "outputs": [],
   "source": [
    "older_than_40 = df[df.age>40]\n",
    "older_than_40.head()"
   ]
  },
  {
   "cell_type": "markdown",
   "id": "b91e0da8-4d1a-46cc-afb1-bb71a0c115d4",
   "metadata": {},
   "source": [
    "And I can combine this behavior with the `value_counts` method to look at frequency tables for a particular subset of the data and compare them to each other."
   ]
  },
  {
   "cell_type": "code",
   "execution_count": null,
   "id": "0bf6dc0b-2f50-4a39-9fda-fc9c717f4b21",
   "metadata": {},
   "outputs": [],
   "source": [
    " df[df.age>40]['political_party'].value_counts(normalize = True)"
   ]
  },
  {
   "cell_type": "code",
   "execution_count": null,
   "id": "fdf07132-16ba-482c-ad3e-ff078bc278b6",
   "metadata": {},
   "outputs": [],
   "source": [
    " df[df.age<=40]['political_party'].value_counts(normalize = True)"
   ]
  },
  {
   "cell_type": "markdown",
   "id": "91bbb951-33eb-407c-85d6-945ce7190a0c",
   "metadata": {},
   "source": [
    "<font style=\"color:red\">**Question 4:What is the average age of people who have a college degree or a graduate degree? What is the distribution of political party like for those people?**</font>"
   ]
  },
  {
   "cell_type": "code",
   "execution_count": null,
   "id": "26192f16-2d18-475b-8fce-3dc0276bcf79",
   "metadata": {},
   "outputs": [],
   "source": []
  },
  {
   "cell_type": "markdown",
   "id": "0e1d0270-de93-4d19-9cba-5efa88799e16",
   "metadata": {},
   "source": [
    "# Comparison between Variables\n",
    "\n",
    "To do comparison between two categorical variables, we can use the `crosstab` function from pandas. This allows us to look at the breakdown of the number of people within the combinations of categories of multiple variables.\n",
    "\n"
   ]
  },
  {
   "cell_type": "code",
   "execution_count": null,
   "id": "5374c4a3-b415-4946-b728-a3d1b6980933",
   "metadata": {
    "scrolled": true
   },
   "outputs": [],
   "source": [
    "pd.crosstab(df.political_party, df.gender)"
   ]
  },
  {
   "cell_type": "markdown",
   "id": "b6c98583-9620-4a67-b3f2-3ceaeeb6d1a1",
   "metadata": {},
   "source": [
    "To find the row proportion, we can use `normalize = 'index'`. Using `normalize='columns'` gives you the column proportions."
   ]
  },
  {
   "cell_type": "code",
   "execution_count": null,
   "id": "224c381d-449d-4419-a6c7-5171aad9429c",
   "metadata": {},
   "outputs": [],
   "source": [
    "pd.crosstab(df.political_party, df.gender, normalize='columns') # column proportions"
   ]
  },
  {
   "cell_type": "code",
   "execution_count": null,
   "id": "53e0ebad-68e0-451a-82d4-1fa96d4ccbe4",
   "metadata": {},
   "outputs": [],
   "source": [
    "pd.crosstab(df.political_party, df.gender, normalize = 'index') # row proportions"
   ]
  },
  {
   "cell_type": "markdown",
   "id": "9c779412-275c-42ff-adb4-00cfacd2ebca",
   "metadata": {},
   "source": [
    "<div class=\"alert alert-block alert-info\">\n",
    "<b>Tip:</b> When creating a crosstab, keep in mind that you can get very different results depending on the kind of proportions you analyze. Getting \"row proportions\" means you're calculating <b>\"the proportion of people in [row category] who have [column characteristic]</b>, and getting \"column proportions\" means the reverse."
   ]
  },
  {
   "cell_type": "markdown",
   "id": "f990d35b-75b0-4cb2-971e-8607529252ba",
   "metadata": {},
   "source": [
    "<font style=\"color:red\">**Question 5: Create a crosstab that shows the the breakdown of party identification across different \"races\". Is racial identity associated with party ID?**</font>"
   ]
  },
  {
   "cell_type": "code",
   "execution_count": null,
   "id": "96bc551a-8ae2-485c-b8e1-d3965390bd3b",
   "metadata": {},
   "outputs": [],
   "source": []
  },
  {
   "cell_type": "markdown",
   "id": "c7170d7e-c6e0-4e4d-966e-c0308c954c04",
   "metadata": {},
   "source": [
    "If we want to look at the association between a numerical variable and a categorical variable, we can use the `pivot_table` method to calculate the value of some statistic of the numerical variable for each category of the categorical variable."
   ]
  },
  {
   "cell_type": "code",
   "execution_count": null,
   "id": "220be1d4-f101-4100-a7ff-579b2e177a7b",
   "metadata": {},
   "outputs": [],
   "source": [
    "df.pivot_table(values = 'age',index ='political_party')"
   ]
  },
  {
   "cell_type": "markdown",
   "id": "eed4bb98-1e3f-4927-8f54-f1822d48079a",
   "metadata": {},
   "source": [
    "By default, we will return the arithmetic mean, but we can supply the name (in quotation marks) of some other function to the `aggfunc` argument. \n",
    "\n",
    "For instance, to get the standard deviation of `age` for each party ID group, we would use `aggfunc='std'`"
   ]
  },
  {
   "cell_type": "code",
   "execution_count": null,
   "id": "7735eb1f-3330-4c89-b3eb-c61228d66008",
   "metadata": {},
   "outputs": [],
   "source": [
    "df.pivot_table(values = 'age',index ='political_party', aggfunc = 'std')"
   ]
  },
  {
   "cell_type": "markdown",
   "id": "5bf5390d-58e9-40eb-88ab-27e86207da62",
   "metadata": {},
   "source": [
    "Alternatively, we can supply the name of a custom function we write ourselves, or a `lambda` function defined inline. "
   ]
  },
  {
   "cell_type": "code",
   "execution_count": null,
   "id": "70fadc30-d92c-461d-b37b-2d6d1cabfbf6",
   "metadata": {},
   "outputs": [],
   "source": [
    "# calculate the mean absolute deviation\n",
    "def mean_abs_dev(x):\n",
    "    x = np.array(x)\n",
    "    mad = sum(abs(x - x.mean() )) / len(x)\n",
    "    return mad\n",
    "\n",
    "df.pivot_table(values = 'age',index ='political_party', aggfunc = mean_abs_dev)\n",
    "\n",
    "# one-line equivalent with a lambda function: \n",
    "# df.pivot_table(values = 'age',index ='political_party', aggfunc = lambda x: sum(abs(np.mean(x)-x)/len(x)))"
   ]
  },
  {
   "cell_type": "markdown",
   "id": "39652d52-5a6b-4e25-847f-bd6c301c7fcd",
   "metadata": {},
   "source": [
    "Finally, we can supply multiple functions in a list to get more than one aggregate in a table:"
   ]
  },
  {
   "cell_type": "code",
   "execution_count": null,
   "id": "a5817b78-988c-4daa-9c78-43fd51f27ef5",
   "metadata": {
    "scrolled": true
   },
   "outputs": [],
   "source": [
    "# comparing the standard deviation to the mean absolute deviation:\n",
    "df.pivot_table(values = 'age',index ='political_party', aggfunc = [\"mean\", mean_abs_dev, \"std\"])"
   ]
  },
  {
   "cell_type": "code",
   "execution_count": null,
   "id": "0d7ad307-09e4-4ddd-94d6-0f2efadbd124",
   "metadata": {},
   "outputs": [],
   "source": []
  },
  {
   "cell_type": "markdown",
   "id": "19dbc76b-6412-41c8-8268-0d2936649eba",
   "metadata": {},
   "source": [
    "<font style=\"color:red\">**Question 6: What is the median age of respondents by their response to whether they supported Trump or not? Does there seem to be an association?**</font>"
   ]
  },
  {
   "cell_type": "code",
   "execution_count": null,
   "id": "1dd6b95a-3352-49bb-8b1b-8695916d495f",
   "metadata": {},
   "outputs": [],
   "source": []
  },
  {
   "cell_type": "markdown",
   "id": "32337087-aaa3-4454-b01b-e4cf5e015a76",
   "metadata": {},
   "source": [
    "# Simple Visualizations\n",
    "\n",
    "We can use the <a href=\"https://pandas.pydata.org/docs/reference/api/pandas.DataFrame.plot.html\">`plot`</a> methods for DataFrames with these summaries to create simple visualizations. We'll discuss how to make nicer, more customizable graphs later, but for now, these should be very helpful in seeing relationships and exploring the data.\n",
    "\n",
    "For a bar chart, you can use `plot.bar`.\n"
   ]
  },
  {
   "cell_type": "code",
   "execution_count": null,
   "id": "ca95a981-ad73-4c63-b06b-b7e8d4715459",
   "metadata": {},
   "outputs": [],
   "source": [
    "race_by_gender = pd.crosstab(df.race, df.gender, normalize = 'index')\n",
    "race_by_gender.plot.bar()"
   ]
  },
  {
   "cell_type": "markdown",
   "id": "6b1c9e63-1a2d-468c-be21-3611837d4289",
   "metadata": {},
   "source": [
    "<font style=\"color:red\">**Question 7: Create a bar graph of education and political party. Does it look like there is a relationship based on the graph?**</font>"
   ]
  },
  {
   "cell_type": "code",
   "execution_count": null,
   "id": "5c25cdad-d27d-4aba-81b7-62eb6369c839",
   "metadata": {},
   "outputs": [],
   "source": []
  }
 ],
 "metadata": {
  "kernelspec": {
   "display_name": "Python 3 (ipykernel)",
   "language": "python",
   "name": "python3"
  },
  "language_info": {
   "codemirror_mode": {
    "name": "ipython",
    "version": 3
   },
   "file_extension": ".py",
   "mimetype": "text/x-python",
   "name": "python",
   "nbconvert_exporter": "python",
   "pygments_lexer": "ipython3",
   "version": "3.12.2"
  }
 },
 "nbformat": 4,
 "nbformat_minor": 5
}
