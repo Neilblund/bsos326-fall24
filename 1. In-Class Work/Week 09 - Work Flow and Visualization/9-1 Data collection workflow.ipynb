{
 "cells": [
  {
   "cell_type": "markdown",
   "id": "de637ffc-3ed2-414b-b3b1-1622332bca10",
   "metadata": {
    "editable": true,
    "slideshow": {
     "slide_type": ""
    },
    "tags": []
   },
   "source": [
    "# Gathering data in loops\n",
    "\n",
    "Your final project will probably require you to send more than one API request or scrape more than one page. The next sections offer some general tips on how you can write code that can collect large amounts of data from an API. The final section gives a few tips on organizing your projects. \n",
    "\n",
    "Regardless of how you choose to organize it, your final project must have code that can be used to replicate or update the results you use in your analysis. "
   ]
  },
  {
   "cell_type": "code",
   "execution_count": null,
   "id": "d484ac7f-c58f-4b34-be19-f9bb64e39fef",
   "metadata": {},
   "outputs": [],
   "source": [
    "from requests import get\n",
    "import numpy as np\n",
    "import pandas as pd\n",
    "import time\n"
   ]
  },
  {
   "cell_type": "markdown",
   "id": "12205435-56db-4604-8c20-4c3753145117",
   "metadata": {
    "editable": true,
    "slideshow": {
     "slide_type": ""
    },
    "tags": []
   },
   "source": [
    "## API Pagination\n",
    "\n",
    "Many APIs will place a limit on the number of results you can retrieve with a single query. In order to collect a complete data set, you'll usually need to write a loop that sends multiple requests until you've collected all of the relevant data.\n",
    "\n",
    "The exact process for doing this will vary depending on the API, but usually it will involve using either an offset or a pagination parameter.\n",
    "\n",
    "We can use the example from the World Bank Development Indicators API to illustrate how to do this. This query returns carbon emissions for all countries in 2020:\n",
    "\n"
   ]
  },
  {
   "cell_type": "code",
   "execution_count": null,
   "id": "15e7a262-32ee-4d1f-aa62-43dd05611f88",
   "metadata": {},
   "outputs": [],
   "source": [
    "wdi_params = {'format':'json',\n",
    "              'per_page':100,\n",
    "              'date':2020\n",
    "             }\n",
    "url = 'https://api.worldbank.org/v2/country/all/indicator/EN.ATM.CO2E.PC'\n",
    "response = get(url, params = wdi_params)\n"
   ]
  },
  {
   "cell_type": "markdown",
   "id": "268122cc-9890-4f72-9f21-76ae6f6f1b18",
   "metadata": {},
   "source": [
    "This query only returns the first 100 results, but the response object tells us how many more results are available:"
   ]
  },
  {
   "cell_type": "code",
   "execution_count": null,
   "id": "8720c91d-1722-4e00-beb0-b9103982cb28",
   "metadata": {},
   "outputs": [],
   "source": [
    "response.json()[0]"
   ]
  },
  {
   "cell_type": "markdown",
   "id": "fc20be65-72e4-410d-93b1-82e0e1402fdf",
   "metadata": {},
   "source": [
    "[According to the documentation for this API](https://datahelpdesk.worldbank.org/knowledgebase/articles/898581), we can get the next page of results by incrementing the `page` parameter in our request. So the next page of results would just add \"&page=2\" to the URL we just requested. \n",
    "\n",
    "We could just write all three links out separately, but a more generalizable approach would be to write a loop that makes use of the pagination information that the API gives us. The code below uses a `while` loop to continuously send requests until we reach the final page. After running it, we'll have a list of responses that we can then concatenate into a single data frame"
   ]
  },
  {
   "cell_type": "code",
   "execution_count": null,
   "id": "e7bc45d7-3da6-4bae-9be0-1ebce4307772",
   "metadata": {},
   "outputs": [],
   "source": [
    "# start with an empty list\n",
    "results_list = []\n",
    "\n",
    "morepages = True\n",
    "i = 1\n",
    "\n",
    "while morepages == True:\n",
    "    wdi_params = {'format':'json',\n",
    "              'per_page':100,\n",
    "              'date':2020, \n",
    "               'page':i}\n",
    "    url = 'https://api.worldbank.org/v2/country/all/indicator/EN.ATM.CO2E.PC'\n",
    "    response = get(url, params = wdi_params)\n",
    "    # append page i to results_list\n",
    "    results_list.append(response)\n",
    "    # check to see if we've reached the final page:\n",
    "    morepages = i < response.json()[0].get('pages')\n",
    "    \n",
    "    time.sleep(1)\n",
    "    i +=1\n",
    "\n",
    "\n",
    "\n",
    "\n"
   ]
  },
  {
   "cell_type": "markdown",
   "id": "fff154fc-247a-4685-b55d-e0b06c6fae9c",
   "metadata": {},
   "source": [
    "Now we just need to format and concatenate all the results. To do that, I've written a function that takes a single response from the WDI API and turns it into a data frame. I'll apply it to each list element using a list comprehension, and then use `pd.concat` to create a single data frame"
   ]
  },
  {
   "cell_type": "code",
   "execution_count": null,
   "id": "bfbcba22-bbb1-4e48-a8ce-b9d891e25064",
   "metadata": {},
   "outputs": [],
   "source": [
    "\n",
    "\n",
    "def wdi_parser(resp):\n",
    "    result_dict = [{'country_id':i['countryiso3code'],\n",
    "                    'country_name':i['country']['value'],\n",
    "                    'date': int(i['date']),\n",
    "                    'indicator': i['indicator']['id'],\n",
    "                    'indicator_description' : i['indicator']['value'],\n",
    "                    'indicator_value': np.float64(i['value'])} for i in resp.json()[1]]\n",
    "    return pd.DataFrame(result_dict)\n"
   ]
  },
  {
   "cell_type": "code",
   "execution_count": null,
   "id": "8cbe2647-9a2c-46a2-a176-dee9ed1f2723",
   "metadata": {},
   "outputs": [],
   "source": [
    "parsed_responses = [wdi_parser(i) for i in results_list]\n",
    "wdi_df = pd.concat(parsed_responses)\n",
    "wdi_df.shape"
   ]
  },
  {
   "cell_type": "markdown",
   "id": "ac3f9cae-0874-485e-9278-bb8952974057",
   "metadata": {},
   "source": [
    "Now, we should have results for all 266 countries:"
   ]
  },
  {
   "cell_type": "code",
   "execution_count": null,
   "id": "22dda600-caff-46e3-b975-4942bb05eaab",
   "metadata": {
    "scrolled": true
   },
   "outputs": [],
   "source": [
    "wdi_df.tail()"
   ]
  },
  {
   "cell_type": "markdown",
   "id": "763181b8-2ffc-4ec7-b685-8c0a9221e22c",
   "metadata": {},
   "source": [
    "### Pagination with offsets\n",
    "Keep in mind that the process of paginating through data will not always be the same across all APIs. For instance: the [Nobel Prize API](https://app.swaggerhub.com/apis/NobelMedia/NobelMasterData/2.1) uses an offset parameter rather than a pagination parameter. So you would write something like `offset=0&limit=100` to get results 1-100, and then you would increment that by 100 (`offset=100&limit=100`) to get 101 through 200 and so on and you would continue until your offset was greater than or equal to the maximum number of responses. \n",
    "\n",
    "However, while the specific parameters might be different, the basic ingredients for pagination are more-or-less the same:\n",
    "1. You need code that takes a response object and then creates a URL to retrieve the next page of data\n",
    "2. You need code that can detect when there are no pages left\n",
    "3. You need code to format all of the pages into a single data frame"
   ]
  },
  {
   "cell_type": "markdown",
   "id": "f72077e0-055a-4d42-a861-a912430685da",
   "metadata": {},
   "source": [
    "<b style=\"color:red;\">\n",
    "<h3>Question 1A</h3> The request below gets a single page of results from the PokeApi (see <a href ='https://pokeapi.co/docs/v2#pokemon'>documentation</a>) Start by writing code that will retrieve/create a request for the next page of data</b>\n",
    "\n",
    "(Note that you can either use an offset parameter or the \"next\" url to get results here.)"
   ]
  },
  {
   "cell_type": "code",
   "execution_count": null,
   "id": "acc48b85-085e-4e9b-ae1b-7ff220e9ac72",
   "metadata": {},
   "outputs": [],
   "source": [
    "params = {'offset':0,\n",
    "         'limit':100\n",
    "         }\n",
    "request = get('https://pokeapi.co/api/v2/pokemon', params=params)\n",
    "\n",
    "request.url"
   ]
  },
  {
   "cell_type": "code",
   "execution_count": null,
   "id": "ea085342-143f-4a74-b0c5-a2bce10b440e",
   "metadata": {},
   "outputs": [],
   "source": [
    "# code to get the next page of results"
   ]
  },
  {
   "cell_type": "markdown",
   "id": "c09db695-158f-45e5-9709-1eca5592af83",
   "metadata": {},
   "source": [
    "<b style=\"color:red;\">\n",
    "<h3>Question 1B</h3> The request below shows you what the final page of data would look like. Use this response to write some code that will return `False` if we've reached the final page\n"
   ]
  },
  {
   "cell_type": "code",
   "execution_count": null,
   "id": "8db57d87-8807-4b71-b3dd-6d1528aa6178",
   "metadata": {},
   "outputs": [],
   "source": [
    "params = {'offset':request.json()['count']-10,\n",
    "         'limit':100\n",
    "         }\n",
    "request = get('https://pokeapi.co/api/v2/pokemon', params=params)\n",
    "request.url\n"
   ]
  },
  {
   "cell_type": "code",
   "execution_count": null,
   "id": "941dfa26-2282-4e91-b855-1bc92ae203e7",
   "metadata": {},
   "outputs": [],
   "source": []
  },
  {
   "cell_type": "markdown",
   "id": "7c6672f0-58ed-414f-af9b-2fe49757f9bd",
   "metadata": {},
   "source": [
    "<b style=\"color:red;\">\n",
    "<h3>Question 1C</h3>\n",
    "Use the code above to create a while loop that iterates through each page of results and collects the name and url of each Pokemon in a list. Remember to put a short pause between each iteration of the loop. </b>\n",
    "\n",
    "If you find your loop runs for a really long time, you might want to interrupt the kernal by pressing the stop button at the top of your notebook.\n"
   ]
  },
  {
   "cell_type": "code",
   "execution_count": null,
   "id": "7897437f-ec9b-420a-b20f-cc6b0d4c7c32",
   "metadata": {},
   "outputs": [],
   "source": [
    "# code to create a list with all the responses\n"
   ]
  },
  {
   "cell_type": "markdown",
   "id": "7ab7f846-275c-4331-b35a-9801da3f74eb",
   "metadata": {},
   "source": [
    "<b style=\"color:red;\">\n",
    "<h3>Question 1D</h3>\n",
    "Take a single element from your list of responses and write a function that will turn it into a dataframe. Then apply that function to your list of results from the previous step using a list comprehension and use `pd.concat` to combine them all together\n",
    "</b>"
   ]
  },
  {
   "cell_type": "code",
   "execution_count": null,
   "id": "8533cb77-fb6f-4cf9-951f-7706a6089013",
   "metadata": {},
   "outputs": [],
   "source": [
    "# code to concatenate everything in a data frame \n"
   ]
  },
  {
   "cell_type": "markdown",
   "id": "e1b8c827-d822-46d9-87c3-75d6950ede36",
   "metadata": {},
   "source": [
    "Once we're reasonably confident that we know how to navigate the pagination process, we might want to write a pagination function that can take any query and return the entire list of results. You can see an example of doing that with the Congress.gov API in the `congress_api_functions.py` file in the extra code folder in this directory"
   ]
  },
  {
   "cell_type": "markdown",
   "id": "6a0b529a-438e-4470-845a-b0e10380d2ec",
   "metadata": {},
   "source": [
    "### A note on gathering complex data\n",
    "\n",
    "Depending on how the data are structured, there may be cases where you need to query one part of the API to get a URL for a separate endpoint that has more detailed data about that subject. The PokeApi is a good example of this: we retrieved a list of names and URLs, but if we navigate to any one of those URLs we'll get even more detailed information about the selected Pokemon. So if we wanted to create a data set with detailed information on each Pokemon, we would need to iterate over all of these URLs and then format all of our results in data frame. The way that data are organized is really up to the person who maintains the data set, so you'll want to spend some time getting to know an API before you can really get a good sense of what you can do with it."
   ]
  },
  {
   "cell_type": "code",
   "execution_count": null,
   "id": "eb8c850c-866e-40ee-b552-659797f8991f",
   "metadata": {},
   "outputs": [],
   "source": []
  }
 ],
 "metadata": {
  "kernelspec": {
   "display_name": "Python 3 (ipykernel)",
   "language": "python",
   "name": "python3"
  },
  "language_info": {
   "codemirror_mode": {
    "name": "ipython",
    "version": 3
   },
   "file_extension": ".py",
   "mimetype": "text/x-python",
   "name": "python",
   "nbconvert_exporter": "python",
   "pygments_lexer": "ipython3",
   "version": "3.12.2"
  }
 },
 "nbformat": 4,
 "nbformat_minor": 5
}
