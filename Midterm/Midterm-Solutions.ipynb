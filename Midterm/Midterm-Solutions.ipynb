{
 "cells": [
  {
   "cell_type": "markdown",
   "id": "122ff041-dbaf-49b0-9b40-7fa2a8ad1fbb",
   "metadata": {},
   "source": [
    "## Instructions"
   ]
  },
  {
   "cell_type": "markdown",
   "id": "58a52256-2df4-4120-891d-bad5a7ec0943",
   "metadata": {},
   "source": [
    "Answer the questions below in the space provided. When you are finished, export your file to html and submit it on ELMS.\n",
    "\n",
    "Be sure to include appopriate code AND a written response where necessary. "
   ]
  },
  {
   "cell_type": "code",
   "execution_count": null,
   "id": "9094dd14-4bb1-4cd2-ae3f-576f2ac44c30",
   "metadata": {},
   "outputs": [],
   "source": [
    "from requests import get\n",
    "import numpy as np\n",
    "import pandas as pd"
   ]
  },
  {
   "cell_type": "markdown",
   "id": "dd8757c7-bb1a-4a95-bde6-379a0b723a9b",
   "metadata": {},
   "source": [
    "# Section I"
   ]
  },
  {
   "cell_type": "markdown",
   "id": "db862297-80c3-4e85-9739-733475c1bdb5",
   "metadata": {},
   "source": [
    "## Question 1 (2pts)\n",
    "\n",
    "The code below gives me an error message. What's wrong with it? Is there any way to fix it?"
   ]
  },
  {
   "cell_type": "code",
   "execution_count": null,
   "id": "6f788b11-b9b2-4f8b-bf94-ee942aa60f2f",
   "metadata": {},
   "outputs": [],
   "source": [
    "x = (1,2,3,4)\n",
    "x[2] = 10"
   ]
  },
  {
   "cell_type": "markdown",
   "id": "b55099db-a378-453f-b15d-b515bc7ff5f4",
   "metadata": {},
   "source": [
    "### Answer\n",
    "\n",
    "x is a tuple, and tuples are immutable in Python. We can convert x to a list and re-assign the value, then convert it back to a tuple."
   ]
  },
  {
   "cell_type": "code",
   "execution_count": null,
   "id": "3a89f747-1eab-4e59-b846-5ab254162a17",
   "metadata": {},
   "outputs": [],
   "source": [
    "x = list(x)\n",
    "x[2] = 10\n",
    "x = tuple(x)\n",
    "x"
   ]
  },
  {
   "attachments": {},
   "cell_type": "markdown",
   "id": "3e63b8ff-8953-41fa-9724-83cb88d8e72f",
   "metadata": {},
   "source": [
    "## Question 2 (4pts)\n",
    "The Cook Political Report measures the \"partisan lean\" of U.S. Congressional districts. A figure like \"R+10\" indicates that a district is about 10 percentage points more Republican than the national average. And a figure like \"D+10\" means that a district is 10 points more Democratic. \n",
    "\n",
    "Write a **loop or list comprehension** that converts the list below to numeric values. **Districts that lean Republican should have a positive numeric value, and districts that lean more Democratic should have a positive value.** So \"R+15\" should become \"15\", and \"D+15\" becomes \"-15\"\n",
    "\n"
   ]
  },
  {
   "cell_type": "code",
   "execution_count": null,
   "id": "65cbf4f2-904b-4a66-b2c1-2db09babfbb3",
   "metadata": {},
   "outputs": [],
   "source": [
    "cook_pvi = ['R+16', 'R+17','R+19','D+14','R+6','D+24','D+2','D+11']"
   ]
  },
  {
   "cell_type": "markdown",
   "id": "9af43a78-d82a-4fab-9244-2c4efcc7eb80",
   "metadata": {},
   "source": [
    "### Answer\n",
    "\n",
    "Multiple ways to do this. Here's a version that uses the `replace` method and wraps the result in `int` to convert the output to numeric:"
   ]
  },
  {
   "cell_type": "code",
   "execution_count": null,
   "id": "65400825-eb72-4d40-8b48-d5e7dc5f04da",
   "metadata": {},
   "outputs": [],
   "source": [
    "[int(i.replace(\"D+\", \"-\").replace(\"R+\", \"\")) for i in  cook_pvi ]\n"
   ]
  },
  {
   "cell_type": "code",
   "execution_count": null,
   "id": "0277d0d9-d5ca-4b50-8f26-be4cc06c56d2",
   "metadata": {},
   "outputs": [],
   "source": [
    "# or as a loop\n",
    "outputs = []\n",
    "for i in cook_pvi:\n",
    "    numeric_lean = int(i.replace(\"D+\", \"-\").replace(\"R+\", \"\"))\n",
    "    outputs.append(numeric_lean)\n",
    "\n",
    "\n",
    "outputs\n"
   ]
  },
  {
   "cell_type": "markdown",
   "id": "8dd1c362-7060-499d-91a3-64eec84d6cbf",
   "metadata": {},
   "source": [
    "## Question 3 (4pts)\n",
    "\n",
    "The code below grabs some data about the 2024 Nobel Peace Prize from the Nobel Prize API. Take a minute to examine the response. How would I access the english language description of the `motivation` part of the `prize` data?"
   ]
  },
  {
   "cell_type": "code",
   "execution_count": null,
   "id": "5e307755-2131-4a70-a453-56ed73226ea1",
   "metadata": {
    "scrolled": true
   },
   "outputs": [],
   "source": [
    "prize_data = get('https://api.nobelprize.org/2.0/nobelPrize/pea/2024')\n",
    "prize = prize_data.json()\n",
    "prize\n"
   ]
  },
  {
   "cell_type": "markdown",
   "id": "770e3cac-3296-4faa-b20a-2368690e849b",
   "metadata": {},
   "source": [
    "### Answer\n",
    "\n",
    "The square brackets indicate that the result is inside a list (even though its a list of length 1), so we've got to go through 5 levels of nesting here to get to the right result:"
   ]
  },
  {
   "cell_type": "code",
   "execution_count": null,
   "id": "e2deb55a-400a-4017-8a38-5ca995de860e",
   "metadata": {},
   "outputs": [],
   "source": [
    "# code here\n",
    "\n",
    "prize[0][\"laureates\"][0][\"motivation\"]['en']"
   ]
  },
  {
   "cell_type": "markdown",
   "id": "a42600bb-69cf-4e08-82e7-5bcf9452a692",
   "metadata": {},
   "source": [
    "# Section II"
   ]
  },
  {
   "cell_type": "markdown",
   "id": "776f94b1-0559-4284-876b-507f1ec2138a",
   "metadata": {},
   "source": [
    "The code below will get data from the world bank and format it as a data frame. Each row of the resulting dataframe is a single year of U.S. per-capita carbon emissions. Use the space below to examine the first few rows of `emissions_df` before answering the following questions:\n",
    "\n",
    "The World Bank changed their indicators on October 24! So this URL uses a different indicator\n",
    "\n",
    "\n",
    "\n"
   ]
  },
  {
   "cell_type": "code",
   "execution_count": null,
   "id": "50b21428-b435-4486-a5f5-232045ca15c3",
   "metadata": {},
   "outputs": [],
   "source": [
    "# Extracting and formatting\n",
    "url = 'https://api.worldbank.org/v2/country/US/indicator/EN.GHG.CO2.PC.CE.AR5?format=json&per_page=100'\n",
    "result= get(url)\n",
    "result_dict = [{\n",
    "        'country':i['countryiso3code'],\n",
    "        'date': int(i['date']),\n",
    "        'percap_emissions': np.float64(i['value'])} for i in result.json()[1]]\n",
    "emissions_df = pd.DataFrame(result_dict).sort_values(by='date').set_index('date', drop=False)"
   ]
  },
  {
   "cell_type": "markdown",
   "id": "919e53fc-0edf-4030-af5c-d3366071c9a0",
   "metadata": {},
   "source": [
    "## Question 4 (2pts)\n",
    "What is the **unit of analysis** for `emissions_df`? (Choose the best answer)\n",
    "\n",
    "- A. Carbon emissions\n",
    "- B. Country-Year\n",
    "- C. World Bank Data\n",
    "- D. None of these\n",
    "\n"
   ]
  },
  {
   "cell_type": "markdown",
   "id": "c41eaca0-a334-44e4-9d83-a8430023376f",
   "metadata": {},
   "source": [
    "### Answer\n",
    "\n",
    "Each row represents the US in a single year, so the best answer here is probably Country-Year. "
   ]
  },
  {
   "cell_type": "markdown",
   "id": "eb226e2a-4701-4d62-a70c-bdc99fb30fee",
   "metadata": {},
   "source": [
    "## Question 5 (4pts)\n",
    "\n",
    "How many missing observations are there for `percap_emissions`? What are the earliest and latest **non-missing** values for that column? Create a new data frame from `emissions_df` that doesn't include any rows with missing data.\n",
    "\n",
    "You can use `min` and `max` to get the highest and lowest date values. You could also use `sort_index` here and then slice the top and bottom rows, but you might encounter issues if you use `sort_values` because the index name is also `date`."
   ]
  },
  {
   "cell_type": "markdown",
   "id": "1ed5cc3e-ae43-4e15-9642-dedfcd69b339",
   "metadata": {},
   "source": [
    "### Answer\n",
    "\n",
    "You can get the correct answer here using `.isnull().sum()` or by using `emissions_df.info`. \n",
    "\n",
    "We can get only rows with complete data by using the `dropna()` method.\n",
    "\n",
    "We can find the highest and lowest date values \n"
   ]
  },
  {
   "cell_type": "code",
   "execution_count": null,
   "id": "66573a8c-bfa5-4d0c-8e54-6349a30d7a81",
   "metadata": {},
   "outputs": [],
   "source": [
    "# code: \n",
    "emissions_df.isnull().sum()\n",
    "\n",
    "#emissions_df.info()"
   ]
  },
  {
   "cell_type": "code",
   "execution_count": null,
   "id": "f5ad4cb7-9be1-48b5-9fee-5b63edb50def",
   "metadata": {},
   "outputs": [],
   "source": [
    "# getting only non-missing observations\n",
    "\n",
    "emissions_non_missing = emissions_df.dropna()"
   ]
  },
  {
   "cell_type": "code",
   "execution_count": 86,
   "id": "72683789-2744-4d32-9004-3d0125db9a19",
   "metadata": {},
   "outputs": [
    {
     "name": "stdout",
     "output_type": "stream",
     "text": [
      "1970 2022\n"
     ]
    }
   ],
   "source": [
    "# show highest and lowest:\n",
    "print( \n",
    "    emissions_non_missing.date.min(),\n",
    "    emissions_non_missing.date.max() \n",
    "     )"
   ]
  },
  {
   "cell_type": "code",
   "execution_count": 88,
   "id": "6c917642-6847-4869-94d0-ee8ad2ab0bcc",
   "metadata": {},
   "outputs": [
    {
     "data": {
      "text/html": [
       "<div>\n",
       "<style scoped>\n",
       "    .dataframe tbody tr th:only-of-type {\n",
       "        vertical-align: middle;\n",
       "    }\n",
       "\n",
       "    .dataframe tbody tr th {\n",
       "        vertical-align: top;\n",
       "    }\n",
       "\n",
       "    .dataframe thead th {\n",
       "        text-align: right;\n",
       "    }\n",
       "</style>\n",
       "<table border=\"1\" class=\"dataframe\">\n",
       "  <thead>\n",
       "    <tr style=\"text-align: right;\">\n",
       "      <th></th>\n",
       "      <th>country</th>\n",
       "      <th>date</th>\n",
       "      <th>percap_emissions</th>\n",
       "    </tr>\n",
       "    <tr>\n",
       "      <th>date</th>\n",
       "      <th></th>\n",
       "      <th></th>\n",
       "      <th></th>\n",
       "    </tr>\n",
       "  </thead>\n",
       "  <tbody>\n",
       "    <tr>\n",
       "      <th>1970</th>\n",
       "      <td>USA</td>\n",
       "      <td>1970</td>\n",
       "      <td>22.410933</td>\n",
       "    </tr>\n",
       "    <tr>\n",
       "      <th>2022</th>\n",
       "      <td>USA</td>\n",
       "      <td>2022</td>\n",
       "      <td>14.564046</td>\n",
       "    </tr>\n",
       "  </tbody>\n",
       "</table>\n",
       "</div>"
      ],
      "text/plain": [
       "     country  date  percap_emissions\n",
       "date                                \n",
       "1970     USA  1970         22.410933\n",
       "2022     USA  2022         14.564046"
      ]
     },
     "execution_count": 88,
     "metadata": {},
     "output_type": "execute_result"
    }
   ],
   "source": [
    "# or sort and then slice:\n",
    "emissions_non_missing.sort_index().iloc[[0, -1]]"
   ]
  },
  {
   "cell_type": "markdown",
   "id": "03904e9a-3edd-4d35-bb5d-a7240eacc045",
   "metadata": {},
   "source": [
    "## Question 6 (4pts)\n",
    "Based on these data, are U.S. carbon emissions increasing or decreasing over time? Offer your intepretation of the data and provide a plot or table to support your argument."
   ]
  },
  {
   "cell_type": "markdown",
   "id": "c3fb00bd-a9a3-46bf-ad7d-1453316b056c",
   "metadata": {},
   "source": [
    "### Answer\n",
    "\n",
    "You can use `percap_emissions.plot.line()` or make a scatterplot\n",
    "\n",
    "\n"
   ]
  },
  {
   "cell_type": "code",
   "execution_count": 93,
   "id": "e88980dd-4153-4cb9-98e0-2adc57b78022",
   "metadata": {},
   "outputs": [
    {
     "data": {
      "text/plain": [
       "<Axes: xlabel='date'>"
      ]
     },
     "execution_count": 93,
     "metadata": {},
     "output_type": "execute_result"
    },
    {
     "data": {
      "image/png": "[encoded data removed]",
      "text/plain": [
       "<Figure size 640x480 with 1 Axes>"
      ]
     },
     "metadata": {},
     "output_type": "display_data"
    }
   ],
   "source": [
    "# code:\n",
    "\n",
    "emissions_df.percap_emissions.plot.line()"
   ]
  },
  {
   "cell_type": "code",
   "execution_count": 94,
   "id": "a89531d3-c7ac-48d3-a224-6cd1aba145b4",
   "metadata": {},
   "outputs": [
    {
     "data": {
      "text/plain": [
       "<Axes: xlabel='date', ylabel='percap_emissions'>"
      ]
     },
     "execution_count": 94,
     "metadata": {},
     "output_type": "execute_result"
    },
    {
     "data": {
      "image/png": "[encoded data removed]",
      "text/plain": [
       "<Figure size 640x480 with 1 Axes>"
      ]
     },
     "metadata": {},
     "output_type": "display_data"
    }
   ],
   "source": [
    "\n",
    "emissions_df.plot.scatter(x='date', y='percap_emissions')"
   ]
  },
  {
   "cell_type": "markdown",
   "id": "000c59cf-882d-4931-b7dd-3cbb25ada42b",
   "metadata": {},
   "source": [
    "## Question 7 (4pts)\n",
    "\n",
    "What year saw the greatest drop in CO2 emissions compared to the previous year? Create a new column in `emissions_df` that contains the **change in emissions** from the prior year, and use it to find the year with the greatest drop in emissions. \n",
    "\n",
    "(You can use the Pandas `shift` function (<a href=https://pandas.pydata.org/docs/reference/api/pandas.DataFrame.shift.html>documentation</a>) to get the prior-year values of `percap_emissions`)\n"
   ]
  },
  {
   "cell_type": "markdown",
   "id": "7a5b502e-5a26-4ce7-8311-cf4acaed6c98",
   "metadata": {},
   "source": [
    "### Answer"
   ]
  },
  {
   "cell_type": "markdown",
   "id": "cfea1b1e-842e-41e4-941d-478ca65480d9",
   "metadata": {},
   "source": [
    "Use `shift` to lag `percap_emissions` by one unit, then subtract the current value by the lagged value. Then use `idxmin` to find the index of the biggest drop or use `sort_values` and take the first row"
   ]
  },
  {
   "cell_type": "code",
   "execution_count": 99,
   "id": "a6cee0cb-c977-4946-8d02-0388c27e599a",
   "metadata": {},
   "outputs": [],
   "source": [
    "# code\n",
    "\n",
    "emissions_df['change_in_emissions']  = emissions_df.percap_emissions - emissions_df.percap_emissions.shift(1)\n"
   ]
  },
  {
   "cell_type": "code",
   "execution_count": 100,
   "id": "e08cf232-51c8-432a-b358-19d81bc20084",
   "metadata": {},
   "outputs": [
    {
     "data": {
      "text/plain": [
       "2020"
      ]
     },
     "execution_count": 100,
     "metadata": {},
     "output_type": "execute_result"
    }
   ],
   "source": [
    "emissions_df.change_in_emissions.idxmin()"
   ]
  },
  {
   "cell_type": "code",
   "execution_count": 117,
   "id": "ed68b859-1ddc-4e17-9224-19f632de5b5c",
   "metadata": {},
   "outputs": [
    {
     "data": {
      "text/plain": [
       "country                      USA\n",
       "date                        2020\n",
       "percap_emissions       13.473208\n",
       "change_in_emissions    -1.654776\n",
       "Name: 2020, dtype: object"
      ]
     },
     "execution_count": 117,
     "metadata": {},
     "output_type": "execute_result"
    }
   ],
   "source": [
    "emissions_df.sort_values(by='change_in_emissions').iloc[0]"
   ]
  },
  {
   "cell_type": "markdown",
   "id": "3550040a-4096-42c0-b000-45b5f6f85145",
   "metadata": {},
   "source": [
    "# Section III\n",
    "The `gtd` data set below contains the following variables:\n",
    "\n",
    "| Variable          | Description                                                                                                                                                  |\n",
    "|-------------------|--------------------------------------------------------------------------------------------------------------------------------------------------------------|\n",
    "| country           | Country name                                                                                                                                                 |\n",
    "| democracy_score   | 2020 liberal democracy score from the V-DEM project. Higher values indicate a higher level of democracy. Lower values mean less democratic.                  |\n",
    "| oil               | =\"oil production\" if a country was an oil producer in 2020, = \"no oil\" if a country was not an oil producer in 2020                                          |\n",
    "| terrorist_attacks | =\"terrorist attack\" if a country experienced a terrorist attack in 2020,  =\"no terrorist attacks\" if a country did not experience a terrorist attack in 2020 |\n"
   ]
  },
  {
   "cell_type": "code",
   "execution_count": 118,
   "id": "1caae367-e241-4faf-8efb-fe366c3cf49a",
   "metadata": {},
   "outputs": [],
   "source": [
    "gtd = pd.read_csv(\"https://raw.githubusercontent.com/Neilblund/APAN/refs/heads/main/gtd_sample.csv\")\n"
   ]
  },
  {
   "cell_type": "markdown",
   "id": "c2b80408-2eeb-4871-830a-a6170e40613e",
   "metadata": {},
   "source": [
    "## Question 8 (4pts)\n",
    "\n",
    "Some social scientists argue that oil production makes countries less stable and more likely to experience terrorist attacks. \n",
    "\n",
    "Using the `gtd` data, produce a table or plot that shows the proportion/percent of oil producing countries that had terrorist attacks compared to the proportion/percent of non-oil producing countries that had terrorist attacks. Do the results appear to support this claim?\n"
   ]
  },
  {
   "cell_type": "markdown",
   "id": "7b5ff136-0bad-497a-b19b-542ec6eb57f7",
   "metadata": {},
   "source": [
    "### Answer\n",
    "\n",
    "Probably the easiest way to see this is with a cross tab. But you want to make sure to normalize by the number of oil producing vs non-oil producing countries. So if `oil` is in the rows, we want to normalize on `index` and if `oil` is in the columns, we want to normalize on the columns. (remember: get percentages along whatever dimension includes your independent variable)\n",
    "\n",
    "The results here suggest that oil producers are more likely to experience terrorist attacks: 34% vs. 66%"
   ]
  },
  {
   "cell_type": "code",
   "execution_count": 120,
   "id": "53d910ac-790c-4ba0-a63c-8c1117ac71d4",
   "metadata": {},
   "outputs": [
    {
     "data": {
      "text/html": [
       "<div>\n",
       "<style scoped>\n",
       "    .dataframe tbody tr th:only-of-type {\n",
       "        vertical-align: middle;\n",
       "    }\n",
       "\n",
       "    .dataframe tbody tr th {\n",
       "        vertical-align: top;\n",
       "    }\n",
       "\n",
       "    .dataframe thead th {\n",
       "        text-align: right;\n",
       "    }\n",
       "</style>\n",
       "<table border=\"1\" class=\"dataframe\">\n",
       "  <thead>\n",
       "    <tr style=\"text-align: right;\">\n",
       "      <th>terrorist_attacks</th>\n",
       "      <th>no terrorist attacks</th>\n",
       "      <th>terrorist attacks</th>\n",
       "    </tr>\n",
       "    <tr>\n",
       "      <th>oil</th>\n",
       "      <th></th>\n",
       "      <th></th>\n",
       "    </tr>\n",
       "  </thead>\n",
       "  <tbody>\n",
       "    <tr>\n",
       "      <th>no oil</th>\n",
       "      <td>0.653846</td>\n",
       "      <td>0.346154</td>\n",
       "    </tr>\n",
       "    <tr>\n",
       "      <th>oil production</th>\n",
       "      <td>0.344828</td>\n",
       "      <td>0.655172</td>\n",
       "    </tr>\n",
       "  </tbody>\n",
       "</table>\n",
       "</div>"
      ],
      "text/plain": [
       "terrorist_attacks  no terrorist attacks  terrorist attacks\n",
       "oil                                                       \n",
       "no oil                         0.653846           0.346154\n",
       "oil production                 0.344828           0.655172"
      ]
     },
     "execution_count": 120,
     "metadata": {},
     "output_type": "execute_result"
    }
   ],
   "source": [
    "# code:\n",
    "\n",
    "pd.crosstab(gtd['oil'], gtd['terrorist_attacks'], normalize='index')\n",
    "\n"
   ]
  },
  {
   "cell_type": "markdown",
   "id": "78859692-a757-4187-a996-c80b9e409963",
   "metadata": {},
   "source": [
    "## Question 9 (4pts)\n",
    "\n",
    "In addition to making countries less stable, many social scientists argue that oil production makes countries less democratic. Produce a table or plot that shows the relationship between oil production and the level of democracy in a country. Briefly discuss your results\n"
   ]
  },
  {
   "cell_type": "markdown",
   "id": "0db5c4b1-7d99-4324-b4d2-bf37c3771223",
   "metadata": {},
   "source": [
    "### Answer\n",
    "\n",
    "You can use a `pivot_table` to aggregate `democracy_score` for oil vs. non-oil countries. Notably, the expected relationship here is reversed, although its also not very large in absolute terms. (the relationship here actually does show up if you use a continuous measure of oil production, but you didn't have that option here)"
   ]
  },
  {
   "cell_type": "code",
   "execution_count": 124,
   "id": "8ebecc2f-a9a7-4e38-9239-5c88602ec490",
   "metadata": {},
   "outputs": [
    {
     "data": {
      "text/html": [
       "<div>\n",
       "<style scoped>\n",
       "    .dataframe tbody tr th:only-of-type {\n",
       "        vertical-align: middle;\n",
       "    }\n",
       "\n",
       "    .dataframe tbody tr th {\n",
       "        vertical-align: top;\n",
       "    }\n",
       "\n",
       "    .dataframe thead th {\n",
       "        text-align: right;\n",
       "    }\n",
       "</style>\n",
       "<table border=\"1\" class=\"dataframe\">\n",
       "  <thead>\n",
       "    <tr style=\"text-align: right;\">\n",
       "      <th></th>\n",
       "      <th>democracy_score</th>\n",
       "    </tr>\n",
       "    <tr>\n",
       "      <th>oil</th>\n",
       "      <th></th>\n",
       "    </tr>\n",
       "  </thead>\n",
       "  <tbody>\n",
       "    <tr>\n",
       "      <th>no oil</th>\n",
       "      <td>0.371712</td>\n",
       "    </tr>\n",
       "    <tr>\n",
       "      <th>oil production</th>\n",
       "      <td>0.428509</td>\n",
       "    </tr>\n",
       "  </tbody>\n",
       "</table>\n",
       "</div>"
      ],
      "text/plain": [
       "                democracy_score\n",
       "oil                            \n",
       "no oil                 0.371712\n",
       "oil production         0.428509"
      ]
     },
     "execution_count": 124,
     "metadata": {},
     "output_type": "execute_result"
    }
   ],
   "source": [
    "# code:\n",
    "\n",
    "gtd.pivot_table(values = 'democracy_score',index ='oil', aggfunc='mean')\n"
   ]
  }
 ],
 "metadata": {
  "kernelspec": {
   "display_name": "Python 3 (ipykernel)",
   "language": "python",
   "name": "python3"
  },
  "language_info": {
   "codemirror_mode": {
    "name": "ipython",
    "version": 3
   },
   "file_extension": ".py",
   "mimetype": "text/x-python",
   "name": "python",
   "nbconvert_exporter": "python",
   "pygments_lexer": "ipython3",
   "version": "3.12.2"
  }
 },
 "nbformat": 4,
 "nbformat_minor": 5
}
