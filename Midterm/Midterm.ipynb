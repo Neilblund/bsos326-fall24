{
 "cells": [
  {
   "cell_type": "markdown",
   "id": "122ff041-dbaf-49b0-9b40-7fa2a8ad1fbb",
   "metadata": {},
   "source": [
    "## Instructions"
   ]
  },
  {
   "cell_type": "markdown",
   "id": "58a52256-2df4-4120-891d-bad5a7ec0943",
   "metadata": {},
   "source": [
    "Answer the questions below in the space provided. When you are finished, export your file to html and submit it on ELMS.\n",
    "\n",
    "Be sure to include appopriate code AND a written response where necessary. "
   ]
  },
  {
   "cell_type": "code",
   "execution_count": 5,
   "id": "9094dd14-4bb1-4cd2-ae3f-576f2ac44c30",
   "metadata": {},
   "outputs": [],
   "source": [
    "from requests import get\n",
    "import numpy as np\n",
    "import pandas as pd"
   ]
  },
  {
   "cell_type": "markdown",
   "id": "dd8757c7-bb1a-4a95-bde6-379a0b723a9b",
   "metadata": {},
   "source": [
    "# Section I"
   ]
  },
  {
   "cell_type": "markdown",
   "id": "db862297-80c3-4e85-9739-733475c1bdb5",
   "metadata": {},
   "source": [
    "## Question 1 (2pts)\n",
    "\n",
    "The code below gives me an error message. What's wrong with it? Is there any way to fix it?"
   ]
  },
  {
   "cell_type": "code",
   "execution_count": null,
   "id": "6f788b11-b9b2-4f8b-bf94-ee942aa60f2f",
   "metadata": {},
   "outputs": [],
   "source": [
    "x = (1,2,3,4)\n",
    "x[2] = 10"
   ]
  },
  {
   "cell_type": "markdown",
   "id": "0045bab1-9dfe-407d-87ec-574b10b92a16",
   "metadata": {},
   "source": [
    "Answer:"
   ]
  },
  {
   "cell_type": "code",
   "execution_count": null,
   "id": "06ee465e-fbea-436b-bf95-6384a39da1ff",
   "metadata": {},
   "outputs": [],
   "source": []
  },
  {
   "attachments": {},
   "cell_type": "markdown",
   "id": "3e63b8ff-8953-41fa-9724-83cb88d8e72f",
   "metadata": {},
   "source": [
    "## Question 2 (4pts)\n",
    "The Cook Political Report measures the \"partisan lean\" of U.S. Congressional districts. A figure like \"R+10\" indicates that a district is about 10 percentage points more Republican than the national average. And a figure like \"D+10\" means that a district is 10 points more Democratic. \n",
    "\n",
    "Write a **loop or list comprehension** that converts the list below to numeric values. **Districts that lean Republican should have a positive numeric value, and districts that lean more Democratic should have a positive value.** So \"R+15\" should become \"15\", and \"D+15\" becomes \"-15\"\n",
    "\n"
   ]
  },
  {
   "cell_type": "code",
   "execution_count": 16,
   "id": "65cbf4f2-904b-4a66-b2c1-2db09babfbb3",
   "metadata": {},
   "outputs": [],
   "source": [
    "cook_pvi = ['R+16', 'R+17','R+19','D+14','R+6','D+24','D+2','D+11']"
   ]
  },
  {
   "cell_type": "code",
   "execution_count": 18,
   "id": "66e35797-6e1c-4a5d-81da-9e73a1e05992",
   "metadata": {},
   "outputs": [],
   "source": [
    "# code:\n",
    "\n",
    "\n"
   ]
  },
  {
   "cell_type": "markdown",
   "id": "8dd1c362-7060-499d-91a3-64eec84d6cbf",
   "metadata": {},
   "source": [
    "## Question 3 (4pts)\n",
    "\n",
    "The code below grabs some data about the 2024 Nobel Peace Prize from the Nobel Prize API. Take a minute to examine the response. How would I access the english language description of the `motivation` part of the `prize` data?"
   ]
  },
  {
   "cell_type": "code",
   "execution_count": null,
   "id": "5e307755-2131-4a70-a453-56ed73226ea1",
   "metadata": {},
   "outputs": [],
   "source": [
    "prize_data = get('https://api.nobelprize.org/2.0/nobelPrize/pea/2024')\n",
    "prize = prize_data.json()\n"
   ]
  },
  {
   "cell_type": "code",
   "execution_count": null,
   "id": "e2deb55a-400a-4017-8a38-5ca995de860e",
   "metadata": {},
   "outputs": [],
   "source": [
    "# code here\n"
   ]
  },
  {
   "cell_type": "markdown",
   "id": "a42600bb-69cf-4e08-82e7-5bcf9452a692",
   "metadata": {},
   "source": [
    "# Section II"
   ]
  },
  {
   "cell_type": "markdown",
   "id": "776f94b1-0559-4284-876b-507f1ec2138a",
   "metadata": {},
   "source": [
    "The code below will get data from the world bank and format it as a data frame. Each row of the resulting dataframe is a single year of U.S. per-capita carbon emissions. Use the space below to examine the first few rows of `emissions_df` before answering the following questions:"
   ]
  },
  {
   "cell_type": "code",
   "execution_count": 6,
   "id": "50b21428-b435-4486-a5f5-232045ca15c3",
   "metadata": {},
   "outputs": [],
   "source": [
    "# Extracting and formatting\n",
    "url = 'https://api.worldbank.org/v2/country/US/indicator/EN.ATM.CO2E.PC?format=json&per_page=100'\n",
    "result= get(url)\n",
    "result_dict = [{\n",
    "        'country':i['countryiso3code'],\n",
    "        'date': int(i['date']),\n",
    "        'percap_emissions': np.float64(i['value'])} for i in result.json()[1]]\n",
    "emissions_df = pd.DataFrame(result_dict).sort_values(by='date').set_index('date', drop=False)"
   ]
  },
  {
   "cell_type": "markdown",
   "id": "919e53fc-0edf-4030-af5c-d3366071c9a0",
   "metadata": {},
   "source": [
    "## Question 4 (2pts)\n",
    "What is the **unit of analysis** for `emissions_df`? (Choose the best answer)\n",
    "\n",
    "- A. Carbon emissions\n",
    "- B. Country-Year\n",
    "- C. World Bank Data\n",
    "- D. None of these\n",
    "\n"
   ]
  },
  {
   "cell_type": "markdown",
   "id": "c41eaca0-a334-44e4-9d83-a8430023376f",
   "metadata": {},
   "source": [
    "Answer: "
   ]
  },
  {
   "cell_type": "markdown",
   "id": "eb226e2a-4701-4d62-a70c-bdc99fb30fee",
   "metadata": {},
   "source": [
    "## Question 5 (4pts)\n",
    "\n",
    "How many missing observations are there for `percap_emissions`? What are the earliest and latest **non-missing** values for that column? Create a new data frame from `emissions_df` that doesn't include any rows with missing data\n"
   ]
  },
  {
   "cell_type": "code",
   "execution_count": null,
   "id": "66573a8c-bfa5-4d0c-8e54-6349a30d7a81",
   "metadata": {},
   "outputs": [],
   "source": [
    "# code: \n"
   ]
  },
  {
   "cell_type": "markdown",
   "id": "cb887477-2c12-457b-bc0d-bb5b16f5606c",
   "metadata": {},
   "source": [
    "Answer: "
   ]
  },
  {
   "cell_type": "markdown",
   "id": "03904e9a-3edd-4d35-bb5d-a7240eacc045",
   "metadata": {},
   "source": [
    "## Question 6 (4pts)\n",
    "Based on these data, are U.S. carbon emissions increasing or decreasing over time? Offer your intepretation of the data and provide a plot or table to support your argument."
   ]
  },
  {
   "cell_type": "code",
   "execution_count": null,
   "id": "e88980dd-4153-4cb9-98e0-2adc57b78022",
   "metadata": {},
   "outputs": [],
   "source": [
    "# code:\n"
   ]
  },
  {
   "cell_type": "markdown",
   "id": "a9181b70-404c-40b3-9e3f-7555724828f9",
   "metadata": {},
   "source": [
    "Answer:"
   ]
  },
  {
   "cell_type": "markdown",
   "id": "000c59cf-882d-4931-b7dd-3cbb25ada42b",
   "metadata": {},
   "source": [
    "## Question 7 (4pts)\n",
    "\n",
    "What year saw the greatest drop in CO2 emissions compared to the previous year? Create a new column in `emissions_df` that contains the **change in emissions** from the prior year, and use it to find the year with the greatest drop in emissions. \n",
    "\n",
    "(You can use the Pandas `shift` function (<a href=https://pandas.pydata.org/docs/reference/api/pandas.DataFrame.shift.html>documentation</a>) to get the prior-year values of `percap_emissions`)\n"
   ]
  },
  {
   "cell_type": "code",
   "execution_count": null,
   "id": "a6cee0cb-c977-4946-8d02-0388c27e599a",
   "metadata": {},
   "outputs": [],
   "source": [
    "# code\n"
   ]
  },
  {
   "cell_type": "markdown",
   "id": "31938e53-8a68-428f-90e9-e01b0125f2c8",
   "metadata": {},
   "source": [
    "Answer:"
   ]
  },
  {
   "cell_type": "markdown",
   "id": "3550040a-4096-42c0-b000-45b5f6f85145",
   "metadata": {},
   "source": [
    "# Section III\n",
    "The `gtd` data set below contains the following variables:\n",
    "\n",
    "| Variable          | Description                                                                                                                                                  |\n",
    "|-------------------|--------------------------------------------------------------------------------------------------------------------------------------------------------------|\n",
    "| country           | Country name                                                                                                                                                 |\n",
    "| democracy_score   | 2020 liberal democracy score from the V-DEM project. Higher values indicate a higher level of democracy. Lower values mean less democratic.                  |\n",
    "| oil               | =\"oil production\" if a country was an oil producer in 2020, = \"no oil\" if a country was not an oil producer in 2020                                          |\n",
    "| terrorist_attacks | =\"terrorist attack\" if a country experienced a terrorist attack in 2020,  =\"no terrorist attacks\" if a country did not experience a terrorist attack in 2020 |\n"
   ]
  },
  {
   "cell_type": "code",
   "execution_count": 19,
   "id": "1caae367-e241-4faf-8efb-fe366c3cf49a",
   "metadata": {},
   "outputs": [],
   "source": [
    "gtd = pd.read_csv(\"https://raw.githubusercontent.com/Neilblund/APAN/refs/heads/main/gtd_sample.csv\")\n"
   ]
  },
  {
   "cell_type": "markdown",
   "id": "c2b80408-2eeb-4871-830a-a6170e40613e",
   "metadata": {},
   "source": [
    "## Question 8 (4pts)\n",
    "\n",
    "Some social scientists argue that oil production makes countries less stable and more likely to experience terrorist attacks. \n",
    "\n",
    "Using the `gtd` data, produce a table or plot that shows the proportion/percent of oil producing countries that had terrorist attacks compared to the proportion/percent of non-oil producing countries that had terrorist attacks. Do the results appear to support this claim?\n"
   ]
  },
  {
   "cell_type": "code",
   "execution_count": 12,
   "id": "53d910ac-790c-4ba0-a63c-8c1117ac71d4",
   "metadata": {},
   "outputs": [],
   "source": [
    "# code:\n"
   ]
  },
  {
   "cell_type": "markdown",
   "id": "5dc7fc1f-263e-4ae4-820b-29e31a7c9288",
   "metadata": {},
   "source": [
    "Answer:"
   ]
  },
  {
   "cell_type": "markdown",
   "id": "78859692-a757-4187-a996-c80b9e409963",
   "metadata": {},
   "source": [
    "## Question 9 (4pts)\n",
    "\n",
    "In addition to making countries less stable, many social scientists argue that oil production makes countries less democratic. Produce a table or plot that shows the relationship between oil production and the level of democracy in a country. Briefly discuss your results\n"
   ]
  },
  {
   "cell_type": "code",
   "execution_count": 20,
   "id": "8ebecc2f-a9a7-4e38-9239-5c88602ec490",
   "metadata": {},
   "outputs": [],
   "source": [
    "# code:\n"
   ]
  },
  {
   "cell_type": "markdown",
   "id": "7ffb6a59-ac08-4b90-b654-66279c33938c",
   "metadata": {},
   "source": [
    "Answer:"
   ]
  }
 ],
 "metadata": {
  "kernelspec": {
   "display_name": "Python 3 (ipykernel)",
   "language": "python",
   "name": "python3"
  },
  "language_info": {
   "codemirror_mode": {
    "name": "ipython",
    "version": 3
   },
   "file_extension": ".py",
   "mimetype": "text/x-python",
   "name": "python",
   "nbconvert_exporter": "python",
   "pygments_lexer": "ipython3",
   "version": "3.12.2"
  }
 },
 "nbformat": 4,
 "nbformat_minor": 5
}
