{
 "cells": [
  {
   "cell_type": "markdown",
   "id": "3442aec9-4ee3-4c9d-ad6d-123bd7458b1f",
   "metadata": {},
   "source": [
    "# Assignment 3: Web Scraping and Working with Data\n",
    "\n",
    "This assignment covers **Chapters 7-10** from the [textbook](https://wesmckinney.com/book/) as well as lecture material from Weeks 5-7. Please complete this assignment by providing answers in cells after the question. Use **Code** cells to write and run any code you need to answer the question and **Markdown** cells to write out answers in words. After you are finished with the assignment, remember to download it as an **HTML file** and submit it in **ELMS**.\n",
    "\n",
    "This assignment is due by **11:59pm on Monday, March 11**."
   ]
  },
  {
   "cell_type": "code",
   "execution_count": 42,
   "id": "8da486d1-efc6-4cc1-976f-425fa8a65c86",
   "metadata": {
    "tags": []
   },
   "outputs": [],
   "source": [
    "from requests import get\n",
    "from lxml import html \n",
    "import numpy as np\n",
    "import pandas as pd\n",
    "from bs4 import BeautifulSoup"
   ]
  },
  {
   "cell_type": "markdown",
   "id": "535c186d-4bf2-4ffc-9e9b-80e713ad99c5",
   "metadata": {},
   "source": [
    "## Scraping information about Counties in Maryland\n",
    "\n",
    "### Step 1: Scrape from Maryland page\n",
    "\n",
    "Consider the Wikipedia article about Maryland (https://en.wikipedia.org/wiki/Maryland). If you scroll down to the very bottom, you should see a table with links to the various counties in Maryland. Scrape the names of the counties from this table. \n",
    "\n",
    "> *Hint:* This might be easier using the XPath method. You might end up getting some extra information, but just check what you are getting and make sure to get a list with only the county names.\n",
    "\n",
    "### Step 2: Loop through and scrape from County pages\n",
    "\n",
    "Then, using these county names, scrape the first paragraph of each of the county Wikipedia pages. Create a DataFrame with two columns: 1) the name of the county, and 2) the first paragraph of the Wikipedia article for that county.\n",
    "\n",
    "> Note: The Wikipedia pages for the counties generally follow the format of \"https://en.wikipedia.org/wiki/Montgomery_County,_Maryland\", where the county name, including \"County\", then comma state name, is included, with underscores in place of spaces. Use the `.replace` method with strings to construct the URL and use f-strings to make it easier to loop through your list of county names from above.\n",
    "\n",
    "Your resulting DataFrame should look something like this (if you change some of the stuff like having \"Allegany County, Maryland\" instead, that is ok):\n",
    "\n",
    "|State|Description|\n",
    "|-|-|\n",
    "|Allegany County|Allegany County is located in the northwestern part of the U.S. state of Maryland. As of the 2020 census, the population was 68,106.[1] Its county seat is Cumberland.[2] The name Allegany may come from a local Lenape word, welhik hane[3][4] or oolikhanna, which means 'best flowing river of the hills' or 'beautiful stream'.[5] A number of counties and a river in the Appalachian region of the U.S. are named Allegany, Allegheny, or Alleghany. Allegany County is part of the Cumberland metropolitan area. It is a part of the Western Maryland \"panhandle\".|\n",
    "|...|...|\n",
    "\n",
    "### Step 3: Link with Census Data\n",
    "\n",
    "Finally, merge this data with the Census data that you pulled from Assignment 2. Do an inner join so that you only have the Maryland counties."
   ]
  },
  {
   "cell_type": "code",
   "execution_count": null,
   "id": "67ccef7f-013f-4332-92d9-bbabf34049fb",
   "metadata": {},
   "outputs": [],
   "source": []
  }
 ],
 "metadata": {
  "kernelspec": {
   "display_name": "Python 3 (ipykernel)",
   "language": "python",
   "name": "python3"
  },
  "language_info": {
   "codemirror_mode": {
    "name": "ipython",
    "version": 3
   },
   "file_extension": ".py",
   "mimetype": "text/x-python",
   "name": "python",
   "nbconvert_exporter": "python",
   "pygments_lexer": "ipython3",
   "version": "3.10.9"
  }
 },
 "nbformat": 4,
 "nbformat_minor": 5
}
