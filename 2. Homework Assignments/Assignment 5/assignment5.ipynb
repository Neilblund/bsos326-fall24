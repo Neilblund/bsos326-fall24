{
 "cells": [
  {
   "cell_type": "markdown",
   "id": "3442aec9-4ee3-4c9d-ad6d-123bd7458b1f",
   "metadata": {},
   "source": [
    "# Assignment 5: Text Analysis\n",
    "\n",
    "This assignment covers lecture material from Weeks 11-13. Please complete this assignment by providing answers in cells after the question. Use **Code** cells to write and run any code you need to answer the question and **Markdown** cells to write out answers in words. After you are finished with the assignment, remember to download it as an **HTML file** and submit it in **ELMS**.\n",
    "\n",
    "This assignment is due by **11:59pm on Friday, May 3**."
   ]
  },
  {
   "cell_type": "code",
   "execution_count": 1,
   "id": "8da486d1-efc6-4cc1-976f-425fa8a65c86",
   "metadata": {
    "tags": []
   },
   "outputs": [],
   "source": [
    "from requests import get\n",
    "import re\n",
    "\n",
    "import numpy as np \n",
    "import pandas as pd \n",
    "\n",
    "import matplotlib.pyplot as plt\n",
    "import seaborn as sns\n",
    "import plotly.express as px\n",
    "\n",
    "import nltk\n",
    "\n",
    "from sklearn.feature_extraction.text import CountVectorizer, TfidfTransformer\n",
    "from sklearn.decomposition import LatentDirichletAllocation\n",
    "from sklearn import preprocessing\n",
    "\n",
    "from nltk.corpus import stopwords\n",
    "from nltk import SnowballStemmer\n",
    "from nltk.tokenize import RegexpTokenizer\n",
    "\n",
    "import string\n",
    "import time\n",
    "\n",
    "from nltk.sentiment import SentimentIntensityAnalyzer"
   ]
  },
  {
   "cell_type": "markdown",
   "id": "4b0a5a65-78d5-443c-9b0c-924272ac86e0",
   "metadata": {},
   "source": [
    "## Data\n",
    "\n",
    "Pull from NYT Archive API to get the abstract and month of publication for every article published in the New Yorks Times in 2022."
   ]
  },
  {
   "cell_type": "markdown",
   "id": "535c186d-4bf2-4ffc-9e9b-80e713ad99c5",
   "metadata": {},
   "source": [
    "## Topic Modeling\n",
    "\n",
    "Using the abstracts, describe the topics that were discussed throughout 2022 in the New York Times. Make sure to try at least two different numbers of topics to see which one works best."
   ]
  },
  {
   "cell_type": "markdown",
   "id": "a6600027-e602-43d5-bdfe-01a3d5b2449b",
   "metadata": {},
   "source": [
    "## Sentiment Analysis\n",
    "\n",
    "Using VADER, find the sentiment of all abstracts in 2022. Then, graph the month by month change in average sentiment for articles in 2022. "
   ]
  }
 ],
 "metadata": {
  "kernelspec": {
   "display_name": "Python 3 (ipykernel)",
   "language": "python",
   "name": "python3"
  },
  "language_info": {
   "codemirror_mode": {
    "name": "ipython",
    "version": 3
   },
   "file_extension": ".py",
   "mimetype": "text/x-python",
   "name": "python",
   "nbconvert_exporter": "python",
   "pygments_lexer": "ipython3",
   "version": "3.10.9"
  }
 },
 "nbformat": 4,
 "nbformat_minor": 5
}
