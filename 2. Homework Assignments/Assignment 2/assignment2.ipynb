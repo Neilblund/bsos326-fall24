{
 "cells": [
  {
   "cell_type": "markdown",
   "id": "3442aec9-4ee3-4c9d-ad6d-123bd7458b1f",
   "metadata": {},
   "source": [
    "# Assignment 2: APIs and Working with Data\n",
    "\n",
    "This assignment covers **Chapters 5-8** from the [textbook](https://wesmckinney.com/book/) as well as lecture material from Weeks 1-3. Please complete this assignment by providing answers in cells after the question. Use **Code** cells to write and run any code you need to answer the question and **Markdown** cells to write out answers in words. After you are finished with the assignment, remember to download it as an **HTML file** and submit it in **ELMS**."
   ]
  },
  {
   "cell_type": "code",
   "execution_count": 86,
   "id": "8da486d1-efc6-4cc1-976f-425fa8a65c86",
   "metadata": {
    "tags": []
   },
   "outputs": [],
   "source": [
    "from requests import get\n",
    "\n",
    "import numpy as np\n",
    "import pandas as pd\n",
    "import datetime"
   ]
  },
  {
   "cell_type": "markdown",
   "id": "797a245a-14b5-47ce-bd29-d048d942e5c9",
   "metadata": {
    "tags": []
   },
   "source": [
    "### Census API\n",
    "\n",
    "From the Census API, get the mean family income for each county in the US, as well as the percent of people within those counties that identify as only White, only Black or African American, only Asian, only American Indian and Alaska Native, and Hispanic or Latino. These variables are:\n",
    "\n",
    "- `NAME`: Name of the county\n",
    "- `DP03_0087E`: Mean income\n",
    "- `DP05_0037PE`: Percent of people who identify only as White\n",
    "- `DP05_0038PE`: Percent of people who identify only as Black or African American\n",
    "- `DP05_0039PE`: Percent of people who identify only as American Indian or Alaska Native\n",
    "- `DP05_0044PE`: Percent of people who identify only as Asian\n",
    "- `DP05_0072PE`: Percent of people who identify as Hispanic or Latino\n",
    "\n",
    "Make a Data Frame that contains all of this information, with each row representing a county and each column representing the above variables as well as the state and county codes (the API should provide these for you without needing to ask for it). Name the columns something more descriptive (for example, `mean_income` instead of `DP03_0087E`). Make sure that the values are numeric rather than strings (the Census API should return them as strings). Remove any rows that contain values below 0 for any variable.\n",
    "\n",
    "Using this dataset, answer the following questions. \n",
    "1) Describe the mean income variable. What is the county with the highest mean income? The lowest?\n",
    "2) Does there seem to be a relationship between the mean income of a county and the percentage of people who identify as White? Look at a scatterplot to answer this question. Repeat this comparison with mean income for each of the other Race/Ethnicity variables. \n",
    "    > To make a scatterplot, you can use the `plot.scatter` method and put the names of the two columns you want to graph as the arguments. For example, you would use df.plot.scatter('x','y') if 'x' and 'y' are the column names of what you want to graph in df.\n",
    "3) Maryland is state code 24. For the counties in Maryland, is the relationship the same as or different from counties in the US as a whole?"
   ]
  },
  {
   "cell_type": "code",
   "execution_count": null,
   "id": "0b2d0e1a-6fab-4c95-8bd0-7dfc4deec8ab",
   "metadata": {},
   "outputs": [],
   "source": []
  }
 ],
 "metadata": {
  "kernelspec": {
   "display_name": "Python 3 (ipykernel)",
   "language": "python",
   "name": "python3"
  },
  "language_info": {
   "codemirror_mode": {
    "name": "ipython",
    "version": 3
   },
   "file_extension": ".py",
   "mimetype": "text/x-python",
   "name": "python",
   "nbconvert_exporter": "python",
   "pygments_lexer": "ipython3",
   "version": "3.12.2"
  }
 },
 "nbformat": 4,
 "nbformat_minor": 5
}
