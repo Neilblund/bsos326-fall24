{
 "cells": [
  {
   "cell_type": "markdown",
   "id": "3442aec9-4ee3-4c9d-ad6d-123bd7458b1f",
   "metadata": {},
   "source": [
    "# Assignment 4: Visualizations\n",
    "\n",
    "This assignment covers **Chapters 9** from the [textbook](https://wesmckinney.com/book/) as well as lecture material from Weeks 9-10. Please complete this assignment by providing answers in cells after the question. Use **Code** cells to write and run any code you need to answer the question and **Markdown** cells to write out answers in words. After you are finished with the assignment, remember to download it as an **HTML file** and submit it in **ELMS**.\n",
    "\n",
    "This assignment is due by **11:59pm on Friday, April 19**."
   ]
  },
  {
   "cell_type": "code",
   "execution_count": null,
   "id": "8da486d1-efc6-4cc1-976f-425fa8a65c86",
   "metadata": {
    "tags": []
   },
   "outputs": [],
   "source": [
    "import numpy as np\n",
    "import pandas as pd\n",
    "import matplotlib.pyplot as plt\n",
    "import seaborn as sns"
   ]
  },
  {
   "cell_type": "markdown",
   "id": "4b0a5a65-78d5-443c-9b0c-924272ac86e0",
   "metadata": {},
   "source": [
    "In this assignment, you will use three different datasets provided to you in CSV files to create visualizations and answer questions about relationships within the data. These are datasets that we have already worked with and that you should already be familiar with.\n",
    "\n",
    "## Data\n",
    "\n",
    "First, the Pulse of the Nation dataset contains responses to survey questions."
   ]
  },
  {
   "cell_type": "code",
   "execution_count": null,
   "id": "ca3584d9-12ae-48ea-9434-449785f4cca3",
   "metadata": {},
   "outputs": [],
   "source": [
    "data_file = '201807-CAH_PulseOfTheNation_Raw.csv'\n",
    "df = pd.read_csv(data_file)\n",
    "df.head()"
   ]
  },
  {
   "cell_type": "markdown",
   "id": "029b0d6e-e1e1-4d5a-93e7-30887a373604",
   "metadata": {},
   "source": [
    "The `md_anxiety.csv` file has responses to the anxiety question from the COVIDcast symptom survey (https://delphi.cmu.edu/covidcast/) aggregated by county for counties in Maryland over a period of time in May and June in 2022. Some counties do not have full data due to lack of sufficient responses."
   ]
  },
  {
   "cell_type": "code",
   "execution_count": null,
   "id": "91c3f31a-38c7-4971-9e7a-f1ce26c93a6c",
   "metadata": {},
   "outputs": [],
   "source": [
    "data_file = 'md_anxiety.csv'\n",
    "md_anxiety = pd.read_csv(data_file)\n",
    "md_anxiety.head()"
   ]
  },
  {
   "cell_type": "markdown",
   "id": "535c186d-4bf2-4ffc-9e9b-80e713ad99c5",
   "metadata": {},
   "source": [
    "## Visualizations\n",
    "\n",
    "Create an appropriate visualization that answers each of the questions below. Make sure that you include a title, appropriate x- and y-axis labels, and a descriptive legend for each. Each graph should be clear, and there should be no overlapping elements covering up parts of the visualization. Provide a 1-2 sentence interpretation of each visualization.\n",
    "\n",
    "**Pulse of the Nation**\n",
    "1) What is the relationship between political leaning and opinions on whether voting in federal elections should be mandatory or optional?\n",
    "2) What is the relationship between age and agreeing or disagreeing with the statement that \"people need to have more respect for authority in this country\"?\n",
    "\n",
    "**MD Anxiety**\n",
    "1) What are the overall trends for Montgomery County and Prince George's County in the levels of anxiety over time? Are there any specific periods of time where it looks like anxiety was particularly high in either or both counties? Use a line plot to answer this question.\n",
    "2) Does it look like there is a relationship between anxiety levels in Montgomery County and in Prince George's County overall? Use a scatterplot to answer this question.\n",
    "\n",
    "    *Hint:* This requires some reshaping of the data. Look back at previous work on reshaping data and think about what form the data needs to be in. "
   ]
  },
  {
   "cell_type": "code",
   "execution_count": null,
   "id": "9a9c6bbf-4d8d-4493-854a-d15a774e6652",
   "metadata": {},
   "outputs": [],
   "source": []
  }
 ],
 "metadata": {
  "kernelspec": {
   "display_name": "Python 3 (ipykernel)",
   "language": "python",
   "name": "python3"
  },
  "language_info": {
   "codemirror_mode": {
    "name": "ipython",
    "version": 3
   },
   "file_extension": ".py",
   "mimetype": "text/x-python",
   "name": "python",
   "nbconvert_exporter": "python",
   "pygments_lexer": "ipython3",
   "version": "3.10.9"
  }
 },
 "nbformat": 4,
 "nbformat_minor": 5
}
