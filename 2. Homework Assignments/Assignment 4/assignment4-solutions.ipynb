{
 "cells": [
  {
   "cell_type": "markdown",
   "id": "3442aec9-4ee3-4c9d-ad6d-123bd7458b1f",
   "metadata": {},
   "source": [
    "# Assignment 4: Visualizations Solutions\n",
    "\n",
    "This assignment covers **Chapters 9** from the [textbook](https://wesmckinney.com/book/) as well as lecture material from Weeks 9-10. Please complete this assignment by providing answers in cells after the question. Use **Code** cells to write and run any code you need to answer the question and **Markdown** cells to write out answers in words. After you are finished with the assignment, remember to download it as an **HTML file** and submit it in **ELMS**.\n",
    "\n",
    "This assignment is due by **11:59pm on Friday, November 15**."
   ]
  },
  {
   "cell_type": "code",
   "execution_count": 3,
   "id": "8da486d1-efc6-4cc1-976f-425fa8a65c86",
   "metadata": {
    "tags": []
   },
   "outputs": [],
   "source": [
    "import numpy as np\n",
    "import pandas as pd\n",
    "import matplotlib.pyplot as plt\n",
    "from  matplotlib.ticker import PercentFormatter\n",
    "import seaborn as sns\n",
    "import plotly.express as px"
   ]
  },
  {
   "cell_type": "markdown",
   "id": "4b0a5a65-78d5-443c-9b0c-924272ac86e0",
   "metadata": {},
   "source": [
    "In this assignment, you will use three different datasets provided to you in CSV files to create visualizations and answer questions about relationships within the data. These are datasets that we have already worked with and that you should already be familiar with.\n",
    "\n",
    "## Data\n",
    "\n",
    "First, the Pulse of the Nation dataset contains responses to survey questions."
   ]
  },
  {
   "cell_type": "code",
   "execution_count": 4,
   "id": "ca3584d9-12ae-48ea-9434-449785f4cca3",
   "metadata": {},
   "outputs": [
    {
     "data": {
      "text/html": [
       "<div>\n",
       "<style scoped>\n",
       "    .dataframe tbody tr th:only-of-type {\n",
       "        vertical-align: middle;\n",
       "    }\n",
       "\n",
       "    .dataframe tbody tr th {\n",
       "        vertical-align: top;\n",
       "    }\n",
       "\n",
       "    .dataframe thead th {\n",
       "        text-align: right;\n",
       "    }\n",
       "</style>\n",
       "<table border=\"1\" class=\"dataframe\">\n",
       "  <thead>\n",
       "    <tr style=\"text-align: right;\">\n",
       "      <th></th>\n",
       "      <th>gender</th>\n",
       "      <th>age</th>\n",
       "      <th>age_range</th>\n",
       "      <th>political_party</th>\n",
       "      <th>rep_change</th>\n",
       "      <th>dem_change</th>\n",
       "      <th>political_leaning</th>\n",
       "      <th>education</th>\n",
       "      <th>race</th>\n",
       "      <th>race_other</th>\n",
       "      <th>...</th>\n",
       "      <th>stereotypes</th>\n",
       "      <th>respect_for_authority</th>\n",
       "      <th>handout</th>\n",
       "      <th>climate_change</th>\n",
       "      <th>epa</th>\n",
       "      <th>biz_regulations</th>\n",
       "      <th>nuclear_emissions</th>\n",
       "      <th>voter_turnout_help</th>\n",
       "      <th>american_heartland</th>\n",
       "      <th>south_racist</th>\n",
       "    </tr>\n",
       "  </thead>\n",
       "  <tbody>\n",
       "    <tr>\n",
       "      <th>0</th>\n",
       "      <td>Female</td>\n",
       "      <td>55</td>\n",
       "      <td>55-64</td>\n",
       "      <td>Independent</td>\n",
       "      <td>NaN</td>\n",
       "      <td>NaN</td>\n",
       "      <td>Moderate</td>\n",
       "      <td>Some college</td>\n",
       "      <td>White</td>\n",
       "      <td>NaN</td>\n",
       "      <td>...</td>\n",
       "      <td>Yes</td>\n",
       "      <td>Strongly Agree</td>\n",
       "      <td>Strongly Disagree</td>\n",
       "      <td>Well-informed</td>\n",
       "      <td>No</td>\n",
       "      <td>Yes</td>\n",
       "      <td>Yes</td>\n",
       "      <td>Help Democrats more</td>\n",
       "      <td>Yes</td>\n",
       "      <td>Yes</td>\n",
       "    </tr>\n",
       "    <tr>\n",
       "      <th>1</th>\n",
       "      <td>Female</td>\n",
       "      <td>34</td>\n",
       "      <td>25-34</td>\n",
       "      <td>Strong Democrat</td>\n",
       "      <td>NaN</td>\n",
       "      <td>No</td>\n",
       "      <td>Strong Liberal</td>\n",
       "      <td>Graduate degree</td>\n",
       "      <td>White</td>\n",
       "      <td>NaN</td>\n",
       "      <td>...</td>\n",
       "      <td>Yes</td>\n",
       "      <td>Strongly Disagree</td>\n",
       "      <td>Strongly Disagree</td>\n",
       "      <td>Well-informed</td>\n",
       "      <td>No</td>\n",
       "      <td>No</td>\n",
       "      <td>Yes</td>\n",
       "      <td>Help Democrats more</td>\n",
       "      <td>No</td>\n",
       "      <td>DK/REF</td>\n",
       "    </tr>\n",
       "    <tr>\n",
       "      <th>2</th>\n",
       "      <td>Male</td>\n",
       "      <td>49</td>\n",
       "      <td>45-54</td>\n",
       "      <td>DK/REF</td>\n",
       "      <td>NaN</td>\n",
       "      <td>NaN</td>\n",
       "      <td>Moderate</td>\n",
       "      <td>College degree</td>\n",
       "      <td>White</td>\n",
       "      <td>NaN</td>\n",
       "      <td>...</td>\n",
       "      <td>DK/REF</td>\n",
       "      <td>Strongly Agree</td>\n",
       "      <td>Somewhat Agree</td>\n",
       "      <td>Well-informed</td>\n",
       "      <td>No</td>\n",
       "      <td>No</td>\n",
       "      <td>Yes</td>\n",
       "      <td>DK/REF</td>\n",
       "      <td>Yes</td>\n",
       "      <td>No</td>\n",
       "    </tr>\n",
       "    <tr>\n",
       "      <th>3</th>\n",
       "      <td>Male</td>\n",
       "      <td>41</td>\n",
       "      <td>35-44</td>\n",
       "      <td>Independent</td>\n",
       "      <td>NaN</td>\n",
       "      <td>NaN</td>\n",
       "      <td>Strong Conservative</td>\n",
       "      <td>High school or less</td>\n",
       "      <td>White</td>\n",
       "      <td>NaN</td>\n",
       "      <td>...</td>\n",
       "      <td>Yes</td>\n",
       "      <td>Strongly Agree</td>\n",
       "      <td>Strongly Agree</td>\n",
       "      <td>Not Very Well-informed</td>\n",
       "      <td>Yes</td>\n",
       "      <td>Yes</td>\n",
       "      <td>DK/REF</td>\n",
       "      <td>Make no Difference</td>\n",
       "      <td>Yes</td>\n",
       "      <td>No</td>\n",
       "    </tr>\n",
       "    <tr>\n",
       "      <th>4</th>\n",
       "      <td>Female</td>\n",
       "      <td>65</td>\n",
       "      <td>65+</td>\n",
       "      <td>Independent</td>\n",
       "      <td>NaN</td>\n",
       "      <td>NaN</td>\n",
       "      <td>Moderate</td>\n",
       "      <td>Graduate degree</td>\n",
       "      <td>White</td>\n",
       "      <td>NaN</td>\n",
       "      <td>...</td>\n",
       "      <td>Yes</td>\n",
       "      <td>Somewhat Disagree</td>\n",
       "      <td>Somewhat Disagree</td>\n",
       "      <td>Well-informed</td>\n",
       "      <td>No</td>\n",
       "      <td>No</td>\n",
       "      <td>Yes</td>\n",
       "      <td>Help Democrats more</td>\n",
       "      <td>Yes</td>\n",
       "      <td>Yes</td>\n",
       "    </tr>\n",
       "  </tbody>\n",
       "</table>\n",
       "<p>5 rows × 23 columns</p>\n",
       "</div>"
      ],
      "text/plain": [
       "   gender  age age_range  political_party rep_change dem_change  \\\n",
       "0  Female   55     55-64      Independent        NaN        NaN   \n",
       "1  Female   34     25-34  Strong Democrat        NaN         No   \n",
       "2    Male   49     45-54           DK/REF        NaN        NaN   \n",
       "3    Male   41     35-44      Independent        NaN        NaN   \n",
       "4  Female   65       65+      Independent        NaN        NaN   \n",
       "\n",
       "     political_leaning            education   race race_other  ...  \\\n",
       "0             Moderate         Some college  White        NaN  ...   \n",
       "1       Strong Liberal      Graduate degree  White        NaN  ...   \n",
       "2             Moderate       College degree  White        NaN  ...   \n",
       "3  Strong Conservative  High school or less  White        NaN  ...   \n",
       "4             Moderate      Graduate degree  White        NaN  ...   \n",
       "\n",
       "  stereotypes respect_for_authority            handout  \\\n",
       "0         Yes        Strongly Agree  Strongly Disagree   \n",
       "1         Yes     Strongly Disagree  Strongly Disagree   \n",
       "2      DK/REF        Strongly Agree     Somewhat Agree   \n",
       "3         Yes        Strongly Agree     Strongly Agree   \n",
       "4         Yes     Somewhat Disagree  Somewhat Disagree   \n",
       "\n",
       "           climate_change  epa biz_regulations nuclear_emissions  \\\n",
       "0           Well-informed   No             Yes               Yes   \n",
       "1           Well-informed   No              No               Yes   \n",
       "2           Well-informed   No              No               Yes   \n",
       "3  Not Very Well-informed  Yes             Yes            DK/REF   \n",
       "4           Well-informed   No              No               Yes   \n",
       "\n",
       "    voter_turnout_help american_heartland south_racist  \n",
       "0  Help Democrats more                Yes          Yes  \n",
       "1  Help Democrats more                 No       DK/REF  \n",
       "2               DK/REF                Yes           No  \n",
       "3   Make no Difference                Yes           No  \n",
       "4  Help Democrats more                Yes          Yes  \n",
       "\n",
       "[5 rows x 23 columns]"
      ]
     },
     "execution_count": 4,
     "metadata": {},
     "output_type": "execute_result"
    }
   ],
   "source": [
    "data_file = '201807-CAH_PulseOfTheNation_Raw.csv'\n",
    "df = pd.read_csv(data_file)\n",
    "df.head()"
   ]
  },
  {
   "cell_type": "markdown",
   "id": "029b0d6e-e1e1-4d5a-93e7-30887a373604",
   "metadata": {},
   "source": [
    "The `md_anxiety.csv` file has responses to the anxiety question from the COVIDcast symptom survey (https://delphi.cmu.edu/covidcast/) aggregated by county for counties in Maryland over a period of time in May and June in 2022. Some counties do not have full data due to lack of sufficient responses."
   ]
  },
  {
   "cell_type": "code",
   "execution_count": 5,
   "id": "91c3f31a-38c7-4971-9e7a-f1ce26c93a6c",
   "metadata": {},
   "outputs": [
    {
     "data": {
      "text/html": [
       "<div>\n",
       "<style scoped>\n",
       "    .dataframe tbody tr th:only-of-type {\n",
       "        vertical-align: middle;\n",
       "    }\n",
       "\n",
       "    .dataframe tbody tr th {\n",
       "        vertical-align: top;\n",
       "    }\n",
       "\n",
       "    .dataframe thead th {\n",
       "        text-align: right;\n",
       "    }\n",
       "</style>\n",
       "<table border=\"1\" class=\"dataframe\">\n",
       "  <thead>\n",
       "    <tr style=\"text-align: right;\">\n",
       "      <th></th>\n",
       "      <th>NAME</th>\n",
       "      <th>day</th>\n",
       "      <th>percent_anxious</th>\n",
       "    </tr>\n",
       "  </thead>\n",
       "  <tbody>\n",
       "    <tr>\n",
       "      <th>0</th>\n",
       "      <td>Anne Arundel County, Maryland</td>\n",
       "      <td>2022-05-19</td>\n",
       "      <td>14.799449</td>\n",
       "    </tr>\n",
       "    <tr>\n",
       "      <th>1</th>\n",
       "      <td>Baltimore County, Maryland</td>\n",
       "      <td>2022-05-01</td>\n",
       "      <td>15.635284</td>\n",
       "    </tr>\n",
       "    <tr>\n",
       "      <th>2</th>\n",
       "      <td>Baltimore County, Maryland</td>\n",
       "      <td>2022-05-03</td>\n",
       "      <td>12.912819</td>\n",
       "    </tr>\n",
       "    <tr>\n",
       "      <th>3</th>\n",
       "      <td>Baltimore County, Maryland</td>\n",
       "      <td>2022-05-04</td>\n",
       "      <td>14.203134</td>\n",
       "    </tr>\n",
       "    <tr>\n",
       "      <th>4</th>\n",
       "      <td>Baltimore County, Maryland</td>\n",
       "      <td>2022-05-05</td>\n",
       "      <td>16.371993</td>\n",
       "    </tr>\n",
       "  </tbody>\n",
       "</table>\n",
       "</div>"
      ],
      "text/plain": [
       "                            NAME         day  percent_anxious\n",
       "0  Anne Arundel County, Maryland  2022-05-19        14.799449\n",
       "1     Baltimore County, Maryland  2022-05-01        15.635284\n",
       "2     Baltimore County, Maryland  2022-05-03        12.912819\n",
       "3     Baltimore County, Maryland  2022-05-04        14.203134\n",
       "4     Baltimore County, Maryland  2022-05-05        16.371993"
      ]
     },
     "execution_count": 5,
     "metadata": {},
     "output_type": "execute_result"
    }
   ],
   "source": [
    "data_file = 'md_anxiety.csv'\n",
    "md_anxiety = pd.read_csv(data_file)\n",
    "md_anxiety.head()"
   ]
  },
  {
   "cell_type": "markdown",
   "id": "1f5a7e30-3903-4435-b89c-005b09528002",
   "metadata": {},
   "source": [
    "## Visualizations\n",
    "\n",
    "Create an appropriate visualization that answers each of the questions below. Make sure that you include a title, appropriate x- and y-axis labels, and a descriptive legend for each. Each graph should be clear, and there should be no overlapping elements covering up parts of the visualization. Provide a 1-2 sentence interpretation of each visualization."
   ]
  },
  {
   "cell_type": "markdown",
   "id": "535c186d-4bf2-4ffc-9e9b-80e713ad99c5",
   "metadata": {},
   "source": [
    "\n",
    "\n",
    "## **Pulse of the Nation**\n"
   ]
  },
  {
   "cell_type": "markdown",
   "id": "818e9c04-b773-49f7-b7e8-8ea1915a07b5",
   "metadata": {},
   "source": [
    "### 1) What is the relationship between political leaning and opinions on whether voting in federal elections should be mandatory or optional?\n",
    "\n",
    "Its probably a good idea to start by creating properly ordered categorical variables for `political_leaning` and `mandatory_election` so that we can plot them in the correct order: "
   ]
  },
  {
   "cell_type": "code",
   "execution_count": 6,
   "id": "d4bee158-fd54-4e12-8538-d8825cf62a9d",
   "metadata": {},
   "outputs": [],
   "source": [
    "ideology_ordering = ['DK/REF', 'Strong Conservative', 'Not Very Strong Conservative', 'Moderate', 'Not Very Strong Liberal', 'Strong Liberal']\n",
    "mandatory_election_ordering = ['DK/REF', 'Optional', 'Mandatory']\n",
    "\n",
    "df['political_leaning_categorical'] =  pd.Categorical(df['political_leaning'], categories = ideology_ordering)\n",
    "df['mandatory_election_categorical'] =  pd.Categorical(df['mandatory_election'], categories = mandatory_election_ordering)\n"
   ]
  },
  {
   "cell_type": "code",
   "execution_count": 7,
   "id": "2fce4c97-f23c-470f-a2f6-9b53b26adbca",
   "metadata": {},
   "outputs": [
    {
     "data": {
      "text/html": [
       "<div>\n",
       "<style scoped>\n",
       "    .dataframe tbody tr th:only-of-type {\n",
       "        vertical-align: middle;\n",
       "    }\n",
       "\n",
       "    .dataframe tbody tr th {\n",
       "        vertical-align: top;\n",
       "    }\n",
       "\n",
       "    .dataframe thead th {\n",
       "        text-align: right;\n",
       "    }\n",
       "</style>\n",
       "<table border=\"1\" class=\"dataframe\">\n",
       "  <thead>\n",
       "    <tr style=\"text-align: right;\">\n",
       "      <th>mandatory_election_categorical</th>\n",
       "      <th>DK/REF</th>\n",
       "      <th>Optional</th>\n",
       "      <th>Mandatory</th>\n",
       "    </tr>\n",
       "    <tr>\n",
       "      <th>political_leaning_categorical</th>\n",
       "      <th></th>\n",
       "      <th></th>\n",
       "      <th></th>\n",
       "    </tr>\n",
       "  </thead>\n",
       "  <tbody>\n",
       "    <tr>\n",
       "      <th>DK/REF</th>\n",
       "      <td>0.119048</td>\n",
       "      <td>0.678571</td>\n",
       "      <td>0.202381</td>\n",
       "    </tr>\n",
       "    <tr>\n",
       "      <th>Strong Conservative</th>\n",
       "      <td>0.027174</td>\n",
       "      <td>0.798913</td>\n",
       "      <td>0.173913</td>\n",
       "    </tr>\n",
       "    <tr>\n",
       "      <th>Not Very Strong Conservative</th>\n",
       "      <td>0.060000</td>\n",
       "      <td>0.800000</td>\n",
       "      <td>0.140000</td>\n",
       "    </tr>\n",
       "    <tr>\n",
       "      <th>Moderate</th>\n",
       "      <td>0.033639</td>\n",
       "      <td>0.730887</td>\n",
       "      <td>0.235474</td>\n",
       "    </tr>\n",
       "    <tr>\n",
       "      <th>Not Very Strong Liberal</th>\n",
       "      <td>0.000000</td>\n",
       "      <td>0.687500</td>\n",
       "      <td>0.312500</td>\n",
       "    </tr>\n",
       "    <tr>\n",
       "      <th>Strong Liberal</th>\n",
       "      <td>0.028037</td>\n",
       "      <td>0.700935</td>\n",
       "      <td>0.271028</td>\n",
       "    </tr>\n",
       "  </tbody>\n",
       "</table>\n",
       "</div>"
      ],
      "text/plain": [
       "mandatory_election_categorical    DK/REF  Optional  Mandatory\n",
       "political_leaning_categorical                                \n",
       "DK/REF                          0.119048  0.678571   0.202381\n",
       "Strong Conservative             0.027174  0.798913   0.173913\n",
       "Not Very Strong Conservative    0.060000  0.800000   0.140000\n",
       "Moderate                        0.033639  0.730887   0.235474\n",
       "Not Very Strong Liberal         0.000000  0.687500   0.312500\n",
       "Strong Liberal                  0.028037  0.700935   0.271028"
      ]
     },
     "execution_count": 7,
     "metadata": {},
     "output_type": "execute_result"
    }
   ],
   "source": [
    "# make a cross tab with % of each response for mandatory election: \n",
    "election_proportions = pd.crosstab(df['political_leaning_categorical'], df['mandatory_election_categorical'], normalize='index')\n",
    "election_proportions\n"
   ]
  },
  {
   "cell_type": "markdown",
   "id": "e17ae5ff-0ef3-4195-b301-583676adb41e",
   "metadata": {},
   "source": [
    "#### Using Matplot"
   ]
  },
  {
   "cell_type": "code",
   "execution_count": 8,
   "id": "90a22e39-7f14-4c8e-b1e2-c3b0206b7ffd",
   "metadata": {},
   "outputs": [
    {
     "data": {
      "image/png": "[encoded data removed]",
      "text/plain": [
       "<Figure size 800x500 with 1 Axes>"
      ]
     },
     "metadata": {},
     "output_type": "display_data"
    }
   ],
   "source": [
    "import matplotlib.ticker as mtick # mtick to allow for percentage formatting of axis ticks\n",
    " # the base plot: a horizontal stacked barplot:\n",
    "\n",
    "ax = election_proportions.plot(stacked=False, # change to true for a stacked bar plot\n",
    "                               kind='barh',\n",
    "                               xlabel=\"Percentage\",\n",
    "                               ylabel = 'Political Leaning',\n",
    "                               title = 'Support for mandatory voting by self-described political leaning',\n",
    "                               figsize=(8,5)\n",
    "                              )\n",
    "plt.legend( \n",
    "    title = 'Voting in federal\\nelections should be:', # a legend title\n",
    "    loc='center right',   # relative location of the legend\n",
    "    bbox_to_anchor=[1.4, .5] # offset from the plot (allows us to put the legend outside of the plotting space)\n",
    "          ) \n",
    "# formatting the axes as percentages\n",
    "ax.xaxis.set_major_formatter(mtick.PercentFormatter(1.0))\n",
    "\n",
    "plt.show()\n"
   ]
  },
  {
   "cell_type": "markdown",
   "id": "c3dbd088-17f9-4c56-b833-ccd8c21c0c32",
   "metadata": {},
   "source": [
    "#### Seaborn\n",
    "\n",
    "An alternative method would be to use the `catplot` function from Seaborn"
   ]
  },
  {
   "cell_type": "code",
   "execution_count": null,
   "id": "9db06d9d-538e-4cbb-97f9-53679457bcf3",
   "metadata": {},
   "outputs": [],
   "source": [
    "# make a long format version of the crosstab\n",
    "el_long = election_proportions.stack().reset_index().rename(columns={0:'proportion'})\n",
    "el_long"
   ]
  },
  {
   "cell_type": "code",
   "execution_count": 22,
   "id": "715a577f-c2c9-4ddf-9503-a095c6c179d7",
   "metadata": {},
   "outputs": [
    {
     "data": {
      "image/png": "[encoded data removed]",
      "text/plain": [
       "<Figure size 1033.99x400 with 1 Axes>"
      ]
     },
     "metadata": {},
     "output_type": "display_data"
    }
   ],
   "source": [
    "# make the plot with catplot \n",
    "barplot = sns.catplot(\n",
    "    data= el_long, \n",
    "    x='political_leaning_categorical', \n",
    "    hue= 'mandatory_election_categorical',\n",
    "    y='proportion',\n",
    "    kind=\"bar\", \n",
    "    height=4, aspect=2,\n",
    "    # using a color-blind friendly palette\n",
    "    palette='colorblind'\n",
    ")\n",
    "# add a n axis label\n",
    "barplot.set_axis_labels(\"Self Described Ideology\", \"%\")\n",
    "# relocate the legend and add a title\n",
    "sns.move_legend(barplot, \n",
    "                title='Voting in federal\\nelections should be:', \n",
    "                loc='lower center',\n",
    "                bbox_to_anchor=(.4,1),\n",
    "                frameon=True,\n",
    "                ncol=3\n",
    "            \n",
    "               )\n",
    "# rotate the axis tick marks 45 degrees to avoid overlap\n",
    "barplot.set_xticklabels(rotation=45)\n",
    "\n",
    "plt.show()\n"
   ]
  },
  {
   "cell_type": "markdown",
   "id": "10628d2c-a396-42e7-bd77-f595f13aa023",
   "metadata": {},
   "source": [
    "#### Using Plotly Express"
   ]
  },
  {
   "cell_type": "code",
   "execution_count": 55,
   "id": "625c459b-bda2-4497-9266-086de6e651fa",
   "metadata": {},
   "outputs": [
    {
     "data": {
      "application/vnd.plotly.v1+json": {
       "config": {
        "plotlyServerURL": "https://plot.ly"
       },
       "data": [
        {
         "alignmentgroup": "True",
         "hovertemplate": "Voting in federal\nelections should be:=DK/REF<br>Political Lean=%{x}<br>Percent=%{y}<extra></extra>",
         "legendgroup": "DK/REF",
         "marker": {
          "color": "gray",
          "pattern": {
           "shape": ""
          }
         },
         "name": "DK/REF",
         "offsetgroup": "DK/REF",
         "orientation": "v",
         "showlegend": true,
         "textposition": "outside",
         "texttemplate": "%{y:.0%}",
         "type": "bar",
         "x": [
          "DK/REF",
          "Strong Conservative",
          "Not Very Strong Conservative",
          "Moderate",
          "Not Very Strong Liberal",
          "Strong Liberal"
         ],
         "xaxis": "x",
         "y": [
          0.11904761904761904,
          0.02717391304347826,
          0.06,
          0.03363914373088685,
          0,
          0.028037383177570093
         ],
         "yaxis": "y"
        },
        {
         "alignmentgroup": "True",
         "hovertemplate": "Voting in federal\nelections should be:=Optional<br>Political Lean=%{x}<br>Percent=%{y}<extra></extra>",
         "legendgroup": "Optional",
         "marker": {
          "color": "orange",
          "pattern": {
           "shape": ""
          }
         },
         "name": "Optional",
         "offsetgroup": "Optional",
         "orientation": "v",
         "showlegend": true,
         "textposition": "outside",
         "texttemplate": "%{y:.0%}",
         "type": "bar",
         "x": [
          "DK/REF",
          "Strong Conservative",
          "Not Very Strong Conservative",
          "Moderate",
          "Not Very Strong Liberal",
          "Strong Liberal"
         ],
         "xaxis": "x",
         "y": [
          0.6785714285714286,
          0.7989130434782609,
          0.8,
          0.7308868501529052,
          0.6875,
          0.7009345794392523
         ],
         "yaxis": "y"
        },
        {
         "alignmentgroup": "True",
         "hovertemplate": "Voting in federal\nelections should be:=Mandatory<br>Political Lean=%{x}<br>Percent=%{y}<extra></extra>",
         "legendgroup": "Mandatory",
         "marker": {
          "color": "teal",
          "pattern": {
           "shape": ""
          }
         },
         "name": "Mandatory",
         "offsetgroup": "Mandatory",
         "orientation": "v",
         "showlegend": true,
         "textposition": "outside",
         "texttemplate": "%{y:.0%}",
         "type": "bar",
         "x": [
          "DK/REF",
          "Strong Conservative",
          "Not Very Strong Conservative",
          "Moderate",
          "Not Very Strong Liberal",
          "Strong Liberal"
         ],
         "xaxis": "x",
         "y": [
          0.20238095238095238,
          0.17391304347826086,
          0.14,
          0.23547400611620795,
          0.3125,
          0.27102803738317754
         ],
         "yaxis": "y"
        }
       ],
       "layout": {
        "barmode": "group",
        "height": 550,
        "legend": {
         "title": {
          "text": "Voting in federal\nelections should be:"
         },
         "tracegroupgap": 0
        },
        "template": {
         "data": {
          "bar": [
           {
            "error_x": {
             "color": "#2a3f5f"
            },
            "error_y": {
             "color": "#2a3f5f"
            },
            "marker": {
             "line": {
              "color": "#E5ECF6",
              "width": 0.5
             },
             "pattern": {
              "fillmode": "overlay",
              "size": 10,
              "solidity": 0.2
             }
            },
            "type": "bar"
           }
          ],
          "barpolar": [
           {
            "marker": {
             "line": {
              "color": "#E5ECF6",
              "width": 0.5
             },
             "pattern": {
              "fillmode": "overlay",
              "size": 10,
              "solidity": 0.2
             }
            },
            "type": "barpolar"
           }
          ],
          "carpet": [
           {
            "aaxis": {
             "endlinecolor": "#2a3f5f",
             "gridcolor": "white",
             "linecolor": "white",
             "minorgridcolor": "white",
             "startlinecolor": "#2a3f5f"
            },
            "baxis": {
             "endlinecolor": "#2a3f5f",
             "gridcolor": "white",
             "linecolor": "white",
             "minorgridcolor": "white",
             "startlinecolor": "#2a3f5f"
            },
            "type": "carpet"
           }
          ],
          "choropleth": [
           {
            "colorbar": {
             "outlinewidth": 0,
             "ticks": ""
            },
            "type": "choropleth"
           }
          ],
          "contour": [
           {
            "colorbar": {
             "outlinewidth": 0,
             "ticks": ""
            },
            "colorscale": [
             [
              0,
              "#0d0887"
             ],
             [
              0.1111111111111111,
              "#46039f"
             ],
             [
              0.2222222222222222,
              "#7201a8"
             ],
             [
              0.3333333333333333,
              "#9c179e"
             ],
             [
              0.4444444444444444,
              "#bd3786"
             ],
             [
              0.5555555555555556,
              "#d8576b"
             ],
             [
              0.6666666666666666,
              "#ed7953"
             ],
             [
              0.7777777777777778,
              "#fb9f3a"
             ],
             [
              0.8888888888888888,
              "#fdca26"
             ],
             [
              1,
              "#f0f921"
             ]
            ],
            "type": "contour"
           }
          ],
          "contourcarpet": [
           {
            "colorbar": {
             "outlinewidth": 0,
             "ticks": ""
            },
            "type": "contourcarpet"
           }
          ],
          "heatmap": [
           {
            "colorbar": {
             "outlinewidth": 0,
             "ticks": ""
            },
            "colorscale": [
             [
              0,
              "#0d0887"
             ],
             [
              0.1111111111111111,
              "#46039f"
             ],
             [
              0.2222222222222222,
              "#7201a8"
             ],
             [
              0.3333333333333333,
              "#9c179e"
             ],
             [
              0.4444444444444444,
              "#bd3786"
             ],
             [
              0.5555555555555556,
              "#d8576b"
             ],
             [
              0.6666666666666666,
              "#ed7953"
             ],
             [
              0.7777777777777778,
              "#fb9f3a"
             ],
             [
              0.8888888888888888,
              "#fdca26"
             ],
             [
              1,
              "#f0f921"
             ]
            ],
            "type": "heatmap"
           }
          ],
          "heatmapgl": [
           {
            "colorbar": {
             "outlinewidth": 0,
             "ticks": ""
            },
            "colorscale": [
             [
              0,
              "#0d0887"
             ],
             [
              0.1111111111111111,
              "#46039f"
             ],
             [
              0.2222222222222222,
              "#7201a8"
             ],
             [
              0.3333333333333333,
              "#9c179e"
             ],
             [
              0.4444444444444444,
              "#bd3786"
             ],
             [
              0.5555555555555556,
              "#d8576b"
             ],
             [
              0.6666666666666666,
              "#ed7953"
             ],
             [
              0.7777777777777778,
              "#fb9f3a"
             ],
             [
              0.8888888888888888,
              "#fdca26"
             ],
             [
              1,
              "#f0f921"
             ]
            ],
            "type": "heatmapgl"
           }
          ],
          "histogram": [
           {
            "marker": {
             "pattern": {
              "fillmode": "overlay",
              "size": 10,
              "solidity": 0.2
             }
            },
            "type": "histogram"
           }
          ],
          "histogram2d": [
           {
            "colorbar": {
             "outlinewidth": 0,
             "ticks": ""
            },
            "colorscale": [
             [
              0,
              "#0d0887"
             ],
             [
              0.1111111111111111,
              "#46039f"
             ],
             [
              0.2222222222222222,
              "#7201a8"
             ],
             [
              0.3333333333333333,
              "#9c179e"
             ],
             [
              0.4444444444444444,
              "#bd3786"
             ],
             [
              0.5555555555555556,
              "#d8576b"
             ],
             [
              0.6666666666666666,
              "#ed7953"
             ],
             [
              0.7777777777777778,
              "#fb9f3a"
             ],
             [
              0.8888888888888888,
              "#fdca26"
             ],
             [
              1,
              "#f0f921"
             ]
            ],
            "type": "histogram2d"
           }
          ],
          "histogram2dcontour": [
           {
            "colorbar": {
             "outlinewidth": 0,
             "ticks": ""
            },
            "colorscale": [
             [
              0,
              "#0d0887"
             ],
             [
              0.1111111111111111,
              "#46039f"
             ],
             [
              0.2222222222222222,
              "#7201a8"
             ],
             [
              0.3333333333333333,
              "#9c179e"
             ],
             [
              0.4444444444444444,
              "#bd3786"
             ],
             [
              0.5555555555555556,
              "#d8576b"
             ],
             [
              0.6666666666666666,
              "#ed7953"
             ],
             [
              0.7777777777777778,
              "#fb9f3a"
             ],
             [
              0.8888888888888888,
              "#fdca26"
             ],
             [
              1,
              "#f0f921"
             ]
            ],
            "type": "histogram2dcontour"
           }
          ],
          "mesh3d": [
           {
            "colorbar": {
             "outlinewidth": 0,
             "ticks": ""
            },
            "type": "mesh3d"
           }
          ],
          "parcoords": [
           {
            "line": {
             "colorbar": {
              "outlinewidth": 0,
              "ticks": ""
             }
            },
            "type": "parcoords"
           }
          ],
          "pie": [
           {
            "automargin": true,
            "type": "pie"
           }
          ],
          "scatter": [
           {
            "fillpattern": {
             "fillmode": "overlay",
             "size": 10,
             "solidity": 0.2
            },
            "type": "scatter"
           }
          ],
          "scatter3d": [
           {
            "line": {
             "colorbar": {
              "outlinewidth": 0,
              "ticks": ""
             }
            },
            "marker": {
             "colorbar": {
              "outlinewidth": 0,
              "ticks": ""
             }
            },
            "type": "scatter3d"
           }
          ],
          "scattercarpet": [
           {
            "marker": {
             "colorbar": {
              "outlinewidth": 0,
              "ticks": ""
             }
            },
            "type": "scattercarpet"
           }
          ],
          "scattergeo": [
           {
            "marker": {
             "colorbar": {
              "outlinewidth": 0,
              "ticks": ""
             }
            },
            "type": "scattergeo"
           }
          ],
          "scattergl": [
           {
            "marker": {
             "colorbar": {
              "outlinewidth": 0,
              "ticks": ""
             }
            },
            "type": "scattergl"
           }
          ],
          "scattermapbox": [
           {
            "marker": {
             "colorbar": {
              "outlinewidth": 0,
              "ticks": ""
             }
            },
            "type": "scattermapbox"
           }
          ],
          "scatterpolar": [
           {
            "marker": {
             "colorbar": {
              "outlinewidth": 0,
              "ticks": ""
             }
            },
            "type": "scatterpolar"
           }
          ],
          "scatterpolargl": [
           {
            "marker": {
             "colorbar": {
              "outlinewidth": 0,
              "ticks": ""
             }
            },
            "type": "scatterpolargl"
           }
          ],
          "scatterternary": [
           {
            "marker": {
             "colorbar": {
              "outlinewidth": 0,
              "ticks": ""
             }
            },
            "type": "scatterternary"
           }
          ],
          "surface": [
           {
            "colorbar": {
             "outlinewidth": 0,
             "ticks": ""
            },
            "colorscale": [
             [
              0,
              "#0d0887"
             ],
             [
              0.1111111111111111,
              "#46039f"
             ],
             [
              0.2222222222222222,
              "#7201a8"
             ],
             [
              0.3333333333333333,
              "#9c179e"
             ],
             [
              0.4444444444444444,
              "#bd3786"
             ],
             [
              0.5555555555555556,
              "#d8576b"
             ],
             [
              0.6666666666666666,
              "#ed7953"
             ],
             [
              0.7777777777777778,
              "#fb9f3a"
             ],
             [
              0.8888888888888888,
              "#fdca26"
             ],
             [
              1,
              "#f0f921"
             ]
            ],
            "type": "surface"
           }
          ],
          "table": [
           {
            "cells": {
             "fill": {
              "color": "#EBF0F8"
             },
             "line": {
              "color": "white"
             }
            },
            "header": {
             "fill": {
              "color": "#C8D4E3"
             },
             "line": {
              "color": "white"
             }
            },
            "type": "table"
           }
          ]
         },
         "layout": {
          "annotationdefaults": {
           "arrowcolor": "#2a3f5f",
           "arrowhead": 0,
           "arrowwidth": 1
          },
          "autotypenumbers": "strict",
          "coloraxis": {
           "colorbar": {
            "outlinewidth": 0,
            "ticks": ""
           }
          },
          "colorscale": {
           "diverging": [
            [
             0,
             "#8e0152"
            ],
            [
             0.1,
             "#c51b7d"
            ],
            [
             0.2,
             "#de77ae"
            ],
            [
             0.3,
             "#f1b6da"
            ],
            [
             0.4,
             "#fde0ef"
            ],
            [
             0.5,
             "#f7f7f7"
            ],
            [
             0.6,
             "#e6f5d0"
            ],
            [
             0.7,
             "#b8e186"
            ],
            [
             0.8,
             "#7fbc41"
            ],
            [
             0.9,
             "#4d9221"
            ],
            [
             1,
             "#276419"
            ]
           ],
           "sequential": [
            [
             0,
             "#0d0887"
            ],
            [
             0.1111111111111111,
             "#46039f"
            ],
            [
             0.2222222222222222,
             "#7201a8"
            ],
            [
             0.3333333333333333,
             "#9c179e"
            ],
            [
             0.4444444444444444,
             "#bd3786"
            ],
            [
             0.5555555555555556,
             "#d8576b"
            ],
            [
             0.6666666666666666,
             "#ed7953"
            ],
            [
             0.7777777777777778,
             "#fb9f3a"
            ],
            [
             0.8888888888888888,
             "#fdca26"
            ],
            [
             1,
             "#f0f921"
            ]
           ],
           "sequentialminus": [
            [
             0,
             "#0d0887"
            ],
            [
             0.1111111111111111,
             "#46039f"
            ],
            [
             0.2222222222222222,
             "#7201a8"
            ],
            [
             0.3333333333333333,
             "#9c179e"
            ],
            [
             0.4444444444444444,
             "#bd3786"
            ],
            [
             0.5555555555555556,
             "#d8576b"
            ],
            [
             0.6666666666666666,
             "#ed7953"
            ],
            [
             0.7777777777777778,
             "#fb9f3a"
            ],
            [
             0.8888888888888888,
             "#fdca26"
            ],
            [
             1,
             "#f0f921"
            ]
           ]
          },
          "colorway": [
           "#636efa",
           "#EF553B",
           "#00cc96",
           "#ab63fa",
           "#FFA15A",
           "#19d3f3",
           "#FF6692",
           "#B6E880",
           "#FF97FF",
           "#FECB52"
          ],
          "font": {
           "color": "#2a3f5f"
          },
          "geo": {
           "bgcolor": "white",
           "lakecolor": "white",
           "landcolor": "#E5ECF6",
           "showlakes": true,
           "showland": true,
           "subunitcolor": "white"
          },
          "hoverlabel": {
           "align": "left"
          },
          "hovermode": "closest",
          "mapbox": {
           "style": "light"
          },
          "paper_bgcolor": "white",
          "plot_bgcolor": "#E5ECF6",
          "polar": {
           "angularaxis": {
            "gridcolor": "white",
            "linecolor": "white",
            "ticks": ""
           },
           "bgcolor": "#E5ECF6",
           "radialaxis": {
            "gridcolor": "white",
            "linecolor": "white",
            "ticks": ""
           }
          },
          "scene": {
           "xaxis": {
            "backgroundcolor": "#E5ECF6",
            "gridcolor": "white",
            "gridwidth": 2,
            "linecolor": "white",
            "showbackground": true,
            "ticks": "",
            "zerolinecolor": "white"
           },
           "yaxis": {
            "backgroundcolor": "#E5ECF6",
            "gridcolor": "white",
            "gridwidth": 2,
            "linecolor": "white",
            "showbackground": true,
            "ticks": "",
            "zerolinecolor": "white"
           },
           "zaxis": {
            "backgroundcolor": "#E5ECF6",
            "gridcolor": "white",
            "gridwidth": 2,
            "linecolor": "white",
            "showbackground": true,
            "ticks": "",
            "zerolinecolor": "white"
           }
          },
          "shapedefaults": {
           "line": {
            "color": "#2a3f5f"
           }
          },
          "ternary": {
           "aaxis": {
            "gridcolor": "white",
            "linecolor": "white",
            "ticks": ""
           },
           "baxis": {
            "gridcolor": "white",
            "linecolor": "white",
            "ticks": ""
           },
           "bgcolor": "#E5ECF6",
           "caxis": {
            "gridcolor": "white",
            "linecolor": "white",
            "ticks": ""
           }
          },
          "title": {
           "x": 0.05
          },
          "xaxis": {
           "automargin": true,
           "gridcolor": "white",
           "linecolor": "white",
           "ticks": "",
           "title": {
            "standoff": 15
           },
           "zerolinecolor": "white",
           "zerolinewidth": 2
          },
          "yaxis": {
           "automargin": true,
           "gridcolor": "white",
           "linecolor": "white",
           "ticks": "",
           "title": {
            "standoff": 15
           },
           "zerolinecolor": "white",
           "zerolinewidth": 2
          }
         }
        },
        "title": {
         "text": "Political Party Influence on Opinion of Federal Election Voting Requirement"
        },
        "width": 1000,
        "xaxis": {
         "anchor": "y",
         "autorange": true,
         "domain": [
          0,
          1
         ],
         "range": [
          -0.5,
          5.5
         ],
         "title": {
          "text": "Political Lean"
         },
         "type": "category"
        },
        "yaxis": {
         "anchor": "x",
         "autorange": true,
         "domain": [
          0,
          1
         ],
         "range": [
          0,
          0.8421052631578948
         ],
         "tickformat": ".0%",
         "title": {
          "text": "Percent"
         },
         "type": "linear"
        }
       }
      },
      "image/png": "[encoded data removed]",
      "text/html": [
       "<div>                            <div id=\"da124952-8023-42f3-91ce-038f49ef4be8\" class=\"plotly-graph-div\" style=\"height:550px; width:1000px;\"></div>            <script type=\"text/javascript\">                require([\"plotly\"], function(Plotly) {                    window.PLOTLYENV=window.PLOTLYENV || {};                                    if (document.getElementById(\"da124952-8023-42f3-91ce-038f49ef4be8\")) {                    Plotly.newPlot(                        \"da124952-8023-42f3-91ce-038f49ef4be8\",                        [{\"alignmentgroup\":\"True\",\"hovertemplate\":\"Voting in federal\\nelections should be:=DK\\u002fREF\\u003cbr\\u003ePolitical Lean=%{x}\\u003cbr\\u003ePercent=%{y}\\u003cextra\\u003e\\u003c\\u002fextra\\u003e\",\"legendgroup\":\"DK\\u002fREF\",\"marker\":{\"color\":\"gray\",\"pattern\":{\"shape\":\"\"}},\"name\":\"DK\\u002fREF\",\"offsetgroup\":\"DK\\u002fREF\",\"orientation\":\"v\",\"showlegend\":true,\"textposition\":\"outside\",\"x\":[\"DK\\u002fREF\",\"Strong Conservative\",\"Not Very Strong Conservative\",\"Moderate\",\"Not Very Strong Liberal\",\"Strong Liberal\"],\"xaxis\":\"x\",\"y\":[0.11904761904761904,0.02717391304347826,0.06,0.03363914373088685,0.0,0.028037383177570093],\"yaxis\":\"y\",\"type\":\"bar\",\"texttemplate\":\"%{y:.0%}\"},{\"alignmentgroup\":\"True\",\"hovertemplate\":\"Voting in federal\\nelections should be:=Optional\\u003cbr\\u003ePolitical Lean=%{x}\\u003cbr\\u003ePercent=%{y}\\u003cextra\\u003e\\u003c\\u002fextra\\u003e\",\"legendgroup\":\"Optional\",\"marker\":{\"color\":\"orange\",\"pattern\":{\"shape\":\"\"}},\"name\":\"Optional\",\"offsetgroup\":\"Optional\",\"orientation\":\"v\",\"showlegend\":true,\"textposition\":\"outside\",\"x\":[\"DK\\u002fREF\",\"Strong Conservative\",\"Not Very Strong Conservative\",\"Moderate\",\"Not Very Strong Liberal\",\"Strong Liberal\"],\"xaxis\":\"x\",\"y\":[0.6785714285714286,0.7989130434782609,0.8,0.7308868501529052,0.6875,0.7009345794392523],\"yaxis\":\"y\",\"type\":\"bar\",\"texttemplate\":\"%{y:.0%}\"},{\"alignmentgroup\":\"True\",\"hovertemplate\":\"Voting in federal\\nelections should be:=Mandatory\\u003cbr\\u003ePolitical Lean=%{x}\\u003cbr\\u003ePercent=%{y}\\u003cextra\\u003e\\u003c\\u002fextra\\u003e\",\"legendgroup\":\"Mandatory\",\"marker\":{\"color\":\"teal\",\"pattern\":{\"shape\":\"\"}},\"name\":\"Mandatory\",\"offsetgroup\":\"Mandatory\",\"orientation\":\"v\",\"showlegend\":true,\"textposition\":\"outside\",\"x\":[\"DK\\u002fREF\",\"Strong Conservative\",\"Not Very Strong Conservative\",\"Moderate\",\"Not Very Strong Liberal\",\"Strong Liberal\"],\"xaxis\":\"x\",\"y\":[0.20238095238095238,0.17391304347826086,0.14,0.23547400611620795,0.3125,0.27102803738317754],\"yaxis\":\"y\",\"type\":\"bar\",\"texttemplate\":\"%{y:.0%}\"}],                        {\"template\":{\"data\":{\"histogram2dcontour\":[{\"type\":\"histogram2dcontour\",\"colorbar\":{\"outlinewidth\":0,\"ticks\":\"\"},\"colorscale\":[[0.0,\"#0d0887\"],[0.1111111111111111,\"#46039f\"],[0.2222222222222222,\"#7201a8\"],[0.3333333333333333,\"#9c179e\"],[0.4444444444444444,\"#bd3786\"],[0.5555555555555556,\"#d8576b\"],[0.6666666666666666,\"#ed7953\"],[0.7777777777777778,\"#fb9f3a\"],[0.8888888888888888,\"#fdca26\"],[1.0,\"#f0f921\"]]}],\"choropleth\":[{\"type\":\"choropleth\",\"colorbar\":{\"outlinewidth\":0,\"ticks\":\"\"}}],\"histogram2d\":[{\"type\":\"histogram2d\",\"colorbar\":{\"outlinewidth\":0,\"ticks\":\"\"},\"colorscale\":[[0.0,\"#0d0887\"],[0.1111111111111111,\"#46039f\"],[0.2222222222222222,\"#7201a8\"],[0.3333333333333333,\"#9c179e\"],[0.4444444444444444,\"#bd3786\"],[0.5555555555555556,\"#d8576b\"],[0.6666666666666666,\"#ed7953\"],[0.7777777777777778,\"#fb9f3a\"],[0.8888888888888888,\"#fdca26\"],[1.0,\"#f0f921\"]]}],\"heatmap\":[{\"type\":\"heatmap\",\"colorbar\":{\"outlinewidth\":0,\"ticks\":\"\"},\"colorscale\":[[0.0,\"#0d0887\"],[0.1111111111111111,\"#46039f\"],[0.2222222222222222,\"#7201a8\"],[0.3333333333333333,\"#9c179e\"],[0.4444444444444444,\"#bd3786\"],[0.5555555555555556,\"#d8576b\"],[0.6666666666666666,\"#ed7953\"],[0.7777777777777778,\"#fb9f3a\"],[0.8888888888888888,\"#fdca26\"],[1.0,\"#f0f921\"]]}],\"heatmapgl\":[{\"type\":\"heatmapgl\",\"colorbar\":{\"outlinewidth\":0,\"ticks\":\"\"},\"colorscale\":[[0.0,\"#0d0887\"],[0.1111111111111111,\"#46039f\"],[0.2222222222222222,\"#7201a8\"],[0.3333333333333333,\"#9c179e\"],[0.4444444444444444,\"#bd3786\"],[0.5555555555555556,\"#d8576b\"],[0.6666666666666666,\"#ed7953\"],[0.7777777777777778,\"#fb9f3a\"],[0.8888888888888888,\"#fdca26\"],[1.0,\"#f0f921\"]]}],\"contourcarpet\":[{\"type\":\"contourcarpet\",\"colorbar\":{\"outlinewidth\":0,\"ticks\":\"\"}}],\"contour\":[{\"type\":\"contour\",\"colorbar\":{\"outlinewidth\":0,\"ticks\":\"\"},\"colorscale\":[[0.0,\"#0d0887\"],[0.1111111111111111,\"#46039f\"],[0.2222222222222222,\"#7201a8\"],[0.3333333333333333,\"#9c179e\"],[0.4444444444444444,\"#bd3786\"],[0.5555555555555556,\"#d8576b\"],[0.6666666666666666,\"#ed7953\"],[0.7777777777777778,\"#fb9f3a\"],[0.8888888888888888,\"#fdca26\"],[1.0,\"#f0f921\"]]}],\"surface\":[{\"type\":\"surface\",\"colorbar\":{\"outlinewidth\":0,\"ticks\":\"\"},\"colorscale\":[[0.0,\"#0d0887\"],[0.1111111111111111,\"#46039f\"],[0.2222222222222222,\"#7201a8\"],[0.3333333333333333,\"#9c179e\"],[0.4444444444444444,\"#bd3786\"],[0.5555555555555556,\"#d8576b\"],[0.6666666666666666,\"#ed7953\"],[0.7777777777777778,\"#fb9f3a\"],[0.8888888888888888,\"#fdca26\"],[1.0,\"#f0f921\"]]}],\"mesh3d\":[{\"type\":\"mesh3d\",\"colorbar\":{\"outlinewidth\":0,\"ticks\":\"\"}}],\"scatter\":[{\"fillpattern\":{\"fillmode\":\"overlay\",\"size\":10,\"solidity\":0.2},\"type\":\"scatter\"}],\"parcoords\":[{\"type\":\"parcoords\",\"line\":{\"colorbar\":{\"outlinewidth\":0,\"ticks\":\"\"}}}],\"scatterpolargl\":[{\"type\":\"scatterpolargl\",\"marker\":{\"colorbar\":{\"outlinewidth\":0,\"ticks\":\"\"}}}],\"bar\":[{\"error_x\":{\"color\":\"#2a3f5f\"},\"error_y\":{\"color\":\"#2a3f5f\"},\"marker\":{\"line\":{\"color\":\"#E5ECF6\",\"width\":0.5},\"pattern\":{\"fillmode\":\"overlay\",\"size\":10,\"solidity\":0.2}},\"type\":\"bar\"}],\"scattergeo\":[{\"type\":\"scattergeo\",\"marker\":{\"colorbar\":{\"outlinewidth\":0,\"ticks\":\"\"}}}],\"scatterpolar\":[{\"type\":\"scatterpolar\",\"marker\":{\"colorbar\":{\"outlinewidth\":0,\"ticks\":\"\"}}}],\"histogram\":[{\"marker\":{\"pattern\":{\"fillmode\":\"overlay\",\"size\":10,\"solidity\":0.2}},\"type\":\"histogram\"}],\"scattergl\":[{\"type\":\"scattergl\",\"marker\":{\"colorbar\":{\"outlinewidth\":0,\"ticks\":\"\"}}}],\"scatter3d\":[{\"type\":\"scatter3d\",\"line\":{\"colorbar\":{\"outlinewidth\":0,\"ticks\":\"\"}},\"marker\":{\"colorbar\":{\"outlinewidth\":0,\"ticks\":\"\"}}}],\"scattermapbox\":[{\"type\":\"scattermapbox\",\"marker\":{\"colorbar\":{\"outlinewidth\":0,\"ticks\":\"\"}}}],\"scatterternary\":[{\"type\":\"scatterternary\",\"marker\":{\"colorbar\":{\"outlinewidth\":0,\"ticks\":\"\"}}}],\"scattercarpet\":[{\"type\":\"scattercarpet\",\"marker\":{\"colorbar\":{\"outlinewidth\":0,\"ticks\":\"\"}}}],\"carpet\":[{\"aaxis\":{\"endlinecolor\":\"#2a3f5f\",\"gridcolor\":\"white\",\"linecolor\":\"white\",\"minorgridcolor\":\"white\",\"startlinecolor\":\"#2a3f5f\"},\"baxis\":{\"endlinecolor\":\"#2a3f5f\",\"gridcolor\":\"white\",\"linecolor\":\"white\",\"minorgridcolor\":\"white\",\"startlinecolor\":\"#2a3f5f\"},\"type\":\"carpet\"}],\"table\":[{\"cells\":{\"fill\":{\"color\":\"#EBF0F8\"},\"line\":{\"color\":\"white\"}},\"header\":{\"fill\":{\"color\":\"#C8D4E3\"},\"line\":{\"color\":\"white\"}},\"type\":\"table\"}],\"barpolar\":[{\"marker\":{\"line\":{\"color\":\"#E5ECF6\",\"width\":0.5},\"pattern\":{\"fillmode\":\"overlay\",\"size\":10,\"solidity\":0.2}},\"type\":\"barpolar\"}],\"pie\":[{\"automargin\":true,\"type\":\"pie\"}]},\"layout\":{\"autotypenumbers\":\"strict\",\"colorway\":[\"#636efa\",\"#EF553B\",\"#00cc96\",\"#ab63fa\",\"#FFA15A\",\"#19d3f3\",\"#FF6692\",\"#B6E880\",\"#FF97FF\",\"#FECB52\"],\"font\":{\"color\":\"#2a3f5f\"},\"hovermode\":\"closest\",\"hoverlabel\":{\"align\":\"left\"},\"paper_bgcolor\":\"white\",\"plot_bgcolor\":\"#E5ECF6\",\"polar\":{\"bgcolor\":\"#E5ECF6\",\"angularaxis\":{\"gridcolor\":\"white\",\"linecolor\":\"white\",\"ticks\":\"\"},\"radialaxis\":{\"gridcolor\":\"white\",\"linecolor\":\"white\",\"ticks\":\"\"}},\"ternary\":{\"bgcolor\":\"#E5ECF6\",\"aaxis\":{\"gridcolor\":\"white\",\"linecolor\":\"white\",\"ticks\":\"\"},\"baxis\":{\"gridcolor\":\"white\",\"linecolor\":\"white\",\"ticks\":\"\"},\"caxis\":{\"gridcolor\":\"white\",\"linecolor\":\"white\",\"ticks\":\"\"}},\"coloraxis\":{\"colorbar\":{\"outlinewidth\":0,\"ticks\":\"\"}},\"colorscale\":{\"sequential\":[[0.0,\"#0d0887\"],[0.1111111111111111,\"#46039f\"],[0.2222222222222222,\"#7201a8\"],[0.3333333333333333,\"#9c179e\"],[0.4444444444444444,\"#bd3786\"],[0.5555555555555556,\"#d8576b\"],[0.6666666666666666,\"#ed7953\"],[0.7777777777777778,\"#fb9f3a\"],[0.8888888888888888,\"#fdca26\"],[1.0,\"#f0f921\"]],\"sequentialminus\":[[0.0,\"#0d0887\"],[0.1111111111111111,\"#46039f\"],[0.2222222222222222,\"#7201a8\"],[0.3333333333333333,\"#9c179e\"],[0.4444444444444444,\"#bd3786\"],[0.5555555555555556,\"#d8576b\"],[0.6666666666666666,\"#ed7953\"],[0.7777777777777778,\"#fb9f3a\"],[0.8888888888888888,\"#fdca26\"],[1.0,\"#f0f921\"]],\"diverging\":[[0,\"#8e0152\"],[0.1,\"#c51b7d\"],[0.2,\"#de77ae\"],[0.3,\"#f1b6da\"],[0.4,\"#fde0ef\"],[0.5,\"#f7f7f7\"],[0.6,\"#e6f5d0\"],[0.7,\"#b8e186\"],[0.8,\"#7fbc41\"],[0.9,\"#4d9221\"],[1,\"#276419\"]]},\"xaxis\":{\"gridcolor\":\"white\",\"linecolor\":\"white\",\"ticks\":\"\",\"title\":{\"standoff\":15},\"zerolinecolor\":\"white\",\"automargin\":true,\"zerolinewidth\":2},\"yaxis\":{\"gridcolor\":\"white\",\"linecolor\":\"white\",\"ticks\":\"\",\"title\":{\"standoff\":15},\"zerolinecolor\":\"white\",\"automargin\":true,\"zerolinewidth\":2},\"scene\":{\"xaxis\":{\"backgroundcolor\":\"#E5ECF6\",\"gridcolor\":\"white\",\"linecolor\":\"white\",\"showbackground\":true,\"ticks\":\"\",\"zerolinecolor\":\"white\",\"gridwidth\":2},\"yaxis\":{\"backgroundcolor\":\"#E5ECF6\",\"gridcolor\":\"white\",\"linecolor\":\"white\",\"showbackground\":true,\"ticks\":\"\",\"zerolinecolor\":\"white\",\"gridwidth\":2},\"zaxis\":{\"backgroundcolor\":\"#E5ECF6\",\"gridcolor\":\"white\",\"linecolor\":\"white\",\"showbackground\":true,\"ticks\":\"\",\"zerolinecolor\":\"white\",\"gridwidth\":2}},\"shapedefaults\":{\"line\":{\"color\":\"#2a3f5f\"}},\"annotationdefaults\":{\"arrowcolor\":\"#2a3f5f\",\"arrowhead\":0,\"arrowwidth\":1},\"geo\":{\"bgcolor\":\"white\",\"landcolor\":\"#E5ECF6\",\"subunitcolor\":\"white\",\"showland\":true,\"showlakes\":true,\"lakecolor\":\"white\"},\"title\":{\"x\":0.05},\"mapbox\":{\"style\":\"light\"}}},\"xaxis\":{\"anchor\":\"y\",\"domain\":[0.0,1.0],\"title\":{\"text\":\"Political Lean\"}},\"yaxis\":{\"anchor\":\"x\",\"domain\":[0.0,1.0],\"title\":{\"text\":\"Percent\"},\"tickformat\":\".0%\"},\"legend\":{\"title\":{\"text\":\"Voting in federal\\nelections should be:\"},\"tracegroupgap\":0},\"title\":{\"text\":\"Political Party Influence on Opinion of Federal Election Voting Requirement\"},\"barmode\":\"group\",\"height\":550,\"width\":1000},                        {\"responsive\": true}                    ).then(function(){\n",
       "                            \n",
       "var gd = document.getElementById('da124952-8023-42f3-91ce-038f49ef4be8');\n",
       "var x = new MutationObserver(function (mutations, observer) {{\n",
       "        var display = window.getComputedStyle(gd).display;\n",
       "        if (!display || display === 'none') {{\n",
       "            console.log([gd, 'removed!']);\n",
       "            Plotly.purge(gd);\n",
       "            observer.disconnect();\n",
       "        }}\n",
       "}});\n",
       "\n",
       "// Listen for the removal of the full notebook cells\n",
       "var notebookContainer = gd.closest('#notebook-container');\n",
       "if (notebookContainer) {{\n",
       "    x.observe(notebookContainer, {childList: true});\n",
       "}}\n",
       "\n",
       "// Listen for the clearing of the current output cell\n",
       "var outputEl = gd.closest('.output');\n",
       "if (outputEl) {{\n",
       "    x.observe(outputEl, {childList: true});\n",
       "}}\n",
       "\n",
       "                        })                };                });            </script>        </div>"
      ]
     },
     "metadata": {},
     "output_type": "display_data"
    }
   ],
   "source": [
    "fig = px.bar(election_proportions, y= election_proportions.columns, x = election_proportions.index, \n",
    "                # orientation = 'h', # uncomment this line for a horizontal plot\n",
    "                \n",
    "                # x and y axis labels as a key:value dictionary\n",
    "                 labels={\"political_leaning_categorical\": \"Political Lean\",\n",
    "                         \"value\": \"Percent\", \n",
    "                         \"mandatory_election_categorical\" : 'Voting in federal\\nelections should be:'},\n",
    "                 barmode='group',\n",
    "                 width = 1000,\n",
    "                 height = 550,\n",
    "                 # manually setting a color map for the bars\n",
    "                 color_discrete_sequence=['gray', 'orange', 'teal'],\n",
    "                 title=\"Political Party Influence on Opinion of Federal Election Voting Requirement\",\n",
    "                 \n",
    "            \n",
    "            )\n",
    "# add % labels over each bar\n",
    "fig.update_traces(texttemplate='%{y:.0%}', textposition='outside')\n",
    "# make the y axis formatted as %\n",
    "fig.update_layout(yaxis_tickformat = '.0%')\n",
    "fig.show()"
   ]
  },
  {
   "cell_type": "markdown",
   "id": "03025911-dc8d-4841-9728-c4f391fecc59",
   "metadata": {},
   "source": [
    "### 2) What is the relationship between age and agreeing or disagreeing with the statement that \"people need to have more respect for authority in this country\"?\n",
    "\n",
    "As with the previous example, its a good idea to reorder the categories first:\n"
   ]
  },
  {
   "cell_type": "code",
   "execution_count": 23,
   "id": "a96c191d-ca16-45d1-9cb8-200cea605802",
   "metadata": {},
   "outputs": [
    {
     "data": {
      "text/plain": [
       "respect_for_authority\n",
       "DK/REF                68\n",
       "Somewhat Agree       176\n",
       "Somewhat Disagree     90\n",
       "Strongly Agree       415\n",
       "Strongly Disagree     51\n",
       "Name: count, dtype: int64"
      ]
     },
     "execution_count": 23,
     "metadata": {},
     "output_type": "execute_result"
    }
   ],
   "source": [
    "df.respect_for_authority.value_counts().sort_index()"
   ]
  },
  {
   "cell_type": "code",
   "execution_count": 24,
   "id": "d0c24362-7e7e-400a-b74d-b29240a15d95",
   "metadata": {},
   "outputs": [],
   "source": [
    "agree_ordering = ['DK/REF','Strongly Disagree', 'Somewhat Disagree', 'Somewhat Agree', 'Strongly Agree']\n",
    "\n",
    "df['respect_for_authority_cat'] =  pd.Categorical(df['respect_for_authority'], categories = agree_ordering)"
   ]
  },
  {
   "cell_type": "code",
   "execution_count": 25,
   "id": "4cc986eb-604c-4c5d-9f18-7e919c39b5be",
   "metadata": {},
   "outputs": [
    {
     "data": {
      "text/plain": [
       "respect_for_authority_cat\n",
       "DK/REF                68\n",
       "Strongly Disagree     51\n",
       "Somewhat Disagree     90\n",
       "Somewhat Agree       176\n",
       "Strongly Agree       415\n",
       "Name: count, dtype: int64"
      ]
     },
     "execution_count": 25,
     "metadata": {},
     "output_type": "execute_result"
    }
   ],
   "source": [
    "df.respect_for_authority_cat.value_counts().sort_index()"
   ]
  },
  {
   "cell_type": "markdown",
   "id": "caccec25-3d61-4746-a712-250a9d0dc669",
   "metadata": {},
   "source": [
    "#### Using a categorical measure of age\n",
    "\n",
    "We have two options here: would use the `age_range` variable to make a categorical-by-categorical comparison, or we could just use the numeric `age` to compare ages across different responses to the respect for authority question. We'll start with looking at the categorical version. "
   ]
  },
  {
   "cell_type": "code",
   "execution_count": 59,
   "id": "0d4c07a3-62c7-4b0a-b934-b2482f22a481",
   "metadata": {},
   "outputs": [
    {
     "data": {
      "text/plain": [
       "age_cat\n",
       "18-24     30\n",
       "25-34     44\n",
       "35-44     71\n",
       "45-54    121\n",
       "55-64    159\n",
       "65+      375\n",
       "Name: count, dtype: int64"
      ]
     },
     "execution_count": 59,
     "metadata": {},
     "output_type": "execute_result"
    }
   ],
   "source": [
    "# double-check the ordering (in this case the original was actually fine, but I'm including still because its good practice)\n",
    "age_ordering = ['18-24', '25-34', '35-44', '45-54', '55-64', '65+']\n",
    "df['age_cat'] =  pd.Categorical(df['age_range'], categories = age_ordering)\n",
    "df.age_cat.value_counts().sort_index()\n",
    "\n",
    "\n",
    "\n"
   ]
  },
  {
   "cell_type": "code",
   "execution_count": 60,
   "id": "1d76e8bb-9876-40ab-be8f-80bad28bacb6",
   "metadata": {},
   "outputs": [
    {
     "data": {
      "text/html": [
       "<div>\n",
       "<style scoped>\n",
       "    .dataframe tbody tr th:only-of-type {\n",
       "        vertical-align: middle;\n",
       "    }\n",
       "\n",
       "    .dataframe tbody tr th {\n",
       "        vertical-align: top;\n",
       "    }\n",
       "\n",
       "    .dataframe thead th {\n",
       "        text-align: right;\n",
       "    }\n",
       "</style>\n",
       "<table border=\"1\" class=\"dataframe\">\n",
       "  <thead>\n",
       "    <tr style=\"text-align: right;\">\n",
       "      <th>respect_for_authority_cat</th>\n",
       "      <th>DK/REF</th>\n",
       "      <th>Strongly Disagree</th>\n",
       "      <th>Somewhat Disagree</th>\n",
       "      <th>Somewhat Agree</th>\n",
       "      <th>Strongly Agree</th>\n",
       "    </tr>\n",
       "    <tr>\n",
       "      <th>age_cat</th>\n",
       "      <th></th>\n",
       "      <th></th>\n",
       "      <th></th>\n",
       "      <th></th>\n",
       "      <th></th>\n",
       "    </tr>\n",
       "  </thead>\n",
       "  <tbody>\n",
       "    <tr>\n",
       "      <th>18-24</th>\n",
       "      <td>0.033333</td>\n",
       "      <td>0.033333</td>\n",
       "      <td>0.233333</td>\n",
       "      <td>0.400000</td>\n",
       "      <td>0.300000</td>\n",
       "    </tr>\n",
       "    <tr>\n",
       "      <th>25-34</th>\n",
       "      <td>0.090909</td>\n",
       "      <td>0.136364</td>\n",
       "      <td>0.181818</td>\n",
       "      <td>0.295455</td>\n",
       "      <td>0.295455</td>\n",
       "    </tr>\n",
       "    <tr>\n",
       "      <th>35-44</th>\n",
       "      <td>0.056338</td>\n",
       "      <td>0.084507</td>\n",
       "      <td>0.183099</td>\n",
       "      <td>0.366197</td>\n",
       "      <td>0.309859</td>\n",
       "    </tr>\n",
       "    <tr>\n",
       "      <th>45-54</th>\n",
       "      <td>0.049587</td>\n",
       "      <td>0.066116</td>\n",
       "      <td>0.132231</td>\n",
       "      <td>0.198347</td>\n",
       "      <td>0.553719</td>\n",
       "    </tr>\n",
       "    <tr>\n",
       "      <th>55-64</th>\n",
       "      <td>0.088050</td>\n",
       "      <td>0.069182</td>\n",
       "      <td>0.081761</td>\n",
       "      <td>0.188679</td>\n",
       "      <td>0.572327</td>\n",
       "    </tr>\n",
       "    <tr>\n",
       "      <th>65+</th>\n",
       "      <td>0.104000</td>\n",
       "      <td>0.050667</td>\n",
       "      <td>0.088000</td>\n",
       "      <td>0.189333</td>\n",
       "      <td>0.568000</td>\n",
       "    </tr>\n",
       "  </tbody>\n",
       "</table>\n",
       "</div>"
      ],
      "text/plain": [
       "respect_for_authority_cat    DK/REF  Strongly Disagree  Somewhat Disagree  \\\n",
       "age_cat                                                                     \n",
       "18-24                      0.033333           0.033333           0.233333   \n",
       "25-34                      0.090909           0.136364           0.181818   \n",
       "35-44                      0.056338           0.084507           0.183099   \n",
       "45-54                      0.049587           0.066116           0.132231   \n",
       "55-64                      0.088050           0.069182           0.081761   \n",
       "65+                        0.104000           0.050667           0.088000   \n",
       "\n",
       "respect_for_authority_cat  Somewhat Agree  Strongly Agree  \n",
       "age_cat                                                    \n",
       "18-24                            0.400000        0.300000  \n",
       "25-34                            0.295455        0.295455  \n",
       "35-44                            0.366197        0.309859  \n",
       "45-54                            0.198347        0.553719  \n",
       "55-64                            0.188679        0.572327  \n",
       "65+                              0.189333        0.568000  "
      ]
     },
     "execution_count": 60,
     "metadata": {},
     "output_type": "execute_result"
    }
   ],
   "source": [
    "resp_auth_prop  = pd.crosstab(df['age_cat'], df['respect_for_authority_cat'], normalize='index')\n",
    "resp_auth_prop"
   ]
  },
  {
   "cell_type": "code",
   "execution_count": 61,
   "id": "e5b4d194-9716-4661-83de-b24a96f75501",
   "metadata": {},
   "outputs": [
    {
     "data": {
      "image/png": "[encoded data removed]",
      "text/plain": [
       "<Figure size 800x500 with 1 Axes>"
      ]
     },
     "metadata": {},
     "output_type": "display_data"
    }
   ],
   "source": [
    "ax = resp_auth_prop.plot(stacked=False, # change to true for a stacked bar plot\n",
    "                               kind='bar',\n",
    "                               xlabel=\"Percentage\",\n",
    "                               ylabel = 'Political Leaning',\n",
    "                               title = 'Support for mandatory voting by self-described political leaning',\n",
    "                               figsize=(8,5)\n",
    "                              )\n",
    "plt.legend( \n",
    "    title = 'People should have more respect for authority', # a legend title\n",
    "    loc='center left',   # relative location of the legend\n",
    "    bbox_to_anchor=[.5, 1.4] # offset from tbhe plot (allows us to put the legend outside of the plotting space)\n",
    "          ) \n",
    "# formatting the axes as percentages\n",
    "ax.yaxis.set_major_formatter(mtick.PercentFormatter(1.0))\n",
    "plt.show()"
   ]
  },
  {
   "cell_type": "markdown",
   "id": "471a01ab-dd45-43f4-bfdc-27f8eb598322",
   "metadata": {},
   "source": [
    "#### Using a continuous measure of age\n",
    "Since we have a continuous variable (age) and a categorical variable (respect for authority) a good option is to use a boxplot: "
   ]
  },
  {
   "cell_type": "code",
   "execution_count": 62,
   "id": "6d78feb9-8069-4919-a778-d8f0fb0cf9cf",
   "metadata": {},
   "outputs": [
    {
     "data": {
      "image/png": "[encoded data removed]",
      "text/plain": [
       "<Figure size 1000x500 with 1 Axes>"
      ]
     },
     "metadata": {},
     "output_type": "display_data"
    }
   ],
   "source": [
    "plot = df.boxplot('age', by='respect_for_authority_cat', \n",
    "                 figsize=(10,5 ),\n",
    "                  xlabel=\"Agree/Disagree: people should have more respect for authority in this country\",\n",
    "                  ylabel = 'Age',\n",
    "                  \n",
    "                  grid=False # turn off graphic grid\n",
    " \n",
    "                 )\n",
    "plt.suptitle('') # remove default subtitle \n",
    "plot.set_title(\"Distribution of age by respect for authority\") # add descriptive title\n",
    "plt.show()\n"
   ]
  },
  {
   "cell_type": "markdown",
   "id": "3eb844f5-e40f-4cc2-b818-7acc50cf98b7",
   "metadata": {},
   "source": [
    "Another option would be to create a violin plot using Seaborn. Violin plots combine a kernel density plot with a box plot: "
   ]
  },
  {
   "cell_type": "code",
   "execution_count": 63,
   "id": "4d841326-5521-4fac-803b-f9189d1b79fc",
   "metadata": {},
   "outputs": [
    {
     "data": {
      "image/png": "[encoded data removed]",
      "text/plain": [
       "<Figure size 1000x500 with 1 Axes>"
      ]
     },
     "metadata": {},
     "output_type": "display_data"
    }
   ],
   "source": [
    "f, ax = plt.subplots(figsize=(10, 5))\n",
    "sns.violinplot(data=df, y='age', x='respect_for_authority_cat', color='red',  \n",
    "               # split avoids drawing the mirror image of each density plot\n",
    "               split=True)\n",
    "ax.set(ylabel = 'Age', xlabel=\"Agree/Disagree: people should have more respect for authority in this country\", \n",
    "      title = \"Distribution of age by respect for authority\"\n",
    "      )\n",
    "\n",
    "plt.show()"
   ]
  },
  {
   "cell_type": "markdown",
   "id": "f177252f-b4c5-4da3-a228-e59c91647248",
   "metadata": {},
   "source": [
    "### **MD Anxiety**\n"
   ]
  },
  {
   "cell_type": "markdown",
   "id": "b8c3c31a-b7fc-46c9-befb-12b5d590e5dd",
   "metadata": {},
   "source": [
    "\n",
    "#### 1) What are the overall trends for Montgomery County and Prince George's County in the levels of anxiety over time? Are there any specific periods of time where it looks like anxiety was particularly high in either or both counties? Use a line plot to answer this question.\n",
    "\n",
    "While not strictly required, I might also want to use abbreviated date labels in my plot. There's only 1 year worth of data here, and so including the entire 4 digit year on the tick marks is kind of redundant. I can convert the `day` column to Month Day format using the code below: \n"
   ]
  },
  {
   "cell_type": "code",
   "execution_count": 64,
   "id": "95bb1442-38a3-4ffd-8f16-a69f308e929e",
   "metadata": {},
   "outputs": [
    {
     "data": {
      "text/html": [
       "<div>\n",
       "<style scoped>\n",
       "    .dataframe tbody tr th:only-of-type {\n",
       "        vertical-align: middle;\n",
       "    }\n",
       "\n",
       "    .dataframe tbody tr th {\n",
       "        vertical-align: top;\n",
       "    }\n",
       "\n",
       "    .dataframe thead th {\n",
       "        text-align: right;\n",
       "    }\n",
       "</style>\n",
       "<table border=\"1\" class=\"dataframe\">\n",
       "  <thead>\n",
       "    <tr style=\"text-align: right;\">\n",
       "      <th></th>\n",
       "      <th>NAME</th>\n",
       "      <th>day</th>\n",
       "      <th>percent_anxious</th>\n",
       "      <th>days_format</th>\n",
       "    </tr>\n",
       "  </thead>\n",
       "  <tbody>\n",
       "    <tr>\n",
       "      <th>0</th>\n",
       "      <td>Anne Arundel County, Maryland</td>\n",
       "      <td>2022-05-19</td>\n",
       "      <td>14.799449</td>\n",
       "      <td>May 19</td>\n",
       "    </tr>\n",
       "    <tr>\n",
       "      <th>1</th>\n",
       "      <td>Baltimore County, Maryland</td>\n",
       "      <td>2022-05-01</td>\n",
       "      <td>15.635284</td>\n",
       "      <td>May 01</td>\n",
       "    </tr>\n",
       "    <tr>\n",
       "      <th>2</th>\n",
       "      <td>Baltimore County, Maryland</td>\n",
       "      <td>2022-05-03</td>\n",
       "      <td>12.912819</td>\n",
       "      <td>May 03</td>\n",
       "    </tr>\n",
       "    <tr>\n",
       "      <th>3</th>\n",
       "      <td>Baltimore County, Maryland</td>\n",
       "      <td>2022-05-04</td>\n",
       "      <td>14.203134</td>\n",
       "      <td>May 04</td>\n",
       "    </tr>\n",
       "    <tr>\n",
       "      <th>4</th>\n",
       "      <td>Baltimore County, Maryland</td>\n",
       "      <td>2022-05-05</td>\n",
       "      <td>16.371993</td>\n",
       "      <td>May 05</td>\n",
       "    </tr>\n",
       "  </tbody>\n",
       "</table>\n",
       "</div>"
      ],
      "text/plain": [
       "                            NAME         day  percent_anxious days_format\n",
       "0  Anne Arundel County, Maryland  2022-05-19        14.799449      May 19\n",
       "1     Baltimore County, Maryland  2022-05-01        15.635284      May 01\n",
       "2     Baltimore County, Maryland  2022-05-03        12.912819      May 03\n",
       "3     Baltimore County, Maryland  2022-05-04        14.203134      May 04\n",
       "4     Baltimore County, Maryland  2022-05-05        16.371993      May 05"
      ]
     },
     "execution_count": 64,
     "metadata": {},
     "output_type": "execute_result"
    }
   ],
   "source": [
    "# If you wanted abbreviated dates, consider using: \n",
    "days = pd.to_datetime(md_anxiety['day'])\n",
    "md_anxiety['days_format'] =  days.dt.strftime(\"%b %d\") \n",
    "# read more about strftime formatting marks here https://docs.python.org/3/library/time.html#time.strftime\n",
    "# look at the new formatting\n",
    "md_anxiety.head()"
   ]
  },
  {
   "cell_type": "markdown",
   "id": "8296a0a8-066c-49e8-bd35-11b47582b43e",
   "metadata": {},
   "source": [
    "Next, I'll make a subset of the data to include just Montgomery and PG county:"
   ]
  },
  {
   "cell_type": "code",
   "execution_count": 65,
   "id": "318a6f63-c481-41f2-a267-613b0fc028c7",
   "metadata": {},
   "outputs": [
    {
     "data": {
      "text/plain": [
       "NAME\n",
       "Montgomery County, Maryland         56\n",
       "Prince George's County, Maryland    56\n",
       "Name: count, dtype: int64"
      ]
     },
     "execution_count": 65,
     "metadata": {},
     "output_type": "execute_result"
    }
   ],
   "source": [
    "mocopg = [\"Montgomery County, Maryland\", \"Prince George's County, Maryland\"]\n",
    "mc_pg = md_anxiety.loc[md_anxiety['NAME'].isin(mocopg)]\n",
    "# just confirming we've correctly subsetted our data:\n",
    "mc_pg.value_counts('NAME')"
   ]
  },
  {
   "cell_type": "code",
   "execution_count": 66,
   "id": "04b9b202-b418-4a8b-9b82-21f5edc0287b",
   "metadata": {},
   "outputs": [
    {
     "data": {
      "text/plain": [
       "45     May 01\n",
       "46     May 02\n",
       "47     May 03\n",
       "48     May 04\n",
       "49     May 05\n",
       "        ...  \n",
       "152    Jun 21\n",
       "153    Jun 22\n",
       "154    Jun 23\n",
       "155    Jun 24\n",
       "156    Jun 25\n",
       "Name: days_format, Length: 112, dtype: object"
      ]
     },
     "execution_count": 66,
     "metadata": {},
     "output_type": "execute_result"
    }
   ],
   "source": [
    "mc_pg.days_format"
   ]
  },
  {
   "cell_type": "markdown",
   "id": "ea6f2607-280b-44a1-b2aa-c3d10f94a73e",
   "metadata": {},
   "source": [
    "#### Using Matplot"
   ]
  },
  {
   "cell_type": "markdown",
   "id": "9da20002-6cbc-4259-b999-78e919c38787",
   "metadata": {},
   "source": [
    "Finally, I'll create my lineplot. We can use either Matplot or Seaborn here, but Seaborn allows us to create two lines without having to do any additional reshaping of the data, so it saves us a step. I'll also use the `AutoDateLocator` function to space my axis labels out a little further. (try commenting this line out to see the difference)"
   ]
  },
  {
   "cell_type": "code",
   "execution_count": 69,
   "id": "e972a26a-cfc0-4be4-9ec7-7c9f1b3b8050",
   "metadata": {},
   "outputs": [
    {
     "data": {
      "image/png": "[encoded data removed]",
      "text/plain": [
       "<Figure size 1500x500 with 1 Axes>"
      ]
     },
     "metadata": {},
     "output_type": "display_data"
    }
   ],
   "source": [
    "import matplotlib.dates as mdates # date axis formatting functions \n",
    "f, ax = plt.subplots(figsize=(15, 5))\n",
    "sns.lineplot(data=mc_pg, \n",
    "             x='days_format', \n",
    "             y='percent_anxious', \n",
    "             hue='NAME',\n",
    "             # adding a color mapping (hex codes from: https://en.wikipedia.org/wiki/Flag_of_Maryland#Color_scheme)\n",
    "             palette = {\n",
    "                 \"Montgomery County, Maryland\":'#EBAC00', \n",
    "                 \"Prince George's County, Maryland\":'#9E1D32'\n",
    "             }\n",
    "            )\n",
    "\n",
    "# setting automatic date tick marks for a less crowded plotting space\n",
    "ax.xaxis.set_major_locator(mdates.AutoDateLocator())\n",
    "ax.set(xlabel='Day', ylabel='Percent Anxious', \n",
    "       title ='Reported daily anxiety\\n(May through June 2022)')\n",
    "# adding a descriptive legend title\n",
    "plt.legend( \n",
    "    title = 'County')\n",
    "plt.show()"
   ]
  },
  {
   "cell_type": "markdown",
   "id": "f1cd3525-87f0-4251-980e-be2c7c4c5096",
   "metadata": {},
   "source": [
    "#### Using Plotly\n",
    "\n",
    "Or we could use plotly to make an interactive plot here. Plotly is already fairly smart about how it creates tick marks, so we can just pass the original `day` column as our x-axis. You can hover over a point on this plot to see the exact % of anxiety reported on each day "
   ]
  },
  {
   "cell_type": "code",
   "execution_count": 71,
   "id": "c61df870-badd-4b81-bdb1-d3b5519dbf73",
   "metadata": {},
   "outputs": [
    {
     "data": {
      "application/vnd.plotly.v1+json": {
       "config": {
        "plotlyServerURL": "https://plot.ly"
       },
       "data": [
        {
         "hovertemplate": "%{y:.2r}%",
         "legendgroup": "Montgomery County, Maryland",
         "line": {
          "color": "#636efa",
          "dash": "solid"
         },
         "marker": {
          "symbol": "circle"
         },
         "mode": "markers+lines",
         "name": "Montgomery County, Maryland",
         "orientation": "v",
         "showlegend": true,
         "type": "scatter",
         "x": [
          "2022-05-01",
          "2022-05-02",
          "2022-05-03",
          "2022-05-04",
          "2022-05-05",
          "2022-05-06",
          "2022-05-07",
          "2022-05-08",
          "2022-05-09",
          "2022-05-10",
          "2022-05-11",
          "2022-05-12",
          "2022-05-13",
          "2022-05-14",
          "2022-05-15",
          "2022-05-16",
          "2022-05-17",
          "2022-05-18",
          "2022-05-19",
          "2022-05-20",
          "2022-05-21",
          "2022-05-22",
          "2022-05-23",
          "2022-05-24",
          "2022-05-25",
          "2022-05-26",
          "2022-05-27",
          "2022-05-28",
          "2022-05-29",
          "2022-05-30",
          "2022-05-31",
          "2022-06-01",
          "2022-06-02",
          "2022-06-03",
          "2022-06-04",
          "2022-06-05",
          "2022-06-06",
          "2022-06-07",
          "2022-06-08",
          "2022-06-09",
          "2022-06-10",
          "2022-06-11",
          "2022-06-12",
          "2022-06-13",
          "2022-06-14",
          "2022-06-15",
          "2022-06-16",
          "2022-06-17",
          "2022-06-18",
          "2022-06-19",
          "2022-06-20",
          "2022-06-21",
          "2022-06-22",
          "2022-06-23",
          "2022-06-24",
          "2022-06-25"
         ],
         "xaxis": "x",
         "y": [
          12.6574843,
          10.7456872,
          11.0725916,
          10.6491868,
          10.5550677,
          10.2479464,
          9.3612245,
          9.4934489,
          11.4087009,
          10.7822305,
          11.5641634,
          13.1024363,
          12.4875998,
          11.3453694,
          9.601428,
          8.5616603,
          9.648357,
          9.6501321,
          13.0386274,
          15.0836905,
          19.0852016,
          19.5446981,
          19.2598677,
          16.5216379,
          18.0246491,
          12.4636068,
          13.4644162,
          9.7884552,
          7.9047444,
          7.9577321,
          9.1544336,
          8.6959183,
          9.6364421,
          6.7274253,
          7.8447261,
          8.2330063,
          6.8439045,
          7.4865565,
          7.9095611,
          7.7613229,
          8.4366582,
          6.9992568,
          8.4059026,
          9.568804,
          8.5060078,
          7.3717054,
          7.2272394,
          7.0550456,
          7.4648099,
          7.5498234,
          6.8608761,
          6.71015,
          9.7833424,
          9.7383998,
          10.9020529,
          14.4443031
         ],
         "yaxis": "y"
        },
        {
         "hovertemplate": "%{y:.2r}%",
         "legendgroup": "Prince George's County, Maryland",
         "line": {
          "color": "#EF553B",
          "dash": "solid"
         },
         "marker": {
          "symbol": "circle"
         },
         "mode": "markers+lines",
         "name": "Prince George's County, Maryland",
         "orientation": "v",
         "showlegend": true,
         "type": "scatter",
         "x": [
          "2022-05-01",
          "2022-05-02",
          "2022-05-03",
          "2022-05-04",
          "2022-05-05",
          "2022-05-06",
          "2022-05-07",
          "2022-05-08",
          "2022-05-09",
          "2022-05-10",
          "2022-05-11",
          "2022-05-12",
          "2022-05-13",
          "2022-05-14",
          "2022-05-15",
          "2022-05-16",
          "2022-05-17",
          "2022-05-18",
          "2022-05-19",
          "2022-05-20",
          "2022-05-21",
          "2022-05-22",
          "2022-05-23",
          "2022-05-24",
          "2022-05-25",
          "2022-05-26",
          "2022-05-27",
          "2022-05-28",
          "2022-05-29",
          "2022-05-30",
          "2022-05-31",
          "2022-06-01",
          "2022-06-02",
          "2022-06-03",
          "2022-06-04",
          "2022-06-05",
          "2022-06-06",
          "2022-06-07",
          "2022-06-08",
          "2022-06-09",
          "2022-06-10",
          "2022-06-11",
          "2022-06-12",
          "2022-06-13",
          "2022-06-14",
          "2022-06-15",
          "2022-06-16",
          "2022-06-17",
          "2022-06-18",
          "2022-06-19",
          "2022-06-20",
          "2022-06-21",
          "2022-06-22",
          "2022-06-23",
          "2022-06-24",
          "2022-06-25"
         ],
         "xaxis": "x",
         "y": [
          18.9313865,
          15.8663174,
          16.6748679,
          12.4852756,
          10.4498774,
          10.3244547,
          9.6603805,
          9.2577581,
          8.6686164,
          7.354569,
          10.637628,
          10.8472691,
          15.4042694,
          15.2589565,
          15.4264995,
          16.4651647,
          18.4167249,
          14.191697,
          15.66938,
          13.8218847,
          14.65973,
          14.6768367,
          16.3064427,
          17.7249185,
          16.5455734,
          16.2560998,
          15.363003,
          14.1823105,
          14.5057703,
          14.0459994,
          11.006258,
          18.1119522,
          16.9079308,
          14.1164854,
          16.2508105,
          14.7416011,
          13.5964521,
          17.1913825,
          10.1308206,
          11.5027576,
          13.5400342,
          11.1275789,
          12.7871825,
          13.4498492,
          12.0061846,
          11.3936217,
          12.0534358,
          9.8035146,
          9.9115632,
          7.6711768,
          8.30599,
          11.4700425,
          12.1654754,
          12.6708899,
          13.9175317,
          14.1833231
         ],
         "yaxis": "y"
        }
       ],
       "layout": {
        "height": 400,
        "hovermode": "x unified",
        "legend": {
         "title": {
          "text": "County"
         },
         "tracegroupgap": 0
        },
        "template": {
         "data": {
          "bar": [
           {
            "error_x": {
             "color": "#2a3f5f"
            },
            "error_y": {
             "color": "#2a3f5f"
            },
            "marker": {
             "line": {
              "color": "#E5ECF6",
              "width": 0.5
             },
             "pattern": {
              "fillmode": "overlay",
              "size": 10,
              "solidity": 0.2
             }
            },
            "type": "bar"
           }
          ],
          "barpolar": [
           {
            "marker": {
             "line": {
              "color": "#E5ECF6",
              "width": 0.5
             },
             "pattern": {
              "fillmode": "overlay",
              "size": 10,
              "solidity": 0.2
             }
            },
            "type": "barpolar"
           }
          ],
          "carpet": [
           {
            "aaxis": {
             "endlinecolor": "#2a3f5f",
             "gridcolor": "white",
             "linecolor": "white",
             "minorgridcolor": "white",
             "startlinecolor": "#2a3f5f"
            },
            "baxis": {
             "endlinecolor": "#2a3f5f",
             "gridcolor": "white",
             "linecolor": "white",
             "minorgridcolor": "white",
             "startlinecolor": "#2a3f5f"
            },
            "type": "carpet"
           }
          ],
          "choropleth": [
           {
            "colorbar": {
             "outlinewidth": 0,
             "ticks": ""
            },
            "type": "choropleth"
           }
          ],
          "contour": [
           {
            "colorbar": {
             "outlinewidth": 0,
             "ticks": ""
            },
            "colorscale": [
             [
              0,
              "#0d0887"
             ],
             [
              0.1111111111111111,
              "#46039f"
             ],
             [
              0.2222222222222222,
              "#7201a8"
             ],
             [
              0.3333333333333333,
              "#9c179e"
             ],
             [
              0.4444444444444444,
              "#bd3786"
             ],
             [
              0.5555555555555556,
              "#d8576b"
             ],
             [
              0.6666666666666666,
              "#ed7953"
             ],
             [
              0.7777777777777778,
              "#fb9f3a"
             ],
             [
              0.8888888888888888,
              "#fdca26"
             ],
             [
              1,
              "#f0f921"
             ]
            ],
            "type": "contour"
           }
          ],
          "contourcarpet": [
           {
            "colorbar": {
             "outlinewidth": 0,
             "ticks": ""
            },
            "type": "contourcarpet"
           }
          ],
          "heatmap": [
           {
            "colorbar": {
             "outlinewidth": 0,
             "ticks": ""
            },
            "colorscale": [
             [
              0,
              "#0d0887"
             ],
             [
              0.1111111111111111,
              "#46039f"
             ],
             [
              0.2222222222222222,
              "#7201a8"
             ],
             [
              0.3333333333333333,
              "#9c179e"
             ],
             [
              0.4444444444444444,
              "#bd3786"
             ],
             [
              0.5555555555555556,
              "#d8576b"
             ],
             [
              0.6666666666666666,
              "#ed7953"
             ],
             [
              0.7777777777777778,
              "#fb9f3a"
             ],
             [
              0.8888888888888888,
              "#fdca26"
             ],
             [
              1,
              "#f0f921"
             ]
            ],
            "type": "heatmap"
           }
          ],
          "heatmapgl": [
           {
            "colorbar": {
             "outlinewidth": 0,
             "ticks": ""
            },
            "colorscale": [
             [
              0,
              "#0d0887"
             ],
             [
              0.1111111111111111,
              "#46039f"
             ],
             [
              0.2222222222222222,
              "#7201a8"
             ],
             [
              0.3333333333333333,
              "#9c179e"
             ],
             [
              0.4444444444444444,
              "#bd3786"
             ],
             [
              0.5555555555555556,
              "#d8576b"
             ],
             [
              0.6666666666666666,
              "#ed7953"
             ],
             [
              0.7777777777777778,
              "#fb9f3a"
             ],
             [
              0.8888888888888888,
              "#fdca26"
             ],
             [
              1,
              "#f0f921"
             ]
            ],
            "type": "heatmapgl"
           }
          ],
          "histogram": [
           {
            "marker": {
             "pattern": {
              "fillmode": "overlay",
              "size": 10,
              "solidity": 0.2
             }
            },
            "type": "histogram"
           }
          ],
          "histogram2d": [
           {
            "colorbar": {
             "outlinewidth": 0,
             "ticks": ""
            },
            "colorscale": [
             [
              0,
              "#0d0887"
             ],
             [
              0.1111111111111111,
              "#46039f"
             ],
             [
              0.2222222222222222,
              "#7201a8"
             ],
             [
              0.3333333333333333,
              "#9c179e"
             ],
             [
              0.4444444444444444,
              "#bd3786"
             ],
             [
              0.5555555555555556,
              "#d8576b"
             ],
             [
              0.6666666666666666,
              "#ed7953"
             ],
             [
              0.7777777777777778,
              "#fb9f3a"
             ],
             [
              0.8888888888888888,
              "#fdca26"
             ],
             [
              1,
              "#f0f921"
             ]
            ],
            "type": "histogram2d"
           }
          ],
          "histogram2dcontour": [
           {
            "colorbar": {
             "outlinewidth": 0,
             "ticks": ""
            },
            "colorscale": [
             [
              0,
              "#0d0887"
             ],
             [
              0.1111111111111111,
              "#46039f"
             ],
             [
              0.2222222222222222,
              "#7201a8"
             ],
             [
              0.3333333333333333,
              "#9c179e"
             ],
             [
              0.4444444444444444,
              "#bd3786"
             ],
             [
              0.5555555555555556,
              "#d8576b"
             ],
             [
              0.6666666666666666,
              "#ed7953"
             ],
             [
              0.7777777777777778,
              "#fb9f3a"
             ],
             [
              0.8888888888888888,
              "#fdca26"
             ],
             [
              1,
              "#f0f921"
             ]
            ],
            "type": "histogram2dcontour"
           }
          ],
          "mesh3d": [
           {
            "colorbar": {
             "outlinewidth": 0,
             "ticks": ""
            },
            "type": "mesh3d"
           }
          ],
          "parcoords": [
           {
            "line": {
             "colorbar": {
              "outlinewidth": 0,
              "ticks": ""
             }
            },
            "type": "parcoords"
           }
          ],
          "pie": [
           {
            "automargin": true,
            "type": "pie"
           }
          ],
          "scatter": [
           {
            "fillpattern": {
             "fillmode": "overlay",
             "size": 10,
             "solidity": 0.2
            },
            "type": "scatter"
           }
          ],
          "scatter3d": [
           {
            "line": {
             "colorbar": {
              "outlinewidth": 0,
              "ticks": ""
             }
            },
            "marker": {
             "colorbar": {
              "outlinewidth": 0,
              "ticks": ""
             }
            },
            "type": "scatter3d"
           }
          ],
          "scattercarpet": [
           {
            "marker": {
             "colorbar": {
              "outlinewidth": 0,
              "ticks": ""
             }
            },
            "type": "scattercarpet"
           }
          ],
          "scattergeo": [
           {
            "marker": {
             "colorbar": {
              "outlinewidth": 0,
              "ticks": ""
             }
            },
            "type": "scattergeo"
           }
          ],
          "scattergl": [
           {
            "marker": {
             "colorbar": {
              "outlinewidth": 0,
              "ticks": ""
             }
            },
            "type": "scattergl"
           }
          ],
          "scattermapbox": [
           {
            "marker": {
             "colorbar": {
              "outlinewidth": 0,
              "ticks": ""
             }
            },
            "type": "scattermapbox"
           }
          ],
          "scatterpolar": [
           {
            "marker": {
             "colorbar": {
              "outlinewidth": 0,
              "ticks": ""
             }
            },
            "type": "scatterpolar"
           }
          ],
          "scatterpolargl": [
           {
            "marker": {
             "colorbar": {
              "outlinewidth": 0,
              "ticks": ""
             }
            },
            "type": "scatterpolargl"
           }
          ],
          "scatterternary": [
           {
            "marker": {
             "colorbar": {
              "outlinewidth": 0,
              "ticks": ""
             }
            },
            "type": "scatterternary"
           }
          ],
          "surface": [
           {
            "colorbar": {
             "outlinewidth": 0,
             "ticks": ""
            },
            "colorscale": [
             [
              0,
              "#0d0887"
             ],
             [
              0.1111111111111111,
              "#46039f"
             ],
             [
              0.2222222222222222,
              "#7201a8"
             ],
             [
              0.3333333333333333,
              "#9c179e"
             ],
             [
              0.4444444444444444,
              "#bd3786"
             ],
             [
              0.5555555555555556,
              "#d8576b"
             ],
             [
              0.6666666666666666,
              "#ed7953"
             ],
             [
              0.7777777777777778,
              "#fb9f3a"
             ],
             [
              0.8888888888888888,
              "#fdca26"
             ],
             [
              1,
              "#f0f921"
             ]
            ],
            "type": "surface"
           }
          ],
          "table": [
           {
            "cells": {
             "fill": {
              "color": "#EBF0F8"
             },
             "line": {
              "color": "white"
             }
            },
            "header": {
             "fill": {
              "color": "#C8D4E3"
             },
             "line": {
              "color": "white"
             }
            },
            "type": "table"
           }
          ]
         },
         "layout": {
          "annotationdefaults": {
           "arrowcolor": "#2a3f5f",
           "arrowhead": 0,
           "arrowwidth": 1
          },
          "autotypenumbers": "strict",
          "coloraxis": {
           "colorbar": {
            "outlinewidth": 0,
            "ticks": ""
           }
          },
          "colorscale": {
           "diverging": [
            [
             0,
             "#8e0152"
            ],
            [
             0.1,
             "#c51b7d"
            ],
            [
             0.2,
             "#de77ae"
            ],
            [
             0.3,
             "#f1b6da"
            ],
            [
             0.4,
             "#fde0ef"
            ],
            [
             0.5,
             "#f7f7f7"
            ],
            [
             0.6,
             "#e6f5d0"
            ],
            [
             0.7,
             "#b8e186"
            ],
            [
             0.8,
             "#7fbc41"
            ],
            [
             0.9,
             "#4d9221"
            ],
            [
             1,
             "#276419"
            ]
           ],
           "sequential": [
            [
             0,
             "#0d0887"
            ],
            [
             0.1111111111111111,
             "#46039f"
            ],
            [
             0.2222222222222222,
             "#7201a8"
            ],
            [
             0.3333333333333333,
             "#9c179e"
            ],
            [
             0.4444444444444444,
             "#bd3786"
            ],
            [
             0.5555555555555556,
             "#d8576b"
            ],
            [
             0.6666666666666666,
             "#ed7953"
            ],
            [
             0.7777777777777778,
             "#fb9f3a"
            ],
            [
             0.8888888888888888,
             "#fdca26"
            ],
            [
             1,
             "#f0f921"
            ]
           ],
           "sequentialminus": [
            [
             0,
             "#0d0887"
            ],
            [
             0.1111111111111111,
             "#46039f"
            ],
            [
             0.2222222222222222,
             "#7201a8"
            ],
            [
             0.3333333333333333,
             "#9c179e"
            ],
            [
             0.4444444444444444,
             "#bd3786"
            ],
            [
             0.5555555555555556,
             "#d8576b"
            ],
            [
             0.6666666666666666,
             "#ed7953"
            ],
            [
             0.7777777777777778,
             "#fb9f3a"
            ],
            [
             0.8888888888888888,
             "#fdca26"
            ],
            [
             1,
             "#f0f921"
            ]
           ]
          },
          "colorway": [
           "#636efa",
           "#EF553B",
           "#00cc96",
           "#ab63fa",
           "#FFA15A",
           "#19d3f3",
           "#FF6692",
           "#B6E880",
           "#FF97FF",
           "#FECB52"
          ],
          "font": {
           "color": "#2a3f5f"
          },
          "geo": {
           "bgcolor": "white",
           "lakecolor": "white",
           "landcolor": "#E5ECF6",
           "showlakes": true,
           "showland": true,
           "subunitcolor": "white"
          },
          "hoverlabel": {
           "align": "left"
          },
          "hovermode": "closest",
          "mapbox": {
           "style": "light"
          },
          "paper_bgcolor": "white",
          "plot_bgcolor": "#E5ECF6",
          "polar": {
           "angularaxis": {
            "gridcolor": "white",
            "linecolor": "white",
            "ticks": ""
           },
           "bgcolor": "#E5ECF6",
           "radialaxis": {
            "gridcolor": "white",
            "linecolor": "white",
            "ticks": ""
           }
          },
          "scene": {
           "xaxis": {
            "backgroundcolor": "#E5ECF6",
            "gridcolor": "white",
            "gridwidth": 2,
            "linecolor": "white",
            "showbackground": true,
            "ticks": "",
            "zerolinecolor": "white"
           },
           "yaxis": {
            "backgroundcolor": "#E5ECF6",
            "gridcolor": "white",
            "gridwidth": 2,
            "linecolor": "white",
            "showbackground": true,
            "ticks": "",
            "zerolinecolor": "white"
           },
           "zaxis": {
            "backgroundcolor": "#E5ECF6",
            "gridcolor": "white",
            "gridwidth": 2,
            "linecolor": "white",
            "showbackground": true,
            "ticks": "",
            "zerolinecolor": "white"
           }
          },
          "shapedefaults": {
           "line": {
            "color": "#2a3f5f"
           }
          },
          "ternary": {
           "aaxis": {
            "gridcolor": "white",
            "linecolor": "white",
            "ticks": ""
           },
           "baxis": {
            "gridcolor": "white",
            "linecolor": "white",
            "ticks": ""
           },
           "bgcolor": "#E5ECF6",
           "caxis": {
            "gridcolor": "white",
            "linecolor": "white",
            "ticks": ""
           }
          },
          "title": {
           "x": 0.05
          },
          "xaxis": {
           "automargin": true,
           "gridcolor": "white",
           "linecolor": "white",
           "ticks": "",
           "title": {
            "standoff": 15
           },
           "zerolinecolor": "white",
           "zerolinewidth": 2
          },
          "yaxis": {
           "automargin": true,
           "gridcolor": "white",
           "linecolor": "white",
           "ticks": "",
           "title": {
            "standoff": 15
           },
           "zerolinecolor": "white",
           "zerolinewidth": 2
          }
         }
        },
        "title": {
         "text": "Reported daily anxiety\n(May through June 2022)"
        },
        "width": 1000,
        "xaxis": {
         "anchor": "y",
         "autorange": true,
         "domain": [
          0,
          1
         ],
         "range": [
          "2022-04-27 13:02:16.1345",
          "2022-06-28 10:57:43.8655"
         ],
         "title": {
          "text": "Day"
         },
         "type": "date"
        },
        "yaxis": {
         "anchor": "x",
         "autorange": true,
         "domain": [
          0,
          1
         ],
         "range": [
          5.7163989003937,
          20.5384491996063
         ],
         "title": {
          "text": "Percent Anxious"
         },
         "type": "linear"
        }
       }
      },
      "image/png": "[encoded data removed]",
      "text/html": [
       "<div>                            <div id=\"4326b968-613b-4037-886b-f4de0960f97b\" class=\"plotly-graph-div\" style=\"height:400px; width:1000px;\"></div>            <script type=\"text/javascript\">                require([\"plotly\"], function(Plotly) {                    window.PLOTLYENV=window.PLOTLYENV || {};                                    if (document.getElementById(\"4326b968-613b-4037-886b-f4de0960f97b\")) {                    Plotly.newPlot(                        \"4326b968-613b-4037-886b-f4de0960f97b\",                        [{\"hovertemplate\":\"%{y:.2r}%\",\"legendgroup\":\"Montgomery County, Maryland\",\"line\":{\"color\":\"#636efa\",\"dash\":\"solid\"},\"marker\":{\"symbol\":\"circle\"},\"mode\":\"markers+lines\",\"name\":\"Montgomery County, Maryland\",\"orientation\":\"v\",\"showlegend\":true,\"x\":[\"2022-05-01\",\"2022-05-02\",\"2022-05-03\",\"2022-05-04\",\"2022-05-05\",\"2022-05-06\",\"2022-05-07\",\"2022-05-08\",\"2022-05-09\",\"2022-05-10\",\"2022-05-11\",\"2022-05-12\",\"2022-05-13\",\"2022-05-14\",\"2022-05-15\",\"2022-05-16\",\"2022-05-17\",\"2022-05-18\",\"2022-05-19\",\"2022-05-20\",\"2022-05-21\",\"2022-05-22\",\"2022-05-23\",\"2022-05-24\",\"2022-05-25\",\"2022-05-26\",\"2022-05-27\",\"2022-05-28\",\"2022-05-29\",\"2022-05-30\",\"2022-05-31\",\"2022-06-01\",\"2022-06-02\",\"2022-06-03\",\"2022-06-04\",\"2022-06-05\",\"2022-06-06\",\"2022-06-07\",\"2022-06-08\",\"2022-06-09\",\"2022-06-10\",\"2022-06-11\",\"2022-06-12\",\"2022-06-13\",\"2022-06-14\",\"2022-06-15\",\"2022-06-16\",\"2022-06-17\",\"2022-06-18\",\"2022-06-19\",\"2022-06-20\",\"2022-06-21\",\"2022-06-22\",\"2022-06-23\",\"2022-06-24\",\"2022-06-25\"],\"xaxis\":\"x\",\"y\":[12.6574843,10.7456872,11.0725916,10.6491868,10.5550677,10.2479464,9.3612245,9.4934489,11.4087009,10.7822305,11.5641634,13.1024363,12.4875998,11.3453694,9.601428,8.5616603,9.648357,9.6501321,13.0386274,15.0836905,19.0852016,19.5446981,19.2598677,16.5216379,18.0246491,12.4636068,13.4644162,9.7884552,7.9047444,7.9577321,9.1544336,8.6959183,9.6364421,6.7274253,7.8447261,8.2330063,6.8439045,7.4865565,7.9095611,7.7613229,8.4366582,6.9992568,8.4059026,9.568804,8.5060078,7.3717054,7.2272394,7.0550456,7.4648099,7.5498234,6.8608761,6.71015,9.7833424,9.7383998,10.9020529,14.4443031],\"yaxis\":\"y\",\"type\":\"scatter\"},{\"hovertemplate\":\"%{y:.2r}%\",\"legendgroup\":\"Prince George's County, Maryland\",\"line\":{\"color\":\"#EF553B\",\"dash\":\"solid\"},\"marker\":{\"symbol\":\"circle\"},\"mode\":\"markers+lines\",\"name\":\"Prince George's County, Maryland\",\"orientation\":\"v\",\"showlegend\":true,\"x\":[\"2022-05-01\",\"2022-05-02\",\"2022-05-03\",\"2022-05-04\",\"2022-05-05\",\"2022-05-06\",\"2022-05-07\",\"2022-05-08\",\"2022-05-09\",\"2022-05-10\",\"2022-05-11\",\"2022-05-12\",\"2022-05-13\",\"2022-05-14\",\"2022-05-15\",\"2022-05-16\",\"2022-05-17\",\"2022-05-18\",\"2022-05-19\",\"2022-05-20\",\"2022-05-21\",\"2022-05-22\",\"2022-05-23\",\"2022-05-24\",\"2022-05-25\",\"2022-05-26\",\"2022-05-27\",\"2022-05-28\",\"2022-05-29\",\"2022-05-30\",\"2022-05-31\",\"2022-06-01\",\"2022-06-02\",\"2022-06-03\",\"2022-06-04\",\"2022-06-05\",\"2022-06-06\",\"2022-06-07\",\"2022-06-08\",\"2022-06-09\",\"2022-06-10\",\"2022-06-11\",\"2022-06-12\",\"2022-06-13\",\"2022-06-14\",\"2022-06-15\",\"2022-06-16\",\"2022-06-17\",\"2022-06-18\",\"2022-06-19\",\"2022-06-20\",\"2022-06-21\",\"2022-06-22\",\"2022-06-23\",\"2022-06-24\",\"2022-06-25\"],\"xaxis\":\"x\",\"y\":[18.9313865,15.8663174,16.6748679,12.4852756,10.4498774,10.3244547,9.6603805,9.2577581,8.6686164,7.354569,10.637628,10.8472691,15.4042694,15.2589565,15.4264995,16.4651647,18.4167249,14.191697,15.66938,13.8218847,14.65973,14.6768367,16.3064427,17.7249185,16.5455734,16.2560998,15.363003,14.1823105,14.5057703,14.0459994,11.006258,18.1119522,16.9079308,14.1164854,16.2508105,14.7416011,13.5964521,17.1913825,10.1308206,11.5027576,13.5400342,11.1275789,12.7871825,13.4498492,12.0061846,11.3936217,12.0534358,9.8035146,9.9115632,7.6711768,8.30599,11.4700425,12.1654754,12.6708899,13.9175317,14.1833231],\"yaxis\":\"y\",\"type\":\"scatter\"}],                        {\"template\":{\"data\":{\"histogram2dcontour\":[{\"type\":\"histogram2dcontour\",\"colorbar\":{\"outlinewidth\":0,\"ticks\":\"\"},\"colorscale\":[[0.0,\"#0d0887\"],[0.1111111111111111,\"#46039f\"],[0.2222222222222222,\"#7201a8\"],[0.3333333333333333,\"#9c179e\"],[0.4444444444444444,\"#bd3786\"],[0.5555555555555556,\"#d8576b\"],[0.6666666666666666,\"#ed7953\"],[0.7777777777777778,\"#fb9f3a\"],[0.8888888888888888,\"#fdca26\"],[1.0,\"#f0f921\"]]}],\"choropleth\":[{\"type\":\"choropleth\",\"colorbar\":{\"outlinewidth\":0,\"ticks\":\"\"}}],\"histogram2d\":[{\"type\":\"histogram2d\",\"colorbar\":{\"outlinewidth\":0,\"ticks\":\"\"},\"colorscale\":[[0.0,\"#0d0887\"],[0.1111111111111111,\"#46039f\"],[0.2222222222222222,\"#7201a8\"],[0.3333333333333333,\"#9c179e\"],[0.4444444444444444,\"#bd3786\"],[0.5555555555555556,\"#d8576b\"],[0.6666666666666666,\"#ed7953\"],[0.7777777777777778,\"#fb9f3a\"],[0.8888888888888888,\"#fdca26\"],[1.0,\"#f0f921\"]]}],\"heatmap\":[{\"type\":\"heatmap\",\"colorbar\":{\"outlinewidth\":0,\"ticks\":\"\"},\"colorscale\":[[0.0,\"#0d0887\"],[0.1111111111111111,\"#46039f\"],[0.2222222222222222,\"#7201a8\"],[0.3333333333333333,\"#9c179e\"],[0.4444444444444444,\"#bd3786\"],[0.5555555555555556,\"#d8576b\"],[0.6666666666666666,\"#ed7953\"],[0.7777777777777778,\"#fb9f3a\"],[0.8888888888888888,\"#fdca26\"],[1.0,\"#f0f921\"]]}],\"heatmapgl\":[{\"type\":\"heatmapgl\",\"colorbar\":{\"outlinewidth\":0,\"ticks\":\"\"},\"colorscale\":[[0.0,\"#0d0887\"],[0.1111111111111111,\"#46039f\"],[0.2222222222222222,\"#7201a8\"],[0.3333333333333333,\"#9c179e\"],[0.4444444444444444,\"#bd3786\"],[0.5555555555555556,\"#d8576b\"],[0.6666666666666666,\"#ed7953\"],[0.7777777777777778,\"#fb9f3a\"],[0.8888888888888888,\"#fdca26\"],[1.0,\"#f0f921\"]]}],\"contourcarpet\":[{\"type\":\"contourcarpet\",\"colorbar\":{\"outlinewidth\":0,\"ticks\":\"\"}}],\"contour\":[{\"type\":\"contour\",\"colorbar\":{\"outlinewidth\":0,\"ticks\":\"\"},\"colorscale\":[[0.0,\"#0d0887\"],[0.1111111111111111,\"#46039f\"],[0.2222222222222222,\"#7201a8\"],[0.3333333333333333,\"#9c179e\"],[0.4444444444444444,\"#bd3786\"],[0.5555555555555556,\"#d8576b\"],[0.6666666666666666,\"#ed7953\"],[0.7777777777777778,\"#fb9f3a\"],[0.8888888888888888,\"#fdca26\"],[1.0,\"#f0f921\"]]}],\"surface\":[{\"type\":\"surface\",\"colorbar\":{\"outlinewidth\":0,\"ticks\":\"\"},\"colorscale\":[[0.0,\"#0d0887\"],[0.1111111111111111,\"#46039f\"],[0.2222222222222222,\"#7201a8\"],[0.3333333333333333,\"#9c179e\"],[0.4444444444444444,\"#bd3786\"],[0.5555555555555556,\"#d8576b\"],[0.6666666666666666,\"#ed7953\"],[0.7777777777777778,\"#fb9f3a\"],[0.8888888888888888,\"#fdca26\"],[1.0,\"#f0f921\"]]}],\"mesh3d\":[{\"type\":\"mesh3d\",\"colorbar\":{\"outlinewidth\":0,\"ticks\":\"\"}}],\"scatter\":[{\"fillpattern\":{\"fillmode\":\"overlay\",\"size\":10,\"solidity\":0.2},\"type\":\"scatter\"}],\"parcoords\":[{\"type\":\"parcoords\",\"line\":{\"colorbar\":{\"outlinewidth\":0,\"ticks\":\"\"}}}],\"scatterpolargl\":[{\"type\":\"scatterpolargl\",\"marker\":{\"colorbar\":{\"outlinewidth\":0,\"ticks\":\"\"}}}],\"bar\":[{\"error_x\":{\"color\":\"#2a3f5f\"},\"error_y\":{\"color\":\"#2a3f5f\"},\"marker\":{\"line\":{\"color\":\"#E5ECF6\",\"width\":0.5},\"pattern\":{\"fillmode\":\"overlay\",\"size\":10,\"solidity\":0.2}},\"type\":\"bar\"}],\"scattergeo\":[{\"type\":\"scattergeo\",\"marker\":{\"colorbar\":{\"outlinewidth\":0,\"ticks\":\"\"}}}],\"scatterpolar\":[{\"type\":\"scatterpolar\",\"marker\":{\"colorbar\":{\"outlinewidth\":0,\"ticks\":\"\"}}}],\"histogram\":[{\"marker\":{\"pattern\":{\"fillmode\":\"overlay\",\"size\":10,\"solidity\":0.2}},\"type\":\"histogram\"}],\"scattergl\":[{\"type\":\"scattergl\",\"marker\":{\"colorbar\":{\"outlinewidth\":0,\"ticks\":\"\"}}}],\"scatter3d\":[{\"type\":\"scatter3d\",\"line\":{\"colorbar\":{\"outlinewidth\":0,\"ticks\":\"\"}},\"marker\":{\"colorbar\":{\"outlinewidth\":0,\"ticks\":\"\"}}}],\"scattermapbox\":[{\"type\":\"scattermapbox\",\"marker\":{\"colorbar\":{\"outlinewidth\":0,\"ticks\":\"\"}}}],\"scatterternary\":[{\"type\":\"scatterternary\",\"marker\":{\"colorbar\":{\"outlinewidth\":0,\"ticks\":\"\"}}}],\"scattercarpet\":[{\"type\":\"scattercarpet\",\"marker\":{\"colorbar\":{\"outlinewidth\":0,\"ticks\":\"\"}}}],\"carpet\":[{\"aaxis\":{\"endlinecolor\":\"#2a3f5f\",\"gridcolor\":\"white\",\"linecolor\":\"white\",\"minorgridcolor\":\"white\",\"startlinecolor\":\"#2a3f5f\"},\"baxis\":{\"endlinecolor\":\"#2a3f5f\",\"gridcolor\":\"white\",\"linecolor\":\"white\",\"minorgridcolor\":\"white\",\"startlinecolor\":\"#2a3f5f\"},\"type\":\"carpet\"}],\"table\":[{\"cells\":{\"fill\":{\"color\":\"#EBF0F8\"},\"line\":{\"color\":\"white\"}},\"header\":{\"fill\":{\"color\":\"#C8D4E3\"},\"line\":{\"color\":\"white\"}},\"type\":\"table\"}],\"barpolar\":[{\"marker\":{\"line\":{\"color\":\"#E5ECF6\",\"width\":0.5},\"pattern\":{\"fillmode\":\"overlay\",\"size\":10,\"solidity\":0.2}},\"type\":\"barpolar\"}],\"pie\":[{\"automargin\":true,\"type\":\"pie\"}]},\"layout\":{\"autotypenumbers\":\"strict\",\"colorway\":[\"#636efa\",\"#EF553B\",\"#00cc96\",\"#ab63fa\",\"#FFA15A\",\"#19d3f3\",\"#FF6692\",\"#B6E880\",\"#FF97FF\",\"#FECB52\"],\"font\":{\"color\":\"#2a3f5f\"},\"hovermode\":\"closest\",\"hoverlabel\":{\"align\":\"left\"},\"paper_bgcolor\":\"white\",\"plot_bgcolor\":\"#E5ECF6\",\"polar\":{\"bgcolor\":\"#E5ECF6\",\"angularaxis\":{\"gridcolor\":\"white\",\"linecolor\":\"white\",\"ticks\":\"\"},\"radialaxis\":{\"gridcolor\":\"white\",\"linecolor\":\"white\",\"ticks\":\"\"}},\"ternary\":{\"bgcolor\":\"#E5ECF6\",\"aaxis\":{\"gridcolor\":\"white\",\"linecolor\":\"white\",\"ticks\":\"\"},\"baxis\":{\"gridcolor\":\"white\",\"linecolor\":\"white\",\"ticks\":\"\"},\"caxis\":{\"gridcolor\":\"white\",\"linecolor\":\"white\",\"ticks\":\"\"}},\"coloraxis\":{\"colorbar\":{\"outlinewidth\":0,\"ticks\":\"\"}},\"colorscale\":{\"sequential\":[[0.0,\"#0d0887\"],[0.1111111111111111,\"#46039f\"],[0.2222222222222222,\"#7201a8\"],[0.3333333333333333,\"#9c179e\"],[0.4444444444444444,\"#bd3786\"],[0.5555555555555556,\"#d8576b\"],[0.6666666666666666,\"#ed7953\"],[0.7777777777777778,\"#fb9f3a\"],[0.8888888888888888,\"#fdca26\"],[1.0,\"#f0f921\"]],\"sequentialminus\":[[0.0,\"#0d0887\"],[0.1111111111111111,\"#46039f\"],[0.2222222222222222,\"#7201a8\"],[0.3333333333333333,\"#9c179e\"],[0.4444444444444444,\"#bd3786\"],[0.5555555555555556,\"#d8576b\"],[0.6666666666666666,\"#ed7953\"],[0.7777777777777778,\"#fb9f3a\"],[0.8888888888888888,\"#fdca26\"],[1.0,\"#f0f921\"]],\"diverging\":[[0,\"#8e0152\"],[0.1,\"#c51b7d\"],[0.2,\"#de77ae\"],[0.3,\"#f1b6da\"],[0.4,\"#fde0ef\"],[0.5,\"#f7f7f7\"],[0.6,\"#e6f5d0\"],[0.7,\"#b8e186\"],[0.8,\"#7fbc41\"],[0.9,\"#4d9221\"],[1,\"#276419\"]]},\"xaxis\":{\"gridcolor\":\"white\",\"linecolor\":\"white\",\"ticks\":\"\",\"title\":{\"standoff\":15},\"zerolinecolor\":\"white\",\"automargin\":true,\"zerolinewidth\":2},\"yaxis\":{\"gridcolor\":\"white\",\"linecolor\":\"white\",\"ticks\":\"\",\"title\":{\"standoff\":15},\"zerolinecolor\":\"white\",\"automargin\":true,\"zerolinewidth\":2},\"scene\":{\"xaxis\":{\"backgroundcolor\":\"#E5ECF6\",\"gridcolor\":\"white\",\"linecolor\":\"white\",\"showbackground\":true,\"ticks\":\"\",\"zerolinecolor\":\"white\",\"gridwidth\":2},\"yaxis\":{\"backgroundcolor\":\"#E5ECF6\",\"gridcolor\":\"white\",\"linecolor\":\"white\",\"showbackground\":true,\"ticks\":\"\",\"zerolinecolor\":\"white\",\"gridwidth\":2},\"zaxis\":{\"backgroundcolor\":\"#E5ECF6\",\"gridcolor\":\"white\",\"linecolor\":\"white\",\"showbackground\":true,\"ticks\":\"\",\"zerolinecolor\":\"white\",\"gridwidth\":2}},\"shapedefaults\":{\"line\":{\"color\":\"#2a3f5f\"}},\"annotationdefaults\":{\"arrowcolor\":\"#2a3f5f\",\"arrowhead\":0,\"arrowwidth\":1},\"geo\":{\"bgcolor\":\"white\",\"landcolor\":\"#E5ECF6\",\"subunitcolor\":\"white\",\"showland\":true,\"showlakes\":true,\"lakecolor\":\"white\"},\"title\":{\"x\":0.05},\"mapbox\":{\"style\":\"light\"}}},\"xaxis\":{\"anchor\":\"y\",\"domain\":[0.0,1.0],\"title\":{\"text\":\"Day\"}},\"yaxis\":{\"anchor\":\"x\",\"domain\":[0.0,1.0],\"title\":{\"text\":\"Percent Anxious\"}},\"legend\":{\"title\":{\"text\":\"County\"},\"tracegroupgap\":0},\"title\":{\"text\":\"Reported daily anxiety\\n(May through June 2022)\"},\"height\":400,\"width\":1000,\"hovermode\":\"x unified\"},                        {\"responsive\": true}                    ).then(function(){\n",
       "                            \n",
       "var gd = document.getElementById('4326b968-613b-4037-886b-f4de0960f97b');\n",
       "var x = new MutationObserver(function (mutations, observer) {{\n",
       "        var display = window.getComputedStyle(gd).display;\n",
       "        if (!display || display === 'none') {{\n",
       "            console.log([gd, 'removed!']);\n",
       "            Plotly.purge(gd);\n",
       "            observer.disconnect();\n",
       "        }}\n",
       "}});\n",
       "\n",
       "// Listen for the removal of the full notebook cells\n",
       "var notebookContainer = gd.closest('#notebook-container');\n",
       "if (notebookContainer) {{\n",
       "    x.observe(notebookContainer, {childList: true});\n",
       "}}\n",
       "\n",
       "// Listen for the clearing of the current output cell\n",
       "var outputEl = gd.closest('.output');\n",
       "if (outputEl) {{\n",
       "    x.observe(outputEl, {childList: true});\n",
       "}}\n",
       "\n",
       "                        })                };                });            </script>        </div>"
      ]
     },
     "metadata": {},
     "output_type": "display_data"
    }
   ],
   "source": [
    "fig = px.line(mc_pg, x='day', \n",
    "              y='percent_anxious', \n",
    "              color='NAME', \n",
    "              width=1000, \n",
    "              height=400,\n",
    "              title ='Reported daily anxiety\\n(May through June 2022)',\n",
    "              # assigning labels \n",
    "              labels = {'NAME': 'County', \n",
    "                       'percent_anxious' : 'Percent Anxious',\n",
    "                        'day':'Day'\n",
    "                       })\n",
    "fig.update_traces(mode=\"markers+lines\", \n",
    "                  hovertemplate='%{y:.2r}%') # rounds y to the nearest 1 digit and then appends a % sign to the hover text\n",
    "# x_unified links the tooltip for both plots together (probably easier to understand if you try it)\n",
    "fig.update_layout(hovermode=\"x unified\")\n",
    "fig.show()"
   ]
  },
  {
   "cell_type": "markdown",
   "id": "f4d24301-9ca8-4241-89c4-675c4aeae41d",
   "metadata": {},
   "source": [
    "#### 2) Does it look like there is a relationship between anxiety levels in Montgomery County and in Prince George's County overall? Use a scatterplot to answer this question.\n",
    "\n",
    "*Hint:* This requires some reshaping of the data. Look back at previous work on reshaping data and think about what form the data needs to be in. \n",
    "\n",
    "\n",
    "We'll need to reshape this data from long format (each row indicates a single county-day) to wide format (each row represents a single day with separate columns for each county). We can do this using the `pivot` function. The `index"
   ]
  },
  {
   "cell_type": "code",
   "execution_count": 73,
   "id": "bb980e64-e66f-4297-bf64-4e76fa328de0",
   "metadata": {},
   "outputs": [
    {
     "data": {
      "text/html": [
       "<div>\n",
       "<style scoped>\n",
       "    .dataframe tbody tr th:only-of-type {\n",
       "        vertical-align: middle;\n",
       "    }\n",
       "\n",
       "    .dataframe tbody tr th {\n",
       "        vertical-align: top;\n",
       "    }\n",
       "\n",
       "    .dataframe thead th {\n",
       "        text-align: right;\n",
       "    }\n",
       "</style>\n",
       "<table border=\"1\" class=\"dataframe\">\n",
       "  <thead>\n",
       "    <tr style=\"text-align: right;\">\n",
       "      <th>NAME</th>\n",
       "      <th>Montgomery County, Maryland</th>\n",
       "      <th>Prince George's County, Maryland</th>\n",
       "    </tr>\n",
       "    <tr>\n",
       "      <th>days_format</th>\n",
       "      <th></th>\n",
       "      <th></th>\n",
       "    </tr>\n",
       "  </thead>\n",
       "  <tbody>\n",
       "    <tr>\n",
       "      <th>Jun 01</th>\n",
       "      <td>8.695918</td>\n",
       "      <td>18.111952</td>\n",
       "    </tr>\n",
       "    <tr>\n",
       "      <th>Jun 02</th>\n",
       "      <td>9.636442</td>\n",
       "      <td>16.907931</td>\n",
       "    </tr>\n",
       "    <tr>\n",
       "      <th>Jun 03</th>\n",
       "      <td>6.727425</td>\n",
       "      <td>14.116485</td>\n",
       "    </tr>\n",
       "    <tr>\n",
       "      <th>Jun 04</th>\n",
       "      <td>7.844726</td>\n",
       "      <td>16.250811</td>\n",
       "    </tr>\n",
       "    <tr>\n",
       "      <th>Jun 05</th>\n",
       "      <td>8.233006</td>\n",
       "      <td>14.741601</td>\n",
       "    </tr>\n",
       "  </tbody>\n",
       "</table>\n",
       "</div>"
      ],
      "text/plain": [
       "NAME         Montgomery County, Maryland  Prince George's County, Maryland\n",
       "days_format                                                               \n",
       "Jun 01                          8.695918                         18.111952\n",
       "Jun 02                          9.636442                         16.907931\n",
       "Jun 03                          6.727425                         14.116485\n",
       "Jun 04                          7.844726                         16.250811\n",
       "Jun 05                          8.233006                         14.741601"
      ]
     },
     "execution_count": 73,
     "metadata": {},
     "output_type": "execute_result"
    }
   ],
   "source": [
    "mc_pg_wide = mc_pg.pivot(index='days_format', columns='NAME', values='percent_anxious')\n",
    "\n",
    "mc_pg_wide.head()"
   ]
  },
  {
   "cell_type": "markdown",
   "id": "87a058e8-3536-457d-a58c-f18b1e4fa19b",
   "metadata": {},
   "source": [
    "#### Using Matplot"
   ]
  },
  {
   "cell_type": "code",
   "execution_count": 74,
   "id": "264e80dd-ebb8-4156-9347-cb639c843804",
   "metadata": {},
   "outputs": [
    {
     "data": {
      "image/png": "[encoded data removed]",
      "text/plain": [
       "<Figure size 500x500 with 1 Axes>"
      ]
     },
     "metadata": {},
     "output_type": "display_data"
    }
   ],
   "source": [
    "#OR: \n",
    "# f, ax = plt.subplots(figsize=(15, 5))\n",
    "# ax= sns.scatterplot(data=mc_pg_wide, x=\"Montgomery County, Maryland\", y=\"Prince George's County, Maryland\")\n",
    "mc_pg_wide.plot(x=\"Montgomery County, Maryland\", \n",
    "                y=\"Prince George's County, Maryland\", \n",
    "                kind='scatter',\n",
    "                title = 'Daily anxiety levels in two counties in Maryland',\n",
    "                color='black',\n",
    "                 figsize=(5,5)\n",
    "               )\n",
    "\n",
    "plt.show()\n"
   ]
  },
  {
   "cell_type": "markdown",
   "id": "42deb0d4-6c3a-4c1f-ac18-c65d3ebba34c",
   "metadata": {},
   "source": [
    "#### Using Seaborn and adding a line of best fit\n",
    "\n",
    "Alternatively, the Seaborn Package has a nice built-in function to make a scatter plot that includes a line of best fit that summarizes the relationship between the X and Y variables. "
   ]
  },
  {
   "cell_type": "code",
   "execution_count": 75,
   "id": "91da3997-4a59-4709-8fe3-7b7e1ab5f0dd",
   "metadata": {},
   "outputs": [
    {
     "data": {
      "image/png": "[encoded data removed]",
      "text/plain": [
       "<Figure size 600x600 with 1 Axes>"
      ]
     },
     "metadata": {},
     "output_type": "display_data"
    }
   ],
   "source": [
    "f, ax = plt.subplots(figsize=(6, 6))\n",
    "ax=sns.regplot(data=mc_pg_wide, x=\"Montgomery County, Maryland\", \n",
    "              y=\"Prince George's County, Maryland\"\n",
    "                )\n",
    "ax.set(xlabel='Day', ylabel='Percent Anxious', \n",
    "       title ='Reported daily anxiety\\n(May through June 2022)')\n",
    "plt.show()\n",
    "\n"
   ]
  },
  {
   "cell_type": "markdown",
   "id": "1896cc85-a0c9-4fe4-96b5-0f5a5e152a93",
   "metadata": {},
   "source": [
    "### Using Plotly Express\n",
    "\n",
    "If we install the `statsmodels` package, we can do the same thing in a plotly express plot. "
   ]
  },
  {
   "cell_type": "code",
   "execution_count": 76,
   "id": "8c2f2010-e5ca-4d6b-a337-970b4056feaa",
   "metadata": {},
   "outputs": [],
   "source": [
    "# uncomment to install:\n",
    "#%pip install statsmodels"
   ]
  },
  {
   "cell_type": "code",
   "execution_count": 91,
   "id": "190a0b01-c778-4c99-80ff-48b9c4ef1ac6",
   "metadata": {},
   "outputs": [
    {
     "data": {
      "application/vnd.plotly.v1+json": {
       "config": {
        "plotlyServerURL": "https://plot.ly"
       },
       "data": [
        {
         "hovertemplate": "Montgomery County, Maryland=%{x}<br>Prince George's County, Maryland=%{y}<extra></extra>",
         "legendgroup": "",
         "marker": {
          "color": "#636efa",
          "symbol": "circle"
         },
         "mode": "markers",
         "name": "",
         "orientation": "v",
         "showlegend": false,
         "type": "scatter",
         "x": [
          8.6959183,
          9.6364421,
          6.7274253,
          7.8447261,
          8.2330063,
          6.8439045,
          7.4865565,
          7.9095611,
          7.7613229,
          8.4366582,
          6.9992568,
          8.4059026,
          9.568804,
          8.5060078,
          7.3717054,
          7.2272394,
          7.0550456,
          7.4648099,
          7.5498234,
          6.8608761,
          6.71015,
          9.7833424,
          9.7383998,
          10.9020529,
          14.4443031,
          12.6574843,
          10.7456872,
          11.0725916,
          10.6491868,
          10.5550677,
          10.2479464,
          9.3612245,
          9.4934489,
          11.4087009,
          10.7822305,
          11.5641634,
          13.1024363,
          12.4875998,
          11.3453694,
          9.601428,
          8.5616603,
          9.648357,
          9.6501321,
          13.0386274,
          15.0836905,
          19.0852016,
          19.5446981,
          19.2598677,
          16.5216379,
          18.0246491,
          12.4636068,
          13.4644162,
          9.7884552,
          7.9047444,
          7.9577321,
          9.1544336
         ],
         "xaxis": "x",
         "y": [
          18.1119522,
          16.9079308,
          14.1164854,
          16.2508105,
          14.7416011,
          13.5964521,
          17.1913825,
          10.1308206,
          11.5027576,
          13.5400342,
          11.1275789,
          12.7871825,
          13.4498492,
          12.0061846,
          11.3936217,
          12.0534358,
          9.8035146,
          9.9115632,
          7.6711768,
          8.30599,
          11.4700425,
          12.1654754,
          12.6708899,
          13.9175317,
          14.1833231,
          18.9313865,
          15.8663174,
          16.6748679,
          12.4852756,
          10.4498774,
          10.3244547,
          9.6603805,
          9.2577581,
          8.6686164,
          7.354569,
          10.637628,
          10.8472691,
          15.4042694,
          15.2589565,
          15.4264995,
          16.4651647,
          18.4167249,
          14.191697,
          15.66938,
          13.8218847,
          14.65973,
          14.6768367,
          16.3064427,
          17.7249185,
          16.5455734,
          16.2560998,
          15.363003,
          14.1823105,
          14.5057703,
          14.0459994,
          11.006258
         ],
         "yaxis": "y"
        },
        {
         "hovertemplate": "<b>OLS trendline</b><br>Prince George's County, Maryland = 0.310898 * Montgomery County, Maryland + 10.1612<br>R<sup>2</sup>=0.124810<br><br>Montgomery County, Maryland=%{x}<br>Prince George's County, Maryland=%{y} <b>(trend)</b><extra></extra>",
         "legendgroup": "",
         "marker": {
          "color": "#636efa",
          "symbol": "circle"
         },
         "mode": "lines",
         "name": "",
         "showlegend": false,
         "type": "scatter",
         "x": [
          6.71015,
          6.7274253,
          6.8439045,
          6.8608761,
          6.9992568,
          7.0550456,
          7.2272394,
          7.3717054,
          7.4648099,
          7.4865565,
          7.5498234,
          7.7613229,
          7.8447261,
          7.9047444,
          7.9095611,
          7.9577321,
          8.2330063,
          8.4059026,
          8.4366582,
          8.5060078,
          8.5616603,
          8.6959183,
          9.1544336,
          9.3612245,
          9.4934489,
          9.568804,
          9.601428,
          9.6364421,
          9.648357,
          9.6501321,
          9.7383998,
          9.7833424,
          9.7884552,
          10.2479464,
          10.5550677,
          10.6491868,
          10.7456872,
          10.7822305,
          10.9020529,
          11.0725916,
          11.3453694,
          11.4087009,
          11.5641634,
          12.4636068,
          12.4875998,
          12.6574843,
          13.0386274,
          13.1024363,
          13.4644162,
          14.4443031,
          15.0836905,
          16.5216379,
          18.0246491,
          19.0852016,
          19.2598677,
          19.5446981
         ],
         "xaxis": "x",
         "y": [
          12.24741613796291,
          12.252786998263252,
          12.289000176100721,
          12.29427661660672,
          12.337298932164977,
          12.354643571686358,
          12.408178320396079,
          12.453092544991266,
          12.482038569826331,
          12.488799549410329,
          12.50846911703206,
          12.574223938545565,
          12.600153846321492,
          12.618813429933008,
          12.620310933467458,
          12.635287212404887,
          12.720869475664479,
          12.774622630385153,
          12.784184492179344,
          12.805745160502592,
          12.823047424594376,
          12.864787999994128,
          13.007339598048546,
          13.071630524126935,
          13.11273885687349,
          13.136166624554416,
          13.146309368613181,
          13.157195190546357,
          13.160899511941214,
          13.161451387400344,
          13.188893659646412,
          13.202866234717998,
          13.204455795220195,
          13.347310798863347,
          13.442794269341977,
          13.472055731527522,
          13.502057535683,
          13.51341878319902,
          13.550671356019851,
          13.603691537058788,
          13.688497673961457,
          13.708187325609249,
          13.756520342659138,
          14.03615570930775,
          14.043615090689613,
          14.096431882102408,
          14.2149285996436,
          14.23476667410937,
          14.34730558657004,
          14.65195069548481,
          14.85073511041242,
          15.29779042086377,
          15.765073951977534,
          16.09479785365673,
          16.149101236075882,
          16.237654505060533
         ],
         "yaxis": "y"
        }
       ],
       "layout": {
        "height": 500,
        "legend": {
         "tracegroupgap": 0
        },
        "template": {
         "data": {
          "bar": [
           {
            "error_x": {
             "color": "#2a3f5f"
            },
            "error_y": {
             "color": "#2a3f5f"
            },
            "marker": {
             "line": {
              "color": "#E5ECF6",
              "width": 0.5
             },
             "pattern": {
              "fillmode": "overlay",
              "size": 10,
              "solidity": 0.2
             }
            },
            "type": "bar"
           }
          ],
          "barpolar": [
           {
            "marker": {
             "line": {
              "color": "#E5ECF6",
              "width": 0.5
             },
             "pattern": {
              "fillmode": "overlay",
              "size": 10,
              "solidity": 0.2
             }
            },
            "type": "barpolar"
           }
          ],
          "carpet": [
           {
            "aaxis": {
             "endlinecolor": "#2a3f5f",
             "gridcolor": "white",
             "linecolor": "white",
             "minorgridcolor": "white",
             "startlinecolor": "#2a3f5f"
            },
            "baxis": {
             "endlinecolor": "#2a3f5f",
             "gridcolor": "white",
             "linecolor": "white",
             "minorgridcolor": "white",
             "startlinecolor": "#2a3f5f"
            },
            "type": "carpet"
           }
          ],
          "choropleth": [
           {
            "colorbar": {
             "outlinewidth": 0,
             "ticks": ""
            },
            "type": "choropleth"
           }
          ],
          "contour": [
           {
            "colorbar": {
             "outlinewidth": 0,
             "ticks": ""
            },
            "colorscale": [
             [
              0,
              "#0d0887"
             ],
             [
              0.1111111111111111,
              "#46039f"
             ],
             [
              0.2222222222222222,
              "#7201a8"
             ],
             [
              0.3333333333333333,
              "#9c179e"
             ],
             [
              0.4444444444444444,
              "#bd3786"
             ],
             [
              0.5555555555555556,
              "#d8576b"
             ],
             [
              0.6666666666666666,
              "#ed7953"
             ],
             [
              0.7777777777777778,
              "#fb9f3a"
             ],
             [
              0.8888888888888888,
              "#fdca26"
             ],
             [
              1,
              "#f0f921"
             ]
            ],
            "type": "contour"
           }
          ],
          "contourcarpet": [
           {
            "colorbar": {
             "outlinewidth": 0,
             "ticks": ""
            },
            "type": "contourcarpet"
           }
          ],
          "heatmap": [
           {
            "colorbar": {
             "outlinewidth": 0,
             "ticks": ""
            },
            "colorscale": [
             [
              0,
              "#0d0887"
             ],
             [
              0.1111111111111111,
              "#46039f"
             ],
             [
              0.2222222222222222,
              "#7201a8"
             ],
             [
              0.3333333333333333,
              "#9c179e"
             ],
             [
              0.4444444444444444,
              "#bd3786"
             ],
             [
              0.5555555555555556,
              "#d8576b"
             ],
             [
              0.6666666666666666,
              "#ed7953"
             ],
             [
              0.7777777777777778,
              "#fb9f3a"
             ],
             [
              0.8888888888888888,
              "#fdca26"
             ],
             [
              1,
              "#f0f921"
             ]
            ],
            "type": "heatmap"
           }
          ],
          "heatmapgl": [
           {
            "colorbar": {
             "outlinewidth": 0,
             "ticks": ""
            },
            "colorscale": [
             [
              0,
              "#0d0887"
             ],
             [
              0.1111111111111111,
              "#46039f"
             ],
             [
              0.2222222222222222,
              "#7201a8"
             ],
             [
              0.3333333333333333,
              "#9c179e"
             ],
             [
              0.4444444444444444,
              "#bd3786"
             ],
             [
              0.5555555555555556,
              "#d8576b"
             ],
             [
              0.6666666666666666,
              "#ed7953"
             ],
             [
              0.7777777777777778,
              "#fb9f3a"
             ],
             [
              0.8888888888888888,
              "#fdca26"
             ],
             [
              1,
              "#f0f921"
             ]
            ],
            "type": "heatmapgl"
           }
          ],
          "histogram": [
           {
            "marker": {
             "pattern": {
              "fillmode": "overlay",
              "size": 10,
              "solidity": 0.2
             }
            },
            "type": "histogram"
           }
          ],
          "histogram2d": [
           {
            "colorbar": {
             "outlinewidth": 0,
             "ticks": ""
            },
            "colorscale": [
             [
              0,
              "#0d0887"
             ],
             [
              0.1111111111111111,
              "#46039f"
             ],
             [
              0.2222222222222222,
              "#7201a8"
             ],
             [
              0.3333333333333333,
              "#9c179e"
             ],
             [
              0.4444444444444444,
              "#bd3786"
             ],
             [
              0.5555555555555556,
              "#d8576b"
             ],
             [
              0.6666666666666666,
              "#ed7953"
             ],
             [
              0.7777777777777778,
              "#fb9f3a"
             ],
             [
              0.8888888888888888,
              "#fdca26"
             ],
             [
              1,
              "#f0f921"
             ]
            ],
            "type": "histogram2d"
           }
          ],
          "histogram2dcontour": [
           {
            "colorbar": {
             "outlinewidth": 0,
             "ticks": ""
            },
            "colorscale": [
             [
              0,
              "#0d0887"
             ],
             [
              0.1111111111111111,
              "#46039f"
             ],
             [
              0.2222222222222222,
              "#7201a8"
             ],
             [
              0.3333333333333333,
              "#9c179e"
             ],
             [
              0.4444444444444444,
              "#bd3786"
             ],
             [
              0.5555555555555556,
              "#d8576b"
             ],
             [
              0.6666666666666666,
              "#ed7953"
             ],
             [
              0.7777777777777778,
              "#fb9f3a"
             ],
             [
              0.8888888888888888,
              "#fdca26"
             ],
             [
              1,
              "#f0f921"
             ]
            ],
            "type": "histogram2dcontour"
           }
          ],
          "mesh3d": [
           {
            "colorbar": {
             "outlinewidth": 0,
             "ticks": ""
            },
            "type": "mesh3d"
           }
          ],
          "parcoords": [
           {
            "line": {
             "colorbar": {
              "outlinewidth": 0,
              "ticks": ""
             }
            },
            "type": "parcoords"
           }
          ],
          "pie": [
           {
            "automargin": true,
            "type": "pie"
           }
          ],
          "scatter": [
           {
            "fillpattern": {
             "fillmode": "overlay",
             "size": 10,
             "solidity": 0.2
            },
            "type": "scatter"
           }
          ],
          "scatter3d": [
           {
            "line": {
             "colorbar": {
              "outlinewidth": 0,
              "ticks": ""
             }
            },
            "marker": {
             "colorbar": {
              "outlinewidth": 0,
              "ticks": ""
             }
            },
            "type": "scatter3d"
           }
          ],
          "scattercarpet": [
           {
            "marker": {
             "colorbar": {
              "outlinewidth": 0,
              "ticks": ""
             }
            },
            "type": "scattercarpet"
           }
          ],
          "scattergeo": [
           {
            "marker": {
             "colorbar": {
              "outlinewidth": 0,
              "ticks": ""
             }
            },
            "type": "scattergeo"
           }
          ],
          "scattergl": [
           {
            "marker": {
             "colorbar": {
              "outlinewidth": 0,
              "ticks": ""
             }
            },
            "type": "scattergl"
           }
          ],
          "scattermapbox": [
           {
            "marker": {
             "colorbar": {
              "outlinewidth": 0,
              "ticks": ""
             }
            },
            "type": "scattermapbox"
           }
          ],
          "scatterpolar": [
           {
            "marker": {
             "colorbar": {
              "outlinewidth": 0,
              "ticks": ""
             }
            },
            "type": "scatterpolar"
           }
          ],
          "scatterpolargl": [
           {
            "marker": {
             "colorbar": {
              "outlinewidth": 0,
              "ticks": ""
             }
            },
            "type": "scatterpolargl"
           }
          ],
          "scatterternary": [
           {
            "marker": {
             "colorbar": {
              "outlinewidth": 0,
              "ticks": ""
             }
            },
            "type": "scatterternary"
           }
          ],
          "surface": [
           {
            "colorbar": {
             "outlinewidth": 0,
             "ticks": ""
            },
            "colorscale": [
             [
              0,
              "#0d0887"
             ],
             [
              0.1111111111111111,
              "#46039f"
             ],
             [
              0.2222222222222222,
              "#7201a8"
             ],
             [
              0.3333333333333333,
              "#9c179e"
             ],
             [
              0.4444444444444444,
              "#bd3786"
             ],
             [
              0.5555555555555556,
              "#d8576b"
             ],
             [
              0.6666666666666666,
              "#ed7953"
             ],
             [
              0.7777777777777778,
              "#fb9f3a"
             ],
             [
              0.8888888888888888,
              "#fdca26"
             ],
             [
              1,
              "#f0f921"
             ]
            ],
            "type": "surface"
           }
          ],
          "table": [
           {
            "cells": {
             "fill": {
              "color": "#EBF0F8"
             },
             "line": {
              "color": "white"
             }
            },
            "header": {
             "fill": {
              "color": "#C8D4E3"
             },
             "line": {
              "color": "white"
             }
            },
            "type": "table"
           }
          ]
         },
         "layout": {
          "annotationdefaults": {
           "arrowcolor": "#2a3f5f",
           "arrowhead": 0,
           "arrowwidth": 1
          },
          "autotypenumbers": "strict",
          "coloraxis": {
           "colorbar": {
            "outlinewidth": 0,
            "ticks": ""
           }
          },
          "colorscale": {
           "diverging": [
            [
             0,
             "#8e0152"
            ],
            [
             0.1,
             "#c51b7d"
            ],
            [
             0.2,
             "#de77ae"
            ],
            [
             0.3,
             "#f1b6da"
            ],
            [
             0.4,
             "#fde0ef"
            ],
            [
             0.5,
             "#f7f7f7"
            ],
            [
             0.6,
             "#e6f5d0"
            ],
            [
             0.7,
             "#b8e186"
            ],
            [
             0.8,
             "#7fbc41"
            ],
            [
             0.9,
             "#4d9221"
            ],
            [
             1,
             "#276419"
            ]
           ],
           "sequential": [
            [
             0,
             "#0d0887"
            ],
            [
             0.1111111111111111,
             "#46039f"
            ],
            [
             0.2222222222222222,
             "#7201a8"
            ],
            [
             0.3333333333333333,
             "#9c179e"
            ],
            [
             0.4444444444444444,
             "#bd3786"
            ],
            [
             0.5555555555555556,
             "#d8576b"
            ],
            [
             0.6666666666666666,
             "#ed7953"
            ],
            [
             0.7777777777777778,
             "#fb9f3a"
            ],
            [
             0.8888888888888888,
             "#fdca26"
            ],
            [
             1,
             "#f0f921"
            ]
           ],
           "sequentialminus": [
            [
             0,
             "#0d0887"
            ],
            [
             0.1111111111111111,
             "#46039f"
            ],
            [
             0.2222222222222222,
             "#7201a8"
            ],
            [
             0.3333333333333333,
             "#9c179e"
            ],
            [
             0.4444444444444444,
             "#bd3786"
            ],
            [
             0.5555555555555556,
             "#d8576b"
            ],
            [
             0.6666666666666666,
             "#ed7953"
            ],
            [
             0.7777777777777778,
             "#fb9f3a"
            ],
            [
             0.8888888888888888,
             "#fdca26"
            ],
            [
             1,
             "#f0f921"
            ]
           ]
          },
          "colorway": [
           "#636efa",
           "#EF553B",
           "#00cc96",
           "#ab63fa",
           "#FFA15A",
           "#19d3f3",
           "#FF6692",
           "#B6E880",
           "#FF97FF",
           "#FECB52"
          ],
          "font": {
           "color": "#2a3f5f"
          },
          "geo": {
           "bgcolor": "white",
           "lakecolor": "white",
           "landcolor": "#E5ECF6",
           "showlakes": true,
           "showland": true,
           "subunitcolor": "white"
          },
          "hoverlabel": {
           "align": "left"
          },
          "hovermode": "closest",
          "mapbox": {
           "style": "light"
          },
          "paper_bgcolor": "white",
          "plot_bgcolor": "#E5ECF6",
          "polar": {
           "angularaxis": {
            "gridcolor": "white",
            "linecolor": "white",
            "ticks": ""
           },
           "bgcolor": "#E5ECF6",
           "radialaxis": {
            "gridcolor": "white",
            "linecolor": "white",
            "ticks": ""
           }
          },
          "scene": {
           "xaxis": {
            "backgroundcolor": "#E5ECF6",
            "gridcolor": "white",
            "gridwidth": 2,
            "linecolor": "white",
            "showbackground": true,
            "ticks": "",
            "zerolinecolor": "white"
           },
           "yaxis": {
            "backgroundcolor": "#E5ECF6",
            "gridcolor": "white",
            "gridwidth": 2,
            "linecolor": "white",
            "showbackground": true,
            "ticks": "",
            "zerolinecolor": "white"
           },
           "zaxis": {
            "backgroundcolor": "#E5ECF6",
            "gridcolor": "white",
            "gridwidth": 2,
            "linecolor": "white",
            "showbackground": true,
            "ticks": "",
            "zerolinecolor": "white"
           }
          },
          "shapedefaults": {
           "line": {
            "color": "#2a3f5f"
           }
          },
          "ternary": {
           "aaxis": {
            "gridcolor": "white",
            "linecolor": "white",
            "ticks": ""
           },
           "baxis": {
            "gridcolor": "white",
            "linecolor": "white",
            "ticks": ""
           },
           "bgcolor": "#E5ECF6",
           "caxis": {
            "gridcolor": "white",
            "linecolor": "white",
            "ticks": ""
           }
          },
          "title": {
           "x": 0.05
          },
          "xaxis": {
           "automargin": true,
           "gridcolor": "white",
           "linecolor": "white",
           "ticks": "",
           "title": {
            "standoff": 15
           },
           "zerolinecolor": "white",
           "zerolinewidth": 2
          },
          "yaxis": {
           "automargin": true,
           "gridcolor": "white",
           "linecolor": "white",
           "ticks": "",
           "title": {
            "standoff": 15
           },
           "zerolinecolor": "white",
           "zerolinewidth": 2
          }
         }
        },
        "title": {
         "text": "Daily anxiety levels in two counties in Maryland"
        },
        "width": 500,
        "xaxis": {
         "anchor": "y",
         "autorange": true,
         "domain": [
          0,
          1
         ],
         "range": [
          5.817966170603015,
          20.436881929396986
         ],
         "title": {
          "text": "Montgomery County, Maryland"
         },
         "type": "linear"
        },
        "yaxis": {
         "anchor": "x",
         "autorange": true,
         "domain": [
          0,
          1
         ],
         "range": [
          6.539445486185383,
          19.746510013814614
         ],
         "title": {
          "text": "Prince George's County, Maryland"
         },
         "type": "linear"
        }
       }
      },
      "image/png": "[encoded data removed]",
      "text/html": [
       "<div>                            <div id=\"a63ef6c4-060c-456b-8ebd-1a2b6035c4d0\" class=\"plotly-graph-div\" style=\"height:500px; width:500px;\"></div>            <script type=\"text/javascript\">                require([\"plotly\"], function(Plotly) {                    window.PLOTLYENV=window.PLOTLYENV || {};                                    if (document.getElementById(\"a63ef6c4-060c-456b-8ebd-1a2b6035c4d0\")) {                    Plotly.newPlot(                        \"a63ef6c4-060c-456b-8ebd-1a2b6035c4d0\",                        [{\"hovertemplate\":\"Montgomery County, Maryland=%{x}\\u003cbr\\u003ePrince George's County, Maryland=%{y}\\u003cextra\\u003e\\u003c\\u002fextra\\u003e\",\"legendgroup\":\"\",\"marker\":{\"color\":\"#636efa\",\"symbol\":\"circle\"},\"mode\":\"markers\",\"name\":\"\",\"orientation\":\"v\",\"showlegend\":false,\"x\":[8.6959183,9.6364421,6.7274253,7.8447261,8.2330063,6.8439045,7.4865565,7.9095611,7.7613229,8.4366582,6.9992568,8.4059026,9.568804,8.5060078,7.3717054,7.2272394,7.0550456,7.4648099,7.5498234,6.8608761,6.71015,9.7833424,9.7383998,10.9020529,14.4443031,12.6574843,10.7456872,11.0725916,10.6491868,10.5550677,10.2479464,9.3612245,9.4934489,11.4087009,10.7822305,11.5641634,13.1024363,12.4875998,11.3453694,9.601428,8.5616603,9.648357,9.6501321,13.0386274,15.0836905,19.0852016,19.5446981,19.2598677,16.5216379,18.0246491,12.4636068,13.4644162,9.7884552,7.9047444,7.9577321,9.1544336],\"xaxis\":\"x\",\"y\":[18.1119522,16.9079308,14.1164854,16.2508105,14.7416011,13.5964521,17.1913825,10.1308206,11.5027576,13.5400342,11.1275789,12.7871825,13.4498492,12.0061846,11.3936217,12.0534358,9.8035146,9.9115632,7.6711768,8.30599,11.4700425,12.1654754,12.6708899,13.9175317,14.1833231,18.9313865,15.8663174,16.6748679,12.4852756,10.4498774,10.3244547,9.6603805,9.2577581,8.6686164,7.354569,10.637628,10.8472691,15.4042694,15.2589565,15.4264995,16.4651647,18.4167249,14.191697,15.66938,13.8218847,14.65973,14.6768367,16.3064427,17.7249185,16.5455734,16.2560998,15.363003,14.1823105,14.5057703,14.0459994,11.006258],\"yaxis\":\"y\",\"type\":\"scatter\"},{\"hovertemplate\":\"\\u003cb\\u003eOLS trendline\\u003c\\u002fb\\u003e\\u003cbr\\u003ePrince George's County, Maryland = 0.310898 * Montgomery County, Maryland + 10.1612\\u003cbr\\u003eR\\u003csup\\u003e2\\u003c\\u002fsup\\u003e=0.124810\\u003cbr\\u003e\\u003cbr\\u003eMontgomery County, Maryland=%{x}\\u003cbr\\u003ePrince George's County, Maryland=%{y} \\u003cb\\u003e(trend)\\u003c\\u002fb\\u003e\\u003cextra\\u003e\\u003c\\u002fextra\\u003e\",\"legendgroup\":\"\",\"marker\":{\"color\":\"#636efa\",\"symbol\":\"circle\"},\"mode\":\"lines\",\"name\":\"\",\"showlegend\":false,\"x\":[6.71015,6.7274253,6.8439045,6.8608761,6.9992568,7.0550456,7.2272394,7.3717054,7.4648099,7.4865565,7.5498234,7.7613229,7.8447261,7.9047444,7.9095611,7.9577321,8.2330063,8.4059026,8.4366582,8.5060078,8.5616603,8.6959183,9.1544336,9.3612245,9.4934489,9.568804,9.601428,9.6364421,9.648357,9.6501321,9.7383998,9.7833424,9.7884552,10.2479464,10.5550677,10.6491868,10.7456872,10.7822305,10.9020529,11.0725916,11.3453694,11.4087009,11.5641634,12.4636068,12.4875998,12.6574843,13.0386274,13.1024363,13.4644162,14.4443031,15.0836905,16.5216379,18.0246491,19.0852016,19.2598677,19.5446981],\"xaxis\":\"x\",\"y\":[12.24741613796291,12.252786998263252,12.289000176100721,12.29427661660672,12.337298932164977,12.354643571686358,12.408178320396079,12.453092544991266,12.482038569826331,12.488799549410329,12.50846911703206,12.574223938545565,12.600153846321492,12.618813429933008,12.620310933467458,12.635287212404887,12.720869475664479,12.774622630385153,12.784184492179344,12.805745160502592,12.823047424594376,12.864787999994128,13.007339598048546,13.071630524126935,13.11273885687349,13.136166624554416,13.146309368613181,13.157195190546357,13.160899511941214,13.161451387400344,13.188893659646412,13.202866234717998,13.204455795220195,13.347310798863347,13.442794269341977,13.472055731527522,13.502057535683,13.51341878319902,13.550671356019851,13.603691537058788,13.688497673961457,13.708187325609249,13.756520342659138,14.03615570930775,14.043615090689613,14.096431882102408,14.2149285996436,14.23476667410937,14.34730558657004,14.65195069548481,14.85073511041242,15.29779042086377,15.765073951977534,16.09479785365673,16.149101236075882,16.237654505060533],\"yaxis\":\"y\",\"type\":\"scatter\"}],                        {\"template\":{\"data\":{\"histogram2dcontour\":[{\"type\":\"histogram2dcontour\",\"colorbar\":{\"outlinewidth\":0,\"ticks\":\"\"},\"colorscale\":[[0.0,\"#0d0887\"],[0.1111111111111111,\"#46039f\"],[0.2222222222222222,\"#7201a8\"],[0.3333333333333333,\"#9c179e\"],[0.4444444444444444,\"#bd3786\"],[0.5555555555555556,\"#d8576b\"],[0.6666666666666666,\"#ed7953\"],[0.7777777777777778,\"#fb9f3a\"],[0.8888888888888888,\"#fdca26\"],[1.0,\"#f0f921\"]]}],\"choropleth\":[{\"type\":\"choropleth\",\"colorbar\":{\"outlinewidth\":0,\"ticks\":\"\"}}],\"histogram2d\":[{\"type\":\"histogram2d\",\"colorbar\":{\"outlinewidth\":0,\"ticks\":\"\"},\"colorscale\":[[0.0,\"#0d0887\"],[0.1111111111111111,\"#46039f\"],[0.2222222222222222,\"#7201a8\"],[0.3333333333333333,\"#9c179e\"],[0.4444444444444444,\"#bd3786\"],[0.5555555555555556,\"#d8576b\"],[0.6666666666666666,\"#ed7953\"],[0.7777777777777778,\"#fb9f3a\"],[0.8888888888888888,\"#fdca26\"],[1.0,\"#f0f921\"]]}],\"heatmap\":[{\"type\":\"heatmap\",\"colorbar\":{\"outlinewidth\":0,\"ticks\":\"\"},\"colorscale\":[[0.0,\"#0d0887\"],[0.1111111111111111,\"#46039f\"],[0.2222222222222222,\"#7201a8\"],[0.3333333333333333,\"#9c179e\"],[0.4444444444444444,\"#bd3786\"],[0.5555555555555556,\"#d8576b\"],[0.6666666666666666,\"#ed7953\"],[0.7777777777777778,\"#fb9f3a\"],[0.8888888888888888,\"#fdca26\"],[1.0,\"#f0f921\"]]}],\"heatmapgl\":[{\"type\":\"heatmapgl\",\"colorbar\":{\"outlinewidth\":0,\"ticks\":\"\"},\"colorscale\":[[0.0,\"#0d0887\"],[0.1111111111111111,\"#46039f\"],[0.2222222222222222,\"#7201a8\"],[0.3333333333333333,\"#9c179e\"],[0.4444444444444444,\"#bd3786\"],[0.5555555555555556,\"#d8576b\"],[0.6666666666666666,\"#ed7953\"],[0.7777777777777778,\"#fb9f3a\"],[0.8888888888888888,\"#fdca26\"],[1.0,\"#f0f921\"]]}],\"contourcarpet\":[{\"type\":\"contourcarpet\",\"colorbar\":{\"outlinewidth\":0,\"ticks\":\"\"}}],\"contour\":[{\"type\":\"contour\",\"colorbar\":{\"outlinewidth\":0,\"ticks\":\"\"},\"colorscale\":[[0.0,\"#0d0887\"],[0.1111111111111111,\"#46039f\"],[0.2222222222222222,\"#7201a8\"],[0.3333333333333333,\"#9c179e\"],[0.4444444444444444,\"#bd3786\"],[0.5555555555555556,\"#d8576b\"],[0.6666666666666666,\"#ed7953\"],[0.7777777777777778,\"#fb9f3a\"],[0.8888888888888888,\"#fdca26\"],[1.0,\"#f0f921\"]]}],\"surface\":[{\"type\":\"surface\",\"colorbar\":{\"outlinewidth\":0,\"ticks\":\"\"},\"colorscale\":[[0.0,\"#0d0887\"],[0.1111111111111111,\"#46039f\"],[0.2222222222222222,\"#7201a8\"],[0.3333333333333333,\"#9c179e\"],[0.4444444444444444,\"#bd3786\"],[0.5555555555555556,\"#d8576b\"],[0.6666666666666666,\"#ed7953\"],[0.7777777777777778,\"#fb9f3a\"],[0.8888888888888888,\"#fdca26\"],[1.0,\"#f0f921\"]]}],\"mesh3d\":[{\"type\":\"mesh3d\",\"colorbar\":{\"outlinewidth\":0,\"ticks\":\"\"}}],\"scatter\":[{\"fillpattern\":{\"fillmode\":\"overlay\",\"size\":10,\"solidity\":0.2},\"type\":\"scatter\"}],\"parcoords\":[{\"type\":\"parcoords\",\"line\":{\"colorbar\":{\"outlinewidth\":0,\"ticks\":\"\"}}}],\"scatterpolargl\":[{\"type\":\"scatterpolargl\",\"marker\":{\"colorbar\":{\"outlinewidth\":0,\"ticks\":\"\"}}}],\"bar\":[{\"error_x\":{\"color\":\"#2a3f5f\"},\"error_y\":{\"color\":\"#2a3f5f\"},\"marker\":{\"line\":{\"color\":\"#E5ECF6\",\"width\":0.5},\"pattern\":{\"fillmode\":\"overlay\",\"size\":10,\"solidity\":0.2}},\"type\":\"bar\"}],\"scattergeo\":[{\"type\":\"scattergeo\",\"marker\":{\"colorbar\":{\"outlinewidth\":0,\"ticks\":\"\"}}}],\"scatterpolar\":[{\"type\":\"scatterpolar\",\"marker\":{\"colorbar\":{\"outlinewidth\":0,\"ticks\":\"\"}}}],\"histogram\":[{\"marker\":{\"pattern\":{\"fillmode\":\"overlay\",\"size\":10,\"solidity\":0.2}},\"type\":\"histogram\"}],\"scattergl\":[{\"type\":\"scattergl\",\"marker\":{\"colorbar\":{\"outlinewidth\":0,\"ticks\":\"\"}}}],\"scatter3d\":[{\"type\":\"scatter3d\",\"line\":{\"colorbar\":{\"outlinewidth\":0,\"ticks\":\"\"}},\"marker\":{\"colorbar\":{\"outlinewidth\":0,\"ticks\":\"\"}}}],\"scattermapbox\":[{\"type\":\"scattermapbox\",\"marker\":{\"colorbar\":{\"outlinewidth\":0,\"ticks\":\"\"}}}],\"scatterternary\":[{\"type\":\"scatterternary\",\"marker\":{\"colorbar\":{\"outlinewidth\":0,\"ticks\":\"\"}}}],\"scattercarpet\":[{\"type\":\"scattercarpet\",\"marker\":{\"colorbar\":{\"outlinewidth\":0,\"ticks\":\"\"}}}],\"carpet\":[{\"aaxis\":{\"endlinecolor\":\"#2a3f5f\",\"gridcolor\":\"white\",\"linecolor\":\"white\",\"minorgridcolor\":\"white\",\"startlinecolor\":\"#2a3f5f\"},\"baxis\":{\"endlinecolor\":\"#2a3f5f\",\"gridcolor\":\"white\",\"linecolor\":\"white\",\"minorgridcolor\":\"white\",\"startlinecolor\":\"#2a3f5f\"},\"type\":\"carpet\"}],\"table\":[{\"cells\":{\"fill\":{\"color\":\"#EBF0F8\"},\"line\":{\"color\":\"white\"}},\"header\":{\"fill\":{\"color\":\"#C8D4E3\"},\"line\":{\"color\":\"white\"}},\"type\":\"table\"}],\"barpolar\":[{\"marker\":{\"line\":{\"color\":\"#E5ECF6\",\"width\":0.5},\"pattern\":{\"fillmode\":\"overlay\",\"size\":10,\"solidity\":0.2}},\"type\":\"barpolar\"}],\"pie\":[{\"automargin\":true,\"type\":\"pie\"}]},\"layout\":{\"autotypenumbers\":\"strict\",\"colorway\":[\"#636efa\",\"#EF553B\",\"#00cc96\",\"#ab63fa\",\"#FFA15A\",\"#19d3f3\",\"#FF6692\",\"#B6E880\",\"#FF97FF\",\"#FECB52\"],\"font\":{\"color\":\"#2a3f5f\"},\"hovermode\":\"closest\",\"hoverlabel\":{\"align\":\"left\"},\"paper_bgcolor\":\"white\",\"plot_bgcolor\":\"#E5ECF6\",\"polar\":{\"bgcolor\":\"#E5ECF6\",\"angularaxis\":{\"gridcolor\":\"white\",\"linecolor\":\"white\",\"ticks\":\"\"},\"radialaxis\":{\"gridcolor\":\"white\",\"linecolor\":\"white\",\"ticks\":\"\"}},\"ternary\":{\"bgcolor\":\"#E5ECF6\",\"aaxis\":{\"gridcolor\":\"white\",\"linecolor\":\"white\",\"ticks\":\"\"},\"baxis\":{\"gridcolor\":\"white\",\"linecolor\":\"white\",\"ticks\":\"\"},\"caxis\":{\"gridcolor\":\"white\",\"linecolor\":\"white\",\"ticks\":\"\"}},\"coloraxis\":{\"colorbar\":{\"outlinewidth\":0,\"ticks\":\"\"}},\"colorscale\":{\"sequential\":[[0.0,\"#0d0887\"],[0.1111111111111111,\"#46039f\"],[0.2222222222222222,\"#7201a8\"],[0.3333333333333333,\"#9c179e\"],[0.4444444444444444,\"#bd3786\"],[0.5555555555555556,\"#d8576b\"],[0.6666666666666666,\"#ed7953\"],[0.7777777777777778,\"#fb9f3a\"],[0.8888888888888888,\"#fdca26\"],[1.0,\"#f0f921\"]],\"sequentialminus\":[[0.0,\"#0d0887\"],[0.1111111111111111,\"#46039f\"],[0.2222222222222222,\"#7201a8\"],[0.3333333333333333,\"#9c179e\"],[0.4444444444444444,\"#bd3786\"],[0.5555555555555556,\"#d8576b\"],[0.6666666666666666,\"#ed7953\"],[0.7777777777777778,\"#fb9f3a\"],[0.8888888888888888,\"#fdca26\"],[1.0,\"#f0f921\"]],\"diverging\":[[0,\"#8e0152\"],[0.1,\"#c51b7d\"],[0.2,\"#de77ae\"],[0.3,\"#f1b6da\"],[0.4,\"#fde0ef\"],[0.5,\"#f7f7f7\"],[0.6,\"#e6f5d0\"],[0.7,\"#b8e186\"],[0.8,\"#7fbc41\"],[0.9,\"#4d9221\"],[1,\"#276419\"]]},\"xaxis\":{\"gridcolor\":\"white\",\"linecolor\":\"white\",\"ticks\":\"\",\"title\":{\"standoff\":15},\"zerolinecolor\":\"white\",\"automargin\":true,\"zerolinewidth\":2},\"yaxis\":{\"gridcolor\":\"white\",\"linecolor\":\"white\",\"ticks\":\"\",\"title\":{\"standoff\":15},\"zerolinecolor\":\"white\",\"automargin\":true,\"zerolinewidth\":2},\"scene\":{\"xaxis\":{\"backgroundcolor\":\"#E5ECF6\",\"gridcolor\":\"white\",\"linecolor\":\"white\",\"showbackground\":true,\"ticks\":\"\",\"zerolinecolor\":\"white\",\"gridwidth\":2},\"yaxis\":{\"backgroundcolor\":\"#E5ECF6\",\"gridcolor\":\"white\",\"linecolor\":\"white\",\"showbackground\":true,\"ticks\":\"\",\"zerolinecolor\":\"white\",\"gridwidth\":2},\"zaxis\":{\"backgroundcolor\":\"#E5ECF6\",\"gridcolor\":\"white\",\"linecolor\":\"white\",\"showbackground\":true,\"ticks\":\"\",\"zerolinecolor\":\"white\",\"gridwidth\":2}},\"shapedefaults\":{\"line\":{\"color\":\"#2a3f5f\"}},\"annotationdefaults\":{\"arrowcolor\":\"#2a3f5f\",\"arrowhead\":0,\"arrowwidth\":1},\"geo\":{\"bgcolor\":\"white\",\"landcolor\":\"#E5ECF6\",\"subunitcolor\":\"white\",\"showland\":true,\"showlakes\":true,\"lakecolor\":\"white\"},\"title\":{\"x\":0.05},\"mapbox\":{\"style\":\"light\"}}},\"xaxis\":{\"anchor\":\"y\",\"domain\":[0.0,1.0],\"title\":{\"text\":\"Montgomery County, Maryland\"}},\"yaxis\":{\"anchor\":\"x\",\"domain\":[0.0,1.0],\"title\":{\"text\":\"Prince George's County, Maryland\"}},\"legend\":{\"tracegroupgap\":0},\"title\":{\"text\":\"Daily anxiety levels in two counties in Maryland\"},\"height\":500,\"width\":500},                        {\"responsive\": true}                    ).then(function(){\n",
       "                            \n",
       "var gd = document.getElementById('a63ef6c4-060c-456b-8ebd-1a2b6035c4d0');\n",
       "var x = new MutationObserver(function (mutations, observer) {{\n",
       "        var display = window.getComputedStyle(gd).display;\n",
       "        if (!display || display === 'none') {{\n",
       "            console.log([gd, 'removed!']);\n",
       "            Plotly.purge(gd);\n",
       "            observer.disconnect();\n",
       "        }}\n",
       "}});\n",
       "\n",
       "// Listen for the removal of the full notebook cells\n",
       "var notebookContainer = gd.closest('#notebook-container');\n",
       "if (notebookContainer) {{\n",
       "    x.observe(notebookContainer, {childList: true});\n",
       "}}\n",
       "\n",
       "// Listen for the clearing of the current output cell\n",
       "var outputEl = gd.closest('.output');\n",
       "if (outputEl) {{\n",
       "    x.observe(outputEl, {childList: true});\n",
       "}}\n",
       "\n",
       "                        })                };                });            </script>        </div>"
      ]
     },
     "metadata": {},
     "output_type": "display_data"
    }
   ],
   "source": [
    "px_fig = px.scatter(mc_pg_wide, \n",
    "                    x=\"Montgomery County, Maryland\", \n",
    "                    y=\"Prince George's County, Maryland\",\n",
    "                    height=500,\n",
    "                    width= 500,\n",
    "                    title = 'Daily anxiety levels in two counties in Maryland',\n",
    "                    # adds the OLS line of best fit\n",
    "                    trendline='ols'\n",
    "                 # uncomment to draw marginal histograms:\n",
    "                  # , marginal_x='histogram' \n",
    "                  #  ,  marginal_y='histogram' \n",
    "                   )\n",
    "\n",
    "px_fig.show()\n"
   ]
  }
 ],
 "metadata": {
  "kernelspec": {
   "display_name": "Python 3 (ipykernel)",
   "language": "python",
   "name": "python3"
  },
  "language_info": {
   "codemirror_mode": {
    "name": "ipython",
    "version": 3
   },
   "file_extension": ".py",
   "mimetype": "text/x-python",
   "name": "python",
   "nbconvert_exporter": "python",
   "pygments_lexer": "ipython3",
   "version": "3.12.2"
  }
 },
 "nbformat": 4,
 "nbformat_minor": 5
}
