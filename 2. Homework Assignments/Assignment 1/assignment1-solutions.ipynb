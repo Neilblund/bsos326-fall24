{
 "cells": [
  {
   "cell_type": "markdown",
   "id": "3442aec9-4ee3-4c9d-ad6d-123bd7458b1f",
   "metadata": {},
   "source": [
    "# Assignment 1: Working with Data\n",
    "\n",
    "This assignment covers **Chapters 1-4** from the [textbook](https://wesmckinney.com/book/) as well as lecture material from Weeks 1-3. Please complete this assignment by providing answers in cells after the question. Use **Code** cells to write and run any code you need to answer the question and **Markdown** cells to write out answers in words. After you are finished with the assignment, remember to download it as an **HTML file** and submit it in **ELMS**."
   ]
  },
  {
   "cell_type": "code",
   "execution_count": 6,
   "id": "8da486d1-efc6-4cc1-976f-425fa8a65c86",
   "metadata": {
    "tags": []
   },
   "outputs": [],
   "source": [
    "import numpy as np\n",
    "import pandas as pd"
   ]
  },
  {
   "cell_type": "markdown",
   "id": "1f6b7c9b-b927-4d63-8c16-57b5f786525c",
   "metadata": {
    "tags": []
   },
   "source": [
    "### Question 1. Working with Sequences\n",
    "\n",
    "Answer the following questions by explaining the process, then show an example to show how it might be done. Create a list/array with a few numbers to demonstrate it. \n"
   ]
  },
  {
   "cell_type": "code",
   "execution_count": 28,
   "id": "e71ac140-2172-4334-9822-0e6c5d43f62a",
   "metadata": {},
   "outputs": [],
   "source": [
    "# example data for the following questions: \n",
    "my_list = [0, 1, 1, 2, 3, 5, 8, 13]"
   ]
  },
  {
   "cell_type": "markdown",
   "id": "b872ef32-4388-40f7-8c6f-81ecafbe7def",
   "metadata": {},
   "source": [
    "**a)** What would be a way to multiply each number in a **list** by 10 and get the output as a list?\n"
   ]
  },
  {
   "cell_type": "code",
   "execution_count": 29,
   "id": "66d272be-ed5e-4d7b-919c-a347ec651ea3",
   "metadata": {},
   "outputs": [
    {
     "data": {
      "text/plain": [
       "[0, 10, 10, 20, 30, 50, 80, 130]"
      ]
     },
     "execution_count": 29,
     "metadata": {},
     "output_type": "execute_result"
    }
   ],
   "source": [
    "# using a loop\n",
    "output = []\n",
    "for i in my_list:\n",
    "    output.append(i * 10) \n",
    "\n",
    "output"
   ]
  },
  {
   "cell_type": "code",
   "execution_count": 30,
   "id": "b423370a-df5f-4af9-adb5-92aa3625a67e",
   "metadata": {},
   "outputs": [
    {
     "data": {
      "text/plain": [
       "[0, 10, 10, 20, 30, 50, 80, 130]"
      ]
     },
     "execution_count": 30,
     "metadata": {},
     "output_type": "execute_result"
    }
   ],
   "source": [
    "# using list comprehension\n",
    "\n",
    "output = [i * 10 for i in my_list]\n",
    "output"
   ]
  },
  {
   "cell_type": "markdown",
   "id": "33200607-d1a5-4c55-b072-4d45325e4cb1",
   "metadata": {},
   "source": [
    "**b)** What would be a way to multiply each number in an **array** by 10 and get the output as a list?\n"
   ]
  },
  {
   "cell_type": "code",
   "execution_count": 31,
   "id": "e6ccb4cc-ab77-47b0-b505-d3332d03881f",
   "metadata": {},
   "outputs": [
    {
     "data": {
      "text/plain": [
       "[0, 10, 10, 20, 30, 50, 80, 130]"
      ]
     },
     "execution_count": 31,
     "metadata": {},
     "output_type": "execute_result"
    }
   ],
   "source": [
    "# convert the list to a numpy array\n",
    "myrange_array = np.array(my_list)\n",
    "# numpy expressions are already vectorized, so you don't need a loop:\n",
    "output = myrange_array * 10\n",
    "\n",
    "# now convert it back to a list object: \n",
    "output.tolist()\n"
   ]
  },
  {
   "cell_type": "markdown",
   "id": "9a0ba2c5-ede1-42db-abe4-46acc02730b9",
   "metadata": {},
   "source": [
    "**c)** What would be a way to multiply each number in an **array** by 10 and get the output as an array?"
   ]
  },
  {
   "cell_type": "code",
   "execution_count": 148,
   "id": "5fc1502f-fdff-4b41-a85a-f650798f701c",
   "metadata": {},
   "outputs": [
    {
     "data": {
      "text/plain": [
       "array([  0,  10,  10,  20,  30,  50,  80, 130])"
      ]
     },
     "execution_count": 148,
     "metadata": {},
     "output_type": "execute_result"
    }
   ],
   "source": [
    "myrange_array = np.array(my_list)\n",
    "output = myrange_array * 10\n",
    "\n",
    "output\n",
    "\n",
    "# alternatively, you could use: \n",
    "# output=np.multiply(my_list, 10)"
   ]
  },
  {
   "cell_type": "markdown",
   "id": "797a245a-14b5-47ce-bd29-d048d942e5c9",
   "metadata": {
    "tags": []
   },
   "source": [
    "### Question 2. World Population\n",
    "\n",
    "**a)** You should have a CSV file called `world_population.csv` in the folder that this notebook is in. Create a list called `pop` that contains the values within `world_population.csv`. The values within `pop` should be integers.\n",
    "\n",
    "*Hint:* You can use the `int` function to convert individual strings into integers."
   ]
  },
  {
   "cell_type": "code",
   "execution_count": 39,
   "id": "e1b30abb-d9ca-4a16-8833-c38573d83a54",
   "metadata": {
    "tags": []
   },
   "outputs": [
    {
     "name": "stdout",
     "output_type": "stream",
     "text": [
      "[2557628654, 2594939877, 2636772306, 2682053389, 2730228104, 2782098943, 2835299673, 2891349717, 2948137248, 3000716593, 3043001508, 3083966929, 3140093217, 3209827882, 3281201306, 3350425793, 3420677923, 3490333715, 3562313822, 3637159050, 3712697742, 3790326948, 3866568653, 3942096442, 4016608813, 4089083233, 4160185010, 4232084578, 4304105753, 4379013942, 4451362735, 4534410125, 4614566561, 4695736743, 4774569391, 4856462699, 4940571232, 5027200492, 5114557167, 5201440110, 5288955934, 5371585922, 5456136278, 5538268316, 5618682132, 5699202985, 5779440593, 5857972543, 5935213248, 6012074922, 6088571383, 6165219247, 6242016348, 6318590956, 6395699509, 6473044732, 6551263534, 6629913759, 6709049780, 6788214394, 6866332358, 6944055583, 7022349283, 7101027895, 7178722893, 7256490011]\n"
     ]
    }
   ],
   "source": [
    "import csv # library for reading csv data\n",
    "pop =[] # an empty list to hold results\n",
    "with open('world_population.csv', 'r') as file: \n",
    "    reader = csv.reader(file)\n",
    "    #Read the column \n",
    "    for row in reader:\n",
    "        value = row[0] # get the first column \n",
    "        \n",
    "        pop.append(int(value)) # convert to integer and append\n",
    "\n",
    "print(pop)\n",
    "\n"
   ]
  },
  {
   "cell_type": "code",
   "execution_count": 145,
   "id": "6a6021bb-fbd9-4fef-9c13-ba421cafa1d6",
   "metadata": {},
   "outputs": [
    {
     "name": "stdout",
     "output_type": "stream",
     "text": [
      "[2557628654, 2594939877, 2636772306, 2682053389, 2730228104, 2782098943, 2835299673, 2891349717, 2948137248, 3000716593, 3043001508, 3083966929, 3140093217, 3209827882, 3281201306, 3350425793, 3420677923, 3490333715, 3562313822, 3637159050, 3712697742, 3790326948, 3866568653, 3942096442, 4016608813, 4089083233, 4160185010, 4232084578, 4304105753, 4379013942, 4451362735, 4534410125, 4614566561, 4695736743, 4774569391, 4856462699, 4940571232, 5027200492, 5114557167, 5201440110, 5288955934, 5371585922, 5456136278, 5538268316, 5618682132, 5699202985, 5779440593, 5857972543, 5935213248, 6012074922, 6088571383, 6165219247, 6242016348, 6318590956, 6395699509, 6473044732, 6551263534, 6629913759, 6709049780, 6788214394, 6866332358, 6944055583, 7022349283, 7101027895, 7178722893, 7256490011]\n"
     ]
    }
   ],
   "source": [
    "# Alternatively, you could use a list comprehension\n",
    "def mean_and_std(x):\n",
    "    mean_and_std_array = np.array(x)\n",
    "    mean_pop = np.mean(mean_and_std_array)\n",
    "    std_pop = np.std(mean_and_std_array)\n",
    "    return mean_pop, std_pop\n",
    "\n",
    "print(\"Mean population:\", mean_pop)\n",
    "print(\"Standard deviation of the population:\", std_pop)print(pop)"
   ]
  },
  {
   "cell_type": "markdown",
   "id": "aaa59529-5cc6-49a0-8934-a72f2eac44f3",
   "metadata": {},
   "source": [
    "You could also use pandas here to create a data frame. The only quirk is that pandas assumes the first row of a csv file should have the column names. We can override this behavior by giving a list of new column names as an additional argument to `pd.read_csv()`"
   ]
  },
  {
   "cell_type": "code",
   "execution_count": 51,
   "id": "ab619277-5efb-41f6-83a8-de9211db239d",
   "metadata": {},
   "outputs": [
    {
     "data": {
      "text/html": [
       "<div>\n",
       "<style scoped>\n",
       "    .dataframe tbody tr th:only-of-type {\n",
       "        vertical-align: middle;\n",
       "    }\n",
       "\n",
       "    .dataframe tbody tr th {\n",
       "        vertical-align: top;\n",
       "    }\n",
       "\n",
       "    .dataframe thead th {\n",
       "        text-align: right;\n",
       "    }\n",
       "</style>\n",
       "<table border=\"1\" class=\"dataframe\">\n",
       "  <thead>\n",
       "    <tr style=\"text-align: right;\">\n",
       "      <th></th>\n",
       "      <th>population</th>\n",
       "    </tr>\n",
       "  </thead>\n",
       "  <tbody>\n",
       "    <tr>\n",
       "      <th>0</th>\n",
       "      <td>2557628654</td>\n",
       "    </tr>\n",
       "    <tr>\n",
       "      <th>1</th>\n",
       "      <td>2594939877</td>\n",
       "    </tr>\n",
       "    <tr>\n",
       "      <th>2</th>\n",
       "      <td>2636772306</td>\n",
       "    </tr>\n",
       "    <tr>\n",
       "      <th>3</th>\n",
       "      <td>2682053389</td>\n",
       "    </tr>\n",
       "    <tr>\n",
       "      <th>4</th>\n",
       "      <td>2730228104</td>\n",
       "    </tr>\n",
       "  </tbody>\n",
       "</table>\n",
       "</div>"
      ],
      "text/plain": [
       "   population\n",
       "0  2557628654\n",
       "1  2594939877\n",
       "2  2636772306\n",
       "3  2682053389\n",
       "4  2730228104"
      ]
     },
     "execution_count": 51,
     "metadata": {},
     "output_type": "execute_result"
    }
   ],
   "source": [
    "popdf = pd.read_csv('world_population.csv', names=['population'])\n",
    "popdf.head()"
   ]
  },
  {
   "cell_type": "markdown",
   "id": "2f5d5093-8d4f-4c59-b55e-42fe5dda706b",
   "metadata": {},
   "source": [
    "**b)** Using list comprehension, find the world population in billions of people. For example, the first value should be `2.557628654`. The output should be a list.\n"
   ]
  },
  {
   "cell_type": "code",
   "execution_count": null,
   "id": "a88e9dce-5677-44ac-a4d9-aa7f632ead37",
   "metadata": {
    "tags": []
   },
   "outputs": [],
   "source": [
    "# 1e9 is scientific notation, so its equivalent to writing 1000000000\n",
    "[i/1e9 for i in pop] \n"
   ]
  },
  {
   "cell_type": "markdown",
   "id": "05c341ce-c610-4aae-ba84-36ef8b11277a",
   "metadata": {},
   "source": [
    "**c)** Find the world population in billions of people again, this time by first converting the list into an array. The output should also be an array."
   ]
  },
  {
   "cell_type": "code",
   "execution_count": 57,
   "id": "a3701321-b93f-4508-a48c-7ed8afdb102a",
   "metadata": {
    "tags": []
   },
   "outputs": [
    {
     "data": {
      "text/plain": [
       "array([2.55762865, 2.59493988, 2.63677231, 2.68205339, 2.7302281 ,\n",
       "       2.78209894, 2.83529967, 2.89134972, 2.94813725, 3.00071659,\n",
       "       3.04300151, 3.08396693, 3.14009322, 3.20982788, 3.28120131,\n",
       "       3.35042579, 3.42067792, 3.49033371, 3.56231382, 3.63715905,\n",
       "       3.71269774, 3.79032695, 3.86656865, 3.94209644, 4.01660881,\n",
       "       4.08908323, 4.16018501, 4.23208458, 4.30410575, 4.37901394,\n",
       "       4.45136274, 4.53441012, 4.61456656, 4.69573674, 4.77456939,\n",
       "       4.8564627 , 4.94057123, 5.02720049, 5.11455717, 5.20144011,\n",
       "       5.28895593, 5.37158592, 5.45613628, 5.53826832, 5.61868213,\n",
       "       5.69920299, 5.77944059, 5.85797254, 5.93521325, 6.01207492,\n",
       "       6.08857138, 6.16521925, 6.24201635, 6.31859096, 6.39569951,\n",
       "       6.47304473, 6.55126353, 6.62991376, 6.70904978, 6.78821439,\n",
       "       6.86633236, 6.94405558, 7.02234928, 7.10102789, 7.17872289,\n",
       "       7.25649001])"
      ]
     },
     "execution_count": 57,
     "metadata": {},
     "output_type": "execute_result"
    }
   ],
   "source": [
    "poparray = np.array(pop)\n",
    "\n",
    "poparray/1e9\n",
    "\n"
   ]
  },
  {
   "cell_type": "markdown",
   "id": "83e2d5fb-ed0d-4d79-9b62-85d81996a2f5",
   "metadata": {},
   "source": [
    "### Question 3. Functions\n",
    "\n",
    "Write a function called `mean_and_sd` that takes in a sequence of numbers and outputs two values: the mean and the standard deviation of that sequence of numbers. Make sure that it works with all of the following: lists, tuples, arrays, and Series.\n",
    "\n",
    "Use this function to find the mean and standard deviation of the world populations from Question 2.\n",
    "\n",
    "*Hint:* There are multiple ways to get the mean and the standard deviation. Some types of objects have methods that can do this!"
   ]
  },
  {
   "cell_type": "code",
   "execution_count": 113,
   "id": "89e8b47c-c7d9-47c9-87f7-e2d1d8189a0b",
   "metadata": {},
   "outputs": [],
   "source": [
    "# using Numpy functions\n",
    "def np_mean_and_sd(numbers):\n",
    "    mu = np.mean(numbers)\n",
    "    sigma = np.std(numbers)\n",
    "    return mu, sigma\n",
    "    \n"
   ]
  },
  {
   "cell_type": "code",
   "execution_count": 70,
   "id": "d8f9788f-9160-4dfb-992d-653236ff8111",
   "metadata": {},
   "outputs": [
    {
     "data": {
      "text/plain": [
       "(4740454069.030303, 1436253511.3637478)"
      ]
     },
     "execution_count": 70,
     "metadata": {},
     "output_type": "execute_result"
    }
   ],
   "source": [
    "np_mean_and_sd(pop) # test on a list"
   ]
  },
  {
   "cell_type": "code",
   "execution_count": 71,
   "id": "46227d02-f3f2-4c8a-840e-859cbb58db90",
   "metadata": {},
   "outputs": [
    {
     "data": {
      "text/plain": [
       "(4740454069.030303, 1436253511.3637478)"
      ]
     },
     "execution_count": 71,
     "metadata": {},
     "output_type": "execute_result"
    }
   ],
   "source": [
    "np_mean_and_sd(tuple(pop)) # test on a tuple"
   ]
  },
  {
   "cell_type": "code",
   "execution_count": 72,
   "id": "ece239be-03a8-4bc9-8e28-24b7dd2de952",
   "metadata": {},
   "outputs": [
    {
     "data": {
      "text/plain": [
       "(4740454069.030303, 1436253511.3637478)"
      ]
     },
     "execution_count": 72,
     "metadata": {},
     "output_type": "execute_result"
    }
   ],
   "source": [
    "np_mean_and_sd(np.array(pop)) # test on an array"
   ]
  },
  {
   "cell_type": "code",
   "execution_count": 73,
   "id": "d06b3f33-0af1-4bbf-a8c3-a791c4d28af9",
   "metadata": {},
   "outputs": [
    {
     "data": {
      "text/plain": [
       "(4740454069.030303, 1436253511.3637478)"
      ]
     },
     "execution_count": 73,
     "metadata": {},
     "output_type": "execute_result"
    }
   ],
   "source": [
    "np_mean_and_sd(pd.Series(pop)) # test on a series"
   ]
  },
  {
   "cell_type": "code",
   "execution_count": 112,
   "id": "3df02c2d-df89-458b-8c07-f5edcebdf46c",
   "metadata": {},
   "outputs": [],
   "source": [
    "# using pandas\n",
    "def pandas_mean_and_sd(numbers):\n",
    "    number_series = pd.Series(numbers)\n",
    "    mu = number_series.mean()\n",
    "    sigma = number_series.std()\n",
    "    return mu, sigma\n",
    "\n"
   ]
  },
  {
   "cell_type": "code",
   "execution_count": 86,
   "id": "0844019f-bcf7-4162-b1d7-dd0717f156f0",
   "metadata": {},
   "outputs": [
    {
     "data": {
      "text/plain": [
       "(4740454069.030303, 1447259446.3473682)"
      ]
     },
     "execution_count": 86,
     "metadata": {},
     "output_type": "execute_result"
    }
   ],
   "source": [
    "pandas_mean_and_sd(pop)"
   ]
  },
  {
   "cell_type": "code",
   "execution_count": 101,
   "id": "6e63336d-e5d7-4991-b96b-5f10d269b98f",
   "metadata": {},
   "outputs": [
    {
     "data": {
      "text/plain": [
       "(4740454069.030303, 1447259446.3473682)"
      ]
     },
     "execution_count": 101,
     "metadata": {},
     "output_type": "execute_result"
    }
   ],
   "source": [
    "# using python only (this is comparatively slower for large lists, but maybe faster for short ones)\n",
    "def py_mean_and_sd(numbers):\n",
    "    \n",
    "    mu = sum(numbers)/len(numbers)\n",
    "    # get sum of squared deviations\n",
    "    ssd= sum([(i-mu)**2 for i in numbers])\n",
    "    sigma = (ssd /(len(numbers)-1)  ) **.5       \n",
    "               \n",
    "    return mu, sigma\n",
    "\n",
    "py_mean_and_sd(pop) # test on a list"
   ]
  },
  {
   "cell_type": "code",
   "execution_count": 155,
   "id": "4f207ef8-ef99-41be-8932-59bac8214730",
   "metadata": {},
   "outputs": [
    {
     "data": {
      "text/html": [
       "<div>\n",
       "<style scoped>\n",
       "    .dataframe tbody tr th:only-of-type {\n",
       "        vertical-align: middle;\n",
       "    }\n",
       "\n",
       "    .dataframe tbody tr th {\n",
       "        vertical-align: top;\n",
       "    }\n",
       "\n",
       "    .dataframe thead th {\n",
       "        text-align: right;\n",
       "    }\n",
       "</style>\n",
       "<table border=\"1\" class=\"dataframe\">\n",
       "  <thead>\n",
       "    <tr style=\"text-align: right;\">\n",
       "      <th></th>\n",
       "      <th>population</th>\n",
       "    </tr>\n",
       "  </thead>\n",
       "  <tbody>\n",
       "    <tr>\n",
       "      <th>0</th>\n",
       "      <td>2.557629</td>\n",
       "    </tr>\n",
       "    <tr>\n",
       "      <th>1</th>\n",
       "      <td>2.594940</td>\n",
       "    </tr>\n",
       "    <tr>\n",
       "      <th>2</th>\n",
       "      <td>2.636772</td>\n",
       "    </tr>\n",
       "    <tr>\n",
       "      <th>3</th>\n",
       "      <td>2.682053</td>\n",
       "    </tr>\n",
       "    <tr>\n",
       "      <th>4</th>\n",
       "      <td>2.730228</td>\n",
       "    </tr>\n",
       "    <tr>\n",
       "      <th>...</th>\n",
       "      <td>...</td>\n",
       "    </tr>\n",
       "    <tr>\n",
       "      <th>61</th>\n",
       "      <td>6.944056</td>\n",
       "    </tr>\n",
       "    <tr>\n",
       "      <th>62</th>\n",
       "      <td>7.022349</td>\n",
       "    </tr>\n",
       "    <tr>\n",
       "      <th>63</th>\n",
       "      <td>7.101028</td>\n",
       "    </tr>\n",
       "    <tr>\n",
       "      <th>64</th>\n",
       "      <td>7.178723</td>\n",
       "    </tr>\n",
       "    <tr>\n",
       "      <th>65</th>\n",
       "      <td>7.256490</td>\n",
       "    </tr>\n",
       "  </tbody>\n",
       "</table>\n",
       "<p>66 rows × 1 columns</p>\n",
       "</div>"
      ],
      "text/plain": [
       "    population\n",
       "0     2.557629\n",
       "1     2.594940\n",
       "2     2.636772\n",
       "3     2.682053\n",
       "4     2.730228\n",
       "..         ...\n",
       "61    6.944056\n",
       "62    7.022349\n",
       "63    7.101028\n",
       "64    7.178723\n",
       "65    7.256490\n",
       "\n",
       "[66 rows x 1 columns]"
      ]
     },
     "execution_count": 155,
     "metadata": {},
     "output_type": "execute_result"
    }
   ],
   "source": [
    "popdf = pd.read_csv('world_population.csv', names=['population'])\n",
    "\n"
   ]
  }
 ],
 "metadata": {
  "kernelspec": {
   "display_name": "Python 3 (ipykernel)",
   "language": "python",
   "name": "python3"
  },
  "language_info": {
   "codemirror_mode": {
    "name": "ipython",
    "version": 3
   },
   "file_extension": ".py",
   "mimetype": "text/x-python",
   "name": "python",
   "nbconvert_exporter": "python",
   "pygments_lexer": "ipython3",
   "version": "3.12.2"
  }
 },
 "nbformat": 4,
 "nbformat_minor": 5
}
