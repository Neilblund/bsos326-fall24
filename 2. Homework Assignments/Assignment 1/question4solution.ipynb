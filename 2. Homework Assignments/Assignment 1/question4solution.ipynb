{
 "cells": [
  {
   "cell_type": "code",
   "execution_count": 3,
   "id": "62eb0dac-f5c0-41fd-a405-91cc07487298",
   "metadata": {
    "tags": []
   },
   "outputs": [],
   "source": [
    "import numpy as np\n",
    "import pandas as pd\n",
    "from requests import get"
   ]
  },
  {
   "cell_type": "markdown",
   "id": "98b8445a-26f9-41eb-80d4-f975dce3cab4",
   "metadata": {},
   "source": [
    "### Question 4. Pulling from APIs\n",
    "\n",
    "Consider the Data USA API: https://datausa.io/about/api/. \n",
    "\n",
    "Create a dictionary that contains lists for `Year` and each category of Race from the ACS PUMS 5-Year Estimate. Each of these lists should contain the values from 2015 to 2020. So, for the key of `Year`, the list should contain `[2015, 2016, 2017, 2018, 2019, 2020]`. "
   ]
  },
  {
   "cell_type": "code",
   "execution_count": 4,
   "id": "45de1fcc-c614-4b5a-94eb-5e6fd1234409",
   "metadata": {
    "tags": []
   },
   "outputs": [
    {
     "data": {
      "text/plain": [
       "['White',\n",
       " 'Black',\n",
       " 'American Indian',\n",
       " 'Alaska Native',\n",
       " 'American Indian and Alaska Native tribes specified; or American Indian or Alaska Native, not specified and no other races',\n",
       " 'Asian',\n",
       " 'Native Hawaiian and Other Pacific Islander',\n",
       " 'Other',\n",
       " 'Two or More Races']"
      ]
     },
     "execution_count": 4,
     "metadata": {},
     "output_type": "execute_result"
    }
   ],
   "source": [
    "datausa_base_url = 'https://datausa.io/api/data'\n",
    "parameters = {'drilldowns': 'Race', 'measure':'Total Population' ,'year':2015}\n",
    "\n",
    "datausa_response = get(datausa_base_url, params = parameters) \n",
    "datausa_response.json()\n",
    "\n",
    "\n",
    "list_of_races = [x['Race'] for x in datausa_response.json()['data']]\n",
    "list_of_races"
   ]
  },
  {
   "cell_type": "code",
   "execution_count": 5,
   "id": "293ba7fd-74c8-4c2e-aef0-48d252435af6",
   "metadata": {
    "tags": []
   },
   "outputs": [],
   "source": [
    "def pull_race_pop(year):\n",
    "    datausa_base_url = 'https://datausa.io/api/data'\n",
    "    parameters = {'drilldowns': 'Race', 'measure':'Total Population' ,'year': year}\n",
    "\n",
    "    datausa_response = get(datausa_base_url, params = parameters) \n",
    "    return datausa_response.json()['data']"
   ]
  },
  {
   "cell_type": "code",
   "execution_count": 7,
   "id": "11718cfa-c2a5-4f8c-80d1-1be0d9283e8b",
   "metadata": {
    "tags": []
   },
   "outputs": [],
   "source": [
    "years = [2015, 2016, 2017, 2018, 2019, 2020]\n",
    "data_over_years = [pull_race_pop(year) for year in years]"
   ]
  },
  {
   "cell_type": "code",
   "execution_count": 8,
   "id": "b0b6652f-92f6-4e37-8ace-1733d6e83d3a",
   "metadata": {
    "tags": []
   },
   "outputs": [],
   "source": [
    "race_over_years = {list_of_races[race_index]:\n",
    "                   [x[race_index]['Total Population'] \n",
    "                    for x in data_over_years \n",
    "                    if x[race_index]['Race'] == list_of_races[race_index]] \n",
    "                   for race_index in range(len(list_of_races))}"
   ]
  },
  {
   "cell_type": "code",
   "execution_count": 9,
   "id": "c768b006-8537-49bb-8e8f-181318a592d8",
   "metadata": {
    "collapsed": true,
    "jupyter": {
     "outputs_hidden": true
    },
    "tags": []
   },
   "outputs": [
    {
     "data": {
      "text/plain": [
       "{'White': [232976706, 233678103, 234371744, 234886625, 235378764, 230006615],\n",
       " 'Black': [39930968, 40248338, 40604628, 40901698, 41219510, 41233328],\n",
       " 'American Indian': [2008686, 2053633, 2087386, 2129059, 2171009, 2114840],\n",
       " 'Alaska Native': [112386, 115722, 115645, 114654, 115234, 113035],\n",
       " 'American Indian and Alaska Native tribes specified; or American Indian or Alaska Native, not specified and no other races': [456743,\n",
       "  442876,\n",
       "  436578,\n",
       "  450535,\n",
       "  457962,\n",
       "  442986],\n",
       " 'Asian': [16248923, 16628256, 17192432, 17579231, 17923315, 18342227],\n",
       " 'Native Hawaiian and Other Pacific Islander': [533335,\n",
       "  555066,\n",
       "  562405,\n",
       "  577737,\n",
       "  594159,\n",
       "  599238],\n",
       " 'Other': [14870556, 15162032, 15600996, 15846563, 16081278, 16901715],\n",
       " 'Two or More Races': [9376721,\n",
       "  9674136,\n",
       "  10032593,\n",
       "  10416929,\n",
       "  10756564,\n",
       "  16815325]}"
      ]
     },
     "execution_count": 9,
     "metadata": {},
     "output_type": "execute_result"
    }
   ],
   "source": [
    "race_over_years"
   ]
  }
 ],
 "metadata": {
  "kernelspec": {
   "display_name": "Python 3 (ipykernel)",
   "language": "python",
   "name": "python3"
  },
  "language_info": {
   "codemirror_mode": {
    "name": "ipython",
    "version": 3
   },
   "file_extension": ".py",
   "mimetype": "text/x-python",
   "name": "python",
   "nbconvert_exporter": "python",
   "pygments_lexer": "ipython3",
   "version": "3.10.9"
  }
 },
 "nbformat": 4,
 "nbformat_minor": 5
}
