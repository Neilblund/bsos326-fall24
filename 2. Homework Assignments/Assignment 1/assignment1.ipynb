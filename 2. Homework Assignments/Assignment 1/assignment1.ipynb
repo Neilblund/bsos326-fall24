{
 "cells": [
  {
   "cell_type": "markdown",
   "id": "3442aec9-4ee3-4c9d-ad6d-123bd7458b1f",
   "metadata": {},
   "source": [
    "# Assignment 1: Working with Data\n",
    "\n",
    "This assignment covers **Chapters 1-4** from the [textbook](https://wesmckinney.com/book/) as well as lecture material from Weeks 1-3. Please complete this assignment by providing answers in cells after the question. Use **Code** cells to write and run any code you need to answer the question and **Markdown** cells to write out answers in words. After you are finished with the assignment, remember to download it as an **HTML file** and submit it in **ELMS**."
   ]
  },
  {
   "cell_type": "code",
   "execution_count": null,
   "id": "8da486d1-efc6-4cc1-976f-425fa8a65c86",
   "metadata": {
    "tags": []
   },
   "outputs": [],
   "source": [
    "import numpy as np\n",
    "import pandas as pd"
   ]
  },
  {
   "cell_type": "markdown",
   "id": "1f6b7c9b-b927-4d63-8c16-57b5f786525c",
   "metadata": {
    "tags": []
   },
   "source": [
    "### Question 1. Working with Sequences\n",
    "\n",
    "Answer the following questions by explaining the process, then show an example to show how it might be done. Create a list/array with a few numbers to demonstrate it. \n",
    "\n",
    "**a)** What would be a way to multiply each number in a **list** by 10 and get the output as a list?\n",
    "\n",
    "**b)** What would be a way to multiply each number in an **array** by 10 and get the output as a list?\n",
    "\n",
    "**c)** What would be a way to multiply each number in an **array** by 10 and get the output as an array?"
   ]
  },
  {
   "cell_type": "code",
   "execution_count": null,
   "id": "f6e9f5d7-c963-474f-a3ad-6a4a9643ac36",
   "metadata": {},
   "outputs": [],
   "source": [
    "\n",
    "\n",
    "\n"
   ]
  },
  {
   "cell_type": "markdown",
   "id": "797a245a-14b5-47ce-bd29-d048d942e5c9",
   "metadata": {
    "tags": []
   },
   "source": [
    "### Question 2. World Population\n",
    "\n",
    "**a)** You should have a CSV file called `world_population.csv` in the folder that this notebook is in. Create a list called `pop` that contains the values within `world_population.csv`. The values within `pop` should be integers.\n",
    "\n",
    "*Hint:* You can use the `int` function to convert individual strings into integers."
   ]
  },
  {
   "cell_type": "code",
   "execution_count": null,
   "id": "e1b30abb-d9ca-4a16-8833-c38573d83a54",
   "metadata": {
    "tags": []
   },
   "outputs": [],
   "source": [
    "\n",
    "\n"
   ]
  },
  {
   "cell_type": "markdown",
   "id": "2f5d5093-8d4f-4c59-b55e-42fe5dda706b",
   "metadata": {},
   "source": [
    "**b)** Using list comprehension, find the world population in billions of people. For example, the first value should be `2.557628654`. The output should be a list."
   ]
  },
  {
   "cell_type": "code",
   "execution_count": null,
   "id": "a88e9dce-5677-44ac-a4d9-aa7f632ead37",
   "metadata": {
    "tags": []
   },
   "outputs": [],
   "source": [
    "\n",
    "\n"
   ]
  },
  {
   "cell_type": "markdown",
   "id": "05c341ce-c610-4aae-ba84-36ef8b11277a",
   "metadata": {},
   "source": [
    "**c)** Find the world population in billions of people again, this time by first converting the list into an array. The output should also be an array."
   ]
  },
  {
   "cell_type": "code",
   "execution_count": null,
   "id": "a3701321-b93f-4508-a48c-7ed8afdb102a",
   "metadata": {
    "tags": []
   },
   "outputs": [],
   "source": [
    "\n",
    "\n"
   ]
  },
  {
   "cell_type": "markdown",
   "id": "83e2d5fb-ed0d-4d79-9b62-85d81996a2f5",
   "metadata": {},
   "source": [
    "### Question 3. Functions\n",
    "\n",
    "Write a function called `mean_and_sd` that takes in a sequence of numbers and outputs two values: the mean and the standard deviation of that sequence of numbers. Make sure that it works with all of the following: lists, tuples, arrays, and Series.\n",
    "\n",
    "Use this function to find the mean and standard deviation of the world populations from Question 2.\n",
    "\n",
    "*Hint:* There are multiple ways to get the mean and the standard deviation. Some types of objects have methods that can do this!"
   ]
  }
 ],
 "metadata": {
  "kernelspec": {
   "display_name": "Python 3 (ipykernel)",
   "language": "python",
   "name": "python3"
  },
  "language_info": {
   "codemirror_mode": {
    "name": "ipython",
    "version": 3
   },
   "file_extension": ".py",
   "mimetype": "text/x-python",
   "name": "python",
   "nbconvert_exporter": "python",
   "pygments_lexer": "ipython3",
   "version": "3.12.2"
  }
 },
 "nbformat": 4,
 "nbformat_minor": 5
}
